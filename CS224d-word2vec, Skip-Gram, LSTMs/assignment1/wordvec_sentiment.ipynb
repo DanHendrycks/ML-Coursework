{
 "cells": [
  {
   "cell_type": "markdown",
   "metadata": {},
   "source": [
    "# Semantic Word Vectors and Sentiment Analysis\n",
    "CS 224D Assignment 1  \n",
    "Spring 2015\n",
    "\n",
    "*Complete and hand in this completed worksheet (including its outputs and any supporting code outside of the worksheet) with your assignment submission. For more details see the [assignments page](http://cs224d.stanford.edu/assignment1) on the course website.*\n",
    "\n",
    "In this assignment, we will walk you through the process of implementing \n",
    "\n",
    "- A softmax function\n",
    "- A simple neural network\n",
    "- Back propagation\n",
    "- Word2vec models\n",
    "\n",
    "and training your own word vectors with stochastic gradient descent (SGD) for a sentiment analysis task. Please make sure to finish the corresponding problems in the problem set PDF when instructed by the worksheet.\n",
    "\n",
    "The purpose of this assignment is to familiarize you with basic knowledge about neural networks and machine learning, including optimization and cross-validation, and help you gain proficiency in writing efficient, vectorized code.\n",
    "\n",
    "** Please don't add or remove any code cells, as it might break our automatic grading system and affect your grade. **"
   ]
  },
  {
   "cell_type": "markdown",
   "metadata": {},
   "source": [
    "**Honor Code:** I hereby agree to abide the Stanford Honor Code and that of the Computer Science Department, promise that the submitted assignment is my own work, and understand that my code is subject to plagiarism test.\n",
    "\n",
    "**Signature**: *(double click on this block and type your name here)*"
   ]
  },
  {
   "cell_type": "code",
   "execution_count": 4,
   "metadata": {},
   "outputs": [
    {
     "name": "stdout",
     "output_type": "stream",
     "text": [
      "The autoreload extension is already loaded. To reload it, use:\n  %reload_ext autoreload\n"
     ]
    }
   ],
   "source": [
    "# Run some setup code for this notebook. Don't modify anything in this cell.\n",
    "\n",
    "import random\n",
    "import numpy as np\n",
    "from cs224d.data_utils import *\n",
    "import matplotlib.pyplot as plt\n",
    "\n",
    "# This is a bit of magic to make matplotlib figures appear inline in the notebook\n",
    "# rather than in a new window.\n",
    "%matplotlib inline\n",
    "plt.rcParams['figure.figsize'] = (10.0, 8.0) # set default size of plots\n",
    "plt.rcParams['image.interpolation'] = 'nearest'\n",
    "plt.rcParams['image.cmap'] = 'gray'\n",
    "\n",
    "# Some more magic so that the notebook will reload external python modules;\n",
    "# see http://stackoverflow.com/questions/1907993/autoreload-of-modules-in-ipython\n",
    "%load_ext autoreload\n",
    "%autoreload 2"
   ]
  },
  {
   "cell_type": "markdown",
   "metadata": {},
   "source": [
    "## 1. Softmax\n",
    "*Please answer the first first complementary problem before starting this part.*\n",
    "\n",
    "Given an input matrix of *N* rows and *d* columns, compute the softmax prediction for each row. That is, when the input is\n",
    "\n",
    "    [[1,2],\n",
    "    [3,4]]\n",
    "    \n",
    "the output of your functions should be\n",
    "\n",
    "    [[0.2689, 0.7311],\n",
    "    [0.2689, 0.7311]]"
   ]
  },
  {
   "cell_type": "code",
   "execution_count": 5,
   "metadata": {},
   "outputs": [],
   "source": [
    "def softmax(x):\n",
    "    \"\"\" Softmax function \"\"\"\n",
    "    ###################################################################\n",
    "    # Compute the softmax function for the input here.                #\n",
    "    # It is crucial that this function is optimized for speed because #\n",
    "    # it will be used frequently in later code.                       #\n",
    "    # You might find numpy functions np.exp, np.sum, np.reshape,      #\n",
    "    # np.max, and numpy broadcasting useful for this task. (numpy     #\n",
    "    # broadcasting documentation:                                     #\n",
    "    # http://docs.scipy.org/doc/numpy/user/basics.broadcasting.html)  #\n",
    "    # You should also make sure that your code works for one          #\n",
    "    # dimensional inputs (treat the vector as a row), you might find  #\n",
    "    # it helpful for your later problems.                             #\n",
    "    ###################################################################\n",
    "    \n",
    "    probs = np.exp(x - np.max(x, axis=1, keepdims=True))\n",
    "    probs /= np.sum(probs, axis=1, keepdims=True)\n",
    "    \n",
    "    return probs"
   ]
  },
  {
   "cell_type": "code",
   "execution_count": 6,
   "metadata": {},
   "outputs": [
    {
     "name": "stdout",
     "output_type": "stream",
     "text": [
      "=== For autograder ===\n[[ 0.26894142  0.73105858]\n [ 0.26894142  0.73105858]]\n[[ 0.73105858  0.26894142]]\n"
     ]
    }
   ],
   "source": [
    "# Verify your softmax implementation\n",
    "\n",
    "print \"=== For autograder ===\"\n",
    "print softmax(np.array([[1001,1002],[3,4]]))\n",
    "print softmax(np.array([[-1001,-1002]]))"
   ]
  },
  {
   "cell_type": "markdown",
   "metadata": {},
   "source": [
    "## 2. Neural network basics\n",
    "\n",
    "*Please answer the second complementary question before starting this part.*\n",
    "\n",
    "In this part, you're going to implement\n",
    "\n",
    "* A sigmoid activation function and its gradient\n",
    "* A forward propagation for a simple neural network with cross-entropy cost\n",
    "* A backward propagation algorithm to compute gradients for the parameters\n",
    "* Gradient / derivative check"
   ]
  },
  {
   "cell_type": "code",
   "execution_count": 7,
   "metadata": {},
   "outputs": [],
   "source": [
    "def sigmoid(x):\n",
    "    \"\"\" Sigmoid function \"\"\"\n",
    "    ###################################################################\n",
    "    # Compute the sigmoid function for the input here.                #\n",
    "    ###################################################################\n",
    "    \n",
    "    sig = 1/(1 + np.exp(-x))\n",
    "    \n",
    "    return sig\n",
    "\n",
    "def sigmoid_grad(f):\n",
    "    \"\"\" Sigmoid gradient function \"\"\"\n",
    "    ###################################################################\n",
    "    # Compute the gradient for the sigmoid function here. Note that   #\n",
    "    # for this implementation, the input f should be the sigmoid      #\n",
    "    # function value of your original input x.                        #\n",
    "    ###################################################################\n",
    "    \n",
    "    return f * (1 - f)"
   ]
  },
  {
   "cell_type": "code",
   "execution_count": 7,
   "metadata": {},
   "outputs": [
    {
     "name": "stdout",
     "output_type": "stream",
     "text": [
      "=== For autograder ===\n[[ 0.73105858  0.88079708]\n [ 0.26894142  0.11920292]]\n[[ 0.19661193  0.10499359]\n [ 0.19661193  0.10499359]]\n"
     ]
    }
   ],
   "source": [
    "# Check your sigmoid implementation\n",
    "x = np.array([[1, 2], [-1, -2]])\n",
    "f = sigmoid(x)\n",
    "g = sigmoid_grad(f)\n",
    "print \"=== For autograder ===\"\n",
    "print f\n",
    "print g"
   ]
  },
  {
   "cell_type": "markdown",
   "metadata": {},
   "source": [
    "Now, use the functions you just implemented, fill in the following functions to implement a neural network with one sigmoid hidden layer. You might find the handout and your answers to the second complementary problem helpful for this part."
   ]
  },
  {
   "cell_type": "code",
   "execution_count": 8,
   "metadata": {},
   "outputs": [],
   "source": [
    "# First implement a gradient checker by filling in the following functions\n",
    "def gradcheck_naive(f, x):\n",
    "    \"\"\" \n",
    "    Gradient check for a function f \n",
    "    - f should be a function that takes a single argument and outputs the cost and its gradients\n",
    "    - x is the point (numpy array) to check the gradient at\n",
    "    \"\"\" \n",
    "\n",
    "    rndstate = random.getstate()\n",
    "    random.setstate(rndstate)  \n",
    "    fx, grad = f(x) # Evaluate function value at original point\n",
    "    h = 1e-4\n",
    "\n",
    "    # Iterate over all indexes in x\n",
    "    it = np.nditer(x, flags=['multi_index'], op_flags=['readwrite'])\n",
    "    while not it.finished:\n",
    "        ix = it.multi_index\n",
    "\n",
    "        # taken from Github\n",
    "        old_value = x[ix]\n",
    "        x[ix] = old_value - h\n",
    "        random.setstate(rndstate)\n",
    "        fx_h1, grad_h1 = f(x)\n",
    "        x[ix] = old_value + h\n",
    "        random.setstate(rndstate)\n",
    "        fx_h2, grad_h2 = f(x)\n",
    "        numgrad = (fx_h2 - fx_h1)/(2*h)\n",
    "        x[ix] = old_value\n",
    "\n",
    "\n",
    "        # Compare gradients\n",
    "        reldiff = abs(numgrad - grad[ix]) / max(1, abs(numgrad), abs(grad[ix]))\n",
    "        if reldiff > 1e-5:\n",
    "            print \"Gradient check failed.\"\n",
    "            print \"First gradient error found at index %s\" % str(ix)\n",
    "            print \"Your gradient: %f \\t Numerical gradient: %f\" % (grad[ix], numgrad)\n",
    "            return\n",
    "    \n",
    "        it.iternext() # Step to next dimension\n",
    "\n",
    "    print \"Gradient check passed!\""
   ]
  },
  {
   "cell_type": "code",
   "execution_count": 9,
   "metadata": {},
   "outputs": [
    {
     "name": "stdout",
     "output_type": "stream",
     "text": [
      "=== For autograder ===\nGradient check passed!\nGradient check passed!\nGradient check passed!\n"
     ]
    }
   ],
   "source": [
    "# Sanity check for the gradient checker\n",
    "quad = lambda x: (np.sum(x ** 2), x * 2)\n",
    "\n",
    "print \"=== For autograder ===\"\n",
    "gradcheck_naive(quad, np.array(123.456))      # scalar test\n",
    "gradcheck_naive(quad, np.random.randn(3,))    # 1-D test\n",
    "gradcheck_naive(quad, np.random.randn(4,5))   # 2-D test"
   ]
  },
  {
   "cell_type": "code",
   "execution_count": 9,
   "metadata": {},
   "outputs": [],
   "source": [
    "# Set up fake data and parameters for the neural network\n",
    "N = 20\n",
    "dimensions = [10, 5, 10]\n",
    "data = np.random.randn(N, dimensions[0])   # each row will be a datum\n",
    "labels = np.zeros((N, dimensions[2]))\n",
    "for i in xrange(N):\n",
    "    labels[i,random.randint(0,dimensions[2]-1)] = 1\n",
    "\n",
    "params = np.random.randn((dimensions[0] + 1) * dimensions[1] + (dimensions[1] + 1) * dimensions[2], )"
   ]
  },
  {
   "cell_type": "code",
   "execution_count": 10,
   "metadata": {},
   "outputs": [],
   "source": [
    "def forward_backward_prop(data, labels, params):\n",
    "    \"\"\" Forward and backward propagation for a two-layer sigmoidal network \"\"\"\n",
    "    ###################################################################\n",
    "    # Compute the forward propagation and for the cross entropy cost, #\n",
    "    # and backward propagation for the gradients for all parameters.  #\n",
    "    ###################################################################\n",
    "    \n",
    "    ### Unpack network parameters (do not modify)\n",
    "    t = 0\n",
    "    W1 = np.reshape(params[t:t+dimensions[0]*dimensions[1]], (dimensions[0], dimensions[1]))\n",
    "    t += dimensions[0]*dimensions[1]\n",
    "    b1 = np.reshape(params[t:t+dimensions[1]], (1, dimensions[1]))\n",
    "    t += dimensions[1]\n",
    "    W2 = np.reshape(params[t:t+dimensions[1]*dimensions[2]], (dimensions[1], dimensions[2]))\n",
    "    t += dimensions[1]*dimensions[2]\n",
    "    b2 = np.reshape(params[t:t+dimensions[2]], (1, dimensions[2]))\n",
    "    \n",
    "    z1 = data.dot(W1) + b1\n",
    "    h1 = sigmoid(z1)\n",
    "    score = h1.dot(W2) + b2\n",
    "    out = softmax(score)\n",
    "    \n",
    "    cost = - np.sum(labels * np.log(out))\n",
    "\n",
    "    dscore = out - labels\n",
    "    dW2 = np.dot(h1.T, dscore)\n",
    "    db2 = np.sum(dscore, axis=0)\n",
    "    dz1 = np.dot(dscore, W2.T) * sigmoid_grad(h1)\n",
    "    dW1 = np.dot(data.T, dz1)\n",
    "    db1 = np.sum(dz1, axis=0)\n",
    "\n",
    "    ### END YOUR CODE\n",
    "\n",
    "    ### Stack gradients (do not modify)\n",
    "    grad = np.concatenate((dW1.flatten(), db1.flatten(), dW2.flatten(), db2.flatten()))\n",
    "    \n",
    "    return cost, grad"
   ]
  },
  {
   "cell_type": "code",
   "execution_count": 11,
   "metadata": {},
   "outputs": [
    {
     "name": "stdout",
     "output_type": "stream",
     "text": [
      "=== For autograder ===\nGradient check passed!\n"
     ]
    }
   ],
   "source": [
    "# Perform gradcheck on your neural network\n",
    "print \"=== For autograder ===\"\n",
    "gradcheck_naive(lambda params: forward_backward_prop(data, labels, params), params)"
   ]
  },
  {
   "cell_type": "markdown",
   "metadata": {},
   "source": [
    "## 3. Word2vec\n",
    "\n",
    "*Please answer the third complementary problem before starting this part.*\n",
    "\n",
    "In this part you will implement the `word2vec` models and train your own word vectors with stochastic gradient descent (SGD)."
   ]
  },
  {
   "cell_type": "code",
   "execution_count": 116,
   "metadata": {},
   "outputs": [],
   "source": [
    "# Implement your skip-gram and CBOW models here\n",
    "\n",
    "# Interface to the dataset for negative sampling\n",
    "dataset = type('dummy', (), {})()\n",
    "def dummySampleTokenIdx():\n",
    "    return random.randint(0, 4)\n",
    "def getRandomContext(C):\n",
    "    tokens = [\"a\", \"b\", \"c\", \"d\", \"e\"]\n",
    "    return tokens[random.randint(0,4)], [tokens[random.randint(0,4)] for i in xrange(2*C)]\n",
    "dataset.sampleTokenIdx = dummySampleTokenIdx\n",
    "dataset.getRandomContext = getRandomContext\n",
    "\n",
    "def softmaxCostAndGradient(predicted, target, outputVectors):\n",
    "    \"\"\" Softmax cost function for word2vec models \"\"\"\n",
    "    ###################################################################\n",
    "    # Implement the cost and gradients for one predicted word vector  #\n",
    "    # and one target word vector as a building block for word2vec     #\n",
    "    # models, assuming the softmax prediction function and cross      #\n",
    "    # entropy loss.                                                   #\n",
    "    # Inputs:                                                         #\n",
    "    #   - predicted: numpy ndarray, predicted word vector (\\hat{r} in #\n",
    "    #           the written component)                                #\n",
    "    #   - target: integer, the index of the target word               #\n",
    "    #   - outputVectors: \"output\" vectors for all tokens              #\n",
    "    # Outputs:                                                        #\n",
    "    #   - cost: cross entropy cost for the softmax word prediction    #\n",
    "    #   - gradPred: the gradient with respect to the predicted word   #\n",
    "    #           vector                                                #\n",
    "    #   - grad: the gradient with respect to all the other word       # \n",
    "    #           vectors                                               #\n",
    "    # We will not provide starter code for this function, but feel    #\n",
    "    # free to reference the code you previously wrote for this        #\n",
    "    # assignment!                                                     #\n",
    "    ###################################################################\n",
    "\n",
    "    N, D = outputVectors.shape\n",
    "    \n",
    "    scores = np.dot(outputVectors, predicted).reshape((1, N))\n",
    "    probs = softmax(scores).T\n",
    "\n",
    "    cost = -np.log(probs[target, :])\n",
    "    \n",
    "    gradPred = -outputVectors[target, :].reshape((D, 1)) + np.dot(outputVectors.T, probs)\n",
    "    gradPred = gradPred.reshape((D,))\n",
    "\n",
    "    grad = np.dot(probs, predicted.reshape((1, D)))\n",
    "    grad[target, :] -= predicted\n",
    "\n",
    "    assert gradPred.shape == predicted.shape\n",
    "    assert grad.shape == outputVectors.shape\n",
    "\n",
    "    return cost, gradPred, grad\n",
    "\n",
    "def negSamplingCostAndGradient(predicted, target, outputVectors, K=10):\n",
    "    \"\"\" Negative sampling cost function for word2vec models \"\"\"\n",
    "    ###################################################################\n",
    "    # Implement the cost and gradients for one predicted word vector  #\n",
    "    # and one target word vector as a building block for word2vec     #\n",
    "    # models, using the negative sampling technique. K is the sample  #\n",
    "    # size. You might want to use dataset.sampleTokenIdx() to sample  #\n",
    "    # a random word index.                                            #\n",
    "    # Input/Output Specifications: same as softmaxCostAndGradient     #\n",
    "    # We will not provide starter code for this function, but feel    #\n",
    "    # free to reference the code you previously wrote for this        #\n",
    "    # assignment!                                                     #\n",
    "    ###################################################################\n",
    "\n",
    "    noise_indices = []\n",
    "    for i in xrange(K):\n",
    "        noise_indices.append(dataset.sampleTokenIdx())\n",
    "    noise = outputVectors[noise_indices, :]\n",
    "\n",
    "    target_word = outputVectors[target:target+1, :].T\n",
    "    sig_of_target = sigmoid(target_word.T.dot(predicted))\n",
    "    sig_of_noise = sigmoid(noise.dot(predicted))\n",
    "\n",
    "    cost = - np.log(sig_of_target) - np.sum(np.log(1 - sig_of_noise))\n",
    "    cost = np.sum(cost)  # [const] -> const\n",
    "\n",
    "    gradPred = (sig_of_target - 1) * target_word.reshape((-1,)) + np.dot(noise.T, sig_of_noise)\n",
    "\n",
    "    # noise corresponds to some output vectors, so noise gradients with appropriate vectors\n",
    "    grad = np.zeros_like(outputVectors)\n",
    "\n",
    "    grad[target] += (sig_of_target - 1) * predicted\n",
    "    for idx in noise_indices:\n",
    "        grad[idx, :] += sig_of_noise[noise_indices.index(idx)] * predicted\n",
    "\n",
    "    assert gradPred.shape == predicted.shape\n",
    "    assert grad.shape == outputVectors.shape\n",
    "\n",
    "    return cost, gradPred, grad\n",
    "\n",
    "def skipgram(currentWord, C, contextWords, tokens, inputVectors, outputVectors,\n",
    "             word2vecCostAndGradient = softmaxCostAndGradient):\n",
    "    \"\"\" Skip-gram model in word2vec \"\"\"\n",
    "    ###################################################################\n",
    "    # Implement the skip-gram model in this function.                 #         \n",
    "    # Inputs:                                                         #\n",
    "    #   - currrentWord: a string of the current center word           #\n",
    "    #   - C: integer, context size                                    #\n",
    "    #   - contextWords: list of no more than 2*C strings, the context #\n",
    "    #             words                                               #\n",
    "    #   - tokens: a dictionary that maps words to their indices in    #\n",
    "    #             the word vector list                                #\n",
    "    #   - inputVectors: \"input\" word vectors for all tokens           #\n",
    "    #   - outputVectors: \"output\" word vectors for all tokens         #\n",
    "    #   - word2vecCostAndGradient: the cost and gradient function for #\n",
    "    #             a prediction vector given the target word vectors,  #\n",
    "    #             could be one of the two cost functions you          #\n",
    "    #             implemented above                                   #\n",
    "    # Outputs:                                                        #\n",
    "    #   - cost: the cost function value for the skip-gram model       #\n",
    "    #   - grad: the gradient with respect to the word vectors         #\n",
    "    # We will not provide starter code for this function, but feel    #\n",
    "    # free to reference the code you previously wrote for this        #\n",
    "    # assignment!                                                     #\n",
    "    ###################################################################\n",
    "\n",
    "    internal_word_idx = tokens[currentWord]\n",
    "    internal_word = inputVectors[internal_word_idx]\n",
    "    loss = 0\n",
    "    gradIn = np.zeros(inputVectors.shape)\n",
    "    gradOut = np.zeros(outputVectors.shape)\n",
    "\n",
    "    for word in contextWords:\n",
    "        loss_addition, gradIn_addition, gradOut_addition = \\\n",
    "            word2vecCostAndGradient(internal_word, tokens[word], outputVectors)\n",
    "        loss += loss_addition\n",
    "        gradIn[internal_word_idx, :] += gradIn_addition\n",
    "        gradOut += gradOut_addition\n",
    "\n",
    "    return loss, gradIn, gradOut\n",
    "\n",
    "def cbow(currentWord, C, contextWords, tokens, inputVectors, outputVectors,\n",
    "         word2vecCostAndGradient=softmaxCostAndGradient):\n",
    "    \"\"\" CBOW model in word2vec \"\"\"\n",
    "    ###################################################################\n",
    "    # Implement the continuous bag-of-words model in this function.   #         \n",
    "    # Input/Output specifications: same as the skip-gram model        #\n",
    "    # We will not provide starter code for this function, but feel    #\n",
    "    # free to reference the code you previously wrote for this        #\n",
    "    # assignment!                                                     #\n",
    "    ###################################################################\n",
    "\n",
    "    context_to_vec = reduce((lambda x, y: inputVectors[tokens[y]].reshape(-1,1) + x),\n",
    "                            contextWords, np.zeros_like(inputVectors[0:1, :].T))\n",
    "\n",
    "    r = np.sum(context_to_vec, axis=1)/(2.0 * C)\n",
    "    r = r.reshape((-1))  # this format is what future functions expect\n",
    "\n",
    "    loss = 0\n",
    "    gradIn = np.zeros_like(inputVectors)\n",
    "    gradOut = np.zeros_like(outputVectors)\n",
    "\n",
    "    outside_word_loc = tokens[currentWord]\n",
    "    loss_delta, gradIn_delta, gradOut_delta =\\\n",
    "    word2vecCostAndGradient(r, outside_word_loc, outputVectors)\n",
    "\n",
    "    loss += loss_delta\n",
    "    for word in contextWords:\n",
    "        gradIn[tokens[word], :] += gradIn_delta/(2.*C)\n",
    "    gradOut += gradOut_delta\n",
    "\n",
    "    return loss, gradIn, gradOut"
   ]
  },
  {
   "cell_type": "code",
   "execution_count": 112,
   "metadata": {},
   "outputs": [
    {
     "name": "stdout",
     "output_type": "stream",
     "text": [
      "=== For autograder ===\n[[ 0.6         0.8       ]\n [ 0.4472136   0.89442719]]\n"
     ]
    }
   ],
   "source": [
    "# Implement a function that normalizes each row of a matrix to have _unit length_\n",
    "def normalizeRows(x):\n",
    "    \"\"\" Row normalization function \"\"\"\n",
    "\n",
    "    x /= np.sqrt(np.sum(x*x, axis=1, keepdims=True) + 1e-11)\n",
    "\n",
    "    return x\n",
    "\n",
    "# Test this function\n",
    "print \"=== For autograder ===\"\n",
    "print normalizeRows(np.array([[3.0,4.0],[1, 2]]))  # the result should be [[0.6, 0.8], [0.4472, 0.8944]]"
   ]
  },
  {
   "cell_type": "code",
   "execution_count": 117,
   "metadata": {},
   "outputs": [
    {
     "name": "stdout",
     "output_type": "stream",
     "text": [
      "==== Gradient check for skip-gram ====\nGradient check passed!"
     ]
    },
    {
     "name": "stdout",
     "output_type": "stream",
     "text": [
      "\nGradient check passed!"
     ]
    },
    {
     "name": "stdout",
     "output_type": "stream",
     "text": [
      "\n\n==== Gradient check for CBOW      ====\nGradient check passed!"
     ]
    },
    {
     "name": "stdout",
     "output_type": "stream",
     "text": [
      "\nGradient check passed!"
     ]
    },
    {
     "name": "stdout",
     "output_type": "stream",
     "text": [
      "\n\n=== For autograder ===\n(array([ 11.166109]), array([[ 0.        ,  0.        ,  0.        ],\n       [ 0.        ,  0.        ,  0.        ],\n       [-1.26947339, -1.36873189,  2.45158957],\n       [ 0.        ,  0.        ,  0.        ],\n       [ 0.        ,  0.        ,  0.        ]]), array([[-0.41045956,  0.18834851,  1.43272264],\n       [ 0.38202831, -0.17530219, -1.33348241],\n       [ 0.07009355, -0.03216399, -0.24466386],\n       [ 0.09472154, -0.04346509, -0.33062865],\n       [-0.13638384,  0.06258276,  0.47605228]]))\n(14.095272649625091, array([[ 0.        ,  0.        ,  0.        ],\n       [ 0.        ,  0.        ,  0.        ],\n       [-3.40325278, -2.74731195, -0.95360761],\n       [ 0.        ,  0.        ,  0.        ],\n       [ 0.        ,  0.        ,  0.        ]]), array([[-0.49853822,  0.22876535,  1.74016407],\n       [-0.22716495,  0.10423969,  0.79292674],\n       [-0.22764219,  0.10445868,  0.79459256],\n       [-0.94807832,  0.43504684,  3.30929863],\n       [-0.32248118,  0.14797767,  1.1256312 ]]))\n(array([ 1.32877251]), array([[ 0.11259983, -0.06189544, -0.36437763],\n       [ 0.05629992, -0.03094772, -0.18218881],\n       [ 0.05629992, -0.03094772, -0.18218881],\n       [ 0.        ,  0.        ,  0.        ],\n       [ 0.        ,  0.        ,  0.        ]]), array([[ 0.27042792,  0.07336523, -0.18070554],\n       [-0.04689751, -0.01272297,  0.03133789],\n       [-0.06486524, -0.01759749,  0.0433443 ],\n       [-0.06883608, -0.01867475,  0.0459977 ],\n       [-0.08982909, -0.02437001,  0.06002566]]))\n(8.3977537456460301, array([[-0.98410439, -0.7986456 ,  0.07614315],\n       [-0.4920522 , -0.3993228 ,  0.03807157],\n       [-0.4920522 , -0.3993228 ,  0.03807157],\n       [ 0.        ,  0.        ,  0.        ],\n       [ 0.        ,  0.        ,  0.        ]]), array([[-0.52524701, -0.14249588,  0.35098094],\n       [-0.31374822, -0.08511772,  0.20965306],\n       [ 0.        ,  0.        ,  0.        ],\n       [-0.57588449, -0.15623348,  0.38481795],\n       [-0.4322179 , -0.11725773,  0.28881696]]))\n"
     ]
    }
   ],
   "source": [
    "# Gradient check!\n",
    "\n",
    "def word2vec_sgd_wrapper(word2vecModel, tokens, wordVectors, dataset, C, word2vecCostAndGradient = softmaxCostAndGradient):\n",
    "    batchsize = 50\n",
    "    cost = 0.0\n",
    "    grad = np.zeros(wordVectors.shape)\n",
    "    N = wordVectors.shape[0]\n",
    "    inputVectors = wordVectors[:N/2,:]\n",
    "    outputVectors = wordVectors[N/2:,:]\n",
    "    for i in xrange(batchsize):\n",
    "        C1 = random.randint(1,C)\n",
    "        centerword, context = dataset.getRandomContext(C1)\n",
    "\n",
    "        if word2vecModel == skipgram:\n",
    "            denom = 1\n",
    "        else:\n",
    "            denom = 1\n",
    "\n",
    "        c, gin, gout = word2vecModel(centerword, C1, context, tokens, inputVectors, outputVectors, word2vecCostAndGradient)\n",
    "        cost += c / batchsize / denom\n",
    "        grad[:N/2, :] += gin / batchsize / denom\n",
    "        grad[N/2:, :] += gout / batchsize / denom\n",
    "        \n",
    "    return cost, grad\n",
    "\n",
    "random.seed(31415)\n",
    "np.random.seed(9265)\n",
    "dummy_vectors = normalizeRows(np.random.randn(10,3))\n",
    "dummy_tokens = dict([(\"a\",0), (\"b\",1), (\"c\",2),(\"d\",3),(\"e\",4)])\n",
    "print \"==== Gradient check for skip-gram ====\"\n",
    "gradcheck_naive(lambda vec: word2vec_sgd_wrapper(skipgram, dummy_tokens, vec, dataset, 5), dummy_vectors)\n",
    "gradcheck_naive(lambda vec: word2vec_sgd_wrapper(skipgram, dummy_tokens, vec, dataset, 5, negSamplingCostAndGradient), dummy_vectors)\n",
    "print \"\\n==== Gradient check for CBOW      ====\"\n",
    "gradcheck_naive(lambda vec: word2vec_sgd_wrapper(cbow, dummy_tokens, vec, dataset, 5), dummy_vectors)\n",
    "gradcheck_naive(lambda vec: word2vec_sgd_wrapper(cbow, dummy_tokens, vec, dataset, 5, negSamplingCostAndGradient), dummy_vectors)\n",
    "\n",
    "print \"\\n=== For autograder ===\"\n",
    "print skipgram(\"c\", 3, [\"a\",\"b\", \"e\", \"d\", \"b\", \"c\"], dummy_tokens, dummy_vectors[:5,:], dummy_vectors[5:,:])\n",
    "print skipgram(\"c\", 1, [\"a\", \"b\"], dummy_tokens, dummy_vectors[:5,:], dummy_vectors[5:,:], negSamplingCostAndGradient)\n",
    "print cbow(\"a\", 2, [\"a\", \"b\", \"c\", \"a\"], dummy_tokens, dummy_vectors[:5,:], dummy_vectors[5:,:])\n",
    "print cbow(\"a\", 2, [\"a\", \"b\", \"a\", \"c\"], dummy_tokens, dummy_vectors[:5,:], dummy_vectors[5:,:], negSamplingCostAndGradient)"
   ]
  },
  {
   "cell_type": "code",
   "execution_count": 180,
   "metadata": {},
   "outputs": [],
   "source": [
    "# Now, implement SGD\n",
    "\n",
    "# Save parameters every a few SGD iterations as fail-safe\n",
    "SAVE_PARAMS_EVERY = 1000\n",
    "\n",
    "import glob\n",
    "import os.path as op\n",
    "import cPickle as pickle\n",
    "\n",
    "def load_saved_params():\n",
    "    \"\"\" A helper function that loads previously saved parameters and resets iteration start \"\"\"\n",
    "    st = 0\n",
    "    for f in glob.glob(\"saved_params_*.npy\"):\n",
    "        iter = int(op.splitext(op.basename(f))[0].split(\"_\")[2])\n",
    "        if (iter > st):\n",
    "            st = iter\n",
    "            \n",
    "    if st > 0:\n",
    "        with open(\"saved_params_%d.npy\" % st, \"r\") as f:\n",
    "            params = pickle.load(f)\n",
    "            state = pickle.load(f)\n",
    "        return st, params, state\n",
    "    else:\n",
    "        return st, None, None\n",
    "    \n",
    "def save_params(iter, params):\n",
    "    with open(\"saved_params_%d.npy\" % iter, \"w\") as f:\n",
    "        pickle.dump(params, f)\n",
    "        pickle.dump(random.getstate(), f)\n",
    "\n",
    "def sgd(f, x0, step, iterations, postprocessing = None, useSaved = False, PRINT_EVERY=10):\n",
    "    \"\"\" Stochastic Gradient Descent \"\"\"\n",
    "    ###################################################################\n",
    "    # Implement the stochastic gradient descent method in this        #\n",
    "    # function.                                                       #\n",
    "    # Inputs:                                                         #\n",
    "    #   - f: the function to optimize, it should take a single        #\n",
    "    #        argument and yield two outputs, a cost and the gradient  #\n",
    "    #        with respect to the arguments                            #\n",
    "    #   - x0: the initial point to start SGD from                     #\n",
    "    #   - step: the step size for SGD                                 #\n",
    "    #   - iterations: total iterations to run SGD for                 #\n",
    "    #   - postprocessing: postprocessing function for the parameters  #\n",
    "    #        if necessary. In the case of word2vec we will need to    #\n",
    "    #        normalize the word vectors to have unit length.          #\n",
    "    #   - PRINT_EVERY: specifies every how many iterations to output  #\n",
    "    # Output:                                                         #\n",
    "    #   - x: the parameter value after SGD finishes                   #\n",
    "    ###################################################################\n",
    "    \n",
    "    # Anneal learning rate every several iterations\n",
    "    ANNEAL_EVERY = 20000\n",
    "    \n",
    "    if useSaved:\n",
    "        start_iter, oldx, state = load_saved_params()\n",
    "        if start_iter > 0:\n",
    "            x0 = oldx;\n",
    "            step *= 0.5 ** (start_iter / ANNEAL_EVERY)\n",
    "            \n",
    "        if state:\n",
    "            random.setstate(state)\n",
    "    else:\n",
    "        start_iter = 0\n",
    "    \n",
    "    x = x0\n",
    "    \n",
    "    if not postprocessing:\n",
    "        postprocessing = lambda x: x\n",
    "    \n",
    "    expcost = None\n",
    "    \n",
    "    for iter in xrange(start_iter + 1, iterations + 1):\n",
    "        \n",
    "        cost, grad = f(x)\n",
    "\n",
    "        x = postprocessing(x)\n",
    "        x -= step * grad\n",
    "\n",
    "        if iter % PRINT_EVERY == 0:\n",
    "            print 'Iteration: ' + str(iter) + ' | Cost: ' + str(round(cost, 5))\n",
    "        \n",
    "        if iter % SAVE_PARAMS_EVERY == 0 and useSaved:\n",
    "            save_params(iter, x)\n",
    "\n",
    "        if iter % ANNEAL_EVERY == 0:\n",
    "            step *= 0.5\n",
    "    \n",
    "    return x"
   ]
  },
  {
   "cell_type": "markdown",
   "metadata": {},
   "source": [
    "**Show time! Now we are going to load some real data and train word vectors with everything you just implemented!**\n",
    "\n",
    "We are going to use the Stanford Sentiment Treebank (SST) dataset to train word vectors, and later apply them to a simple sentiment analysis task."
   ]
  },
  {
   "cell_type": "code",
   "execution_count": 119,
   "metadata": {},
   "outputs": [],
   "source": [
    "# Load some data and initialize word vectors\n",
    "\n",
    "# Reset the random seed to make sure that everyone gets the same results\n",
    "random.seed(314)\n",
    "dataset = StanfordSentiment()\n",
    "tokens = dataset.tokens()\n",
    "nWords = len(tokens)\n",
    "\n",
    "# We are going to train 10-dimensional vectors for this assignment\n",
    "dimVectors = 10\n",
    "\n",
    "# Context size\n",
    "C = 5"
   ]
  },
  {
   "cell_type": "code",
   "execution_count": 120,
   "metadata": {},
   "outputs": [
    {
     "name": "stdout",
     "output_type": "stream",
     "text": [
      "Iteration: 10 | Cost: 23.4837977061\nIteration:"
     ]
    },
    {
     "name": "stdout",
     "output_type": "stream",
     "text": [
      " 20 | Cost: 18.9090289192\nIteration:"
     ]
    },
    {
     "name": "stdout",
     "output_type": "stream",
     "text": [
      " 30 | Cost: 22.8738513566\nIteration:"
     ]
    },
    {
     "name": "stdout",
     "output_type": "stream",
     "text": [
      " 40 | Cost: 21.3489762294\nIteration:"
     ]
    },
    {
     "name": "stdout",
     "output_type": "stream",
     "text": [
      " 50 | Cost: 28.0586360192\nIteration:"
     ]
    },
    {
     "name": "stdout",
     "output_type": "stream",
     "text": [
      " 60 | Cost: 28.05852381\nIteration:"
     ]
    },
    {
     "name": "stdout",
     "output_type": "stream",
     "text": [
      " 70 | Cost: 26.6861227175\nIteration:"
     ]
    },
    {
     "name": "stdout",
     "output_type": "stream",
     "text": [
      " 80 | Cost: 19.5190280472\nIteration:"
     ]
    },
    {
     "name": "stdout",
     "output_type": "stream",
     "text": [
      " 90 | Cost: 22.8739074985\nIteration:"
     ]
    },
    {
     "name": "stdout",
     "output_type": "stream",
     "text": [
      " 100 | Cost: 19.8240352379\nIteration:"
     ]
    },
    {
     "name": "stdout",
     "output_type": "stream",
     "text": [
      " 110 | Cost: 22.7214242491\nIteration:"
     ]
    },
    {
     "name": "stdout",
     "output_type": "stream",
     "text": [
      " 120 | Cost: 21.5014047749\nIteration:"
     ]
    },
    {
     "name": "stdout",
     "output_type": "stream",
     "text": [
      " 130 | Cost: 22.5687589635\nIteration:"
     ]
    },
    {
     "name": "stdout",
     "output_type": "stream",
     "text": [
      " 140 | Cost: 23.3313831705\nIteration:"
     ]
    },
    {
     "name": "stdout",
     "output_type": "stream",
     "text": [
      " 150 | Cost: 22.721349141\nIteration:"
     ]
    },
    {
     "name": "stdout",
     "output_type": "stream",
     "text": [
      " 160 | Cost: 18.4516454684\nIteration:"
     ]
    },
    {
     "name": "stdout",
     "output_type": "stream",
     "text": [
      " 170 | Cost: 22.111230845\nIteration:"
     ]
    },
    {
     "name": "stdout",
     "output_type": "stream",
     "text": [
      " 180 | Cost: 22.4160286728\nIteration:"
     ]
    },
    {
     "name": "stdout",
     "output_type": "stream",
     "text": [
      " 190 | Cost: 20.2813473953\nIteration:"
     ]
    },
    {
     "name": "stdout",
     "output_type": "stream",
     "text": [
      " 200 | Cost: 22.568762022\nIteration:"
     ]
    },
    {
     "name": "stdout",
     "output_type": "stream",
     "text": [
      " 210 | Cost: 24.398680183\nIteration:"
     ]
    },
    {
     "name": "stdout",
     "output_type": "stream",
     "text": [
      " 220 | Cost: 18.9091138789\nIteration:"
     ]
    },
    {
     "name": "stdout",
     "output_type": "stream",
     "text": [
      " 230 | Cost: 22.8736598192\nIteration:"
     ]
    },
    {
     "name": "stdout",
     "output_type": "stream",
     "text": [
      " 240 | Cost: 22.4166500621\nIteration:"
     ]
    },
    {
     "name": "stdout",
     "output_type": "stream",
     "text": [
      " 250 | Cost: 20.7389134488\nIteration:"
     ]
    },
    {
     "name": "stdout",
     "output_type": "stream",
     "text": [
      " 260 | Cost: 20.5862205939\nIteration:"
     ]
    },
    {
     "name": "stdout",
     "output_type": "stream",
     "text": [
      " 270 | Cost: 21.9589842764\nIteration:"
     ]
    },
    {
     "name": "stdout",
     "output_type": "stream",
     "text": [
      " 280 | Cost: 20.1293405563\nIteration:"
     ]
    },
    {
     "name": "stdout",
     "output_type": "stream",
     "text": [
      " 290 | Cost: 22.5689173252\nIteration:"
     ]
    },
    {
     "name": "stdout",
     "output_type": "stream",
     "text": [
      " 300 | Cost: 18.2996449743\nIteration:"
     ]
    },
    {
     "name": "stdout",
     "output_type": "stream",
     "text": [
      " 310 | Cost: 23.3310269343\nIteration:"
     ]
    },
    {
     "name": "stdout",
     "output_type": "stream",
     "text": [
      " 320 | Cost: 22.7215372065\nIteration:"
     ]
    },
    {
     "name": "stdout",
     "output_type": "stream",
     "text": [
      " 330 | Cost: 23.7881630539\nIteration:"
     ]
    },
    {
     "name": "stdout",
     "output_type": "stream",
     "text": [
      " 340 | Cost: 22.5693124193\nIteration:"
     ]
    },
    {
     "name": "stdout",
     "output_type": "stream",
     "text": [
      " 350 | Cost: 20.5862824185\nIteration:"
     ]
    },
    {
     "name": "stdout",
     "output_type": "stream",
     "text": [
      " 360 | Cost: 19.6715789957\nIteration:"
     ]
    },
    {
     "name": "stdout",
     "output_type": "stream",
     "text": [
      " 370 | Cost: 22.2635954273\nIteration:"
     ]
    },
    {
     "name": "stdout",
     "output_type": "stream",
     "text": [
      " 380 | Cost: 22.2638910026\nIteration:"
     ]
    },
    {
     "name": "stdout",
     "output_type": "stream",
     "text": [
      " 390 | Cost: 19.6715194033\nIteration:"
     ]
    },
    {
     "name": "stdout",
     "output_type": "stream",
     "text": [
      " 400 | Cost: 20.7388830153\nIteration:"
     ]
    },
    {
     "name": "stdout",
     "output_type": "stream",
     "text": [
      " 410 | Cost: 20.4338120429\nIteration:"
     ]
    },
    {
     "name": "stdout",
     "output_type": "stream",
     "text": [
      " 420 | Cost: 23.7886229914\nIteration:"
     ]
    },
    {
     "name": "stdout",
     "output_type": "stream",
     "text": [
      " 430 | Cost: 23.4840400676\nIteration:"
     ]
    },
    {
     "name": "stdout",
     "output_type": "stream",
     "text": [
      " 440 | Cost: 23.1784332827\nIteration:"
     ]
    },
    {
     "name": "stdout",
     "output_type": "stream",
     "text": [
      " 450 | Cost: 20.4343563592\nIteration:"
     ]
    },
    {
     "name": "stdout",
     "output_type": "stream",
     "text": [
      " 460 | Cost: 22.8732928177\nIteration:"
     ]
    },
    {
     "name": "stdout",
     "output_type": "stream",
     "text": [
      " 470 | Cost: 24.5514808603\nIteration:"
     ]
    },
    {
     "name": "stdout",
     "output_type": "stream",
     "text": [
      " 480 | Cost: 21.9586746746\nIteration:"
     ]
    },
    {
     "name": "stdout",
     "output_type": "stream",
     "text": [
      " 490 | Cost: 22.8734242992\nIteration:"
     ]
    },
    {
     "name": "stdout",
     "output_type": "stream",
     "text": [
      " 500 | Cost: 23.9415415475\nIteration:"
     ]
    },
    {
     "name": "stdout",
     "output_type": "stream",
     "text": [
      " 510 | Cost: 19.2139567474\nIteration:"
     ]
    },
    {
     "name": "stdout",
     "output_type": "stream",
     "text": [
      " 520 | Cost: 19.976913326\nIteration:"
     ]
    },
    {
     "name": "stdout",
     "output_type": "stream",
     "text": [
      " 530 | Cost: 19.9763332178\nIteration:"
     ]
    },
    {
     "name": "stdout",
     "output_type": "stream",
     "text": [
      " 540 | Cost: 24.5509860647\nIteration:"
     ]
    },
    {
     "name": "stdout",
     "output_type": "stream",
     "text": [
      " 550 | Cost: 23.33145245\nIteration:"
     ]
    },
    {
     "name": "stdout",
     "output_type": "stream",
     "text": [
      " 560 | Cost: 23.0255040729\nIteration:"
     ]
    },
    {
     "name": "stdout",
     "output_type": "stream",
     "text": [
      " 570 | Cost: 22.2637059603\nIteration:"
     ]
    },
    {
     "name": "stdout",
     "output_type": "stream",
     "text": [
      " 580 | Cost: 22.1122530134\nIteration:"
     ]
    },
    {
     "name": "stdout",
     "output_type": "stream",
     "text": [
      " 590 | Cost: 22.5690772521\nIteration:"
     ]
    },
    {
     "name": "stdout",
     "output_type": "stream",
     "text": [
      " 600 | Cost: 21.6537859363\nIteration:"
     ]
    },
    {
     "name": "stdout",
     "output_type": "stream",
     "text": [
      " 610 | Cost: 22.7214084171\nIteration:"
     ]
    },
    {
     "name": "stdout",
     "output_type": "stream",
     "text": [
      " 620 | Cost: 16.6216296264\nIteration:"
     ]
    },
    {
     "name": "stdout",
     "output_type": "stream",
     "text": [
      " 630 | Cost: 18.2990762512\nIteration:"
     ]
    },
    {
     "name": "stdout",
     "output_type": "stream",
     "text": [
      " 640 | Cost: 22.8733291834\nIteration:"
     ]
    },
    {
     "name": "stdout",
     "output_type": "stream",
     "text": [
      " 650 | Cost: 21.3487382566\nIteration:"
     ]
    },
    {
     "name": "stdout",
     "output_type": "stream",
     "text": [
      " 660 | Cost: 20.8909949495\nIteration:"
     ]
    },
    {
     "name": "stdout",
     "output_type": "stream",
     "text": [
      " 670 | Cost: 22.8740077263\nIteration:"
     ]
    },
    {
     "name": "stdout",
     "output_type": "stream",
     "text": [
      " 680 | Cost: 24.0928127834\nIteration:"
     ]
    },
    {
     "name": "stdout",
     "output_type": "stream",
     "text": [
      " 690 | Cost: 22.568391888\nIteration:"
     ]
    },
    {
     "name": "stdout",
     "output_type": "stream",
     "text": [
      " 700 | Cost: 23.6363213879\nIteration:"
     ]
    },
    {
     "name": "stdout",
     "output_type": "stream",
     "text": [
      " 710 | Cost: 19.6709665118\nIteration:"
     ]
    },
    {
     "name": "stdout",
     "output_type": "stream",
     "text": [
      " 720 | Cost: 23.0262115054\nIteration:"
     ]
    },
    {
     "name": "stdout",
     "output_type": "stream",
     "text": [
      " 730 | Cost: 24.2461872177\nIteration:"
     ]
    },
    {
     "name": "stdout",
     "output_type": "stream",
     "text": [
      " 740 | Cost: 19.8243986529\nIteration:"
     ]
    },
    {
     "name": "stdout",
     "output_type": "stream",
     "text": [
      " 750 | Cost: 19.8234101031\nIteration:"
     ]
    },
    {
     "name": "stdout",
     "output_type": "stream",
     "text": [
      " 760 | Cost: 21.6543571339\nIteration:"
     ]
    },
    {
     "name": "stdout",
     "output_type": "stream",
     "text": [
      " 770 | Cost: 22.5690930418\nIteration:"
     ]
    },
    {
     "name": "stdout",
     "output_type": "stream",
     "text": [
      " 780 | Cost: 19.9764892325\nIteration:"
     ]
    },
    {
     "name": "stdout",
     "output_type": "stream",
     "text": [
      " 790 | Cost: 22.7201723112\nIteration:"
     ]
    },
    {
     "name": "stdout",
     "output_type": "stream",
     "text": [
      " 800 | Cost: 19.2152929364\nIteration:"
     ]
    },
    {
     "name": "stdout",
     "output_type": "stream",
     "text": [
      " 810 | Cost: 24.3970401712\nIteration:"
     ]
    },
    {
     "name": "stdout",
     "output_type": "stream",
     "text": [
      " 820 | Cost: 19.6703394374\nIteration:"
     ]
    },
    {
     "name": "stdout",
     "output_type": "stream",
     "text": [
      " 830 | Cost: 21.1966435174\nIteration:"
     ]
    },
    {
     "name": "stdout",
     "output_type": "stream",
     "text": [
      " 840 | Cost: 23.3312315479\nIteration:"
     ]
    },
    {
     "name": "stdout",
     "output_type": "stream",
     "text": [
      " 850 | Cost: 26.6858761412\nIteration:"
     ]
    },
    {
     "name": "stdout",
     "output_type": "stream",
     "text": [
      " 860 | Cost: 21.6522503371\nIteration:"
     ]
    },
    {
     "name": "stdout",
     "output_type": "stream",
     "text": [
      " 870 | Cost: 25.6186778307\nIteration:"
     ]
    },
    {
     "name": "stdout",
     "output_type": "stream",
     "text": [
      " 880 | Cost: 21.653428926\nIteration:"
     ]
    },
    {
     "name": "stdout",
     "output_type": "stream",
     "text": [
      " 890 | Cost: 19.213713544\nIteration:"
     ]
    },
    {
     "name": "stdout",
     "output_type": "stream",
     "text": [
      " 900 | Cost: 19.0610246868\nIteration:"
     ]
    },
    {
     "name": "stdout",
     "output_type": "stream",
     "text": [
      " 910 | Cost: 24.2456274659\nIteration:"
     ]
    },
    {
     "name": "stdout",
     "output_type": "stream",
     "text": [
      " 920 | Cost: 20.2809361545\nIteration:"
     ]
    },
    {
     "name": "stdout",
     "output_type": "stream",
     "text": [
      " 930 | Cost: 23.788521342\nIteration:"
     ]
    },
    {
     "name": "stdout",
     "output_type": "stream",
     "text": [
      " 940 | Cost: 19.9753823226\nIteration:"
     ]
    },
    {
     "name": "stdout",
     "output_type": "stream",
     "text": [
      " 950 | Cost: 23.7881888524\nIteration:"
     ]
    },
    {
     "name": "stdout",
     "output_type": "stream",
     "text": [
      " 960 | Cost: 21.042094603\nIteration:"
     ]
    },
    {
     "name": "stdout",
     "output_type": "stream",
     "text": [
      " 970 | Cost: 20.8915544112\nIteration:"
     ]
    },
    {
     "name": "stdout",
     "output_type": "stream",
     "text": [
      " 980 | Cost: 23.1789735539\nIteration:"
     ]
    },
    {
     "name": "stdout",
     "output_type": "stream",
     "text": [
      " 990 | Cost: 21.1949635175\nIteration:"
     ]
    },
    {
     "name": "stdout",
     "output_type": "stream",
     "text": [
      " 1000 | Cost: 24.5509210219\nIteration:"
     ]
    },
    {
     "name": "stdout",
     "output_type": "stream",
     "text": [
      " 1010 | Cost: 24.551148027\nIteration:"
     ]
    },
    {
     "name": "stdout",
     "output_type": "stream",
     "text": [
      " 1020 | Cost: 20.8898757668\nIteration:"
     ]
    },
    {
     "name": "stdout",
     "output_type": "stream",
     "text": [
      " 1030 | Cost: 24.7025734602\nIteration:"
     ]
    },
    {
     "name": "stdout",
     "output_type": "stream",
     "text": [
      " 1040 | Cost: 26.2259276882\nIteration:"
     ]
    },
    {
     "name": "stdout",
     "output_type": "stream",
     "text": [
      " 1050 | Cost: 22.4128251479\nIteration:"
     ]
    },
    {
     "name": "stdout",
     "output_type": "stream",
     "text": [
      " 1060 | Cost: 19.8238291358\nIteration:"
     ]
    },
    {
     "name": "stdout",
     "output_type": "stream",
     "text": [
      " 1070 | Cost: 22.8723020202\nIteration:"
     ]
    },
    {
     "name": "stdout",
     "output_type": "stream",
     "text": [
      " 1080 | Cost: 19.3643418059\nIteration:"
     ]
    },
    {
     "name": "stdout",
     "output_type": "stream",
     "text": [
      " 1090 | Cost: 22.5676373446\nIteration:"
     ]
    },
    {
     "name": "stdout",
     "output_type": "stream",
     "text": [
      " 1100 | Cost: 23.7861197811\nIteration:"
     ]
    },
    {
     "name": "stdout",
     "output_type": "stream",
     "text": [
      " 1110 | Cost: 19.6682971624\nIteration:"
     ]
    },
    {
     "name": "stdout",
     "output_type": "stream",
     "text": [
      " 1120 | Cost: 22.719769888\nIteration:"
     ]
    },
    {
     "name": "stdout",
     "output_type": "stream",
     "text": [
      " 1130 | Cost: 24.5503218433\nIteration:"
     ]
    },
    {
     "name": "stdout",
     "output_type": "stream",
     "text": [
      " 1140 | Cost: 22.1089427646\nIteration:"
     ]
    },
    {
     "name": "stdout",
     "output_type": "stream",
     "text": [
      " 1150 | Cost: 19.0599531321\nIteration:"
     ]
    },
    {
     "name": "stdout",
     "output_type": "stream",
     "text": [
      " 1160 | Cost: 19.0600519702\nIteration:"
     ]
    },
    {
     "name": "stdout",
     "output_type": "stream",
     "text": [
      " 1170 | Cost: 17.6861848543\nIteration:"
     ]
    },
    {
     "name": "stdout",
     "output_type": "stream",
     "text": [
      " 1180 | Cost: 21.9562194465\nIteration:"
     ]
    },
    {
     "name": "stdout",
     "output_type": "stream",
     "text": [
      " 1190 | Cost: 24.5485051584\nIteration:"
     ]
    },
    {
     "name": "stdout",
     "output_type": "stream",
     "text": [
      " 1200 | Cost: 20.4301416855\nIteration:"
     ]
    },
    {
     "name": "stdout",
     "output_type": "stream",
     "text": [
      " 1210 | Cost: 19.2106046721\nIteration:"
     ]
    },
    {
     "name": "stdout",
     "output_type": "stream",
     "text": [
      " 1220 | Cost: 23.4790985336\nIteration:"
     ]
    },
    {
     "name": "stdout",
     "output_type": "stream",
     "text": [
      " 1230 | Cost: 20.5813896039\nIteration:"
     ]
    },
    {
     "name": "stdout",
     "output_type": "stream",
     "text": [
      " 1240 | Cost: 22.4115044106\nIteration:"
     ]
    },
    {
     "name": "stdout",
     "output_type": "stream",
     "text": [
      " 1250 | Cost: 21.3478127817\nIteration:"
     ]
    },
    {
     "name": "stdout",
     "output_type": "stream",
     "text": [
      " 1260 | Cost: 19.9725334233\nIteration:"
     ]
    },
    {
     "name": "stdout",
     "output_type": "stream",
     "text": [
      " 1270 | Cost: 22.4121066198\nIteration:"
     ]
    },
    {
     "name": "stdout",
     "output_type": "stream",
     "text": [
      " 1280 | Cost: 24.5419175548\nIteration:"
     ]
    },
    {
     "name": "stdout",
     "output_type": "stream",
     "text": [
      " 1290 | Cost: 24.5491908656\nIteration:"
     ]
    },
    {
     "name": "stdout",
     "output_type": "stream",
     "text": [
      " 1300 | Cost: 21.3503719019\nIteration:"
     ]
    },
    {
     "name": "stdout",
     "output_type": "stream",
     "text": [
      " 1310 | Cost: 21.1920466478\nIteration:"
     ]
    },
    {
     "name": "stdout",
     "output_type": "stream",
     "text": [
      " 1320 | Cost: 21.498226678\nIteration:"
     ]
    },
    {
     "name": "stdout",
     "output_type": "stream",
     "text": [
      " 1330 | Cost: 19.0593164133\nIteration:"
     ]
    },
    {
     "name": "stdout",
     "output_type": "stream",
     "text": [
      " 1340 | Cost: 19.2102489968\nIteration:"
     ]
    },
    {
     "name": "stdout",
     "output_type": "stream",
     "text": [
      " 1350 | Cost: 23.1739114568\nIteration:"
     ]
    },
    {
     "name": "stdout",
     "output_type": "stream",
     "text": [
      " 1360 | Cost: 18.9029856132\nIteration:"
     ]
    },
    {
     "name": "stdout",
     "output_type": "stream",
     "text": [
      " 1370 | Cost: 23.9337993544\nIteration:"
     ]
    },
    {
     "name": "stdout",
     "output_type": "stream",
     "text": [
      " 1380 | Cost: 21.9582361803\nIteration:"
     ]
    },
    {
     "name": "stdout",
     "output_type": "stream",
     "text": [
      " 1390 | Cost: 19.5164391602\nIteration:"
     ]
    },
    {
     "name": "stdout",
     "output_type": "stream",
     "text": [
      " 1400 | Cost: 24.0836801482\nIteration:"
     ]
    },
    {
     "name": "stdout",
     "output_type": "stream",
     "text": [
      " 1410 | Cost: 20.2786447992\nIteration:"
     ]
    },
    {
     "name": "stdout",
     "output_type": "stream",
     "text": [
      " 1420 | Cost: 22.257780999\nIteration:"
     ]
    },
    {
     "name": "stdout",
     "output_type": "stream",
     "text": [
      " 1430 | Cost: 23.7796974521\nIteration:"
     ]
    },
    {
     "name": "stdout",
     "output_type": "stream",
     "text": [
      " 1440 | Cost: 18.5891289363\nIteration:"
     ]
    },
    {
     "name": "stdout",
     "output_type": "stream",
     "text": [
      " 1450 | Cost: 22.5626893203\nIteration:"
     ]
    },
    {
     "name": "stdout",
     "output_type": "stream",
     "text": [
      " 1460 | Cost: 22.4117970472\nIteration:"
     ]
    },
    {
     "name": "stdout",
     "output_type": "stream",
     "text": [
      " 1470 | Cost: 20.2766183167\nIteration:"
     ]
    },
    {
     "name": "stdout",
     "output_type": "stream",
     "text": [
      " 1480 | Cost: 23.7841451642\nIteration:"
     ]
    },
    {
     "name": "stdout",
     "output_type": "stream",
     "text": [
      " 1490 | Cost: 21.0394891706\nIteration:"
     ]
    },
    {
     "name": "stdout",
     "output_type": "stream",
     "text": [
      " 1500 | Cost: 19.0507819522\nIteration:"
     ]
    },
    {
     "name": "stdout",
     "output_type": "stream",
     "text": [
      " 1510 | Cost: 23.3158815309\nIteration:"
     ]
    },
    {
     "name": "stdout",
     "output_type": "stream",
     "text": [
      " 1520 | Cost: 17.8279899312\nIteration:"
     ]
    },
    {
     "name": "stdout",
     "output_type": "stream",
     "text": [
      " 1530 | Cost: 22.5520068495\nIteration:"
     ]
    },
    {
     "name": "stdout",
     "output_type": "stream",
     "text": [
      " 1540 | Cost: 21.8021524943\nIteration:"
     ]
    },
    {
     "name": "stdout",
     "output_type": "stream",
     "text": [
      " 1550 | Cost: 21.0350914169\nIteration:"
     ]
    },
    {
     "name": "stdout",
     "output_type": "stream",
     "text": [
      " 1560 | Cost: 23.4700356042\nIteration:"
     ]
    },
    {
     "name": "stdout",
     "output_type": "stream",
     "text": [
      " 1570 | Cost: 21.3377080798\nIteration:"
     ]
    },
    {
     "name": "stdout",
     "output_type": "stream",
     "text": [
      " 1580 | Cost: 21.1823113914\nIteration:"
     ]
    },
    {
     "name": "stdout",
     "output_type": "stream",
     "text": [
      " 1590 | Cost: 22.4052135908\nIteration:"
     ]
    },
    {
     "name": "stdout",
     "output_type": "stream",
     "text": [
      " 1600 | Cost: 19.6665075299\nIteration:"
     ]
    },
    {
     "name": "stdout",
     "output_type": "stream",
     "text": [
      " 1610 | Cost: 21.0354965449\nIteration:"
     ]
    },
    {
     "name": "stdout",
     "output_type": "stream",
     "text": [
      " 1620 | Cost: 26.820958376\nIteration:"
     ]
    },
    {
     "name": "stdout",
     "output_type": "stream",
     "text": [
      " 1630 | Cost: 19.9602155645\nIteration:"
     ]
    },
    {
     "name": "stdout",
     "output_type": "stream",
     "text": [
      " 1640 | Cost: 20.8754559855\nIteration:"
     ]
    },
    {
     "name": "stdout",
     "output_type": "stream",
     "text": [
      " 1650 | Cost: 21.9329529507\nIteration:"
     ]
    },
    {
     "name": "stdout",
     "output_type": "stream",
     "text": [
      " 1660 | Cost: 20.2447923789\nIteration:"
     ]
    },
    {
     "name": "stdout",
     "output_type": "stream",
     "text": [
      " 1670 | Cost: 18.2844386166\nIteration:"
     ]
    },
    {
     "name": "stdout",
     "output_type": "stream",
     "text": [
      " 1680 | Cost: 23.3091984306\nIteration:"
     ]
    },
    {
     "name": "stdout",
     "output_type": "stream",
     "text": [
      " 1690 | Cost: 21.3092299964\nIteration:"
     ]
    },
    {
     "name": "stdout",
     "output_type": "stream",
     "text": [
      " 1700 | Cost: 20.7118404697\nIteration:"
     ]
    },
    {
     "name": "stdout",
     "output_type": "stream",
     "text": [
      " 1710 | Cost: 22.8578879078\nIteration:"
     ]
    },
    {
     "name": "stdout",
     "output_type": "stream",
     "text": [
      " 1720 | Cost: 18.8903158051\nIteration:"
     ]
    },
    {
     "name": "stdout",
     "output_type": "stream",
     "text": [
      " 1730 | Cost: 20.3934174888\nIteration:"
     ]
    },
    {
     "name": "stdout",
     "output_type": "stream",
     "text": [
      " 1740 | Cost: 24.9897676186\nIteration:"
     ]
    },
    {
     "name": "stdout",
     "output_type": "stream",
     "text": [
      " 1750 | Cost: 23.608636107\nIteration:"
     ]
    },
    {
     "name": "stdout",
     "output_type": "stream",
     "text": [
      " 1760 | Cost: 19.1940202356\nIteration:"
     ]
    },
    {
     "name": "stdout",
     "output_type": "stream",
     "text": [
      " 1770 | Cost: 18.577323797\nIteration:"
     ]
    },
    {
     "name": "stdout",
     "output_type": "stream",
     "text": [
      " 1780 | Cost: 23.1563044734\nIteration:"
     ]
    },
    {
     "name": "stdout",
     "output_type": "stream",
     "text": [
      " 1790 | Cost: 21.9238786846\nIteration:"
     ]
    },
    {
     "name": "stdout",
     "output_type": "stream",
     "text": [
      " 1800 | Cost: 21.3214467292\nIteration:"
     ]
    },
    {
     "name": "stdout",
     "output_type": "stream",
     "text": [
      " 1810 | Cost: 24.8162931572\nIteration:"
     ]
    },
    {
     "name": "stdout",
     "output_type": "stream",
     "text": [
      " 1820 | Cost: 22.5400415719\nIteration:"
     ]
    },
    {
     "name": "stdout",
     "output_type": "stream",
     "text": [
      " 1830 | Cost: 23.3070864086\nIteration:"
     ]
    },
    {
     "name": "stdout",
     "output_type": "stream",
     "text": [
      " 1840 | Cost: 19.9425666664\nIteration:"
     ]
    },
    {
     "name": "stdout",
     "output_type": "stream",
     "text": [
      " 1850 | Cost: 24.9858083076\nIteration:"
     ]
    },
    {
     "name": "stdout",
     "output_type": "stream",
     "text": [
      " 1860 | Cost: 22.6750256658\nIteration:"
     ]
    },
    {
     "name": "stdout",
     "output_type": "stream",
     "text": [
      " 1870 | Cost: 21.0095661141\nIteration:"
     ]
    },
    {
     "name": "stdout",
     "output_type": "stream",
     "text": [
      " 1880 | Cost: 20.5849855837\nIteration:"
     ]
    },
    {
     "name": "stdout",
     "output_type": "stream",
     "text": [
      " 1890 | Cost: 19.0519867071\nIteration:"
     ]
    },
    {
     "name": "stdout",
     "output_type": "stream",
     "text": [
      " 1900 | Cost: 23.4240692387\nIteration:"
     ]
    },
    {
     "name": "stdout",
     "output_type": "stream",
     "text": [
      " 1910 | Cost: 22.8086070857\nIteration:"
     ]
    },
    {
     "name": "stdout",
     "output_type": "stream",
     "text": [
      " 1920 | Cost: 21.628634498\nIteration:"
     ]
    },
    {
     "name": "stdout",
     "output_type": "stream",
     "text": [
      " 1930 | Cost: 18.8416312013\nIteration:"
     ]
    },
    {
     "name": "stdout",
     "output_type": "stream",
     "text": [
      " 1940 | Cost: 20.8188830489\nIteration:"
     ]
    },
    {
     "name": "stdout",
     "output_type": "stream",
     "text": [
      " 1950 | Cost: 22.9735734075\nIteration:"
     ]
    },
    {
     "name": "stdout",
     "output_type": "stream",
     "text": [
      " 1960 | Cost: 24.6716148918\nIteration:"
     ]
    },
    {
     "name": "stdout",
     "output_type": "stream",
     "text": [
      " 1970 | Cost: 20.6842788774\nIteration:"
     ]
    },
    {
     "name": "stdout",
     "output_type": "stream",
     "text": [
      " 1980 | Cost: 19.3542336572\nIteration:"
     ]
    },
    {
     "name": "stdout",
     "output_type": "stream",
     "text": [
      " 1990 | Cost: 24.317762884\nIteration:"
     ]
    },
    {
     "name": "stdout",
     "output_type": "stream",
     "text": [
      " 2000 | Cost: 21.5899598961\nIteration:"
     ]
    },
    {
     "name": "stdout",
     "output_type": "stream",
     "text": [
      " 2010 | Cost: 19.3229315271\nIteration:"
     ]
    },
    {
     "name": "stdout",
     "output_type": "stream",
     "text": [
      " 2020 | Cost: 19.7768673845\nIteration:"
     ]
    },
    {
     "name": "stdout",
     "output_type": "stream",
     "text": [
      " 2030 | Cost: 20.3171251142\nIteration:"
     ]
    },
    {
     "name": "stdout",
     "output_type": "stream",
     "text": [
      " 2040 | Cost: 21.5659187054\nIteration:"
     ]
    },
    {
     "name": "stdout",
     "output_type": "stream",
     "text": [
      " 2050 | Cost: 21.6135979203\nIteration:"
     ]
    },
    {
     "name": "stdout",
     "output_type": "stream",
     "text": [
      " 2060 | Cost: 24.1722342987\nIteration:"
     ]
    },
    {
     "name": "stdout",
     "output_type": "stream",
     "text": [
      " 2070 | Cost: 23.6563273884\nIteration:"
     ]
    },
    {
     "name": "stdout",
     "output_type": "stream",
     "text": [
      " 2080 | Cost: 22.9679896446\nIteration:"
     ]
    },
    {
     "name": "stdout",
     "output_type": "stream",
     "text": [
      " 2090 | Cost: 22.3710349015\nIteration:"
     ]
    },
    {
     "name": "stdout",
     "output_type": "stream",
     "text": [
      " 2100 | Cost: 19.9232598936\nIteration:"
     ]
    },
    {
     "name": "stdout",
     "output_type": "stream",
     "text": [
      " 2110 | Cost: 22.1920654984\nIteration:"
     ]
    },
    {
     "name": "stdout",
     "output_type": "stream",
     "text": [
      " 2120 | Cost: 17.4560512282\nIteration:"
     ]
    },
    {
     "name": "stdout",
     "output_type": "stream",
     "text": [
      " 2130 | Cost: 24.3260359843\nIteration:"
     ]
    },
    {
     "name": "stdout",
     "output_type": "stream",
     "text": [
      " 2140 | Cost: 18.9345583429\nIteration:"
     ]
    },
    {
     "name": "stdout",
     "output_type": "stream",
     "text": [
      " 2150 | Cost: 26.1632075818\nIteration:"
     ]
    },
    {
     "name": "stdout",
     "output_type": "stream",
     "text": [
      " 2160 | Cost: 20.5479914176\nIteration:"
     ]
    },
    {
     "name": "stdout",
     "output_type": "stream",
     "text": [
      " 2170 | Cost: 19.1211918109\nIteration:"
     ]
    },
    {
     "name": "stdout",
     "output_type": "stream",
     "text": [
      " 2180 | Cost: 21.0935380594\nIteration:"
     ]
    },
    {
     "name": "stdout",
     "output_type": "stream",
     "text": [
      " 2190 | Cost: 20.8615241148\nIteration:"
     ]
    },
    {
     "name": "stdout",
     "output_type": "stream",
     "text": [
      " 2200 | Cost: 18.9789237128\nIteration:"
     ]
    },
    {
     "name": "stdout",
     "output_type": "stream",
     "text": [
      " 2210 | Cost: 21.8557379746\nIteration:"
     ]
    },
    {
     "name": "stdout",
     "output_type": "stream",
     "text": [
      " 2220 | Cost: 22.304181928\nIteration:"
     ]
    },
    {
     "name": "stdout",
     "output_type": "stream",
     "text": [
      " 2230 | Cost: 20.4642307883\nIteration:"
     ]
    },
    {
     "name": "stdout",
     "output_type": "stream",
     "text": [
      " 2240 | Cost: 21.7915762957\nIteration:"
     ]
    },
    {
     "name": "stdout",
     "output_type": "stream",
     "text": [
      " 2250 | Cost: 21.764569627\nIteration:"
     ]
    },
    {
     "name": "stdout",
     "output_type": "stream",
     "text": [
      " 2260 | Cost: 20.3174095419\nIteration:"
     ]
    },
    {
     "name": "stdout",
     "output_type": "stream",
     "text": [
      " 2270 | Cost: 19.6807040549\nIteration:"
     ]
    },
    {
     "name": "stdout",
     "output_type": "stream",
     "text": [
      " 2280 | Cost: 20.4544368634\nIteration:"
     ]
    },
    {
     "name": "stdout",
     "output_type": "stream",
     "text": [
      " 2290 | Cost: 24.2803903156\nIteration:"
     ]
    },
    {
     "name": "stdout",
     "output_type": "stream",
     "text": [
      " 2300 | Cost: 21.6294590897\nIteration:"
     ]
    },
    {
     "name": "stdout",
     "output_type": "stream",
     "text": [
      " 2310 | Cost: 22.8663875345\nIteration:"
     ]
    },
    {
     "name": "stdout",
     "output_type": "stream",
     "text": [
      " 2320 | Cost: 20.4385954586\nIteration:"
     ]
    },
    {
     "name": "stdout",
     "output_type": "stream",
     "text": [
      " 2330 | Cost: 25.7045658326\nIteration:"
     ]
    },
    {
     "name": "stdout",
     "output_type": "stream",
     "text": [
      " 2340 | Cost: 22.8798198857\nIteration:"
     ]
    },
    {
     "name": "stdout",
     "output_type": "stream",
     "text": [
      " 2350 | Cost: 21.0705741318\nIteration:"
     ]
    },
    {
     "name": "stdout",
     "output_type": "stream",
     "text": [
      " 2360 | Cost: 23.2590765598\nIteration:"
     ]
    },
    {
     "name": "stdout",
     "output_type": "stream",
     "text": [
      " 2370 | Cost: 21.9472861954\nIteration:"
     ]
    },
    {
     "name": "stdout",
     "output_type": "stream",
     "text": [
      " 2380 | Cost: 20.6834271233\nIteration:"
     ]
    },
    {
     "name": "stdout",
     "output_type": "stream",
     "text": [
      " 2390 | Cost: 22.1414972985\nIteration:"
     ]
    },
    {
     "name": "stdout",
     "output_type": "stream",
     "text": [
      " 2400 | Cost: 22.2392418885\nIteration:"
     ]
    },
    {
     "name": "stdout",
     "output_type": "stream",
     "text": [
      " 2410 | Cost: 22.9472577541\nIteration:"
     ]
    },
    {
     "name": "stdout",
     "output_type": "stream",
     "text": [
      " 2420 | Cost: 20.3566865467\nIteration:"
     ]
    },
    {
     "name": "stdout",
     "output_type": "stream",
     "text": [
      " 2430 | Cost: 19.899107037\nIteration:"
     ]
    },
    {
     "name": "stdout",
     "output_type": "stream",
     "text": [
      " 2440 | Cost: 19.5548881453\nIteration:"
     ]
    },
    {
     "name": "stdout",
     "output_type": "stream",
     "text": [
      " 2450 | Cost: 18.8549081969\nIteration:"
     ]
    },
    {
     "name": "stdout",
     "output_type": "stream",
     "text": [
      " 2460 | Cost: 21.8967670647\nIteration:"
     ]
    },
    {
     "name": "stdout",
     "output_type": "stream",
     "text": [
      " 2470 | Cost: 19.3018412275\nIteration:"
     ]
    },
    {
     "name": "stdout",
     "output_type": "stream",
     "text": [
      " 2480 | Cost: 22.6487122682\nIteration:"
     ]
    },
    {
     "name": "stdout",
     "output_type": "stream",
     "text": [
      " 2490 | Cost: 20.9426208056\nIteration:"
     ]
    },
    {
     "name": "stdout",
     "output_type": "stream",
     "text": [
      " 2500 | Cost: 20.5871139371\nIteration:"
     ]
    },
    {
     "name": "stdout",
     "output_type": "stream",
     "text": [
      " 2510 | Cost: 22.3302793942\nIteration:"
     ]
    },
    {
     "name": "stdout",
     "output_type": "stream",
     "text": [
      " 2520 | Cost: 22.9368901125\nIteration:"
     ]
    },
    {
     "name": "stdout",
     "output_type": "stream",
     "text": [
      " 2530 | Cost: 23.424772571\nIteration:"
     ]
    },
    {
     "name": "stdout",
     "output_type": "stream",
     "text": [
      " 2540 | Cost: 19.2734662345\nIteration:"
     ]
    },
    {
     "name": "stdout",
     "output_type": "stream",
     "text": [
      " 2550 | Cost: 22.7733541686\nIteration:"
     ]
    },
    {
     "name": "stdout",
     "output_type": "stream",
     "text": [
      " 2560 | Cost: 19.0765661668\nIteration:"
     ]
    },
    {
     "name": "stdout",
     "output_type": "stream",
     "text": [
      " 2570 | Cost: 18.2274580161\nIteration:"
     ]
    },
    {
     "name": "stdout",
     "output_type": "stream",
     "text": [
      " 2580 | Cost: 21.583911253\nIteration:"
     ]
    },
    {
     "name": "stdout",
     "output_type": "stream",
     "text": [
      " 2590 | Cost: 20.779423988\nIteration:"
     ]
    },
    {
     "name": "stdout",
     "output_type": "stream",
     "text": [
      " 2600 | Cost: 18.0085507523\nIteration:"
     ]
    },
    {
     "name": "stdout",
     "output_type": "stream",
     "text": [
      " 2610 | Cost: 21.9073984685\nIteration:"
     ]
    },
    {
     "name": "stdout",
     "output_type": "stream",
     "text": [
      " 2620 | Cost: 18.6244672292\nIteration:"
     ]
    },
    {
     "name": "stdout",
     "output_type": "stream",
     "text": [
      " 2630 | Cost: 22.0863958692\nIteration:"
     ]
    },
    {
     "name": "stdout",
     "output_type": "stream",
     "text": [
      " 2640 | Cost: 18.2027883919\nIteration:"
     ]
    },
    {
     "name": "stdout",
     "output_type": "stream",
     "text": [
      " 2650 | Cost: 21.7589956676\nIteration:"
     ]
    },
    {
     "name": "stdout",
     "output_type": "stream",
     "text": [
      " 2660 | Cost: 19.5020958975\nIteration:"
     ]
    },
    {
     "name": "stdout",
     "output_type": "stream",
     "text": [
      " 2670 | Cost: 20.5688517341\nIteration:"
     ]
    },
    {
     "name": "stdout",
     "output_type": "stream",
     "text": [
      " 2680 | Cost: 19.9557620007\nIteration:"
     ]
    },
    {
     "name": "stdout",
     "output_type": "stream",
     "text": [
      " 2690 | Cost: 19.7923196628\nIteration:"
     ]
    },
    {
     "name": "stdout",
     "output_type": "stream",
     "text": [
      " 2700 | Cost: 18.3499158892\nIteration:"
     ]
    },
    {
     "name": "stdout",
     "output_type": "stream",
     "text": [
      " 2710 | Cost: 21.6161349021\nIteration:"
     ]
    },
    {
     "name": "stdout",
     "output_type": "stream",
     "text": [
      " 2720 | Cost: 22.6592317039\nIteration:"
     ]
    },
    {
     "name": "stdout",
     "output_type": "stream",
     "text": [
      " 2730 | Cost: 22.5253514662\nIteration:"
     ]
    },
    {
     "name": "stdout",
     "output_type": "stream",
     "text": [
      " 2740 | Cost: 20.9924174312\nIteration:"
     ]
    },
    {
     "name": "stdout",
     "output_type": "stream",
     "text": [
      " 2750 | Cost: 21.3516772556\nIteration:"
     ]
    },
    {
     "name": "stdout",
     "output_type": "stream",
     "text": [
      " 2760 | Cost: 22.3098525813\nIteration:"
     ]
    },
    {
     "name": "stdout",
     "output_type": "stream",
     "text": [
      " 2770 | Cost: 19.3815810064\nIteration:"
     ]
    },
    {
     "name": "stdout",
     "output_type": "stream",
     "text": [
      " 2780 | Cost: 21.6849237238\nIteration:"
     ]
    },
    {
     "name": "stdout",
     "output_type": "stream",
     "text": [
      " 2790 | Cost: 18.0142413049\nIteration:"
     ]
    },
    {
     "name": "stdout",
     "output_type": "stream",
     "text": [
      " 2800 | Cost: 18.7481628109\nIteration:"
     ]
    },
    {
     "name": "stdout",
     "output_type": "stream",
     "text": [
      " 2810 | Cost: 24.7238746695\nIteration:"
     ]
    },
    {
     "name": "stdout",
     "output_type": "stream",
     "text": [
      " 2820 | Cost: 20.7720614693\nIteration:"
     ]
    },
    {
     "name": "stdout",
     "output_type": "stream",
     "text": [
      " 2830 | Cost: 19.0565523247\nIteration:"
     ]
    },
    {
     "name": "stdout",
     "output_type": "stream",
     "text": [
      " 2840 | Cost: 18.3964909288\nIteration:"
     ]
    },
    {
     "name": "stdout",
     "output_type": "stream",
     "text": [
      " 2850 | Cost: 20.8053312215\nIteration:"
     ]
    },
    {
     "name": "stdout",
     "output_type": "stream",
     "text": [
      " 2860 | Cost: 20.3600115715\nIteration:"
     ]
    },
    {
     "name": "stdout",
     "output_type": "stream",
     "text": [
      " 2870 | Cost: 20.510052336\nIteration:"
     ]
    },
    {
     "name": "stdout",
     "output_type": "stream",
     "text": [
      " 2880 | Cost: 22.299860557\nIteration:"
     ]
    },
    {
     "name": "stdout",
     "output_type": "stream",
     "text": [
      " 2890 | Cost: 23.2552217052\nIteration:"
     ]
    },
    {
     "name": "stdout",
     "output_type": "stream",
     "text": [
      " 2900 | Cost: 19.6851938683\nIteration:"
     ]
    },
    {
     "name": "stdout",
     "output_type": "stream",
     "text": [
      " 2910 | Cost: 21.1765304256\nIteration:"
     ]
    },
    {
     "name": "stdout",
     "output_type": "stream",
     "text": [
      " 2920 | Cost: 19.1667560935\nIteration:"
     ]
    },
    {
     "name": "stdout",
     "output_type": "stream",
     "text": [
      " 2930 | Cost: 22.2761578014\nIteration:"
     ]
    },
    {
     "name": "stdout",
     "output_type": "stream",
     "text": [
      " 2940 | Cost: 19.0282242996\nIteration:"
     ]
    },
    {
     "name": "stdout",
     "output_type": "stream",
     "text": [
      " 2950 | Cost: 18.9680243703\nIteration:"
     ]
    },
    {
     "name": "stdout",
     "output_type": "stream",
     "text": [
      " 2960 | Cost: 20.799752344\nIteration:"
     ]
    },
    {
     "name": "stdout",
     "output_type": "stream",
     "text": [
      " 2970 | Cost: 21.5274642706\nIteration:"
     ]
    },
    {
     "name": "stdout",
     "output_type": "stream",
     "text": [
      " 2980 | Cost: 21.1551563102\nIteration:"
     ]
    },
    {
     "name": "stdout",
     "output_type": "stream",
     "text": [
      " 2990 | Cost: 21.660231186\nIteration:"
     ]
    },
    {
     "name": "stdout",
     "output_type": "stream",
     "text": [
      " 3000 | Cost: 20.3986934786\nIteration:"
     ]
    },
    {
     "name": "stdout",
     "output_type": "stream",
     "text": [
      " 3010 | Cost: 19.0781405635\nIteration:"
     ]
    },
    {
     "name": "stdout",
     "output_type": "stream",
     "text": [
      " 3020 | Cost: 22.7516346429\nIteration:"
     ]
    },
    {
     "name": "stdout",
     "output_type": "stream",
     "text": [
      " 3030 | Cost: 18.5621408073\nIteration:"
     ]
    },
    {
     "name": "stdout",
     "output_type": "stream",
     "text": [
      " 3040 | Cost: 20.0756486326\nIteration:"
     ]
    },
    {
     "name": "stdout",
     "output_type": "stream",
     "text": [
      " 3050 | Cost: 21.9134017122\nIteration:"
     ]
    },
    {
     "name": "stdout",
     "output_type": "stream",
     "text": [
      " 3060 | Cost: 22.9453448668\nIteration:"
     ]
    },
    {
     "name": "stdout",
     "output_type": "stream",
     "text": [
      " 3070 | Cost: 21.766718559\nIteration:"
     ]
    },
    {
     "name": "stdout",
     "output_type": "stream",
     "text": [
      " 3080 | Cost: 18.7263765667\nIteration:"
     ]
    },
    {
     "name": "stdout",
     "output_type": "stream",
     "text": [
      " 3090 | Cost: 18.3972904292\nIteration:"
     ]
    },
    {
     "name": "stdout",
     "output_type": "stream",
     "text": [
      " 3100 | Cost: 21.3021477651\nIteration:"
     ]
    },
    {
     "name": "stdout",
     "output_type": "stream",
     "text": [
      " 3110 | Cost: 23.3379919087\nIteration:"
     ]
    },
    {
     "name": "stdout",
     "output_type": "stream",
     "text": [
      " 3120 | Cost: 19.1890365971\nIteration:"
     ]
    },
    {
     "name": "stdout",
     "output_type": "stream",
     "text": [
      " 3130 | Cost: 20.1432559208\nIteration:"
     ]
    },
    {
     "name": "stdout",
     "output_type": "stream",
     "text": [
      " 3140 | Cost: 18.2502749311\nIteration:"
     ]
    },
    {
     "name": "stdout",
     "output_type": "stream",
     "text": [
      " 3150 | Cost: 18.0049913688\nIteration:"
     ]
    },
    {
     "name": "stdout",
     "output_type": "stream",
     "text": [
      " 3160 | Cost: 17.9373425292\nIteration:"
     ]
    },
    {
     "name": "stdout",
     "output_type": "stream",
     "text": [
      " 3170 | Cost: 24.3213766704\nIteration:"
     ]
    },
    {
     "name": "stdout",
     "output_type": "stream",
     "text": [
      " 3180 | Cost: 21.3012650683\nIteration:"
     ]
    },
    {
     "name": "stdout",
     "output_type": "stream",
     "text": [
      " 3190 | Cost: 20.647143805\nIteration:"
     ]
    },
    {
     "name": "stdout",
     "output_type": "stream",
     "text": [
      " 3200 | Cost: 19.9372454525\nIteration:"
     ]
    },
    {
     "name": "stdout",
     "output_type": "stream",
     "text": [
      " 3210 | Cost: 19.23244258\nIteration:"
     ]
    },
    {
     "name": "stdout",
     "output_type": "stream",
     "text": [
      " 3220 | Cost: 20.3499837807\nIteration:"
     ]
    },
    {
     "name": "stdout",
     "output_type": "stream",
     "text": [
      " 3230 | Cost: 23.2713691477\nIteration:"
     ]
    },
    {
     "name": "stdout",
     "output_type": "stream",
     "text": [
      " 3240 | Cost: 20.8410781804\nIteration:"
     ]
    },
    {
     "name": "stdout",
     "output_type": "stream",
     "text": [
      " 3250 | Cost: 22.410937864\nIteration:"
     ]
    },
    {
     "name": "stdout",
     "output_type": "stream",
     "text": [
      " 3260 | Cost: 24.2348599544\nIteration:"
     ]
    },
    {
     "name": "stdout",
     "output_type": "stream",
     "text": [
      " 3270 | Cost: 23.7377326914\nIteration:"
     ]
    },
    {
     "name": "stdout",
     "output_type": "stream",
     "text": [
      " 3280 | Cost: 21.4974292723\nIteration:"
     ]
    },
    {
     "name": "stdout",
     "output_type": "stream",
     "text": [
      " 3290 | Cost: 24.8626756009\nIteration:"
     ]
    },
    {
     "name": "stdout",
     "output_type": "stream",
     "text": [
      " 3300 | Cost: 22.1726348367\nIteration:"
     ]
    },
    {
     "name": "stdout",
     "output_type": "stream",
     "text": [
      " 3310 | Cost: 21.5580563355\nIteration:"
     ]
    },
    {
     "name": "stdout",
     "output_type": "stream",
     "text": [
      " 3320 | Cost: 20.1796877448\nIteration:"
     ]
    },
    {
     "name": "stdout",
     "output_type": "stream",
     "text": [
      " 3330 | Cost: 21.2375013559\nIteration:"
     ]
    },
    {
     "name": "stdout",
     "output_type": "stream",
     "text": [
      " 3340 | Cost: 18.4170068292\nIteration:"
     ]
    },
    {
     "name": "stdout",
     "output_type": "stream",
     "text": [
      " 3350 | Cost: 17.4903694398\nIteration:"
     ]
    },
    {
     "name": "stdout",
     "output_type": "stream",
     "text": [
      " 3360 | Cost: 19.662387163\nIteration:"
     ]
    },
    {
     "name": "stdout",
     "output_type": "stream",
     "text": [
      " 3370 | Cost: 20.9764895608\nIteration:"
     ]
    },
    {
     "name": "stdout",
     "output_type": "stream",
     "text": [
      " 3380 | Cost: 17.6884708759\nIteration:"
     ]
    },
    {
     "name": "stdout",
     "output_type": "stream",
     "text": [
      " 3390 | Cost: 20.3000522612\nIteration:"
     ]
    },
    {
     "name": "stdout",
     "output_type": "stream",
     "text": [
      " 3400 | Cost: 18.6638858946\nIteration:"
     ]
    },
    {
     "name": "stdout",
     "output_type": "stream",
     "text": [
      " 3410 | Cost: 19.0650222921\nIteration:"
     ]
    },
    {
     "name": "stdout",
     "output_type": "stream",
     "text": [
      " 3420 | Cost: 19.7074035765\nIteration:"
     ]
    },
    {
     "name": "stdout",
     "output_type": "stream",
     "text": [
      " 3430 | Cost: 19.8435286689\nIteration:"
     ]
    },
    {
     "name": "stdout",
     "output_type": "stream",
     "text": [
      " 3440 | Cost: 20.0443135648\nIteration:"
     ]
    },
    {
     "name": "stdout",
     "output_type": "stream",
     "text": [
      " 3450 | Cost: 19.675437133\nIteration:"
     ]
    },
    {
     "name": "stdout",
     "output_type": "stream",
     "text": [
      " 3460 | Cost: 23.1289325517\nIteration:"
     ]
    },
    {
     "name": "stdout",
     "output_type": "stream",
     "text": [
      " 3470 | Cost: 20.9200731348\nIteration:"
     ]
    },
    {
     "name": "stdout",
     "output_type": "stream",
     "text": [
      " 3480 | Cost: 21.4692777867\nIteration:"
     ]
    },
    {
     "name": "stdout",
     "output_type": "stream",
     "text": [
      " 3490 | Cost: 20.6933078511\nIteration:"
     ]
    },
    {
     "name": "stdout",
     "output_type": "stream",
     "text": [
      " 3500 | Cost: 23.2524724045\nIteration:"
     ]
    },
    {
     "name": "stdout",
     "output_type": "stream",
     "text": [
      " 3510 | Cost: 18.6659297149\nIteration:"
     ]
    },
    {
     "name": "stdout",
     "output_type": "stream",
     "text": [
      " 3520 | Cost: 18.1426187294\nIteration:"
     ]
    },
    {
     "name": "stdout",
     "output_type": "stream",
     "text": [
      " 3530 | Cost: 20.0661639552\nIteration:"
     ]
    },
    {
     "name": "stdout",
     "output_type": "stream",
     "text": [
      " 3540 | Cost: 21.9178427915\nIteration:"
     ]
    },
    {
     "name": "stdout",
     "output_type": "stream",
     "text": [
      " 3550 | Cost: 19.887622418\nIteration:"
     ]
    },
    {
     "name": "stdout",
     "output_type": "stream",
     "text": [
      " 3560 | Cost: 18.6081463268\nIteration:"
     ]
    },
    {
     "name": "stdout",
     "output_type": "stream",
     "text": [
      " 3570 | Cost: 20.989167373\nIteration:"
     ]
    },
    {
     "name": "stdout",
     "output_type": "stream",
     "text": [
      " 3580 | Cost: 18.393681205\nIteration:"
     ]
    },
    {
     "name": "stdout",
     "output_type": "stream",
     "text": [
      " 3590 | Cost: 16.9375956822\nIteration:"
     ]
    },
    {
     "name": "stdout",
     "output_type": "stream",
     "text": [
      " 3600 | Cost: 19.6018554288\nIteration:"
     ]
    },
    {
     "name": "stdout",
     "output_type": "stream",
     "text": [
      " 3610 | Cost: 19.7546245373\nIteration:"
     ]
    },
    {
     "name": "stdout",
     "output_type": "stream",
     "text": [
      " 3620 | Cost: 20.1607084107\nIteration:"
     ]
    },
    {
     "name": "stdout",
     "output_type": "stream",
     "text": [
      " 3630 | Cost: 18.4585288624\nIteration:"
     ]
    },
    {
     "name": "stdout",
     "output_type": "stream",
     "text": [
      " 3640 | Cost: 18.4417846504\nIteration:"
     ]
    },
    {
     "name": "stdout",
     "output_type": "stream",
     "text": [
      " 3650 | Cost: 19.4331341199\nIteration:"
     ]
    },
    {
     "name": "stdout",
     "output_type": "stream",
     "text": [
      " 3660 | Cost: 18.8008537116\nIteration:"
     ]
    },
    {
     "name": "stdout",
     "output_type": "stream",
     "text": [
      " 3670 | Cost: 19.0546784867\nIteration:"
     ]
    },
    {
     "name": "stdout",
     "output_type": "stream",
     "text": [
      " 3680 | Cost: 19.7546331511\nIteration:"
     ]
    },
    {
     "name": "stdout",
     "output_type": "stream",
     "text": [
      " 3690 | Cost: 17.8507786642\nIteration:"
     ]
    },
    {
     "name": "stdout",
     "output_type": "stream",
     "text": [
      " 3700 | Cost: 21.181658443\nIteration:"
     ]
    },
    {
     "name": "stdout",
     "output_type": "stream",
     "text": [
      " 3710 | Cost: 17.9319222449\nIteration:"
     ]
    },
    {
     "name": "stdout",
     "output_type": "stream",
     "text": [
      " 3720 | Cost: 18.9043314011\nIteration:"
     ]
    },
    {
     "name": "stdout",
     "output_type": "stream",
     "text": [
      " 3730 | Cost: 19.2080216122\nIteration:"
     ]
    },
    {
     "name": "stdout",
     "output_type": "stream",
     "text": [
      " 3740 | Cost: 17.6887483061\nIteration:"
     ]
    },
    {
     "name": "stdout",
     "output_type": "stream",
     "text": [
      " 3750 | Cost: 18.7101141067\nIteration:"
     ]
    },
    {
     "name": "stdout",
     "output_type": "stream",
     "text": [
      " 3760 | Cost: 16.693271619\nIteration:"
     ]
    },
    {
     "name": "stdout",
     "output_type": "stream",
     "text": [
      " 3770 | Cost: 19.887416456\nIteration:"
     ]
    },
    {
     "name": "stdout",
     "output_type": "stream",
     "text": [
      " 3780 | Cost: 20.1332235957\nIteration:"
     ]
    },
    {
     "name": "stdout",
     "output_type": "stream",
     "text": [
      " 3790 | Cost: 18.3058770328\nIteration:"
     ]
    },
    {
     "name": "stdout",
     "output_type": "stream",
     "text": [
      " 3800 | Cost: 17.5481292328\nIteration:"
     ]
    },
    {
     "name": "stdout",
     "output_type": "stream",
     "text": [
      " 3810 | Cost: 20.1077714346\nIteration:"
     ]
    },
    {
     "name": "stdout",
     "output_type": "stream",
     "text": [
      " 3820 | Cost: 24.4455656832\nIteration:"
     ]
    },
    {
     "name": "stdout",
     "output_type": "stream",
     "text": [
      " 3830 | Cost: 19.9473759834\nIteration:"
     ]
    },
    {
     "name": "stdout",
     "output_type": "stream",
     "text": [
      " 3840 | Cost: 19.3624555549\nIteration:"
     ]
    },
    {
     "name": "stdout",
     "output_type": "stream",
     "text": [
      " 3850 | Cost: 20.9426207573\nIteration:"
     ]
    },
    {
     "name": "stdout",
     "output_type": "stream",
     "text": [
      " 3860 | Cost: 21.6852040714\nIteration:"
     ]
    },
    {
     "name": "stdout",
     "output_type": "stream",
     "text": [
      " 3870 | Cost: 17.8811804252\nIteration:"
     ]
    },
    {
     "name": "stdout",
     "output_type": "stream",
     "text": [
      " 3880 | Cost: 19.2774497879\nIteration:"
     ]
    },
    {
     "name": "stdout",
     "output_type": "stream",
     "text": [
      " 3890 | Cost: 19.6289098583\nIteration:"
     ]
    },
    {
     "name": "stdout",
     "output_type": "stream",
     "text": [
      " 3900 | Cost: 19.3516624639\nIteration:"
     ]
    },
    {
     "name": "stdout",
     "output_type": "stream",
     "text": [
      " 3910 | Cost: 21.0587446569\nIteration:"
     ]
    },
    {
     "name": "stdout",
     "output_type": "stream",
     "text": [
      " 3920 | Cost: 17.5983817462\nIteration:"
     ]
    },
    {
     "name": "stdout",
     "output_type": "stream",
     "text": [
      " 3930 | Cost: 21.432595842\nIteration:"
     ]
    },
    {
     "name": "stdout",
     "output_type": "stream",
     "text": [
      " 3940 | Cost: 18.6322294452\nIteration:"
     ]
    },
    {
     "name": "stdout",
     "output_type": "stream",
     "text": [
      " 3950 | Cost: 21.6627146815\nIteration:"
     ]
    },
    {
     "name": "stdout",
     "output_type": "stream",
     "text": [
      " 3960 | Cost: 17.8052063166\nIteration:"
     ]
    },
    {
     "name": "stdout",
     "output_type": "stream",
     "text": [
      " 3970 | Cost: 16.9907927954\nIteration:"
     ]
    },
    {
     "name": "stdout",
     "output_type": "stream",
     "text": [
      " 3980 | Cost: 17.0548587384\nIteration:"
     ]
    },
    {
     "name": "stdout",
     "output_type": "stream",
     "text": [
      " 3990 | Cost: 20.3616668083\nIteration:"
     ]
    },
    {
     "name": "stdout",
     "output_type": "stream",
     "text": [
      " 4000 | Cost: 19.0836758806\nIteration:"
     ]
    },
    {
     "name": "stdout",
     "output_type": "stream",
     "text": [
      " 4010 | Cost: 18.0234715975\nIteration:"
     ]
    },
    {
     "name": "stdout",
     "output_type": "stream",
     "text": [
      " 4020 | Cost: 21.7066240524\nIteration:"
     ]
    },
    {
     "name": "stdout",
     "output_type": "stream",
     "text": [
      " 4030 | Cost: 18.1623283381\nIteration:"
     ]
    },
    {
     "name": "stdout",
     "output_type": "stream",
     "text": [
      " 4040 | Cost: 18.3843222808\nIteration:"
     ]
    },
    {
     "name": "stdout",
     "output_type": "stream",
     "text": [
      " 4050 | Cost: 18.8459258887\nIteration:"
     ]
    },
    {
     "name": "stdout",
     "output_type": "stream",
     "text": [
      " 4060 | Cost: 17.1304358753\nIteration:"
     ]
    },
    {
     "name": "stdout",
     "output_type": "stream",
     "text": [
      " 4070 | Cost: 16.1051926221\nIteration:"
     ]
    },
    {
     "name": "stdout",
     "output_type": "stream",
     "text": [
      " 4080 | Cost: 17.891710555\nIteration:"
     ]
    },
    {
     "name": "stdout",
     "output_type": "stream",
     "text": [
      " 4090 | Cost: 18.4123237475\nIteration:"
     ]
    },
    {
     "name": "stdout",
     "output_type": "stream",
     "text": [
      " 4100 | Cost: 18.8415547702\nIteration:"
     ]
    },
    {
     "name": "stdout",
     "output_type": "stream",
     "text": [
      " 4110 | Cost: 19.078876757\nIteration:"
     ]
    },
    {
     "name": "stdout",
     "output_type": "stream",
     "text": [
      " 4120 | Cost: 17.5051113031\nIteration:"
     ]
    },
    {
     "name": "stdout",
     "output_type": "stream",
     "text": [
      " 4130 | Cost: 16.9609689786\nIteration:"
     ]
    },
    {
     "name": "stdout",
     "output_type": "stream",
     "text": [
      " 4140 | Cost: 21.4310987088\nIteration:"
     ]
    },
    {
     "name": "stdout",
     "output_type": "stream",
     "text": [
      " 4150 | Cost: 19.4740060279\nIteration:"
     ]
    },
    {
     "name": "stdout",
     "output_type": "stream",
     "text": [
      " 4160 | Cost: 18.883725947\nIteration:"
     ]
    },
    {
     "name": "stdout",
     "output_type": "stream",
     "text": [
      " 4170 | Cost: 19.6276002289\nIteration:"
     ]
    },
    {
     "name": "stdout",
     "output_type": "stream",
     "text": [
      " 4180 | Cost: 20.5821192095\nIteration:"
     ]
    },
    {
     "name": "stdout",
     "output_type": "stream",
     "text": [
      " 4190 | Cost: 20.5845333057\nIteration:"
     ]
    },
    {
     "name": "stdout",
     "output_type": "stream",
     "text": [
      " 4200 | Cost: 18.7959138078\nIteration:"
     ]
    },
    {
     "name": "stdout",
     "output_type": "stream",
     "text": [
      " 4210 | Cost: 18.9218803861\nIteration:"
     ]
    },
    {
     "name": "stdout",
     "output_type": "stream",
     "text": [
      " 4220 | Cost: 18.1051667541\nIteration:"
     ]
    },
    {
     "name": "stdout",
     "output_type": "stream",
     "text": [
      " 4230 | Cost: 18.9449965286\nIteration:"
     ]
    },
    {
     "name": "stdout",
     "output_type": "stream",
     "text": [
      " 4240 | Cost: 20.4738088794\nIteration:"
     ]
    },
    {
     "name": "stdout",
     "output_type": "stream",
     "text": [
      " 4250 | Cost: 18.3243697042\nIteration:"
     ]
    },
    {
     "name": "stdout",
     "output_type": "stream",
     "text": [
      " 4260 | Cost: 19.3280626667\nIteration:"
     ]
    },
    {
     "name": "stdout",
     "output_type": "stream",
     "text": [
      " 4270 | Cost: 19.2895667171\nIteration:"
     ]
    },
    {
     "name": "stdout",
     "output_type": "stream",
     "text": [
      " 4280 | Cost: 18.4182810904\nIteration:"
     ]
    },
    {
     "name": "stdout",
     "output_type": "stream",
     "text": [
      " 4290 | Cost: 16.4617637344\nIteration:"
     ]
    },
    {
     "name": "stdout",
     "output_type": "stream",
     "text": [
      " 4300 | Cost: 19.4145336075\nIteration:"
     ]
    },
    {
     "name": "stdout",
     "output_type": "stream",
     "text": [
      " 4310 | Cost: 16.7434828377\nIteration:"
     ]
    },
    {
     "name": "stdout",
     "output_type": "stream",
     "text": [
      " 4320 | Cost: 17.1148249045\nIteration:"
     ]
    },
    {
     "name": "stdout",
     "output_type": "stream",
     "text": [
      " 4330 | Cost: 19.0771555189\nIteration:"
     ]
    },
    {
     "name": "stdout",
     "output_type": "stream",
     "text": [
      " 4340 | Cost: 16.2713136659\nIteration:"
     ]
    },
    {
     "name": "stdout",
     "output_type": "stream",
     "text": [
      " 4350 | Cost: 17.3505372341\nIteration:"
     ]
    },
    {
     "name": "stdout",
     "output_type": "stream",
     "text": [
      " 4360 | Cost: 19.2632658678\nIteration:"
     ]
    },
    {
     "name": "stdout",
     "output_type": "stream",
     "text": [
      " 4370 | Cost: 17.8857204796\nIteration:"
     ]
    },
    {
     "name": "stdout",
     "output_type": "stream",
     "text": [
      " 4380 | Cost: 17.878642167\nIteration:"
     ]
    },
    {
     "name": "stdout",
     "output_type": "stream",
     "text": [
      " 4390 | Cost: 17.3825576563\nIteration:"
     ]
    },
    {
     "name": "stdout",
     "output_type": "stream",
     "text": [
      " 4400 | Cost: 17.1921909292\nIteration:"
     ]
    },
    {
     "name": "stdout",
     "output_type": "stream",
     "text": [
      " 4410 | Cost: 16.6855538318\nIteration:"
     ]
    },
    {
     "name": "stdout",
     "output_type": "stream",
     "text": [
      " 4420 | Cost: 17.182910645\nIteration:"
     ]
    },
    {
     "name": "stdout",
     "output_type": "stream",
     "text": [
      " 4430 | Cost: 17.251850061\nIteration:"
     ]
    },
    {
     "name": "stdout",
     "output_type": "stream",
     "text": [
      " 4440 | Cost: 19.1378209616\nIteration:"
     ]
    },
    {
     "name": "stdout",
     "output_type": "stream",
     "text": [
      " 4450 | Cost: 17.9457693788\nIteration:"
     ]
    },
    {
     "name": "stdout",
     "output_type": "stream",
     "text": [
      " 4460 | Cost: 18.766196091\nIteration:"
     ]
    },
    {
     "name": "stdout",
     "output_type": "stream",
     "text": [
      " 4470 | Cost: 17.2565594655\nIteration:"
     ]
    },
    {
     "name": "stdout",
     "output_type": "stream",
     "text": [
      " 4480 | Cost: 18.7691546463\nIteration:"
     ]
    },
    {
     "name": "stdout",
     "output_type": "stream",
     "text": [
      " 4490 | Cost: 20.0587039556\nIteration:"
     ]
    },
    {
     "name": "stdout",
     "output_type": "stream",
     "text": [
      " 4500 | Cost: 16.1814291212\nIteration:"
     ]
    },
    {
     "name": "stdout",
     "output_type": "stream",
     "text": [
      " 4510 | Cost: 17.023745401\nIteration:"
     ]
    },
    {
     "name": "stdout",
     "output_type": "stream",
     "text": [
      " 4520 | Cost: 17.1623473522\nIteration:"
     ]
    },
    {
     "name": "stdout",
     "output_type": "stream",
     "text": [
      " 4530 | Cost: 16.6933732249\nIteration:"
     ]
    },
    {
     "name": "stdout",
     "output_type": "stream",
     "text": [
      " 4540 | Cost: 18.5001670945\nIteration:"
     ]
    },
    {
     "name": "stdout",
     "output_type": "stream",
     "text": [
      " 4550 | Cost: 17.5564231168\nIteration:"
     ]
    },
    {
     "name": "stdout",
     "output_type": "stream",
     "text": [
      " 4560 | Cost: 18.0498659224\nIteration:"
     ]
    },
    {
     "name": "stdout",
     "output_type": "stream",
     "text": [
      " 4570 | Cost: 16.3641387885\nIteration:"
     ]
    },
    {
     "name": "stdout",
     "output_type": "stream",
     "text": [
      " 4580 | Cost: 16.5667717881\nIteration:"
     ]
    },
    {
     "name": "stdout",
     "output_type": "stream",
     "text": [
      " 4590 | Cost: 18.6179068795\nIteration:"
     ]
    },
    {
     "name": "stdout",
     "output_type": "stream",
     "text": [
      " 4600 | Cost: 19.8364442759\nIteration:"
     ]
    },
    {
     "name": "stdout",
     "output_type": "stream",
     "text": [
      " 4610 | Cost: 16.4277488291\nIteration:"
     ]
    },
    {
     "name": "stdout",
     "output_type": "stream",
     "text": [
      " 4620 | Cost: 17.932501464\nIteration:"
     ]
    },
    {
     "name": "stdout",
     "output_type": "stream",
     "text": [
      " 4630 | Cost: 16.7845021899\nIteration:"
     ]
    },
    {
     "name": "stdout",
     "output_type": "stream",
     "text": [
      " 4640 | Cost: 20.8400077442\nIteration:"
     ]
    },
    {
     "name": "stdout",
     "output_type": "stream",
     "text": [
      " 4650 | Cost: 14.6915055177\nIteration:"
     ]
    },
    {
     "name": "stdout",
     "output_type": "stream",
     "text": [
      " 4660 | Cost: 17.9256241517\nIteration:"
     ]
    },
    {
     "name": "stdout",
     "output_type": "stream",
     "text": [
      " 4670 | Cost: 16.0680520836\nIteration:"
     ]
    },
    {
     "name": "stdout",
     "output_type": "stream",
     "text": [
      " 4680 | Cost: 16.9248494233\nIteration:"
     ]
    },
    {
     "name": "stdout",
     "output_type": "stream",
     "text": [
      " 4690 | Cost: 16.1792783698\nIteration:"
     ]
    },
    {
     "name": "stdout",
     "output_type": "stream",
     "text": [
      " 4700 | Cost: 17.1729124436\nIteration:"
     ]
    },
    {
     "name": "stdout",
     "output_type": "stream",
     "text": [
      " 4710 | Cost: 19.2398549958\nIteration:"
     ]
    },
    {
     "name": "stdout",
     "output_type": "stream",
     "text": [
      " 4720 | Cost: 16.6000925094\nIteration:"
     ]
    },
    {
     "name": "stdout",
     "output_type": "stream",
     "text": [
      " 4730 | Cost: 21.1815754126\nIteration:"
     ]
    },
    {
     "name": "stdout",
     "output_type": "stream",
     "text": [
      " 4740 | Cost: 19.1712128873\nIteration:"
     ]
    },
    {
     "name": "stdout",
     "output_type": "stream",
     "text": [
      " 4750 | Cost: 16.5650976258\nIteration:"
     ]
    },
    {
     "name": "stdout",
     "output_type": "stream",
     "text": [
      " 4760 | Cost: 19.9953511658\nIteration:"
     ]
    },
    {
     "name": "stdout",
     "output_type": "stream",
     "text": [
      " 4770 | Cost: 19.3514352193\nIteration:"
     ]
    },
    {
     "name": "stdout",
     "output_type": "stream",
     "text": [
      " 4780 | Cost: 16.1243686266\nIteration:"
     ]
    },
    {
     "name": "stdout",
     "output_type": "stream",
     "text": [
      " 4790 | Cost: 19.707408112\nIteration:"
     ]
    },
    {
     "name": "stdout",
     "output_type": "stream",
     "text": [
      " 4800 | Cost: 17.8534922473\nIteration:"
     ]
    },
    {
     "name": "stdout",
     "output_type": "stream",
     "text": [
      " 4810 | Cost: 15.8649712138\nIteration:"
     ]
    },
    {
     "name": "stdout",
     "output_type": "stream",
     "text": [
      " 4820 | Cost: 18.9400063986\nIteration:"
     ]
    },
    {
     "name": "stdout",
     "output_type": "stream",
     "text": [
      " 4830 | Cost: 16.1656707099\nIteration:"
     ]
    },
    {
     "name": "stdout",
     "output_type": "stream",
     "text": [
      " 4840 | Cost: 15.2101335326\nIteration:"
     ]
    },
    {
     "name": "stdout",
     "output_type": "stream",
     "text": [
      " 4850 | Cost: 20.4188445287\nIteration:"
     ]
    },
    {
     "name": "stdout",
     "output_type": "stream",
     "text": [
      " 4860 | Cost: 18.3319401652\nIteration:"
     ]
    },
    {
     "name": "stdout",
     "output_type": "stream",
     "text": [
      " 4870 | Cost: 17.640808168\nIteration:"
     ]
    },
    {
     "name": "stdout",
     "output_type": "stream",
     "text": [
      " 4880 | Cost: 17.9556621969\nIteration:"
     ]
    },
    {
     "name": "stdout",
     "output_type": "stream",
     "text": [
      " 4890 | Cost: 18.7505713515\nIteration:"
     ]
    },
    {
     "name": "stdout",
     "output_type": "stream",
     "text": [
      " 4900 | Cost: 16.3464693916\nIteration:"
     ]
    },
    {
     "name": "stdout",
     "output_type": "stream",
     "text": [
      " 4910 | Cost: 15.9790413596\nIteration:"
     ]
    },
    {
     "name": "stdout",
     "output_type": "stream",
     "text": [
      " 4920 | Cost: 18.475638176\nIteration:"
     ]
    },
    {
     "name": "stdout",
     "output_type": "stream",
     "text": [
      " 4930 | Cost: 17.6277646721\nIteration:"
     ]
    },
    {
     "name": "stdout",
     "output_type": "stream",
     "text": [
      " 4940 | Cost: 20.5553682354\nIteration:"
     ]
    },
    {
     "name": "stdout",
     "output_type": "stream",
     "text": [
      " 4950 | Cost: 19.280541609\nIteration:"
     ]
    },
    {
     "name": "stdout",
     "output_type": "stream",
     "text": [
      " 4960 | Cost: 16.0606972716\nIteration:"
     ]
    },
    {
     "name": "stdout",
     "output_type": "stream",
     "text": [
      " 4970 | Cost: 17.2169902078\nIteration:"
     ]
    },
    {
     "name": "stdout",
     "output_type": "stream",
     "text": [
      " 4980 | Cost: 17.2975940073\nIteration:"
     ]
    },
    {
     "name": "stdout",
     "output_type": "stream",
     "text": [
      " 4990 | Cost: 18.3202923383\nIteration:"
     ]
    },
    {
     "name": "stdout",
     "output_type": "stream",
     "text": [
      " 5000 | Cost: 16.5527199487\nIteration:"
     ]
    },
    {
     "name": "stdout",
     "output_type": "stream",
     "text": [
      " 5010 | Cost: 19.8033767216\nIteration:"
     ]
    },
    {
     "name": "stdout",
     "output_type": "stream",
     "text": [
      " 5020 | Cost: 15.7983617079\nIteration:"
     ]
    },
    {
     "name": "stdout",
     "output_type": "stream",
     "text": [
      " 5030 | Cost: 17.5376769586\nIteration:"
     ]
    },
    {
     "name": "stdout",
     "output_type": "stream",
     "text": [
      " 5040 | Cost: 19.5930780963\nIteration:"
     ]
    },
    {
     "name": "stdout",
     "output_type": "stream",
     "text": [
      " 5050 | Cost: 16.4820727587\nIteration:"
     ]
    },
    {
     "name": "stdout",
     "output_type": "stream",
     "text": [
      " 5060 | Cost: 16.2675047446\nIteration:"
     ]
    },
    {
     "name": "stdout",
     "output_type": "stream",
     "text": [
      " 5070 | Cost: 19.098234964\nIteration:"
     ]
    },
    {
     "name": "stdout",
     "output_type": "stream",
     "text": [
      " 5080 | Cost: 15.7243350083\nIteration:"
     ]
    },
    {
     "name": "stdout",
     "output_type": "stream",
     "text": [
      " 5090 | Cost: 18.0721884568\nIteration:"
     ]
    },
    {
     "name": "stdout",
     "output_type": "stream",
     "text": [
      " 5100 | Cost: 16.9735316865\nIteration:"
     ]
    },
    {
     "name": "stdout",
     "output_type": "stream",
     "text": [
      " 5110 | Cost: 17.1054697206\nIteration:"
     ]
    },
    {
     "name": "stdout",
     "output_type": "stream",
     "text": [
      " 5120 | Cost: 14.646144528\nIteration:"
     ]
    },
    {
     "name": "stdout",
     "output_type": "stream",
     "text": [
      " 5130 | Cost: 18.4500901353\nIteration:"
     ]
    },
    {
     "name": "stdout",
     "output_type": "stream",
     "text": [
      " 5140 | Cost: 15.2589199312\nIteration:"
     ]
    },
    {
     "name": "stdout",
     "output_type": "stream",
     "text": [
      " 5150 | Cost: 15.8158677564\nIteration:"
     ]
    },
    {
     "name": "stdout",
     "output_type": "stream",
     "text": [
      " 5160 | Cost: 17.3547788562\nIteration:"
     ]
    },
    {
     "name": "stdout",
     "output_type": "stream",
     "text": [
      " 5170 | Cost: 15.6425947772\nIteration:"
     ]
    },
    {
     "name": "stdout",
     "output_type": "stream",
     "text": [
      " 5180 | Cost: 18.5378694756\nIteration:"
     ]
    },
    {
     "name": "stdout",
     "output_type": "stream",
     "text": [
      " 5190 | Cost: 17.0304075577\nIteration:"
     ]
    },
    {
     "name": "stdout",
     "output_type": "stream",
     "text": [
      " 5200 | Cost: 20.7149421784\nIteration:"
     ]
    },
    {
     "name": "stdout",
     "output_type": "stream",
     "text": [
      " 5210 | Cost: 17.7481314946\nIteration:"
     ]
    },
    {
     "name": "stdout",
     "output_type": "stream",
     "text": [
      " 5220 | Cost: 18.9422053962\nIteration:"
     ]
    },
    {
     "name": "stdout",
     "output_type": "stream",
     "text": [
      " 5230 | Cost: 17.4367846897\nIteration:"
     ]
    },
    {
     "name": "stdout",
     "output_type": "stream",
     "text": [
      " 5240 | Cost: 16.9483191093\nIteration:"
     ]
    },
    {
     "name": "stdout",
     "output_type": "stream",
     "text": [
      " 5250 | Cost: 15.8287010753\nIteration:"
     ]
    },
    {
     "name": "stdout",
     "output_type": "stream",
     "text": [
      " 5260 | Cost: 17.6680958325\nIteration:"
     ]
    },
    {
     "name": "stdout",
     "output_type": "stream",
     "text": [
      " 5270 | Cost: 16.0709183323\nIteration:"
     ]
    },
    {
     "name": "stdout",
     "output_type": "stream",
     "text": [
      " 5280 | Cost: 17.6464738694\nIteration:"
     ]
    },
    {
     "name": "stdout",
     "output_type": "stream",
     "text": [
      " 5290 | Cost: 14.9571356405\nIteration:"
     ]
    },
    {
     "name": "stdout",
     "output_type": "stream",
     "text": [
      " 5300 | Cost: 16.6984442564\nIteration:"
     ]
    },
    {
     "name": "stdout",
     "output_type": "stream",
     "text": [
      " 5310 | Cost: 18.0408363209\nIteration:"
     ]
    },
    {
     "name": "stdout",
     "output_type": "stream",
     "text": [
      " 5320 | Cost: 16.9723850292\nIteration:"
     ]
    },
    {
     "name": "stdout",
     "output_type": "stream",
     "text": [
      " 5330 | Cost: 16.8464544429\nIteration:"
     ]
    },
    {
     "name": "stdout",
     "output_type": "stream",
     "text": [
      " 5340 | Cost: 16.2972846482\nIteration:"
     ]
    },
    {
     "name": "stdout",
     "output_type": "stream",
     "text": [
      " 5350 | Cost: 15.4078096357\nIteration:"
     ]
    },
    {
     "name": "stdout",
     "output_type": "stream",
     "text": [
      " 5360 | Cost: 19.377125804\nIteration:"
     ]
    },
    {
     "name": "stdout",
     "output_type": "stream",
     "text": [
      " 5370 | Cost: 17.0801876584\nIteration:"
     ]
    },
    {
     "name": "stdout",
     "output_type": "stream",
     "text": [
      " 5380 | Cost: 15.1551763967\nIteration:"
     ]
    },
    {
     "name": "stdout",
     "output_type": "stream",
     "text": [
      " 5390 | Cost: 15.4152701235\nIteration:"
     ]
    },
    {
     "name": "stdout",
     "output_type": "stream",
     "text": [
      " 5400 | Cost: 17.2808671934\nIteration:"
     ]
    },
    {
     "name": "stdout",
     "output_type": "stream",
     "text": [
      " 5410 | Cost: 16.9210726356\nIteration:"
     ]
    },
    {
     "name": "stdout",
     "output_type": "stream",
     "text": [
      " 5420 | Cost: 14.0665395001\nIteration:"
     ]
    },
    {
     "name": "stdout",
     "output_type": "stream",
     "text": [
      " 5430 | Cost: 17.0632053108\nIteration:"
     ]
    },
    {
     "name": "stdout",
     "output_type": "stream",
     "text": [
      " 5440 | Cost: 17.3340150508\nIteration:"
     ]
    },
    {
     "name": "stdout",
     "output_type": "stream",
     "text": [
      " 5450 | Cost: 17.3156035344\nIteration:"
     ]
    },
    {
     "name": "stdout",
     "output_type": "stream",
     "text": [
      " 5460 | Cost: 18.248316546\nIteration:"
     ]
    },
    {
     "name": "stdout",
     "output_type": "stream",
     "text": [
      " 5470 | Cost: 17.2538144351\nIteration:"
     ]
    },
    {
     "name": "stdout",
     "output_type": "stream",
     "text": [
      " 5480 | Cost: 17.740262596\nIteration:"
     ]
    },
    {
     "name": "stdout",
     "output_type": "stream",
     "text": [
      " 5490 | Cost: 17.158599538\nIteration:"
     ]
    },
    {
     "name": "stdout",
     "output_type": "stream",
     "text": [
      " 5500 | Cost: 16.1102552015\nIteration:"
     ]
    },
    {
     "name": "stdout",
     "output_type": "stream",
     "text": [
      " 5510 | Cost: 16.0385614189\nIteration:"
     ]
    },
    {
     "name": "stdout",
     "output_type": "stream",
     "text": [
      " 5520 | Cost: 17.4442666546\nIteration:"
     ]
    },
    {
     "name": "stdout",
     "output_type": "stream",
     "text": [
      " 5530 | Cost: 15.5799087292\nIteration:"
     ]
    },
    {
     "name": "stdout",
     "output_type": "stream",
     "text": [
      " 5540 | Cost: 16.8059988311\nIteration:"
     ]
    },
    {
     "name": "stdout",
     "output_type": "stream",
     "text": [
      " 5550 | Cost: 17.4442840785\nIteration:"
     ]
    },
    {
     "name": "stdout",
     "output_type": "stream",
     "text": [
      " 5560 | Cost: 16.9373441073\nIteration:"
     ]
    },
    {
     "name": "stdout",
     "output_type": "stream",
     "text": [
      " 5570 | Cost: 16.6588834271\nIteration:"
     ]
    },
    {
     "name": "stdout",
     "output_type": "stream",
     "text": [
      " 5580 | Cost: 18.2351038871\nIteration:"
     ]
    },
    {
     "name": "stdout",
     "output_type": "stream",
     "text": [
      " 5590 | Cost: 14.8540028629\nIteration:"
     ]
    },
    {
     "name": "stdout",
     "output_type": "stream",
     "text": [
      " 5600 | Cost: 15.8794794538\nIteration:"
     ]
    },
    {
     "name": "stdout",
     "output_type": "stream",
     "text": [
      " 5610 | Cost: 14.4868763613\nIteration:"
     ]
    },
    {
     "name": "stdout",
     "output_type": "stream",
     "text": [
      " 5620 | Cost: 18.3647626657\nIteration:"
     ]
    },
    {
     "name": "stdout",
     "output_type": "stream",
     "text": [
      " 5630 | Cost: 14.7253646909\nIteration:"
     ]
    },
    {
     "name": "stdout",
     "output_type": "stream",
     "text": [
      " 5640 | Cost: 17.3582242589\nIteration:"
     ]
    },
    {
     "name": "stdout",
     "output_type": "stream",
     "text": [
      " 5650 | Cost: 15.1334175636\nIteration:"
     ]
    },
    {
     "name": "stdout",
     "output_type": "stream",
     "text": [
      " 5660 | Cost: 18.461182905\nIteration:"
     ]
    },
    {
     "name": "stdout",
     "output_type": "stream",
     "text": [
      " 5670 | Cost: 19.2219129447\nIteration:"
     ]
    },
    {
     "name": "stdout",
     "output_type": "stream",
     "text": [
      " 5680 | Cost: 17.2894349953\nIteration:"
     ]
    },
    {
     "name": "stdout",
     "output_type": "stream",
     "text": [
      " 5690 | Cost: 16.9677026297\nIteration:"
     ]
    },
    {
     "name": "stdout",
     "output_type": "stream",
     "text": [
      " 5700 | Cost: 15.7061656768\nIteration:"
     ]
    },
    {
     "name": "stdout",
     "output_type": "stream",
     "text": [
      " 5710 | Cost: 16.6315866046\nIteration:"
     ]
    },
    {
     "name": "stdout",
     "output_type": "stream",
     "text": [
      " 5720 | Cost: 16.5861891391\nIteration:"
     ]
    },
    {
     "name": "stdout",
     "output_type": "stream",
     "text": [
      " 5730 | Cost: 18.987788576\nIteration:"
     ]
    },
    {
     "name": "stdout",
     "output_type": "stream",
     "text": [
      " 5740 | Cost: 14.7731020972\nIteration:"
     ]
    },
    {
     "name": "stdout",
     "output_type": "stream",
     "text": [
      " 5750 | Cost: 16.6087997885\nIteration:"
     ]
    },
    {
     "name": "stdout",
     "output_type": "stream",
     "text": [
      " 5760 | Cost: 18.1658852881\nIteration:"
     ]
    },
    {
     "name": "stdout",
     "output_type": "stream",
     "text": [
      " 5770 | Cost: 18.5754601481\nIteration:"
     ]
    },
    {
     "name": "stdout",
     "output_type": "stream",
     "text": [
      " 5780 | Cost: 14.5412873081\nIteration:"
     ]
    },
    {
     "name": "stdout",
     "output_type": "stream",
     "text": [
      " 5790 | Cost: 19.5619709225\nIteration:"
     ]
    },
    {
     "name": "stdout",
     "output_type": "stream",
     "text": [
      " 5800 | Cost: 17.1613653869\nIteration:"
     ]
    },
    {
     "name": "stdout",
     "output_type": "stream",
     "text": [
      " 5810 | Cost: 18.7472066002\nIteration:"
     ]
    },
    {
     "name": "stdout",
     "output_type": "stream",
     "text": [
      " 5820 | Cost: 15.5154857473\nIteration:"
     ]
    },
    {
     "name": "stdout",
     "output_type": "stream",
     "text": [
      " 5830 | Cost: 16.3695130492\nIteration:"
     ]
    },
    {
     "name": "stdout",
     "output_type": "stream",
     "text": [
      " 5840 | Cost: 17.8773235427\nIteration:"
     ]
    },
    {
     "name": "stdout",
     "output_type": "stream",
     "text": [
      " 5850 | Cost: 16.8755530777\nIteration:"
     ]
    },
    {
     "name": "stdout",
     "output_type": "stream",
     "text": [
      " 5860 | Cost: 16.4923612891\nIteration:"
     ]
    },
    {
     "name": "stdout",
     "output_type": "stream",
     "text": [
      " 5870 | Cost: 16.2840352597\nIteration:"
     ]
    },
    {
     "name": "stdout",
     "output_type": "stream",
     "text": [
      " 5880 | Cost: 16.2079411525\nIteration:"
     ]
    },
    {
     "name": "stdout",
     "output_type": "stream",
     "text": [
      " 5890 | Cost: 16.6057951412\nIteration:"
     ]
    },
    {
     "name": "stdout",
     "output_type": "stream",
     "text": [
      " 5900 | Cost: 13.8115711653\nIteration:"
     ]
    },
    {
     "name": "stdout",
     "output_type": "stream",
     "text": [
      " 5910 | Cost: 14.1734038966\nIteration:"
     ]
    },
    {
     "name": "stdout",
     "output_type": "stream",
     "text": [
      " 5920 | Cost: 13.7063008145\nIteration:"
     ]
    },
    {
     "name": "stdout",
     "output_type": "stream",
     "text": [
      " 5930 | Cost: 19.4886570182\nIteration:"
     ]
    },
    {
     "name": "stdout",
     "output_type": "stream",
     "text": [
      " 5940 | Cost: 16.3654390313\nIteration:"
     ]
    },
    {
     "name": "stdout",
     "output_type": "stream",
     "text": [
      " 5950 | Cost: 17.1006438615\nIteration:"
     ]
    },
    {
     "name": "stdout",
     "output_type": "stream",
     "text": [
      " 5960 | Cost: 17.1529084498\nIteration:"
     ]
    },
    {
     "name": "stdout",
     "output_type": "stream",
     "text": [
      " 5970 | Cost: 18.6477417155\nIteration:"
     ]
    },
    {
     "name": "stdout",
     "output_type": "stream",
     "text": [
      " 5980 | Cost: 18.2290985525\nIteration:"
     ]
    },
    {
     "name": "stdout",
     "output_type": "stream",
     "text": [
      " 5990 | Cost: 16.6050701551\nIteration:"
     ]
    },
    {
     "name": "stdout",
     "output_type": "stream",
     "text": [
      " 6000 | Cost: 15.1631018687\nIteration:"
     ]
    },
    {
     "name": "stdout",
     "output_type": "stream",
     "text": [
      " 6010 | Cost: 15.4492841676\nIteration:"
     ]
    },
    {
     "name": "stdout",
     "output_type": "stream",
     "text": [
      " 6020 | Cost: 17.5911913735\nIteration:"
     ]
    },
    {
     "name": "stdout",
     "output_type": "stream",
     "text": [
      " 6030 | Cost: 12.4156353505\nIteration:"
     ]
    },
    {
     "name": "stdout",
     "output_type": "stream",
     "text": [
      " 6040 | Cost: 14.717412667\nIteration:"
     ]
    },
    {
     "name": "stdout",
     "output_type": "stream",
     "text": [
      " 6050 | Cost: 16.7272314585\nIteration:"
     ]
    },
    {
     "name": "stdout",
     "output_type": "stream",
     "text": [
      " 6060 | Cost: 18.3198493092\nIteration:"
     ]
    },
    {
     "name": "stdout",
     "output_type": "stream",
     "text": [
      " 6070 | Cost: 15.8124914059\nIteration:"
     ]
    },
    {
     "name": "stdout",
     "output_type": "stream",
     "text": [
      " 6080 | Cost: 16.3605706534\nIteration:"
     ]
    },
    {
     "name": "stdout",
     "output_type": "stream",
     "text": [
      " 6090 | Cost: 15.469206952\nIteration:"
     ]
    },
    {
     "name": "stdout",
     "output_type": "stream",
     "text": [
      " 6100 | Cost: 17.468854701\nIteration:"
     ]
    },
    {
     "name": "stdout",
     "output_type": "stream",
     "text": [
      " 6110 | Cost: 16.3992683668\nIteration:"
     ]
    },
    {
     "name": "stdout",
     "output_type": "stream",
     "text": [
      " 6120 | Cost: 14.2520983636\nIteration:"
     ]
    },
    {
     "name": "stdout",
     "output_type": "stream",
     "text": [
      " 6130 | Cost: 16.9991078892\nIteration:"
     ]
    },
    {
     "name": "stdout",
     "output_type": "stream",
     "text": [
      " 6140 | Cost: 14.3559554005\nIteration:"
     ]
    },
    {
     "name": "stdout",
     "output_type": "stream",
     "text": [
      " 6150 | Cost: 15.1305936035\nIteration:"
     ]
    },
    {
     "name": "stdout",
     "output_type": "stream",
     "text": [
      " 6160 | Cost: 17.0360507164\nIteration:"
     ]
    },
    {
     "name": "stdout",
     "output_type": "stream",
     "text": [
      " 6170 | Cost: 16.6346721068\nIteration:"
     ]
    },
    {
     "name": "stdout",
     "output_type": "stream",
     "text": [
      " 6180 | Cost: 13.8939020781\nIteration:"
     ]
    },
    {
     "name": "stdout",
     "output_type": "stream",
     "text": [
      " 6190 | Cost: 16.089087806\nIteration:"
     ]
    },
    {
     "name": "stdout",
     "output_type": "stream",
     "text": [
      " 6200 | Cost: 12.6347835415\nIteration:"
     ]
    },
    {
     "name": "stdout",
     "output_type": "stream",
     "text": [
      " 6210 | Cost: 18.1590989148\nIteration:"
     ]
    },
    {
     "name": "stdout",
     "output_type": "stream",
     "text": [
      " 6220 | Cost: 16.9421501842\nIteration:"
     ]
    },
    {
     "name": "stdout",
     "output_type": "stream",
     "text": [
      " 6230 | Cost: 15.1791552714\nIteration:"
     ]
    },
    {
     "name": "stdout",
     "output_type": "stream",
     "text": [
      " 6240 | Cost: 14.9241109144\nIteration:"
     ]
    },
    {
     "name": "stdout",
     "output_type": "stream",
     "text": [
      " 6250 | Cost: 16.449621513\nIteration:"
     ]
    },
    {
     "name": "stdout",
     "output_type": "stream",
     "text": [
      " 6260 | Cost: 15.8458680729\nIteration:"
     ]
    },
    {
     "name": "stdout",
     "output_type": "stream",
     "text": [
      " 6270 | Cost: 14.4954444301\nIteration:"
     ]
    },
    {
     "name": "stdout",
     "output_type": "stream",
     "text": [
      " 6280 | Cost: 14.7344736885\nIteration:"
     ]
    },
    {
     "name": "stdout",
     "output_type": "stream",
     "text": [
      " 6290 | Cost: 17.0343177915\nIteration:"
     ]
    },
    {
     "name": "stdout",
     "output_type": "stream",
     "text": [
      " 6300 | Cost: 15.3330542541\nIteration:"
     ]
    },
    {
     "name": "stdout",
     "output_type": "stream",
     "text": [
      " 6310 | Cost: 17.1872075643\nIteration:"
     ]
    },
    {
     "name": "stdout",
     "output_type": "stream",
     "text": [
      " 6320 | Cost: 16.4248362123\nIteration:"
     ]
    },
    {
     "name": "stdout",
     "output_type": "stream",
     "text": [
      " 6330 | Cost: 14.866877781\nIteration:"
     ]
    },
    {
     "name": "stdout",
     "output_type": "stream",
     "text": [
      " 6340 | Cost: 16.1173799821\nIteration:"
     ]
    },
    {
     "name": "stdout",
     "output_type": "stream",
     "text": [
      " 6350 | Cost: 16.9399894504\nIteration:"
     ]
    },
    {
     "name": "stdout",
     "output_type": "stream",
     "text": [
      " 6360 | Cost: 16.5026299609\nIteration:"
     ]
    },
    {
     "name": "stdout",
     "output_type": "stream",
     "text": [
      " 6370 | Cost: 16.0176151969\nIteration:"
     ]
    },
    {
     "name": "stdout",
     "output_type": "stream",
     "text": [
      " 6380 | Cost: 17.586925673\nIteration:"
     ]
    },
    {
     "name": "stdout",
     "output_type": "stream",
     "text": [
      " 6390 | Cost: 16.368505426\nIteration:"
     ]
    },
    {
     "name": "stdout",
     "output_type": "stream",
     "text": [
      " 6400 | Cost: 15.4228223225\nIteration:"
     ]
    },
    {
     "name": "stdout",
     "output_type": "stream",
     "text": [
      " 6410 | Cost: 16.1972174359\nIteration:"
     ]
    },
    {
     "name": "stdout",
     "output_type": "stream",
     "text": [
      " 6420 | Cost: 15.518536004\nIteration:"
     ]
    },
    {
     "name": "stdout",
     "output_type": "stream",
     "text": [
      " 6430 | Cost: 15.1501758635\nIteration:"
     ]
    },
    {
     "name": "stdout",
     "output_type": "stream",
     "text": [
      " 6440 | Cost: 18.0866541194\nIteration:"
     ]
    },
    {
     "name": "stdout",
     "output_type": "stream",
     "text": [
      " 6450 | Cost: 15.3201406282\nIteration:"
     ]
    },
    {
     "name": "stdout",
     "output_type": "stream",
     "text": [
      " 6460 | Cost: 15.6449103223\nIteration:"
     ]
    },
    {
     "name": "stdout",
     "output_type": "stream",
     "text": [
      " 6470 | Cost: 14.9574387341\nIteration:"
     ]
    },
    {
     "name": "stdout",
     "output_type": "stream",
     "text": [
      " 6480 | Cost: 13.7497032135\nIteration:"
     ]
    },
    {
     "name": "stdout",
     "output_type": "stream",
     "text": [
      " 6490 | Cost: 15.8684134731\nIteration:"
     ]
    },
    {
     "name": "stdout",
     "output_type": "stream",
     "text": [
      " 6500 | Cost: 15.3122561161\nIteration:"
     ]
    },
    {
     "name": "stdout",
     "output_type": "stream",
     "text": [
      " 6510 | Cost: 16.4674227056\nIteration:"
     ]
    },
    {
     "name": "stdout",
     "output_type": "stream",
     "text": [
      " 6520 | Cost: 16.3344155567\nIteration:"
     ]
    },
    {
     "name": "stdout",
     "output_type": "stream",
     "text": [
      " 6530 | Cost: 15.9174359779\nIteration:"
     ]
    },
    {
     "name": "stdout",
     "output_type": "stream",
     "text": [
      " 6540 | Cost: 16.8036649631\nIteration:"
     ]
    },
    {
     "name": "stdout",
     "output_type": "stream",
     "text": [
      " 6550 | Cost: 15.2673065603\nIteration:"
     ]
    },
    {
     "name": "stdout",
     "output_type": "stream",
     "text": [
      " 6560 | Cost: 14.6362105871\nIteration:"
     ]
    },
    {
     "name": "stdout",
     "output_type": "stream",
     "text": [
      " 6570 | Cost: 15.5903756226\nIteration:"
     ]
    },
    {
     "name": "stdout",
     "output_type": "stream",
     "text": [
      " 6580 | Cost: 16.2237073862\nIteration:"
     ]
    },
    {
     "name": "stdout",
     "output_type": "stream",
     "text": [
      " 6590 | Cost: 15.5615137192\nIteration:"
     ]
    },
    {
     "name": "stdout",
     "output_type": "stream",
     "text": [
      " 6600 | Cost: 15.2889121593\nIteration:"
     ]
    },
    {
     "name": "stdout",
     "output_type": "stream",
     "text": [
      " 6610 | Cost: 15.1747531105\nIteration:"
     ]
    },
    {
     "name": "stdout",
     "output_type": "stream",
     "text": [
      " 6620 | Cost: 16.4858686678\nIteration:"
     ]
    },
    {
     "name": "stdout",
     "output_type": "stream",
     "text": [
      " 6630 | Cost: 13.9944644303\nIteration:"
     ]
    },
    {
     "name": "stdout",
     "output_type": "stream",
     "text": [
      " 6640 | Cost: 17.2919874837\nIteration:"
     ]
    },
    {
     "name": "stdout",
     "output_type": "stream",
     "text": [
      " 6650 | Cost: 14.2141075224\nIteration:"
     ]
    },
    {
     "name": "stdout",
     "output_type": "stream",
     "text": [
      " 6660 | Cost: 16.0814612566\nIteration:"
     ]
    },
    {
     "name": "stdout",
     "output_type": "stream",
     "text": [
      " 6670 | Cost: 14.3221979328\nIteration:"
     ]
    },
    {
     "name": "stdout",
     "output_type": "stream",
     "text": [
      " 6680 | Cost: 17.7393803026\nIteration:"
     ]
    },
    {
     "name": "stdout",
     "output_type": "stream",
     "text": [
      " 6690 | Cost: 19.0629310615\nIteration:"
     ]
    },
    {
     "name": "stdout",
     "output_type": "stream",
     "text": [
      " 6700 | Cost: 13.6437487277\nIteration:"
     ]
    },
    {
     "name": "stdout",
     "output_type": "stream",
     "text": [
      " 6710 | Cost: 17.8020445247\nIteration:"
     ]
    },
    {
     "name": "stdout",
     "output_type": "stream",
     "text": [
      " 6720 | Cost: 14.4395589909\nIteration:"
     ]
    },
    {
     "name": "stdout",
     "output_type": "stream",
     "text": [
      " 6730 | Cost: 14.071796667\nIteration:"
     ]
    },
    {
     "name": "stdout",
     "output_type": "stream",
     "text": [
      " 6740 | Cost: 15.4434338502\nIteration:"
     ]
    },
    {
     "name": "stdout",
     "output_type": "stream",
     "text": [
      " 6750 | Cost: 16.0509109318\nIteration:"
     ]
    },
    {
     "name": "stdout",
     "output_type": "stream",
     "text": [
      " 6760 | Cost: 16.8801537572\nIteration:"
     ]
    },
    {
     "name": "stdout",
     "output_type": "stream",
     "text": [
      " 6770 | Cost: 14.3044176463\nIteration:"
     ]
    },
    {
     "name": "stdout",
     "output_type": "stream",
     "text": [
      " 6780 | Cost: 16.1450846341\nIteration:"
     ]
    },
    {
     "name": "stdout",
     "output_type": "stream",
     "text": [
      " 6790 | Cost: 13.2035687061\nIteration:"
     ]
    },
    {
     "name": "stdout",
     "output_type": "stream",
     "text": [
      " 6800 | Cost: 14.4649907429\nIteration:"
     ]
    },
    {
     "name": "stdout",
     "output_type": "stream",
     "text": [
      " 6810 | Cost: 13.3481216571\nIteration:"
     ]
    },
    {
     "name": "stdout",
     "output_type": "stream",
     "text": [
      " 6820 | Cost: 16.9692226913\nIteration:"
     ]
    },
    {
     "name": "stdout",
     "output_type": "stream",
     "text": [
      " 6830 | Cost: 13.4816584796\nIteration:"
     ]
    },
    {
     "name": "stdout",
     "output_type": "stream",
     "text": [
      " 6840 | Cost: 14.9467523758\nIteration:"
     ]
    },
    {
     "name": "stdout",
     "output_type": "stream",
     "text": [
      " 6850 | Cost: 14.5530645838\nIteration:"
     ]
    },
    {
     "name": "stdout",
     "output_type": "stream",
     "text": [
      " 6860 | Cost: 13.7443201759\nIteration:"
     ]
    },
    {
     "name": "stdout",
     "output_type": "stream",
     "text": [
      " 6870 | Cost: 14.6111346328\nIteration:"
     ]
    },
    {
     "name": "stdout",
     "output_type": "stream",
     "text": [
      " 6880 | Cost: 14.7745154763\nIteration:"
     ]
    },
    {
     "name": "stdout",
     "output_type": "stream",
     "text": [
      " 6890 | Cost: 13.6480332218\nIteration:"
     ]
    },
    {
     "name": "stdout",
     "output_type": "stream",
     "text": [
      " 6900 | Cost: 16.6366965103\nIteration:"
     ]
    },
    {
     "name": "stdout",
     "output_type": "stream",
     "text": [
      " 6910 | Cost: 15.5811195531\nIteration:"
     ]
    },
    {
     "name": "stdout",
     "output_type": "stream",
     "text": [
      " 6920 | Cost: 15.3970152784\nIteration:"
     ]
    },
    {
     "name": "stdout",
     "output_type": "stream",
     "text": [
      " 6930 | Cost: 13.1854247666\nIteration:"
     ]
    },
    {
     "name": "stdout",
     "output_type": "stream",
     "text": [
      " 6940 | Cost: 14.8862090718\nIteration:"
     ]
    },
    {
     "name": "stdout",
     "output_type": "stream",
     "text": [
      " 6950 | Cost: 17.1051067792\nIteration:"
     ]
    },
    {
     "name": "stdout",
     "output_type": "stream",
     "text": [
      " 6960 | Cost: 16.831945514\nIteration:"
     ]
    },
    {
     "name": "stdout",
     "output_type": "stream",
     "text": [
      " 6970 | Cost: 16.5092021772\nIteration:"
     ]
    },
    {
     "name": "stdout",
     "output_type": "stream",
     "text": [
      " 6980 | Cost: 14.0228135307\nIteration:"
     ]
    },
    {
     "name": "stdout",
     "output_type": "stream",
     "text": [
      " 6990 | Cost: 15.3525167853\nIteration:"
     ]
    },
    {
     "name": "stdout",
     "output_type": "stream",
     "text": [
      " 7000 | Cost: 14.2160637059\nIteration:"
     ]
    },
    {
     "name": "stdout",
     "output_type": "stream",
     "text": [
      " 7010 | Cost: 14.5719692583\nIteration:"
     ]
    },
    {
     "name": "stdout",
     "output_type": "stream",
     "text": [
      " 7020 | Cost: 14.0768269177\nIteration:"
     ]
    },
    {
     "name": "stdout",
     "output_type": "stream",
     "text": [
      " 7030 | Cost: 14.5550879435\nIteration:"
     ]
    },
    {
     "name": "stdout",
     "output_type": "stream",
     "text": [
      " 7040 | Cost: 15.0992037631\nIteration:"
     ]
    },
    {
     "name": "stdout",
     "output_type": "stream",
     "text": [
      " 7050 | Cost: 12.8567345642\nIteration:"
     ]
    },
    {
     "name": "stdout",
     "output_type": "stream",
     "text": [
      " 7060 | Cost: 13.3697599208\nIteration:"
     ]
    },
    {
     "name": "stdout",
     "output_type": "stream",
     "text": [
      " 7070 | Cost: 16.9784410922\nIteration:"
     ]
    },
    {
     "name": "stdout",
     "output_type": "stream",
     "text": [
      " 7080 | Cost: 16.4287690042\nIteration:"
     ]
    },
    {
     "name": "stdout",
     "output_type": "stream",
     "text": [
      " 7090 | Cost: 16.4073034514\nIteration:"
     ]
    },
    {
     "name": "stdout",
     "output_type": "stream",
     "text": [
      " 7100 | Cost: 14.9492262321\nIteration:"
     ]
    },
    {
     "name": "stdout",
     "output_type": "stream",
     "text": [
      " 7110 | Cost: 15.2851570276\nIteration:"
     ]
    },
    {
     "name": "stdout",
     "output_type": "stream",
     "text": [
      " 7120 | Cost: 13.9609616786\nIteration:"
     ]
    },
    {
     "name": "stdout",
     "output_type": "stream",
     "text": [
      " 7130 | Cost: 16.3563920176\nIteration:"
     ]
    },
    {
     "name": "stdout",
     "output_type": "stream",
     "text": [
      " 7140 | Cost: 14.733587241\nIteration:"
     ]
    },
    {
     "name": "stdout",
     "output_type": "stream",
     "text": [
      " 7150 | Cost: 14.276668877\nIteration:"
     ]
    },
    {
     "name": "stdout",
     "output_type": "stream",
     "text": [
      " 7160 | Cost: 15.7813922481\nIteration:"
     ]
    },
    {
     "name": "stdout",
     "output_type": "stream",
     "text": [
      " 7170 | Cost: 17.1138075407\nIteration:"
     ]
    },
    {
     "name": "stdout",
     "output_type": "stream",
     "text": [
      " 7180 | Cost: 14.4352810453\nIteration:"
     ]
    },
    {
     "name": "stdout",
     "output_type": "stream",
     "text": [
      " 7190 | Cost: 15.9924368995\nIteration:"
     ]
    },
    {
     "name": "stdout",
     "output_type": "stream",
     "text": [
      " 7200 | Cost: 14.1583792558\nIteration:"
     ]
    },
    {
     "name": "stdout",
     "output_type": "stream",
     "text": [
      " 7210 | Cost: 13.8056759614\nIteration:"
     ]
    },
    {
     "name": "stdout",
     "output_type": "stream",
     "text": [
      " 7220 | Cost: 14.6661763055\nIteration:"
     ]
    },
    {
     "name": "stdout",
     "output_type": "stream",
     "text": [
      " 7230 | Cost: 13.3452125312\nIteration:"
     ]
    },
    {
     "name": "stdout",
     "output_type": "stream",
     "text": [
      " 7240 | Cost: 11.5749690392\nIteration:"
     ]
    },
    {
     "name": "stdout",
     "output_type": "stream",
     "text": [
      " 7250 | Cost: 15.4655403852\nIteration:"
     ]
    },
    {
     "name": "stdout",
     "output_type": "stream",
     "text": [
      " 7260 | Cost: 15.0741515593\nIteration:"
     ]
    },
    {
     "name": "stdout",
     "output_type": "stream",
     "text": [
      " 7270 | Cost: 12.2337820649\nIteration:"
     ]
    },
    {
     "name": "stdout",
     "output_type": "stream",
     "text": [
      " 7280 | Cost: 15.0846608308\nIteration:"
     ]
    },
    {
     "name": "stdout",
     "output_type": "stream",
     "text": [
      " 7290 | Cost: 16.4677157395\nIteration:"
     ]
    },
    {
     "name": "stdout",
     "output_type": "stream",
     "text": [
      " 7300 | Cost: 15.0047577329\nIteration:"
     ]
    },
    {
     "name": "stdout",
     "output_type": "stream",
     "text": [
      " 7310 | Cost: 14.7917132815\nIteration:"
     ]
    },
    {
     "name": "stdout",
     "output_type": "stream",
     "text": [
      " 7320 | Cost: 14.3098233468\nIteration:"
     ]
    },
    {
     "name": "stdout",
     "output_type": "stream",
     "text": [
      " 7330 | Cost: 16.9983546912\nIteration:"
     ]
    },
    {
     "name": "stdout",
     "output_type": "stream",
     "text": [
      " 7340 | Cost: 16.5091256916\nIteration:"
     ]
    },
    {
     "name": "stdout",
     "output_type": "stream",
     "text": [
      " 7350 | Cost: 13.9880621084\nIteration:"
     ]
    },
    {
     "name": "stdout",
     "output_type": "stream",
     "text": [
      " 7360 | Cost: 14.2076057045\nIteration:"
     ]
    },
    {
     "name": "stdout",
     "output_type": "stream",
     "text": [
      " 7370 | Cost: 12.9808415391\nIteration:"
     ]
    },
    {
     "name": "stdout",
     "output_type": "stream",
     "text": [
      " 7380 | Cost: 13.0926262247\nIteration:"
     ]
    },
    {
     "name": "stdout",
     "output_type": "stream",
     "text": [
      " 7390 | Cost: 14.6058144535\nIteration:"
     ]
    },
    {
     "name": "stdout",
     "output_type": "stream",
     "text": [
      " 7400 | Cost: 15.2354115315\nIteration:"
     ]
    },
    {
     "name": "stdout",
     "output_type": "stream",
     "text": [
      " 7410 | Cost: 13.9793896015\nIteration:"
     ]
    },
    {
     "name": "stdout",
     "output_type": "stream",
     "text": [
      " 7420 | Cost: 15.9840083186\nIteration:"
     ]
    },
    {
     "name": "stdout",
     "output_type": "stream",
     "text": [
      " 7430 | Cost: 16.1504418949\nIteration:"
     ]
    },
    {
     "name": "stdout",
     "output_type": "stream",
     "text": [
      " 7440 | Cost: 14.8664934647\nIteration:"
     ]
    },
    {
     "name": "stdout",
     "output_type": "stream",
     "text": [
      " 7450 | Cost: 13.6172306212\nIteration:"
     ]
    },
    {
     "name": "stdout",
     "output_type": "stream",
     "text": [
      " 7460 | Cost: 15.5910929491\nIteration:"
     ]
    },
    {
     "name": "stdout",
     "output_type": "stream",
     "text": [
      " 7470 | Cost: 14.2825555422\nIteration:"
     ]
    },
    {
     "name": "stdout",
     "output_type": "stream",
     "text": [
      " 7480 | Cost: 14.7581413881\nIteration:"
     ]
    },
    {
     "name": "stdout",
     "output_type": "stream",
     "text": [
      " 7490 | Cost: 12.2568298128\nIteration:"
     ]
    },
    {
     "name": "stdout",
     "output_type": "stream",
     "text": [
      " 7500 | Cost: 13.6815798922\nIteration:"
     ]
    },
    {
     "name": "stdout",
     "output_type": "stream",
     "text": [
      " 7510 | Cost: 14.6481292401\nIteration:"
     ]
    },
    {
     "name": "stdout",
     "output_type": "stream",
     "text": [
      " 7520 | Cost: 15.0186615626\nIteration:"
     ]
    },
    {
     "name": "stdout",
     "output_type": "stream",
     "text": [
      " 7530 | Cost: 13.4268043443\nIteration:"
     ]
    },
    {
     "name": "stdout",
     "output_type": "stream",
     "text": [
      " 7540 | Cost: 13.9366259044\nIteration:"
     ]
    },
    {
     "name": "stdout",
     "output_type": "stream",
     "text": [
      " 7550 | Cost: 12.9687701248\nIteration:"
     ]
    },
    {
     "name": "stdout",
     "output_type": "stream",
     "text": [
      " 7560 | Cost: 15.7609609772\nIteration:"
     ]
    },
    {
     "name": "stdout",
     "output_type": "stream",
     "text": [
      " 7570 | Cost: 12.9292751371\nIteration:"
     ]
    },
    {
     "name": "stdout",
     "output_type": "stream",
     "text": [
      " 7580 | Cost: 14.9550075138\nIteration:"
     ]
    },
    {
     "name": "stdout",
     "output_type": "stream",
     "text": [
      " 7590 | Cost: 15.8382279475\nIteration:"
     ]
    },
    {
     "name": "stdout",
     "output_type": "stream",
     "text": [
      " 7600 | Cost: 13.7685102594\nIteration:"
     ]
    },
    {
     "name": "stdout",
     "output_type": "stream",
     "text": [
      " 7610 | Cost: 13.1914134052\nIteration:"
     ]
    },
    {
     "name": "stdout",
     "output_type": "stream",
     "text": [
      " 7620 | Cost: 15.0414850264\nIteration:"
     ]
    },
    {
     "name": "stdout",
     "output_type": "stream",
     "text": [
      " 7630 | Cost: 15.2138156725\nIteration:"
     ]
    },
    {
     "name": "stdout",
     "output_type": "stream",
     "text": [
      " 7640 | Cost: 13.9329973363\nIteration:"
     ]
    },
    {
     "name": "stdout",
     "output_type": "stream",
     "text": [
      " 7650 | Cost: 12.8367172024\nIteration:"
     ]
    },
    {
     "name": "stdout",
     "output_type": "stream",
     "text": [
      " 7660 | Cost: 17.0569839561\nIteration:"
     ]
    },
    {
     "name": "stdout",
     "output_type": "stream",
     "text": [
      " 7670 | Cost: 14.5273641492\nIteration:"
     ]
    },
    {
     "name": "stdout",
     "output_type": "stream",
     "text": [
      " 7680 | Cost: 17.7767608338\nIteration:"
     ]
    },
    {
     "name": "stdout",
     "output_type": "stream",
     "text": [
      " 7690 | Cost: 12.784936566\nIteration:"
     ]
    },
    {
     "name": "stdout",
     "output_type": "stream",
     "text": [
      " 7700 | Cost: 14.9232300769\nIteration:"
     ]
    },
    {
     "name": "stdout",
     "output_type": "stream",
     "text": [
      " 7710 | Cost: 14.612243785\nIteration:"
     ]
    },
    {
     "name": "stdout",
     "output_type": "stream",
     "text": [
      " 7720 | Cost: 16.2461952005\nIteration:"
     ]
    },
    {
     "name": "stdout",
     "output_type": "stream",
     "text": [
      " 7730 | Cost: 14.6914831324\nIteration:"
     ]
    },
    {
     "name": "stdout",
     "output_type": "stream",
     "text": [
      " 7740 | Cost: 13.3200812269\nIteration:"
     ]
    },
    {
     "name": "stdout",
     "output_type": "stream",
     "text": [
      " 7750 | Cost: 14.1442530467\nIteration:"
     ]
    },
    {
     "name": "stdout",
     "output_type": "stream",
     "text": [
      " 7760 | Cost: 13.2764246483\nIteration:"
     ]
    },
    {
     "name": "stdout",
     "output_type": "stream",
     "text": [
      " 7770 | Cost: 13.2624255932\nIteration:"
     ]
    },
    {
     "name": "stdout",
     "output_type": "stream",
     "text": [
      " 7780 | Cost: 15.1756552278\nIteration:"
     ]
    },
    {
     "name": "stdout",
     "output_type": "stream",
     "text": [
      " 7790 | Cost: 10.5848527066\nIteration:"
     ]
    },
    {
     "name": "stdout",
     "output_type": "stream",
     "text": [
      " 7800 | Cost: 14.6818318031\nIteration:"
     ]
    },
    {
     "name": "stdout",
     "output_type": "stream",
     "text": [
      " 7810 | Cost: 12.964252165\nIteration:"
     ]
    },
    {
     "name": "stdout",
     "output_type": "stream",
     "text": [
      " 7820 | Cost: 14.4082238982\nIteration:"
     ]
    },
    {
     "name": "stdout",
     "output_type": "stream",
     "text": [
      " 7830 | Cost: 14.7288366811\nIteration:"
     ]
    },
    {
     "name": "stdout",
     "output_type": "stream",
     "text": [
      " 7840 | Cost: 13.0103619979\nIteration:"
     ]
    },
    {
     "name": "stdout",
     "output_type": "stream",
     "text": [
      " 7850 | Cost: 13.8783596814\nIteration:"
     ]
    },
    {
     "name": "stdout",
     "output_type": "stream",
     "text": [
      " 7860 | Cost: 12.5407503412\nIteration:"
     ]
    },
    {
     "name": "stdout",
     "output_type": "stream",
     "text": [
      " 7870 | Cost: 13.1979600373\nIteration:"
     ]
    },
    {
     "name": "stdout",
     "output_type": "stream",
     "text": [
      " 7880 | Cost: 13.5255711702\nIteration:"
     ]
    },
    {
     "name": "stdout",
     "output_type": "stream",
     "text": [
      " 7890 | Cost: 14.8049435059\nIteration:"
     ]
    },
    {
     "name": "stdout",
     "output_type": "stream",
     "text": [
      " 7900 | Cost: 13.1482480934\nIteration:"
     ]
    },
    {
     "name": "stdout",
     "output_type": "stream",
     "text": [
      " 7910 | Cost: 13.8038477569\nIteration:"
     ]
    },
    {
     "name": "stdout",
     "output_type": "stream",
     "text": [
      " 7920 | Cost: 15.5707203976\nIteration:"
     ]
    },
    {
     "name": "stdout",
     "output_type": "stream",
     "text": [
      " 7930 | Cost: 14.4720441698\nIteration:"
     ]
    },
    {
     "name": "stdout",
     "output_type": "stream",
     "text": [
      " 7940 | Cost: 13.2211189584\nIteration:"
     ]
    },
    {
     "name": "stdout",
     "output_type": "stream",
     "text": [
      " 7950 | Cost: 14.2604620264\nIteration:"
     ]
    },
    {
     "name": "stdout",
     "output_type": "stream",
     "text": [
      " 7960 | Cost: 14.3612149603\nIteration:"
     ]
    },
    {
     "name": "stdout",
     "output_type": "stream",
     "text": [
      " 7970 | Cost: 14.1261855206\nIteration:"
     ]
    },
    {
     "name": "stdout",
     "output_type": "stream",
     "text": [
      " 7980 | Cost: 15.4399812218\nIteration:"
     ]
    },
    {
     "name": "stdout",
     "output_type": "stream",
     "text": [
      " 7990 | Cost: 13.7296652753\nIteration:"
     ]
    },
    {
     "name": "stdout",
     "output_type": "stream",
     "text": [
      " 8000 | Cost: 15.2031880354\nIteration:"
     ]
    },
    {
     "name": "stdout",
     "output_type": "stream",
     "text": [
      " 8010 | Cost: 14.6406283805\nIteration:"
     ]
    },
    {
     "name": "stdout",
     "output_type": "stream",
     "text": [
      " 8020 | Cost: 13.2860239357\nIteration:"
     ]
    },
    {
     "name": "stdout",
     "output_type": "stream",
     "text": [
      " 8030 | Cost: 15.599937241\nIteration:"
     ]
    },
    {
     "name": "stdout",
     "output_type": "stream",
     "text": [
      " 8040 | Cost: 14.6926499712\nIteration:"
     ]
    },
    {
     "name": "stdout",
     "output_type": "stream",
     "text": [
      " 8050 | Cost: 14.3102614568\nIteration:"
     ]
    },
    {
     "name": "stdout",
     "output_type": "stream",
     "text": [
      " 8060 | Cost: 12.6111451839\nIteration:"
     ]
    },
    {
     "name": "stdout",
     "output_type": "stream",
     "text": [
      " 8070 | Cost: 12.4065252228\nIteration:"
     ]
    },
    {
     "name": "stdout",
     "output_type": "stream",
     "text": [
      " 8080 | Cost: 14.2206967511\nIteration:"
     ]
    },
    {
     "name": "stdout",
     "output_type": "stream",
     "text": [
      " 8090 | Cost: 15.3130631198\nIteration:"
     ]
    },
    {
     "name": "stdout",
     "output_type": "stream",
     "text": [
      " 8100 | Cost: 13.7326426531\nIteration:"
     ]
    },
    {
     "name": "stdout",
     "output_type": "stream",
     "text": [
      " 8110 | Cost: 16.7995619701\nIteration:"
     ]
    },
    {
     "name": "stdout",
     "output_type": "stream",
     "text": [
      " 8120 | Cost: 14.7247369983\nIteration:"
     ]
    },
    {
     "name": "stdout",
     "output_type": "stream",
     "text": [
      " 8130 | Cost: 13.4092422655\nIteration:"
     ]
    },
    {
     "name": "stdout",
     "output_type": "stream",
     "text": [
      " 8140 | Cost: 14.3583674632\nIteration:"
     ]
    },
    {
     "name": "stdout",
     "output_type": "stream",
     "text": [
      " 8150 | Cost: 14.3447758283\nIteration:"
     ]
    },
    {
     "name": "stdout",
     "output_type": "stream",
     "text": [
      " 8160 | Cost: 13.1275015089\nIteration:"
     ]
    },
    {
     "name": "stdout",
     "output_type": "stream",
     "text": [
      " 8170 | Cost: 14.3364016964\nIteration:"
     ]
    },
    {
     "name": "stdout",
     "output_type": "stream",
     "text": [
      " 8180 | Cost: 13.2132841927\nIteration:"
     ]
    },
    {
     "name": "stdout",
     "output_type": "stream",
     "text": [
      " 8190 | Cost: 14.0446066614\nIteration:"
     ]
    },
    {
     "name": "stdout",
     "output_type": "stream",
     "text": [
      " 8200 | Cost: 14.052101771\nIteration:"
     ]
    },
    {
     "name": "stdout",
     "output_type": "stream",
     "text": [
      " 8210 | Cost: 12.5914711843\nIteration:"
     ]
    },
    {
     "name": "stdout",
     "output_type": "stream",
     "text": [
      " 8220 | Cost: 13.755973057\nIteration:"
     ]
    },
    {
     "name": "stdout",
     "output_type": "stream",
     "text": [
      " 8230 | Cost: 12.8607955634\nIteration:"
     ]
    },
    {
     "name": "stdout",
     "output_type": "stream",
     "text": [
      " 8240 | Cost: 12.3441590188\nIteration:"
     ]
    },
    {
     "name": "stdout",
     "output_type": "stream",
     "text": [
      " 8250 | Cost: 12.0651305959\nIteration:"
     ]
    },
    {
     "name": "stdout",
     "output_type": "stream",
     "text": [
      " 8260 | Cost: 14.2108496491\nIteration:"
     ]
    },
    {
     "name": "stdout",
     "output_type": "stream",
     "text": [
      " 8270 | Cost: 13.0785092773\nIteration:"
     ]
    },
    {
     "name": "stdout",
     "output_type": "stream",
     "text": [
      " 8280 | Cost: 12.379424977\nIteration:"
     ]
    },
    {
     "name": "stdout",
     "output_type": "stream",
     "text": [
      " 8290 | Cost: 14.840360555\nIteration:"
     ]
    },
    {
     "name": "stdout",
     "output_type": "stream",
     "text": [
      " 8300 | Cost: 12.9682854297\nIteration:"
     ]
    },
    {
     "name": "stdout",
     "output_type": "stream",
     "text": [
      " 8310 | Cost: 14.6016294083\nIteration:"
     ]
    },
    {
     "name": "stdout",
     "output_type": "stream",
     "text": [
      " 8320 | Cost: 13.5397737559\nIteration:"
     ]
    },
    {
     "name": "stdout",
     "output_type": "stream",
     "text": [
      " 8330 | Cost: 13.1630094345\nIteration:"
     ]
    },
    {
     "name": "stdout",
     "output_type": "stream",
     "text": [
      " 8340 | Cost: 13.0491047091\nIteration:"
     ]
    },
    {
     "name": "stdout",
     "output_type": "stream",
     "text": [
      " 8350 | Cost: 13.5624027478\nIteration:"
     ]
    },
    {
     "name": "stdout",
     "output_type": "stream",
     "text": [
      " 8360 | Cost: 14.7712343307\nIteration:"
     ]
    },
    {
     "name": "stdout",
     "output_type": "stream",
     "text": [
      " 8370 | Cost: 15.489034544\nIteration:"
     ]
    },
    {
     "name": "stdout",
     "output_type": "stream",
     "text": [
      " 8380 | Cost: 12.6421212883\nIteration:"
     ]
    },
    {
     "name": "stdout",
     "output_type": "stream",
     "text": [
      " 8390 | Cost: 14.0358119058\nIteration:"
     ]
    },
    {
     "name": "stdout",
     "output_type": "stream",
     "text": [
      " 8400 | Cost: 13.553750066\nIteration:"
     ]
    },
    {
     "name": "stdout",
     "output_type": "stream",
     "text": [
      " 8410 | Cost: 13.8828084105\nIteration:"
     ]
    },
    {
     "name": "stdout",
     "output_type": "stream",
     "text": [
      " 8420 | Cost: 14.2430403424\nIteration:"
     ]
    },
    {
     "name": "stdout",
     "output_type": "stream",
     "text": [
      " 8430 | Cost: 12.1268504094\nIteration:"
     ]
    },
    {
     "name": "stdout",
     "output_type": "stream",
     "text": [
      " 8440 | Cost: 12.9314832354\nIteration:"
     ]
    },
    {
     "name": "stdout",
     "output_type": "stream",
     "text": [
      " 8450 | Cost: 14.2262710789\nIteration:"
     ]
    },
    {
     "name": "stdout",
     "output_type": "stream",
     "text": [
      " 8460 | Cost: 15.1066637895\nIteration:"
     ]
    },
    {
     "name": "stdout",
     "output_type": "stream",
     "text": [
      " 8470 | Cost: 13.6044696164\nIteration:"
     ]
    },
    {
     "name": "stdout",
     "output_type": "stream",
     "text": [
      " 8480 | Cost: 15.5846840065\nIteration:"
     ]
    },
    {
     "name": "stdout",
     "output_type": "stream",
     "text": [
      " 8490 | Cost: 12.5300355968\nIteration:"
     ]
    },
    {
     "name": "stdout",
     "output_type": "stream",
     "text": [
      " 8500 | Cost: 15.4512158115\nIteration:"
     ]
    },
    {
     "name": "stdout",
     "output_type": "stream",
     "text": [
      " 8510 | Cost: 12.0465909288\nIteration:"
     ]
    },
    {
     "name": "stdout",
     "output_type": "stream",
     "text": [
      " 8520 | Cost: 12.8935083927\nIteration:"
     ]
    },
    {
     "name": "stdout",
     "output_type": "stream",
     "text": [
      " 8530 | Cost: 13.5489314861\nIteration:"
     ]
    },
    {
     "name": "stdout",
     "output_type": "stream",
     "text": [
      " 8540 | Cost: 14.3752156886\nIteration:"
     ]
    },
    {
     "name": "stdout",
     "output_type": "stream",
     "text": [
      " 8550 | Cost: 12.7073825798\nIteration:"
     ]
    },
    {
     "name": "stdout",
     "output_type": "stream",
     "text": [
      " 8560 | Cost: 13.8423350385\nIteration:"
     ]
    },
    {
     "name": "stdout",
     "output_type": "stream",
     "text": [
      " 8570 | Cost: 12.9585427712\nIteration:"
     ]
    },
    {
     "name": "stdout",
     "output_type": "stream",
     "text": [
      " 8580 | Cost: 12.2238967992\nIteration:"
     ]
    },
    {
     "name": "stdout",
     "output_type": "stream",
     "text": [
      " 8590 | Cost: 10.9606979369\nIteration:"
     ]
    },
    {
     "name": "stdout",
     "output_type": "stream",
     "text": [
      " 8600 | Cost: 11.7652927541\nIteration:"
     ]
    },
    {
     "name": "stdout",
     "output_type": "stream",
     "text": [
      " 8610 | Cost: 13.3675467819\nIteration:"
     ]
    },
    {
     "name": "stdout",
     "output_type": "stream",
     "text": [
      " 8620 | Cost: 10.99709145\nIteration:"
     ]
    },
    {
     "name": "stdout",
     "output_type": "stream",
     "text": [
      " 8630 | Cost: 14.0351494495\nIteration:"
     ]
    },
    {
     "name": "stdout",
     "output_type": "stream",
     "text": [
      " 8640 | Cost: 12.7056730474\nIteration:"
     ]
    },
    {
     "name": "stdout",
     "output_type": "stream",
     "text": [
      " 8650 | Cost: 13.6010939074\nIteration:"
     ]
    },
    {
     "name": "stdout",
     "output_type": "stream",
     "text": [
      " 8660 | Cost: 13.7074208269\nIteration:"
     ]
    },
    {
     "name": "stdout",
     "output_type": "stream",
     "text": [
      " 8670 | Cost: 13.290008714\nIteration:"
     ]
    },
    {
     "name": "stdout",
     "output_type": "stream",
     "text": [
      " 8680 | Cost: 13.3268295376\nIteration:"
     ]
    },
    {
     "name": "stdout",
     "output_type": "stream",
     "text": [
      " 8690 | Cost: 12.9305797461\nIteration:"
     ]
    },
    {
     "name": "stdout",
     "output_type": "stream",
     "text": [
      " 8700 | Cost: 15.6603128018\nIteration:"
     ]
    },
    {
     "name": "stdout",
     "output_type": "stream",
     "text": [
      " 8710 | Cost: 13.3425390691\nIteration:"
     ]
    },
    {
     "name": "stdout",
     "output_type": "stream",
     "text": [
      " 8720 | Cost: 12.2894902905\nIteration:"
     ]
    },
    {
     "name": "stdout",
     "output_type": "stream",
     "text": [
      " 8730 | Cost: 13.9480638802\nIteration:"
     ]
    },
    {
     "name": "stdout",
     "output_type": "stream",
     "text": [
      " 8740 | Cost: 13.0660126315\nIteration:"
     ]
    },
    {
     "name": "stdout",
     "output_type": "stream",
     "text": [
      " 8750 | Cost: 12.545737636\nIteration:"
     ]
    },
    {
     "name": "stdout",
     "output_type": "stream",
     "text": [
      " 8760 | Cost: 13.1248279126\nIteration:"
     ]
    },
    {
     "name": "stdout",
     "output_type": "stream",
     "text": [
      " 8770 | Cost: 13.3659641847\nIteration:"
     ]
    },
    {
     "name": "stdout",
     "output_type": "stream",
     "text": [
      " 8780 | Cost: 11.7634104783\nIteration:"
     ]
    },
    {
     "name": "stdout",
     "output_type": "stream",
     "text": [
      " 8790 | Cost: 12.5412929399\nIteration:"
     ]
    },
    {
     "name": "stdout",
     "output_type": "stream",
     "text": [
      " 8800 | Cost: 11.0789274377\nIteration:"
     ]
    },
    {
     "name": "stdout",
     "output_type": "stream",
     "text": [
      " 8810 | Cost: 12.755400757\nIteration:"
     ]
    },
    {
     "name": "stdout",
     "output_type": "stream",
     "text": [
      " 8820 | Cost: 13.4871930711\nIteration:"
     ]
    },
    {
     "name": "stdout",
     "output_type": "stream",
     "text": [
      " 8830 | Cost: 14.7575170252\nIteration:"
     ]
    },
    {
     "name": "stdout",
     "output_type": "stream",
     "text": [
      " 8840 | Cost: 16.1921059976\nIteration:"
     ]
    },
    {
     "name": "stdout",
     "output_type": "stream",
     "text": [
      " 8850 | Cost: 15.6368712729\nIteration:"
     ]
    },
    {
     "name": "stdout",
     "output_type": "stream",
     "text": [
      " 8860 | Cost: 12.5251527322\nIteration:"
     ]
    },
    {
     "name": "stdout",
     "output_type": "stream",
     "text": [
      " 8870 | Cost: 12.4508511854\nIteration:"
     ]
    },
    {
     "name": "stdout",
     "output_type": "stream",
     "text": [
      " 8880 | Cost: 12.9748567805\nIteration:"
     ]
    },
    {
     "name": "stdout",
     "output_type": "stream",
     "text": [
      " 8890 | Cost: 14.310053308\nIteration:"
     ]
    },
    {
     "name": "stdout",
     "output_type": "stream",
     "text": [
      " 8900 | Cost: 12.4286787745\nIteration:"
     ]
    },
    {
     "name": "stdout",
     "output_type": "stream",
     "text": [
      " 8910 | Cost: 16.2969486821\nIteration:"
     ]
    },
    {
     "name": "stdout",
     "output_type": "stream",
     "text": [
      " 8920 | Cost: 13.3017009321\nIteration:"
     ]
    },
    {
     "name": "stdout",
     "output_type": "stream",
     "text": [
      " 8930 | Cost: 12.2506405431\nIteration:"
     ]
    },
    {
     "name": "stdout",
     "output_type": "stream",
     "text": [
      " 8940 | Cost: 11.9150549399\nIteration:"
     ]
    },
    {
     "name": "stdout",
     "output_type": "stream",
     "text": [
      " 8950 | Cost: 13.4457673061\nIteration:"
     ]
    },
    {
     "name": "stdout",
     "output_type": "stream",
     "text": [
      " 8960 | Cost: 12.5021024863\nIteration:"
     ]
    },
    {
     "name": "stdout",
     "output_type": "stream",
     "text": [
      " 8970 | Cost: 13.4541339856\nIteration:"
     ]
    },
    {
     "name": "stdout",
     "output_type": "stream",
     "text": [
      " 8980 | Cost: 12.9196742044\nIteration:"
     ]
    },
    {
     "name": "stdout",
     "output_type": "stream",
     "text": [
      " 8990 | Cost: 14.3910251154\nIteration:"
     ]
    },
    {
     "name": "stdout",
     "output_type": "stream",
     "text": [
      " 9000 | Cost: 12.5142606772\nIteration:"
     ]
    },
    {
     "name": "stdout",
     "output_type": "stream",
     "text": [
      " 9010 | Cost: 12.8980830517\nIteration:"
     ]
    },
    {
     "name": "stdout",
     "output_type": "stream",
     "text": [
      " 9020 | Cost: 11.4544880502\nIteration:"
     ]
    },
    {
     "name": "stdout",
     "output_type": "stream",
     "text": [
      " 9030 | Cost: 13.2380582152\nIteration:"
     ]
    },
    {
     "name": "stdout",
     "output_type": "stream",
     "text": [
      " 9040 | Cost: 11.6038859898\nIteration:"
     ]
    },
    {
     "name": "stdout",
     "output_type": "stream",
     "text": [
      " 9050 | Cost: 13.6106687379\nIteration:"
     ]
    },
    {
     "name": "stdout",
     "output_type": "stream",
     "text": [
      " 9060 | Cost: 11.813660416\nIteration:"
     ]
    },
    {
     "name": "stdout",
     "output_type": "stream",
     "text": [
      " 9070 | Cost: 12.2571188814\nIteration:"
     ]
    },
    {
     "name": "stdout",
     "output_type": "stream",
     "text": [
      " 9080 | Cost: 12.7387727189\nIteration:"
     ]
    },
    {
     "name": "stdout",
     "output_type": "stream",
     "text": [
      " 9090 | Cost: 13.0426612896\nIteration:"
     ]
    },
    {
     "name": "stdout",
     "output_type": "stream",
     "text": [
      " 9100 | Cost: 11.8896379051\nIteration:"
     ]
    },
    {
     "name": "stdout",
     "output_type": "stream",
     "text": [
      " 9110 | Cost: 15.1742318999\nIteration:"
     ]
    },
    {
     "name": "stdout",
     "output_type": "stream",
     "text": [
      " 9120 | Cost: 13.8104754721\nIteration:"
     ]
    },
    {
     "name": "stdout",
     "output_type": "stream",
     "text": [
      " 9130 | Cost: 14.9087151913\nIteration:"
     ]
    },
    {
     "name": "stdout",
     "output_type": "stream",
     "text": [
      " 9140 | Cost: 15.1122455845\nIteration:"
     ]
    },
    {
     "name": "stdout",
     "output_type": "stream",
     "text": [
      " 9150 | Cost: 14.5267671592\nIteration:"
     ]
    },
    {
     "name": "stdout",
     "output_type": "stream",
     "text": [
      " 9160 | Cost: 14.1993546572\nIteration:"
     ]
    },
    {
     "name": "stdout",
     "output_type": "stream",
     "text": [
      " 9170 | Cost: 13.5185189585\nIteration:"
     ]
    },
    {
     "name": "stdout",
     "output_type": "stream",
     "text": [
      " 9180 | Cost: 14.4083837594\nIteration:"
     ]
    },
    {
     "name": "stdout",
     "output_type": "stream",
     "text": [
      " 9190 | Cost: 10.0789498147\nIteration:"
     ]
    },
    {
     "name": "stdout",
     "output_type": "stream",
     "text": [
      " 9200 | Cost: 13.1950216035\nIteration:"
     ]
    },
    {
     "name": "stdout",
     "output_type": "stream",
     "text": [
      " 9210 | Cost: 12.900637553\nIteration:"
     ]
    },
    {
     "name": "stdout",
     "output_type": "stream",
     "text": [
      " 9220 | Cost: 12.2258052679\nIteration:"
     ]
    },
    {
     "name": "stdout",
     "output_type": "stream",
     "text": [
      " 9230 | Cost: 13.6578788422\nIteration:"
     ]
    },
    {
     "name": "stdout",
     "output_type": "stream",
     "text": [
      " 9240 | Cost: 12.2414676355\nIteration:"
     ]
    },
    {
     "name": "stdout",
     "output_type": "stream",
     "text": [
      " 9250 | Cost: 12.7108956489\nIteration:"
     ]
    },
    {
     "name": "stdout",
     "output_type": "stream",
     "text": [
      " 9260 | Cost: 14.4249936316\nIteration:"
     ]
    },
    {
     "name": "stdout",
     "output_type": "stream",
     "text": [
      " 9270 | Cost: 14.8730062499\nIteration:"
     ]
    },
    {
     "name": "stdout",
     "output_type": "stream",
     "text": [
      " 9280 | Cost: 12.1644367534\nIteration:"
     ]
    },
    {
     "name": "stdout",
     "output_type": "stream",
     "text": [
      " 9290 | Cost: 14.6892482\nIteration:"
     ]
    },
    {
     "name": "stdout",
     "output_type": "stream",
     "text": [
      " 9300 | Cost: 14.1747960722\nIteration:"
     ]
    },
    {
     "name": "stdout",
     "output_type": "stream",
     "text": [
      " 9310 | Cost: 12.2442712059\nIteration:"
     ]
    },
    {
     "name": "stdout",
     "output_type": "stream",
     "text": [
      " 9320 | Cost: 14.2979647079\nIteration:"
     ]
    },
    {
     "name": "stdout",
     "output_type": "stream",
     "text": [
      " 9330 | Cost: 12.8655273532\nIteration:"
     ]
    },
    {
     "name": "stdout",
     "output_type": "stream",
     "text": [
      " 9340 | Cost: 14.0789542363\nIteration:"
     ]
    },
    {
     "name": "stdout",
     "output_type": "stream",
     "text": [
      " 9350 | Cost: 12.0901036676\nIteration:"
     ]
    },
    {
     "name": "stdout",
     "output_type": "stream",
     "text": [
      " 9360 | Cost: 14.4252263774\nIteration:"
     ]
    },
    {
     "name": "stdout",
     "output_type": "stream",
     "text": [
      " 9370 | Cost: 14.5255814655\nIteration:"
     ]
    },
    {
     "name": "stdout",
     "output_type": "stream",
     "text": [
      " 9380 | Cost: 14.8158844024\nIteration:"
     ]
    },
    {
     "name": "stdout",
     "output_type": "stream",
     "text": [
      " 9390 | Cost: 12.8179480403\nIteration:"
     ]
    },
    {
     "name": "stdout",
     "output_type": "stream",
     "text": [
      " 9400 | Cost: 13.0916925978\nIteration:"
     ]
    },
    {
     "name": "stdout",
     "output_type": "stream",
     "text": [
      " 9410 | Cost: 14.5229908338\nIteration:"
     ]
    },
    {
     "name": "stdout",
     "output_type": "stream",
     "text": [
      " 9420 | Cost: 14.0785677198\nIteration:"
     ]
    },
    {
     "name": "stdout",
     "output_type": "stream",
     "text": [
      " 9430 | Cost: 12.7564805474\nIteration:"
     ]
    },
    {
     "name": "stdout",
     "output_type": "stream",
     "text": [
      " 9440 | Cost: 15.1004256515\nIteration:"
     ]
    },
    {
     "name": "stdout",
     "output_type": "stream",
     "text": [
      " 9450 | Cost: 11.3138607767\nIteration:"
     ]
    },
    {
     "name": "stdout",
     "output_type": "stream",
     "text": [
      " 9460 | Cost: 14.1135985194\nIteration:"
     ]
    },
    {
     "name": "stdout",
     "output_type": "stream",
     "text": [
      " 9470 | Cost: 11.6781239959\nIteration:"
     ]
    },
    {
     "name": "stdout",
     "output_type": "stream",
     "text": [
      " 9480 | Cost: 12.7656965226\nIteration:"
     ]
    },
    {
     "name": "stdout",
     "output_type": "stream",
     "text": [
      " 9490 | Cost: 14.2673974563\nIteration:"
     ]
    },
    {
     "name": "stdout",
     "output_type": "stream",
     "text": [
      " 9500 | Cost: 12.3030284487\nIteration:"
     ]
    },
    {
     "name": "stdout",
     "output_type": "stream",
     "text": [
      " 9510 | Cost: 15.0456433576\nIteration:"
     ]
    },
    {
     "name": "stdout",
     "output_type": "stream",
     "text": [
      " 9520 | Cost: 11.8322105935\nIteration:"
     ]
    },
    {
     "name": "stdout",
     "output_type": "stream",
     "text": [
      " 9530 | Cost: 13.5565389416\nIteration:"
     ]
    },
    {
     "name": "stdout",
     "output_type": "stream",
     "text": [
      " 9540 | Cost: 12.1084797565\nIteration:"
     ]
    },
    {
     "name": "stdout",
     "output_type": "stream",
     "text": [
      " 9550 | Cost: 12.9884135483\nIteration:"
     ]
    },
    {
     "name": "stdout",
     "output_type": "stream",
     "text": [
      " 9560 | Cost: 13.0885390937\nIteration:"
     ]
    },
    {
     "name": "stdout",
     "output_type": "stream",
     "text": [
      " 9570 | Cost: 12.9345326524\nIteration:"
     ]
    },
    {
     "name": "stdout",
     "output_type": "stream",
     "text": [
      " 9580 | Cost: 11.602994017\nIteration:"
     ]
    },
    {
     "name": "stdout",
     "output_type": "stream",
     "text": [
      " 9590 | Cost: 12.8897311897\nIteration:"
     ]
    },
    {
     "name": "stdout",
     "output_type": "stream",
     "text": [
      " 9600 | Cost: 12.4448618955\nIteration:"
     ]
    },
    {
     "name": "stdout",
     "output_type": "stream",
     "text": [
      " 9610 | Cost: 12.9196033768\nIteration:"
     ]
    },
    {
     "name": "stdout",
     "output_type": "stream",
     "text": [
      " 9620 | Cost: 13.5271833194\nIteration:"
     ]
    },
    {
     "name": "stdout",
     "output_type": "stream",
     "text": [
      " 9630 | Cost: 13.3080413414\nIteration:"
     ]
    },
    {
     "name": "stdout",
     "output_type": "stream",
     "text": [
      " 9640 | Cost: 13.6022513269\nIteration:"
     ]
    },
    {
     "name": "stdout",
     "output_type": "stream",
     "text": [
      " 9650 | Cost: 13.5613840962\nIteration:"
     ]
    },
    {
     "name": "stdout",
     "output_type": "stream",
     "text": [
      " 9660 | Cost: 11.8653826447\nIteration:"
     ]
    },
    {
     "name": "stdout",
     "output_type": "stream",
     "text": [
      " 9670 | Cost: 13.2589419933\nIteration:"
     ]
    },
    {
     "name": "stdout",
     "output_type": "stream",
     "text": [
      " 9680 | Cost: 12.9701446217\nIteration:"
     ]
    },
    {
     "name": "stdout",
     "output_type": "stream",
     "text": [
      " 9690 | Cost: 10.821729488\nIteration:"
     ]
    },
    {
     "name": "stdout",
     "output_type": "stream",
     "text": [
      " 9700 | Cost: 12.4713796445\nIteration:"
     ]
    },
    {
     "name": "stdout",
     "output_type": "stream",
     "text": [
      " 9710 | Cost: 15.8468955783\nIteration:"
     ]
    },
    {
     "name": "stdout",
     "output_type": "stream",
     "text": [
      " 9720 | Cost: 12.2225048938\nIteration:"
     ]
    },
    {
     "name": "stdout",
     "output_type": "stream",
     "text": [
      " 9730 | Cost: 12.2017752217\nIteration:"
     ]
    },
    {
     "name": "stdout",
     "output_type": "stream",
     "text": [
      " 9740 | Cost: 12.8967647036\nIteration:"
     ]
    },
    {
     "name": "stdout",
     "output_type": "stream",
     "text": [
      " 9750 | Cost: 13.3622876605\nIteration:"
     ]
    },
    {
     "name": "stdout",
     "output_type": "stream",
     "text": [
      " 9760 | Cost: 11.8033351665\nIteration:"
     ]
    },
    {
     "name": "stdout",
     "output_type": "stream",
     "text": [
      " 9770 | Cost: 13.023668374\nIteration:"
     ]
    },
    {
     "name": "stdout",
     "output_type": "stream",
     "text": [
      " 9780 | Cost: 12.5510582141\nIteration:"
     ]
    },
    {
     "name": "stdout",
     "output_type": "stream",
     "text": [
      " 9790 | Cost: 11.9943927745\nIteration:"
     ]
    },
    {
     "name": "stdout",
     "output_type": "stream",
     "text": [
      " 9800 | Cost: 13.0223721862\nIteration:"
     ]
    },
    {
     "name": "stdout",
     "output_type": "stream",
     "text": [
      " 9810 | Cost: 12.9338199192\nIteration:"
     ]
    },
    {
     "name": "stdout",
     "output_type": "stream",
     "text": [
      " 9820 | Cost: 12.8515330046\nIteration:"
     ]
    },
    {
     "name": "stdout",
     "output_type": "stream",
     "text": [
      " 9830 | Cost: 14.5287711546\nIteration:"
     ]
    },
    {
     "name": "stdout",
     "output_type": "stream",
     "text": [
      " 9840 | Cost: 11.4791837115\nIteration:"
     ]
    },
    {
     "name": "stdout",
     "output_type": "stream",
     "text": [
      " 9850 | Cost: 14.8126655914\nIteration:"
     ]
    },
    {
     "name": "stdout",
     "output_type": "stream",
     "text": [
      " 9860 | Cost: 12.020401097\nIteration:"
     ]
    },
    {
     "name": "stdout",
     "output_type": "stream",
     "text": [
      " 9870 | Cost: 11.5095601559\nIteration:"
     ]
    },
    {
     "name": "stdout",
     "output_type": "stream",
     "text": [
      " 9880 | Cost: 13.6465815812\nIteration:"
     ]
    },
    {
     "name": "stdout",
     "output_type": "stream",
     "text": [
      " 9890 | Cost: 11.6225977125\nIteration:"
     ]
    },
    {
     "name": "stdout",
     "output_type": "stream",
     "text": [
      " 9900 | Cost: 13.8116072641\nIteration:"
     ]
    },
    {
     "name": "stdout",
     "output_type": "stream",
     "text": [
      " 9910 | Cost: 13.4884416829\nIteration:"
     ]
    },
    {
     "name": "stdout",
     "output_type": "stream",
     "text": [
      " 9920 | Cost: 13.4159257257\nIteration:"
     ]
    },
    {
     "name": "stdout",
     "output_type": "stream",
     "text": [
      " 9930 | Cost: 12.8238727055\nIteration:"
     ]
    },
    {
     "name": "stdout",
     "output_type": "stream",
     "text": [
      " 9940 | Cost: 12.1961363787\nIteration:"
     ]
    },
    {
     "name": "stdout",
     "output_type": "stream",
     "text": [
      " 9950 | Cost: 14.0878853373\nIteration:"
     ]
    },
    {
     "name": "stdout",
     "output_type": "stream",
     "text": [
      " 9960 | Cost: 12.3551020791\nIteration:"
     ]
    },
    {
     "name": "stdout",
     "output_type": "stream",
     "text": [
      " 9970 | Cost: 14.1814678477\nIteration:"
     ]
    },
    {
     "name": "stdout",
     "output_type": "stream",
     "text": [
      " 9980 | Cost: 12.2115862347\nIteration:"
     ]
    },
    {
     "name": "stdout",
     "output_type": "stream",
     "text": [
      " 9990 | Cost: 13.916886368\nIteration:"
     ]
    },
    {
     "name": "stdout",
     "output_type": "stream",
     "text": [
      " 10000 | Cost: 12.7662251896\nIteration:"
     ]
    },
    {
     "name": "stdout",
     "output_type": "stream",
     "text": [
      " 10010 | Cost: 10.6914174161\nIteration:"
     ]
    },
    {
     "name": "stdout",
     "output_type": "stream",
     "text": [
      " 10020 | Cost: 12.2081311273\nIteration:"
     ]
    },
    {
     "name": "stdout",
     "output_type": "stream",
     "text": [
      " 10030 | Cost: 12.0272865338\nIteration:"
     ]
    },
    {
     "name": "stdout",
     "output_type": "stream",
     "text": [
      " 10040 | Cost: 12.5771378782\nIteration:"
     ]
    },
    {
     "name": "stdout",
     "output_type": "stream",
     "text": [
      " 10050 | Cost: 11.1529542047\nIteration:"
     ]
    },
    {
     "name": "stdout",
     "output_type": "stream",
     "text": [
      " 10060 | Cost: 13.7358558969\nIteration:"
     ]
    },
    {
     "name": "stdout",
     "output_type": "stream",
     "text": [
      " 10070 | Cost: 13.088742362\nIteration:"
     ]
    },
    {
     "name": "stdout",
     "output_type": "stream",
     "text": [
      " 10080 | Cost: 10.7895410466\nIteration:"
     ]
    },
    {
     "name": "stdout",
     "output_type": "stream",
     "text": [
      " 10090 | Cost: 13.5026220095\nIteration:"
     ]
    },
    {
     "name": "stdout",
     "output_type": "stream",
     "text": [
      " 10100 | Cost: 13.4197898955\nIteration:"
     ]
    },
    {
     "name": "stdout",
     "output_type": "stream",
     "text": [
      " 10110 | Cost: 12.4659558291\nIteration:"
     ]
    },
    {
     "name": "stdout",
     "output_type": "stream",
     "text": [
      " 10120 | Cost: 11.2150717394\nIteration:"
     ]
    },
    {
     "name": "stdout",
     "output_type": "stream",
     "text": [
      " 10130 | Cost: 13.600958275\nIteration:"
     ]
    },
    {
     "name": "stdout",
     "output_type": "stream",
     "text": [
      " 10140 | Cost: 13.2810550895\nIteration:"
     ]
    },
    {
     "name": "stdout",
     "output_type": "stream",
     "text": [
      " 10150 | Cost: 12.776914125\nIteration:"
     ]
    },
    {
     "name": "stdout",
     "output_type": "stream",
     "text": [
      " 10160 | Cost: 12.3108269211\nIteration:"
     ]
    },
    {
     "name": "stdout",
     "output_type": "stream",
     "text": [
      " 10170 | Cost: 9.59637377478\nIteration:"
     ]
    },
    {
     "name": "stdout",
     "output_type": "stream",
     "text": [
      " 10180 | Cost: 13.2628593617\nIteration:"
     ]
    },
    {
     "name": "stdout",
     "output_type": "stream",
     "text": [
      " 10190 | Cost: 12.8005784158\nIteration:"
     ]
    },
    {
     "name": "stdout",
     "output_type": "stream",
     "text": [
      " 10200 | Cost: 14.2417200405\nIteration:"
     ]
    },
    {
     "name": "stdout",
     "output_type": "stream",
     "text": [
      " 10210 | Cost: 13.2929780061\nIteration:"
     ]
    },
    {
     "name": "stdout",
     "output_type": "stream",
     "text": [
      " 10220 | Cost: 12.2549131855\nIteration:"
     ]
    },
    {
     "name": "stdout",
     "output_type": "stream",
     "text": [
      " 10230 | Cost: 12.1256662766\nIteration:"
     ]
    },
    {
     "name": "stdout",
     "output_type": "stream",
     "text": [
      " 10240 | Cost: 13.4178159857\nIteration:"
     ]
    },
    {
     "name": "stdout",
     "output_type": "stream",
     "text": [
      " 10250 | Cost: 14.4064640749\nIteration:"
     ]
    },
    {
     "name": "stdout",
     "output_type": "stream",
     "text": [
      " 10260 | Cost: 10.9364448244\nIteration:"
     ]
    },
    {
     "name": "stdout",
     "output_type": "stream",
     "text": [
      " 10270 | Cost: 13.5028140368\nIteration:"
     ]
    },
    {
     "name": "stdout",
     "output_type": "stream",
     "text": [
      " 10280 | Cost: 11.2431726066\nIteration:"
     ]
    },
    {
     "name": "stdout",
     "output_type": "stream",
     "text": [
      " 10290 | Cost: 13.209232496\nIteration:"
     ]
    },
    {
     "name": "stdout",
     "output_type": "stream",
     "text": [
      " 10300 | Cost: 12.9823795091\nIteration:"
     ]
    },
    {
     "name": "stdout",
     "output_type": "stream",
     "text": [
      " 10310 | Cost: 13.5959349261\nIteration:"
     ]
    },
    {
     "name": "stdout",
     "output_type": "stream",
     "text": [
      " 10320 | Cost: 12.9012497973\nIteration:"
     ]
    },
    {
     "name": "stdout",
     "output_type": "stream",
     "text": [
      " 10330 | Cost: 13.5775983571\nIteration:"
     ]
    },
    {
     "name": "stdout",
     "output_type": "stream",
     "text": [
      " 10340 | Cost: 13.0342941956\nIteration:"
     ]
    },
    {
     "name": "stdout",
     "output_type": "stream",
     "text": [
      " 10350 | Cost: 15.3956576618\nIteration:"
     ]
    },
    {
     "name": "stdout",
     "output_type": "stream",
     "text": [
      " 10360 | Cost: 12.7971515056\nIteration:"
     ]
    },
    {
     "name": "stdout",
     "output_type": "stream",
     "text": [
      " 10370 | Cost: 14.4191355722\nIteration:"
     ]
    },
    {
     "name": "stdout",
     "output_type": "stream",
     "text": [
      " 10380 | Cost: 14.5569137161\nIteration:"
     ]
    },
    {
     "name": "stdout",
     "output_type": "stream",
     "text": [
      " 10390 | Cost: 13.0888788536\nIteration:"
     ]
    },
    {
     "name": "stdout",
     "output_type": "stream",
     "text": [
      " 10400 | Cost: 11.5535397027\nIteration:"
     ]
    },
    {
     "name": "stdout",
     "output_type": "stream",
     "text": [
      " 10410 | Cost: 11.3903633549\nIteration:"
     ]
    },
    {
     "name": "stdout",
     "output_type": "stream",
     "text": [
      " 10420 | Cost: 12.1810466303\nIteration:"
     ]
    },
    {
     "name": "stdout",
     "output_type": "stream",
     "text": [
      " 10430 | Cost: 11.9472564004\nIteration:"
     ]
    },
    {
     "name": "stdout",
     "output_type": "stream",
     "text": [
      " 10440 | Cost: 12.4975287092\nIteration:"
     ]
    },
    {
     "name": "stdout",
     "output_type": "stream",
     "text": [
      " 10450 | Cost: 12.2591290904\nIteration:"
     ]
    },
    {
     "name": "stdout",
     "output_type": "stream",
     "text": [
      " 10460 | Cost: 12.1859066737\nIteration:"
     ]
    },
    {
     "name": "stdout",
     "output_type": "stream",
     "text": [
      " 10470 | Cost: 13.841130656\nIteration:"
     ]
    },
    {
     "name": "stdout",
     "output_type": "stream",
     "text": [
      " 10480 | Cost: 12.4252464587\nIteration:"
     ]
    },
    {
     "name": "stdout",
     "output_type": "stream",
     "text": [
      " 10490 | Cost: 13.3340090646\nIteration:"
     ]
    },
    {
     "name": "stdout",
     "output_type": "stream",
     "text": [
      " 10500 | Cost: 12.8526354985\nIteration:"
     ]
    },
    {
     "name": "stdout",
     "output_type": "stream",
     "text": [
      " 10510 | Cost: 14.6401867562\nIteration:"
     ]
    },
    {
     "name": "stdout",
     "output_type": "stream",
     "text": [
      " 10520 | Cost: 13.9364441472\nIteration:"
     ]
    },
    {
     "name": "stdout",
     "output_type": "stream",
     "text": [
      " 10530 | Cost: 11.8371243716\nIteration:"
     ]
    },
    {
     "name": "stdout",
     "output_type": "stream",
     "text": [
      " 10540 | Cost: 12.9365094369\nIteration:"
     ]
    },
    {
     "name": "stdout",
     "output_type": "stream",
     "text": [
      " 10550 | Cost: 13.1286008213\nIteration:"
     ]
    },
    {
     "name": "stdout",
     "output_type": "stream",
     "text": [
      " 10560 | Cost: 11.6304922745\nIteration:"
     ]
    },
    {
     "name": "stdout",
     "output_type": "stream",
     "text": [
      " 10570 | Cost: 13.8662523145\nIteration:"
     ]
    },
    {
     "name": "stdout",
     "output_type": "stream",
     "text": [
      " 10580 | Cost: 12.1041986282\nIteration:"
     ]
    },
    {
     "name": "stdout",
     "output_type": "stream",
     "text": [
      " 10590 | Cost: 11.2821979077\nIteration:"
     ]
    },
    {
     "name": "stdout",
     "output_type": "stream",
     "text": [
      " 10600 | Cost: 11.5054904285\nIteration:"
     ]
    },
    {
     "name": "stdout",
     "output_type": "stream",
     "text": [
      " 10610 | Cost: 12.7836698687\nIteration:"
     ]
    },
    {
     "name": "stdout",
     "output_type": "stream",
     "text": [
      " 10620 | Cost: 10.8890848567\nIteration:"
     ]
    },
    {
     "name": "stdout",
     "output_type": "stream",
     "text": [
      " 10630 | Cost: 10.714844104\nIteration:"
     ]
    },
    {
     "name": "stdout",
     "output_type": "stream",
     "text": [
      " 10640 | Cost: 13.2383812804\nIteration:"
     ]
    },
    {
     "name": "stdout",
     "output_type": "stream",
     "text": [
      " 10650 | Cost: 15.2266189797\nIteration:"
     ]
    },
    {
     "name": "stdout",
     "output_type": "stream",
     "text": [
      " 10660 | Cost: 12.6407001368\nIteration:"
     ]
    },
    {
     "name": "stdout",
     "output_type": "stream",
     "text": [
      " 10670 | Cost: 11.6241873236\nIteration:"
     ]
    },
    {
     "name": "stdout",
     "output_type": "stream",
     "text": [
      " 10680 | Cost: 10.598012542\nIteration:"
     ]
    },
    {
     "name": "stdout",
     "output_type": "stream",
     "text": [
      " 10690 | Cost: 13.36629558\nIteration:"
     ]
    },
    {
     "name": "stdout",
     "output_type": "stream",
     "text": [
      " 10700 | Cost: 12.496512128\nIteration:"
     ]
    },
    {
     "name": "stdout",
     "output_type": "stream",
     "text": [
      " 10710 | Cost: 12.0189017875\nIteration:"
     ]
    },
    {
     "name": "stdout",
     "output_type": "stream",
     "text": [
      " 10720 | Cost: 13.3856253938\nIteration:"
     ]
    },
    {
     "name": "stdout",
     "output_type": "stream",
     "text": [
      " 10730 | Cost: 11.1375086033\nIteration:"
     ]
    },
    {
     "name": "stdout",
     "output_type": "stream",
     "text": [
      " 10740 | Cost: 11.8018071205\nIteration:"
     ]
    },
    {
     "name": "stdout",
     "output_type": "stream",
     "text": [
      " 10750 | Cost: 11.3653611561\nIteration:"
     ]
    },
    {
     "name": "stdout",
     "output_type": "stream",
     "text": [
      " 10760 | Cost: 10.8167084233\nIteration:"
     ]
    },
    {
     "name": "stdout",
     "output_type": "stream",
     "text": [
      " 10770 | Cost: 12.731702226\nIteration:"
     ]
    },
    {
     "name": "stdout",
     "output_type": "stream",
     "text": [
      " 10780 | Cost: 12.5782629971\nIteration:"
     ]
    },
    {
     "name": "stdout",
     "output_type": "stream",
     "text": [
      " 10790 | Cost: 13.2335445899\nIteration:"
     ]
    },
    {
     "name": "stdout",
     "output_type": "stream",
     "text": [
      " 10800 | Cost: 12.5677876158\nIteration:"
     ]
    },
    {
     "name": "stdout",
     "output_type": "stream",
     "text": [
      " 10810 | Cost: 13.4733268985\nIteration:"
     ]
    },
    {
     "name": "stdout",
     "output_type": "stream",
     "text": [
      " 10820 | Cost: 13.5845669355\nIteration:"
     ]
    },
    {
     "name": "stdout",
     "output_type": "stream",
     "text": [
      " 10830 | Cost: 11.5758438138\nIteration:"
     ]
    },
    {
     "name": "stdout",
     "output_type": "stream",
     "text": [
      " 10840 | Cost: 13.0680477935\nIteration:"
     ]
    },
    {
     "name": "stdout",
     "output_type": "stream",
     "text": [
      " 10850 | Cost: 12.671659203\nIteration:"
     ]
    },
    {
     "name": "stdout",
     "output_type": "stream",
     "text": [
      " 10860 | Cost: 12.9814709794\nIteration:"
     ]
    },
    {
     "name": "stdout",
     "output_type": "stream",
     "text": [
      " 10870 | Cost: 11.6141787643\nIteration:"
     ]
    },
    {
     "name": "stdout",
     "output_type": "stream",
     "text": [
      " 10880 | Cost: 14.0725907113\nIteration:"
     ]
    },
    {
     "name": "stdout",
     "output_type": "stream",
     "text": [
      " 10890 | Cost: 12.1093855362\nIteration:"
     ]
    },
    {
     "name": "stdout",
     "output_type": "stream",
     "text": [
      " 10900 | Cost: 12.6212552311\nIteration:"
     ]
    },
    {
     "name": "stdout",
     "output_type": "stream",
     "text": [
      " 10910 | Cost: 13.3680477431\nIteration:"
     ]
    },
    {
     "name": "stdout",
     "output_type": "stream",
     "text": [
      " 10920 | Cost: 12.8824479502\nIteration:"
     ]
    },
    {
     "name": "stdout",
     "output_type": "stream",
     "text": [
      " 10930 | Cost: 13.8333059556\nIteration:"
     ]
    },
    {
     "name": "stdout",
     "output_type": "stream",
     "text": [
      " 10940 | Cost: 13.3719836274\nIteration:"
     ]
    },
    {
     "name": "stdout",
     "output_type": "stream",
     "text": [
      " 10950 | Cost: 11.8601621321\nIteration:"
     ]
    },
    {
     "name": "stdout",
     "output_type": "stream",
     "text": [
      " 10960 | Cost: 11.6363110649\nIteration:"
     ]
    },
    {
     "name": "stdout",
     "output_type": "stream",
     "text": [
      " 10970 | Cost: 10.4853360488\nIteration:"
     ]
    },
    {
     "name": "stdout",
     "output_type": "stream",
     "text": [
      " 10980 | Cost: 12.6572746528\nIteration:"
     ]
    },
    {
     "name": "stdout",
     "output_type": "stream",
     "text": [
      " 10990 | Cost: 12.6413613809\nIteration:"
     ]
    },
    {
     "name": "stdout",
     "output_type": "stream",
     "text": [
      " 11000 | Cost: 12.7244414337\nIteration:"
     ]
    },
    {
     "name": "stdout",
     "output_type": "stream",
     "text": [
      " 11010 | Cost: 11.1831311871\nIteration:"
     ]
    },
    {
     "name": "stdout",
     "output_type": "stream",
     "text": [
      " 11020 | Cost: 13.4058894134\nIteration:"
     ]
    },
    {
     "name": "stdout",
     "output_type": "stream",
     "text": [
      " 11030 | Cost: 13.0420779447\nIteration:"
     ]
    },
    {
     "name": "stdout",
     "output_type": "stream",
     "text": [
      " 11040 | Cost: 12.1605428537\nIteration:"
     ]
    },
    {
     "name": "stdout",
     "output_type": "stream",
     "text": [
      " 11050 | Cost: 11.6475639979\nIteration:"
     ]
    },
    {
     "name": "stdout",
     "output_type": "stream",
     "text": [
      " 11060 | Cost: 12.7480349117\nIteration:"
     ]
    },
    {
     "name": "stdout",
     "output_type": "stream",
     "text": [
      " 11070 | Cost: 11.682452637\nIteration:"
     ]
    },
    {
     "name": "stdout",
     "output_type": "stream",
     "text": [
      " 11080 | Cost: 12.5439241654\nIteration:"
     ]
    },
    {
     "name": "stdout",
     "output_type": "stream",
     "text": [
      " 11090 | Cost: 12.0263464409\nIteration:"
     ]
    },
    {
     "name": "stdout",
     "output_type": "stream",
     "text": [
      " 11100 | Cost: 11.413386469\nIteration:"
     ]
    },
    {
     "name": "stdout",
     "output_type": "stream",
     "text": [
      " 11110 | Cost: 11.2886265757\nIteration:"
     ]
    },
    {
     "name": "stdout",
     "output_type": "stream",
     "text": [
      " 11120 | Cost: 11.295773625\nIteration:"
     ]
    },
    {
     "name": "stdout",
     "output_type": "stream",
     "text": [
      " 11130 | Cost: 13.1327513721\nIteration:"
     ]
    },
    {
     "name": "stdout",
     "output_type": "stream",
     "text": [
      " 11140 | Cost: 12.6423729751\nIteration:"
     ]
    },
    {
     "name": "stdout",
     "output_type": "stream",
     "text": [
      " 11150 | Cost: 13.0968475981\nIteration:"
     ]
    },
    {
     "name": "stdout",
     "output_type": "stream",
     "text": [
      " 11160 | Cost: 13.4019937662\nIteration:"
     ]
    },
    {
     "name": "stdout",
     "output_type": "stream",
     "text": [
      " 11170 | Cost: 11.8770749843\nIteration:"
     ]
    },
    {
     "name": "stdout",
     "output_type": "stream",
     "text": [
      " 11180 | Cost: 11.5575161797\nIteration:"
     ]
    },
    {
     "name": "stdout",
     "output_type": "stream",
     "text": [
      " 11190 | Cost: 11.9345744268\nIteration:"
     ]
    },
    {
     "name": "stdout",
     "output_type": "stream",
     "text": [
      " 11200 | Cost: 12.0110731723\nIteration:"
     ]
    },
    {
     "name": "stdout",
     "output_type": "stream",
     "text": [
      " 11210 | Cost: 12.5694401526\nIteration:"
     ]
    },
    {
     "name": "stdout",
     "output_type": "stream",
     "text": [
      " 11220 | Cost: 14.8494647675\nIteration:"
     ]
    },
    {
     "name": "stdout",
     "output_type": "stream",
     "text": [
      " 11230 | Cost: 12.5662897225\nIteration:"
     ]
    },
    {
     "name": "stdout",
     "output_type": "stream",
     "text": [
      " 11240 | Cost: 11.0499577548\nIteration:"
     ]
    },
    {
     "name": "stdout",
     "output_type": "stream",
     "text": [
      " 11250 | Cost: 14.5141054808\nIteration:"
     ]
    },
    {
     "name": "stdout",
     "output_type": "stream",
     "text": [
      " 11260 | Cost: 11.3099398833\nIteration:"
     ]
    },
    {
     "name": "stdout",
     "output_type": "stream",
     "text": [
      " 11270 | Cost: 11.0349056912\nIteration:"
     ]
    },
    {
     "name": "stdout",
     "output_type": "stream",
     "text": [
      " 11280 | Cost: 11.2999918906\nIteration:"
     ]
    },
    {
     "name": "stdout",
     "output_type": "stream",
     "text": [
      " 11290 | Cost: 10.2858419232\nIteration:"
     ]
    },
    {
     "name": "stdout",
     "output_type": "stream",
     "text": [
      " 11300 | Cost: 12.6333322099\nIteration:"
     ]
    },
    {
     "name": "stdout",
     "output_type": "stream",
     "text": [
      " 11310 | Cost: 12.1269625107\nIteration:"
     ]
    },
    {
     "name": "stdout",
     "output_type": "stream",
     "text": [
      " 11320 | Cost: 12.4395883083\nIteration:"
     ]
    },
    {
     "name": "stdout",
     "output_type": "stream",
     "text": [
      " 11330 | Cost: 10.3041721759\nIteration:"
     ]
    },
    {
     "name": "stdout",
     "output_type": "stream",
     "text": [
      " 11340 | Cost: 11.7690001142\nIteration:"
     ]
    },
    {
     "name": "stdout",
     "output_type": "stream",
     "text": [
      " 11350 | Cost: 11.6244012765\nIteration:"
     ]
    },
    {
     "name": "stdout",
     "output_type": "stream",
     "text": [
      " 11360 | Cost: 11.5290473594\nIteration:"
     ]
    },
    {
     "name": "stdout",
     "output_type": "stream",
     "text": [
      " 11370 | Cost: 12.9897289578\nIteration:"
     ]
    },
    {
     "name": "stdout",
     "output_type": "stream",
     "text": [
      " 11380 | Cost: 14.0725402143\nIteration:"
     ]
    },
    {
     "name": "stdout",
     "output_type": "stream",
     "text": [
      " 11390 | Cost: 12.0013766373\nIteration:"
     ]
    },
    {
     "name": "stdout",
     "output_type": "stream",
     "text": [
      " 11400 | Cost: 11.8203545967\nIteration:"
     ]
    },
    {
     "name": "stdout",
     "output_type": "stream",
     "text": [
      " 11410 | Cost: 11.7206815993\nIteration:"
     ]
    },
    {
     "name": "stdout",
     "output_type": "stream",
     "text": [
      " 11420 | Cost: 11.4513156811\nIteration:"
     ]
    },
    {
     "name": "stdout",
     "output_type": "stream",
     "text": [
      " 11430 | Cost: 12.7125995344\nIteration:"
     ]
    },
    {
     "name": "stdout",
     "output_type": "stream",
     "text": [
      " 11440 | Cost: 11.2319951749\nIteration:"
     ]
    },
    {
     "name": "stdout",
     "output_type": "stream",
     "text": [
      " 11450 | Cost: 10.3567062061\nIteration:"
     ]
    },
    {
     "name": "stdout",
     "output_type": "stream",
     "text": [
      " 11460 | Cost: 12.3391578944\nIteration:"
     ]
    },
    {
     "name": "stdout",
     "output_type": "stream",
     "text": [
      " 11470 | Cost: 12.2843479651\nIteration:"
     ]
    },
    {
     "name": "stdout",
     "output_type": "stream",
     "text": [
      " 11480 | Cost: 12.168971883\nIteration:"
     ]
    },
    {
     "name": "stdout",
     "output_type": "stream",
     "text": [
      " 11490 | Cost: 11.844257889\nIteration:"
     ]
    },
    {
     "name": "stdout",
     "output_type": "stream",
     "text": [
      " 11500 | Cost: 12.4278834117\nIteration:"
     ]
    },
    {
     "name": "stdout",
     "output_type": "stream",
     "text": [
      " 11510 | Cost: 12.125524258\nIteration:"
     ]
    },
    {
     "name": "stdout",
     "output_type": "stream",
     "text": [
      " 11520 | Cost: 12.5252159798\nIteration:"
     ]
    },
    {
     "name": "stdout",
     "output_type": "stream",
     "text": [
      " 11530 | Cost: 12.457160513\nIteration:"
     ]
    },
    {
     "name": "stdout",
     "output_type": "stream",
     "text": [
      " 11540 | Cost: 11.9046786485\nIteration:"
     ]
    },
    {
     "name": "stdout",
     "output_type": "stream",
     "text": [
      " 11550 | Cost: 12.0712457435\nIteration:"
     ]
    },
    {
     "name": "stdout",
     "output_type": "stream",
     "text": [
      " 11560 | Cost: 11.1810475588\nIteration:"
     ]
    },
    {
     "name": "stdout",
     "output_type": "stream",
     "text": [
      " 11570 | Cost: 12.2169349185\nIteration:"
     ]
    },
    {
     "name": "stdout",
     "output_type": "stream",
     "text": [
      " 11580 | Cost: 13.3427666705\nIteration:"
     ]
    },
    {
     "name": "stdout",
     "output_type": "stream",
     "text": [
      " 11590 | Cost: 10.7241122925\nIteration:"
     ]
    },
    {
     "name": "stdout",
     "output_type": "stream",
     "text": [
      " 11600 | Cost: 11.2088381874\nIteration:"
     ]
    },
    {
     "name": "stdout",
     "output_type": "stream",
     "text": [
      " 11610 | Cost: 11.3562085476\nIteration:"
     ]
    },
    {
     "name": "stdout",
     "output_type": "stream",
     "text": [
      " 11620 | Cost: 13.497803709\nIteration:"
     ]
    },
    {
     "name": "stdout",
     "output_type": "stream",
     "text": [
      " 11630 | Cost: 13.5878947578\nIteration:"
     ]
    },
    {
     "name": "stdout",
     "output_type": "stream",
     "text": [
      " 11640 | Cost: 11.8499386068\nIteration:"
     ]
    },
    {
     "name": "stdout",
     "output_type": "stream",
     "text": [
      " 11650 | Cost: 13.3293621603\nIteration:"
     ]
    },
    {
     "name": "stdout",
     "output_type": "stream",
     "text": [
      " 11660 | Cost: 12.0373504789\nIteration:"
     ]
    },
    {
     "name": "stdout",
     "output_type": "stream",
     "text": [
      " 11670 | Cost: 11.5662336887\nIteration:"
     ]
    },
    {
     "name": "stdout",
     "output_type": "stream",
     "text": [
      " 11680 | Cost: 12.3511489034\nIteration:"
     ]
    },
    {
     "name": "stdout",
     "output_type": "stream",
     "text": [
      " 11690 | Cost: 11.8211767196\nIteration:"
     ]
    },
    {
     "name": "stdout",
     "output_type": "stream",
     "text": [
      " 11700 | Cost: 10.553969532\nIteration:"
     ]
    },
    {
     "name": "stdout",
     "output_type": "stream",
     "text": [
      " 11710 | Cost: 11.7487437033\nIteration:"
     ]
    },
    {
     "name": "stdout",
     "output_type": "stream",
     "text": [
      " 11720 | Cost: 13.9229649997\nIteration:"
     ]
    },
    {
     "name": "stdout",
     "output_type": "stream",
     "text": [
      " 11730 | Cost: 11.8201541666\nIteration:"
     ]
    },
    {
     "name": "stdout",
     "output_type": "stream",
     "text": [
      " 11740 | Cost: 14.3946118992\nIteration:"
     ]
    },
    {
     "name": "stdout",
     "output_type": "stream",
     "text": [
      " 11750 | Cost: 12.8010899042\nIteration:"
     ]
    },
    {
     "name": "stdout",
     "output_type": "stream",
     "text": [
      " 11760 | Cost: 11.7965335797\nIteration:"
     ]
    },
    {
     "name": "stdout",
     "output_type": "stream",
     "text": [
      " 11770 | Cost: 12.0349393098\nIteration:"
     ]
    },
    {
     "name": "stdout",
     "output_type": "stream",
     "text": [
      " 11780 | Cost: 12.5664424501\nIteration:"
     ]
    },
    {
     "name": "stdout",
     "output_type": "stream",
     "text": [
      " 11790 | Cost: 10.3268427186\nIteration:"
     ]
    },
    {
     "name": "stdout",
     "output_type": "stream",
     "text": [
      " 11800 | Cost: 13.4403804496\nIteration:"
     ]
    },
    {
     "name": "stdout",
     "output_type": "stream",
     "text": [
      " 11810 | Cost: 12.9070044421\nIteration:"
     ]
    },
    {
     "name": "stdout",
     "output_type": "stream",
     "text": [
      " 11820 | Cost: 11.5585179129\nIteration:"
     ]
    },
    {
     "name": "stdout",
     "output_type": "stream",
     "text": [
      " 11830 | Cost: 12.9560455461\nIteration:"
     ]
    },
    {
     "name": "stdout",
     "output_type": "stream",
     "text": [
      " 11840 | Cost: 11.7768960288\nIteration:"
     ]
    },
    {
     "name": "stdout",
     "output_type": "stream",
     "text": [
      " 11850 | Cost: 11.460260941\nIteration:"
     ]
    },
    {
     "name": "stdout",
     "output_type": "stream",
     "text": [
      " 11860 | Cost: 11.8182475735\nIteration:"
     ]
    },
    {
     "name": "stdout",
     "output_type": "stream",
     "text": [
      " 11870 | Cost: 11.3065547225\nIteration:"
     ]
    },
    {
     "name": "stdout",
     "output_type": "stream",
     "text": [
      " 11880 | Cost: 11.6788484216\nIteration:"
     ]
    },
    {
     "name": "stdout",
     "output_type": "stream",
     "text": [
      " 11890 | Cost: 11.6253662711\nIteration:"
     ]
    },
    {
     "name": "stdout",
     "output_type": "stream",
     "text": [
      " 11900 | Cost: 11.2678505636\nIteration:"
     ]
    },
    {
     "name": "stdout",
     "output_type": "stream",
     "text": [
      " 11910 | Cost: 11.0114445702\nIteration:"
     ]
    },
    {
     "name": "stdout",
     "output_type": "stream",
     "text": [
      " 11920 | Cost: 11.8560362775\nIteration:"
     ]
    },
    {
     "name": "stdout",
     "output_type": "stream",
     "text": [
      " 11930 | Cost: 10.1535925542\nIteration:"
     ]
    },
    {
     "name": "stdout",
     "output_type": "stream",
     "text": [
      " 11940 | Cost: 13.5345424878\nIteration:"
     ]
    },
    {
     "name": "stdout",
     "output_type": "stream",
     "text": [
      " 11950 | Cost: 10.6656289404\nIteration:"
     ]
    },
    {
     "name": "stdout",
     "output_type": "stream",
     "text": [
      " 11960 | Cost: 11.4721923357\nIteration:"
     ]
    },
    {
     "name": "stdout",
     "output_type": "stream",
     "text": [
      " 11970 | Cost: 11.4520715366\nIteration:"
     ]
    },
    {
     "name": "stdout",
     "output_type": "stream",
     "text": [
      " 11980 | Cost: 11.4872641021\nIteration:"
     ]
    },
    {
     "name": "stdout",
     "output_type": "stream",
     "text": [
      " 11990 | Cost: 10.1303036176\nIteration:"
     ]
    },
    {
     "name": "stdout",
     "output_type": "stream",
     "text": [
      " 12000 | Cost: 11.7269268309\nIteration:"
     ]
    },
    {
     "name": "stdout",
     "output_type": "stream",
     "text": [
      " 12010 | Cost: 11.3699307149\nIteration:"
     ]
    },
    {
     "name": "stdout",
     "output_type": "stream",
     "text": [
      " 12020 | Cost: 12.1206174397\nIteration:"
     ]
    },
    {
     "name": "stdout",
     "output_type": "stream",
     "text": [
      " 12030 | Cost: 15.1546471953\nIteration:"
     ]
    },
    {
     "name": "stdout",
     "output_type": "stream",
     "text": [
      " 12040 | Cost: 10.9237804738\nIteration:"
     ]
    },
    {
     "name": "stdout",
     "output_type": "stream",
     "text": [
      " 12050 | Cost: 12.0780650599\nIteration:"
     ]
    },
    {
     "name": "stdout",
     "output_type": "stream",
     "text": [
      " 12060 | Cost: 12.8495737337\nIteration:"
     ]
    },
    {
     "name": "stdout",
     "output_type": "stream",
     "text": [
      " 12070 | Cost: 12.6066403159\nIteration:"
     ]
    },
    {
     "name": "stdout",
     "output_type": "stream",
     "text": [
      " 12080 | Cost: 13.3847361226\nIteration:"
     ]
    },
    {
     "name": "stdout",
     "output_type": "stream",
     "text": [
      " 12090 | Cost: 11.8822629699\nIteration:"
     ]
    },
    {
     "name": "stdout",
     "output_type": "stream",
     "text": [
      " 12100 | Cost: 11.6898901577\nIteration:"
     ]
    },
    {
     "name": "stdout",
     "output_type": "stream",
     "text": [
      " 12110 | Cost: 12.2706580862\nIteration:"
     ]
    },
    {
     "name": "stdout",
     "output_type": "stream",
     "text": [
      " 12120 | Cost: 10.471504329\nIteration:"
     ]
    },
    {
     "name": "stdout",
     "output_type": "stream",
     "text": [
      " 12130 | Cost: 11.6068834544\nIteration:"
     ]
    },
    {
     "name": "stdout",
     "output_type": "stream",
     "text": [
      " 12140 | Cost: 11.9193446973\nIteration:"
     ]
    },
    {
     "name": "stdout",
     "output_type": "stream",
     "text": [
      " 12150 | Cost: 11.0990475517\nIteration:"
     ]
    },
    {
     "name": "stdout",
     "output_type": "stream",
     "text": [
      " 12160 | Cost: 11.2440892533\nIteration:"
     ]
    },
    {
     "name": "stdout",
     "output_type": "stream",
     "text": [
      " 12170 | Cost: 11.9443785397\nIteration:"
     ]
    },
    {
     "name": "stdout",
     "output_type": "stream",
     "text": [
      " 12180 | Cost: 11.0049782367\nIteration:"
     ]
    },
    {
     "name": "stdout",
     "output_type": "stream",
     "text": [
      " 12190 | Cost: 13.5876554826\nIteration:"
     ]
    },
    {
     "name": "stdout",
     "output_type": "stream",
     "text": [
      " 12200 | Cost: 11.9759076615\nIteration:"
     ]
    },
    {
     "name": "stdout",
     "output_type": "stream",
     "text": [
      " 12210 | Cost: 12.5031514213\nIteration:"
     ]
    },
    {
     "name": "stdout",
     "output_type": "stream",
     "text": [
      " 12220 | Cost: 11.1066893023\nIteration:"
     ]
    },
    {
     "name": "stdout",
     "output_type": "stream",
     "text": [
      " 12230 | Cost: 10.4696687054\nIteration:"
     ]
    },
    {
     "name": "stdout",
     "output_type": "stream",
     "text": [
      " 12240 | Cost: 10.8363236245\nIteration:"
     ]
    },
    {
     "name": "stdout",
     "output_type": "stream",
     "text": [
      " 12250 | Cost: 12.2551988605\nIteration:"
     ]
    },
    {
     "name": "stdout",
     "output_type": "stream",
     "text": [
      " 12260 | Cost: 11.7503410873\nIteration:"
     ]
    },
    {
     "name": "stdout",
     "output_type": "stream",
     "text": [
      " 12270 | Cost: 12.8733040657\nIteration:"
     ]
    },
    {
     "name": "stdout",
     "output_type": "stream",
     "text": [
      " 12280 | Cost: 12.3043688925\nIteration:"
     ]
    },
    {
     "name": "stdout",
     "output_type": "stream",
     "text": [
      " 12290 | Cost: 12.9804130287\nIteration:"
     ]
    },
    {
     "name": "stdout",
     "output_type": "stream",
     "text": [
      " 12300 | Cost: 13.5999438163\nIteration:"
     ]
    },
    {
     "name": "stdout",
     "output_type": "stream",
     "text": [
      " 12310 | Cost: 12.0571372757\nIteration:"
     ]
    },
    {
     "name": "stdout",
     "output_type": "stream",
     "text": [
      " 12320 | Cost: 10.8109017642\nIteration:"
     ]
    },
    {
     "name": "stdout",
     "output_type": "stream",
     "text": [
      " 12330 | Cost: 12.469482376\nIteration:"
     ]
    },
    {
     "name": "stdout",
     "output_type": "stream",
     "text": [
      " 12340 | Cost: 10.3111401192\nIteration:"
     ]
    },
    {
     "name": "stdout",
     "output_type": "stream",
     "text": [
      " 12350 | Cost: 11.8235436152\nIteration:"
     ]
    },
    {
     "name": "stdout",
     "output_type": "stream",
     "text": [
      " 12360 | Cost: 10.1854555472\nIteration:"
     ]
    },
    {
     "name": "stdout",
     "output_type": "stream",
     "text": [
      " 12370 | Cost: 10.5178297371\nIteration:"
     ]
    },
    {
     "name": "stdout",
     "output_type": "stream",
     "text": [
      " 12380 | Cost: 10.9838483449\nIteration:"
     ]
    },
    {
     "name": "stdout",
     "output_type": "stream",
     "text": [
      " 12390 | Cost: 12.6807881135\nIteration:"
     ]
    },
    {
     "name": "stdout",
     "output_type": "stream",
     "text": [
      " 12400 | Cost: 12.7447231086\nIteration:"
     ]
    },
    {
     "name": "stdout",
     "output_type": "stream",
     "text": [
      " 12410 | Cost: 12.7659736064\nIteration:"
     ]
    },
    {
     "name": "stdout",
     "output_type": "stream",
     "text": [
      " 12420 | Cost: 10.3962496989\nIteration:"
     ]
    },
    {
     "name": "stdout",
     "output_type": "stream",
     "text": [
      " 12430 | Cost: 11.7977946909\nIteration:"
     ]
    },
    {
     "name": "stdout",
     "output_type": "stream",
     "text": [
      " 12440 | Cost: 11.3985354129\nIteration:"
     ]
    },
    {
     "name": "stdout",
     "output_type": "stream",
     "text": [
      " 12450 | Cost: 12.4038738404\nIteration:"
     ]
    },
    {
     "name": "stdout",
     "output_type": "stream",
     "text": [
      " 12460 | Cost: 11.2502080434\nIteration:"
     ]
    },
    {
     "name": "stdout",
     "output_type": "stream",
     "text": [
      " 12470 | Cost: 9.56892433637\nIteration:"
     ]
    },
    {
     "name": "stdout",
     "output_type": "stream",
     "text": [
      " 12480 | Cost: 11.5739287644\nIteration:"
     ]
    },
    {
     "name": "stdout",
     "output_type": "stream",
     "text": [
      " 12490 | Cost: 11.9395663525\nIteration:"
     ]
    },
    {
     "name": "stdout",
     "output_type": "stream",
     "text": [
      " 12500 | Cost: 9.98494818065\nIteration:"
     ]
    },
    {
     "name": "stdout",
     "output_type": "stream",
     "text": [
      " 12510 | Cost: 10.8682542963\nIteration:"
     ]
    },
    {
     "name": "stdout",
     "output_type": "stream",
     "text": [
      " 12520 | Cost: 11.7199774771\nIteration:"
     ]
    },
    {
     "name": "stdout",
     "output_type": "stream",
     "text": [
      " 12530 | Cost: 12.8218258762\nIteration:"
     ]
    },
    {
     "name": "stdout",
     "output_type": "stream",
     "text": [
      " 12540 | Cost: 13.1845525935\nIteration:"
     ]
    },
    {
     "name": "stdout",
     "output_type": "stream",
     "text": [
      " 12550 | Cost: 11.9564392225\nIteration:"
     ]
    },
    {
     "name": "stdout",
     "output_type": "stream",
     "text": [
      " 12560 | Cost: 10.8769945018\nIteration:"
     ]
    },
    {
     "name": "stdout",
     "output_type": "stream",
     "text": [
      " 12570 | Cost: 13.6312619386\nIteration:"
     ]
    },
    {
     "name": "stdout",
     "output_type": "stream",
     "text": [
      " 12580 | Cost: 12.657881726\nIteration:"
     ]
    },
    {
     "name": "stdout",
     "output_type": "stream",
     "text": [
      " 12590 | Cost: 12.2552720776\nIteration:"
     ]
    },
    {
     "name": "stdout",
     "output_type": "stream",
     "text": [
      " 12600 | Cost: 12.1614243695\nIteration:"
     ]
    },
    {
     "name": "stdout",
     "output_type": "stream",
     "text": [
      " 12610 | Cost: 10.946924404\nIteration:"
     ]
    },
    {
     "name": "stdout",
     "output_type": "stream",
     "text": [
      " 12620 | Cost: 11.7675938174\nIteration:"
     ]
    },
    {
     "name": "stdout",
     "output_type": "stream",
     "text": [
      " 12630 | Cost: 11.3705055177\nIteration:"
     ]
    },
    {
     "name": "stdout",
     "output_type": "stream",
     "text": [
      " 12640 | Cost: 13.2281819796\nIteration:"
     ]
    },
    {
     "name": "stdout",
     "output_type": "stream",
     "text": [
      " 12650 | Cost: 11.3356039118\nIteration:"
     ]
    },
    {
     "name": "stdout",
     "output_type": "stream",
     "text": [
      " 12660 | Cost: 12.4808602654\nIteration:"
     ]
    },
    {
     "name": "stdout",
     "output_type": "stream",
     "text": [
      " 12670 | Cost: 12.3566631413\nIteration:"
     ]
    },
    {
     "name": "stdout",
     "output_type": "stream",
     "text": [
      " 12680 | Cost: 11.679967457\nIteration:"
     ]
    },
    {
     "name": "stdout",
     "output_type": "stream",
     "text": [
      " 12690 | Cost: 12.4512695057\nIteration:"
     ]
    },
    {
     "name": "stdout",
     "output_type": "stream",
     "text": [
      " 12700 | Cost: 11.4425857256\nIteration:"
     ]
    },
    {
     "name": "stdout",
     "output_type": "stream",
     "text": [
      " 12710 | Cost: 11.5196465522\nIteration:"
     ]
    },
    {
     "name": "stdout",
     "output_type": "stream",
     "text": [
      " 12720 | Cost: 12.7791638631\nIteration:"
     ]
    },
    {
     "name": "stdout",
     "output_type": "stream",
     "text": [
      " 12730 | Cost: 10.6865009035\nIteration:"
     ]
    },
    {
     "name": "stdout",
     "output_type": "stream",
     "text": [
      " 12740 | Cost: 11.3091423763\nIteration:"
     ]
    },
    {
     "name": "stdout",
     "output_type": "stream",
     "text": [
      " 12750 | Cost: 13.261565126\nIteration:"
     ]
    },
    {
     "name": "stdout",
     "output_type": "stream",
     "text": [
      " 12760 | Cost: 10.5917197509\nIteration:"
     ]
    },
    {
     "name": "stdout",
     "output_type": "stream",
     "text": [
      " 12770 | Cost: 12.5213621066\nIteration:"
     ]
    },
    {
     "name": "stdout",
     "output_type": "stream",
     "text": [
      " 12780 | Cost: 9.3278550059\nIteration:"
     ]
    },
    {
     "name": "stdout",
     "output_type": "stream",
     "text": [
      " 12790 | Cost: 11.2534105995\nIteration:"
     ]
    },
    {
     "name": "stdout",
     "output_type": "stream",
     "text": [
      " 12800 | Cost: 11.8085644786\nIteration:"
     ]
    },
    {
     "name": "stdout",
     "output_type": "stream",
     "text": [
      " 12810 | Cost: 11.519349467\nIteration:"
     ]
    },
    {
     "name": "stdout",
     "output_type": "stream",
     "text": [
      " 12820 | Cost: 14.1078276787\nIteration:"
     ]
    },
    {
     "name": "stdout",
     "output_type": "stream",
     "text": [
      " 12830 | Cost: 12.9683558826\nIteration:"
     ]
    },
    {
     "name": "stdout",
     "output_type": "stream",
     "text": [
      " 12840 | Cost: 13.3385465006\nIteration:"
     ]
    },
    {
     "name": "stdout",
     "output_type": "stream",
     "text": [
      " 12850 | Cost: 12.5138414958\nIteration:"
     ]
    },
    {
     "name": "stdout",
     "output_type": "stream",
     "text": [
      " 12860 | Cost: 11.1617617211\nIteration:"
     ]
    },
    {
     "name": "stdout",
     "output_type": "stream",
     "text": [
      " 12870 | Cost: 10.7223265509\nIteration:"
     ]
    },
    {
     "name": "stdout",
     "output_type": "stream",
     "text": [
      " 12880 | Cost: 10.8664527185\nIteration:"
     ]
    },
    {
     "name": "stdout",
     "output_type": "stream",
     "text": [
      " 12890 | Cost: 12.9707297551\nIteration:"
     ]
    },
    {
     "name": "stdout",
     "output_type": "stream",
     "text": [
      " 12900 | Cost: 10.517031073\nIteration:"
     ]
    },
    {
     "name": "stdout",
     "output_type": "stream",
     "text": [
      " 12910 | Cost: 12.8165502579\nIteration:"
     ]
    },
    {
     "name": "stdout",
     "output_type": "stream",
     "text": [
      " 12920 | Cost: 12.7192001619\nIteration:"
     ]
    },
    {
     "name": "stdout",
     "output_type": "stream",
     "text": [
      " 12930 | Cost: 11.5660043088\nIteration:"
     ]
    },
    {
     "name": "stdout",
     "output_type": "stream",
     "text": [
      " 12940 | Cost: 11.6433899778\nIteration:"
     ]
    },
    {
     "name": "stdout",
     "output_type": "stream",
     "text": [
      " 12950 | Cost: 11.783212023\nIteration:"
     ]
    },
    {
     "name": "stdout",
     "output_type": "stream",
     "text": [
      " 12960 | Cost: 9.92796234069\nIteration:"
     ]
    },
    {
     "name": "stdout",
     "output_type": "stream",
     "text": [
      " 12970 | Cost: 10.0855841367\nIteration:"
     ]
    },
    {
     "name": "stdout",
     "output_type": "stream",
     "text": [
      " 12980 | Cost: 12.8532718038\nIteration:"
     ]
    },
    {
     "name": "stdout",
     "output_type": "stream",
     "text": [
      " 12990 | Cost: 11.4403253701\nIteration:"
     ]
    },
    {
     "name": "stdout",
     "output_type": "stream",
     "text": [
      " 13000 | Cost: 14.0381305413\nIteration:"
     ]
    },
    {
     "name": "stdout",
     "output_type": "stream",
     "text": [
      " 13010 | Cost: 12.5378027557\nIteration:"
     ]
    },
    {
     "name": "stdout",
     "output_type": "stream",
     "text": [
      " 13020 | Cost: 10.4289034476\nIteration:"
     ]
    },
    {
     "name": "stdout",
     "output_type": "stream",
     "text": [
      " 13030 | Cost: 10.893097768\nIteration:"
     ]
    },
    {
     "name": "stdout",
     "output_type": "stream",
     "text": [
      " 13040 | Cost: 11.4696610161\nIteration:"
     ]
    },
    {
     "name": "stdout",
     "output_type": "stream",
     "text": [
      " 13050 | Cost: 11.9697536619\nIteration:"
     ]
    },
    {
     "name": "stdout",
     "output_type": "stream",
     "text": [
      " 13060 | Cost: 11.3407681635\nIteration:"
     ]
    },
    {
     "name": "stdout",
     "output_type": "stream",
     "text": [
      " 13070 | Cost: 12.5216536931\nIteration:"
     ]
    },
    {
     "name": "stdout",
     "output_type": "stream",
     "text": [
      " 13080 | Cost: 11.5230767287\nIteration:"
     ]
    },
    {
     "name": "stdout",
     "output_type": "stream",
     "text": [
      " 13090 | Cost: 12.5605675009\nIteration:"
     ]
    },
    {
     "name": "stdout",
     "output_type": "stream",
     "text": [
      " 13100 | Cost: 12.1409340094\nIteration:"
     ]
    },
    {
     "name": "stdout",
     "output_type": "stream",
     "text": [
      " 13110 | Cost: 10.5215495091\nIteration:"
     ]
    },
    {
     "name": "stdout",
     "output_type": "stream",
     "text": [
      " 13120 | Cost: 10.4228502967\nIteration:"
     ]
    },
    {
     "name": "stdout",
     "output_type": "stream",
     "text": [
      " 13130 | Cost: 12.3366651442\nIteration:"
     ]
    },
    {
     "name": "stdout",
     "output_type": "stream",
     "text": [
      " 13140 | Cost: 10.6428482286\nIteration:"
     ]
    },
    {
     "name": "stdout",
     "output_type": "stream",
     "text": [
      " 13150 | Cost: 11.4215888166\nIteration:"
     ]
    },
    {
     "name": "stdout",
     "output_type": "stream",
     "text": [
      " 13160 | Cost: 12.5043097604\nIteration:"
     ]
    },
    {
     "name": "stdout",
     "output_type": "stream",
     "text": [
      " 13170 | Cost: 11.2656453542\nIteration:"
     ]
    },
    {
     "name": "stdout",
     "output_type": "stream",
     "text": [
      " 13180 | Cost: 11.5532777952\nIteration:"
     ]
    },
    {
     "name": "stdout",
     "output_type": "stream",
     "text": [
      " 13190 | Cost: 11.8256429559\nIteration:"
     ]
    },
    {
     "name": "stdout",
     "output_type": "stream",
     "text": [
      " 13200 | Cost: 12.2211005973\nIteration:"
     ]
    },
    {
     "name": "stdout",
     "output_type": "stream",
     "text": [
      " 13210 | Cost: 11.6863630707\nIteration:"
     ]
    },
    {
     "name": "stdout",
     "output_type": "stream",
     "text": [
      " 13220 | Cost: 11.8242559318\nIteration:"
     ]
    },
    {
     "name": "stdout",
     "output_type": "stream",
     "text": [
      " 13230 | Cost: 11.4399206744\nIteration:"
     ]
    },
    {
     "name": "stdout",
     "output_type": "stream",
     "text": [
      " 13240 | Cost: 11.2646722659\nIteration:"
     ]
    },
    {
     "name": "stdout",
     "output_type": "stream",
     "text": [
      " 13250 | Cost: 11.407787829\nIteration:"
     ]
    },
    {
     "name": "stdout",
     "output_type": "stream",
     "text": [
      " 13260 | Cost: 11.6315250382\nIteration:"
     ]
    },
    {
     "name": "stdout",
     "output_type": "stream",
     "text": [
      " 13270 | Cost: 12.4911567244\nIteration:"
     ]
    },
    {
     "name": "stdout",
     "output_type": "stream",
     "text": [
      " 13280 | Cost: 12.807963923\nIteration:"
     ]
    },
    {
     "name": "stdout",
     "output_type": "stream",
     "text": [
      " 13290 | Cost: 11.2879029468\nIteration:"
     ]
    },
    {
     "name": "stdout",
     "output_type": "stream",
     "text": [
      " 13300 | Cost: 12.2108373484\nIteration:"
     ]
    },
    {
     "name": "stdout",
     "output_type": "stream",
     "text": [
      " 13310 | Cost: 11.9128412824\nIteration:"
     ]
    },
    {
     "name": "stdout",
     "output_type": "stream",
     "text": [
      " 13320 | Cost: 11.1464679607\nIteration:"
     ]
    },
    {
     "name": "stdout",
     "output_type": "stream",
     "text": [
      " 13330 | Cost: 12.6631163567\nIteration:"
     ]
    },
    {
     "name": "stdout",
     "output_type": "stream",
     "text": [
      " 13340 | Cost: 10.9031434396\nIteration:"
     ]
    },
    {
     "name": "stdout",
     "output_type": "stream",
     "text": [
      " 13350 | Cost: 11.7137633195\nIteration:"
     ]
    },
    {
     "name": "stdout",
     "output_type": "stream",
     "text": [
      " 13360 | Cost: 12.0735231338\nIteration:"
     ]
    },
    {
     "name": "stdout",
     "output_type": "stream",
     "text": [
      " 13370 | Cost: 10.5637413199\nIteration:"
     ]
    },
    {
     "name": "stdout",
     "output_type": "stream",
     "text": [
      " 13380 | Cost: 10.4703409518\nIteration:"
     ]
    },
    {
     "name": "stdout",
     "output_type": "stream",
     "text": [
      " 13390 | Cost: 12.1242844619\nIteration:"
     ]
    },
    {
     "name": "stdout",
     "output_type": "stream",
     "text": [
      " 13400 | Cost: 10.7150142926\nIteration:"
     ]
    },
    {
     "name": "stdout",
     "output_type": "stream",
     "text": [
      " 13410 | Cost: 11.6727772652\nIteration:"
     ]
    },
    {
     "name": "stdout",
     "output_type": "stream",
     "text": [
      " 13420 | Cost: 11.0413130312\nIteration:"
     ]
    },
    {
     "name": "stdout",
     "output_type": "stream",
     "text": [
      " 13430 | Cost: 10.9234347387\nIteration:"
     ]
    },
    {
     "name": "stdout",
     "output_type": "stream",
     "text": [
      " 13440 | Cost: 10.042716469\nIteration:"
     ]
    },
    {
     "name": "stdout",
     "output_type": "stream",
     "text": [
      " 13450 | Cost: 13.7603267765\nIteration:"
     ]
    },
    {
     "name": "stdout",
     "output_type": "stream",
     "text": [
      " 13460 | Cost: 12.0025865131\nIteration:"
     ]
    },
    {
     "name": "stdout",
     "output_type": "stream",
     "text": [
      " 13470 | Cost: 10.0467153361\nIteration:"
     ]
    },
    {
     "name": "stdout",
     "output_type": "stream",
     "text": [
      " 13480 | Cost: 11.4575810931\nIteration:"
     ]
    },
    {
     "name": "stdout",
     "output_type": "stream",
     "text": [
      " 13490 | Cost: 11.9869835403\nIteration:"
     ]
    },
    {
     "name": "stdout",
     "output_type": "stream",
     "text": [
      " 13500 | Cost: 9.52279320168\nIteration:"
     ]
    },
    {
     "name": "stdout",
     "output_type": "stream",
     "text": [
      " 13510 | Cost: 10.5328485796\nIteration:"
     ]
    },
    {
     "name": "stdout",
     "output_type": "stream",
     "text": [
      " 13520 | Cost: 11.1315709262\nIteration:"
     ]
    },
    {
     "name": "stdout",
     "output_type": "stream",
     "text": [
      " 13530 | Cost: 13.2691985861\nIteration:"
     ]
    },
    {
     "name": "stdout",
     "output_type": "stream",
     "text": [
      " 13540 | Cost: 11.2539384354\nIteration:"
     ]
    },
    {
     "name": "stdout",
     "output_type": "stream",
     "text": [
      " 13550 | Cost: 12.5881251011\nIteration:"
     ]
    },
    {
     "name": "stdout",
     "output_type": "stream",
     "text": [
      " 13560 | Cost: 11.4613375861\nIteration:"
     ]
    },
    {
     "name": "stdout",
     "output_type": "stream",
     "text": [
      " 13570 | Cost: 9.82654432763\nIteration:"
     ]
    },
    {
     "name": "stdout",
     "output_type": "stream",
     "text": [
      " 13580 | Cost: 10.6706807976\nIteration:"
     ]
    },
    {
     "name": "stdout",
     "output_type": "stream",
     "text": [
      " 13590 | Cost: 11.4975351119\nIteration:"
     ]
    },
    {
     "name": "stdout",
     "output_type": "stream",
     "text": [
      " 13600 | Cost: 11.7056997204\nIteration:"
     ]
    },
    {
     "name": "stdout",
     "output_type": "stream",
     "text": [
      " 13610 | Cost: 11.6071604116\nIteration:"
     ]
    },
    {
     "name": "stdout",
     "output_type": "stream",
     "text": [
      " 13620 | Cost: 11.9106311561\nIteration:"
     ]
    },
    {
     "name": "stdout",
     "output_type": "stream",
     "text": [
      " 13630 | Cost: 9.87079830962\nIteration:"
     ]
    },
    {
     "name": "stdout",
     "output_type": "stream",
     "text": [
      " 13640 | Cost: 12.4503709769\nIteration:"
     ]
    },
    {
     "name": "stdout",
     "output_type": "stream",
     "text": [
      " 13650 | Cost: 9.97540313058\nIteration:"
     ]
    },
    {
     "name": "stdout",
     "output_type": "stream",
     "text": [
      " 13660 | Cost: 9.60031673291\nIteration:"
     ]
    },
    {
     "name": "stdout",
     "output_type": "stream",
     "text": [
      " 13670 | Cost: 11.8637732799\nIteration:"
     ]
    },
    {
     "name": "stdout",
     "output_type": "stream",
     "text": [
      " 13680 | Cost: 10.9440943457\nIteration:"
     ]
    },
    {
     "name": "stdout",
     "output_type": "stream",
     "text": [
      " 13690 | Cost: 11.998547553\nIteration:"
     ]
    },
    {
     "name": "stdout",
     "output_type": "stream",
     "text": [
      " 13700 | Cost: 11.7974666111\nIteration:"
     ]
    },
    {
     "name": "stdout",
     "output_type": "stream",
     "text": [
      " 13710 | Cost: 10.8321033955\nIteration:"
     ]
    },
    {
     "name": "stdout",
     "output_type": "stream",
     "text": [
      " 13720 | Cost: 11.6529375878\nIteration:"
     ]
    },
    {
     "name": "stdout",
     "output_type": "stream",
     "text": [
      " 13730 | Cost: 10.6072914279\nIteration:"
     ]
    },
    {
     "name": "stdout",
     "output_type": "stream",
     "text": [
      " 13740 | Cost: 12.0253030501\nIteration:"
     ]
    },
    {
     "name": "stdout",
     "output_type": "stream",
     "text": [
      " 13750 | Cost: 12.164091137\nIteration:"
     ]
    },
    {
     "name": "stdout",
     "output_type": "stream",
     "text": [
      " 13760 | Cost: 12.0204835868\nIteration:"
     ]
    },
    {
     "name": "stdout",
     "output_type": "stream",
     "text": [
      " 13770 | Cost: 13.8171162627\nIteration:"
     ]
    },
    {
     "name": "stdout",
     "output_type": "stream",
     "text": [
      " 13780 | Cost: 11.9356751607\nIteration:"
     ]
    },
    {
     "name": "stdout",
     "output_type": "stream",
     "text": [
      " 13790 | Cost: 10.9800398538\nIteration:"
     ]
    },
    {
     "name": "stdout",
     "output_type": "stream",
     "text": [
      " 13800 | Cost: 10.159225733\nIteration:"
     ]
    },
    {
     "name": "stdout",
     "output_type": "stream",
     "text": [
      " 13810 | Cost: 12.0476040421\nIteration:"
     ]
    },
    {
     "name": "stdout",
     "output_type": "stream",
     "text": [
      " 13820 | Cost: 10.1837861657\nIteration:"
     ]
    },
    {
     "name": "stdout",
     "output_type": "stream",
     "text": [
      " 13830 | Cost: 10.9461534231\nIteration:"
     ]
    },
    {
     "name": "stdout",
     "output_type": "stream",
     "text": [
      " 13840 | Cost: 10.5664315036\nIteration:"
     ]
    },
    {
     "name": "stdout",
     "output_type": "stream",
     "text": [
      " 13850 | Cost: 10.5020707537\nIteration:"
     ]
    },
    {
     "name": "stdout",
     "output_type": "stream",
     "text": [
      " 13860 | Cost: 10.5876934211\nIteration:"
     ]
    },
    {
     "name": "stdout",
     "output_type": "stream",
     "text": [
      " 13870 | Cost: 11.7428631351\nIteration:"
     ]
    },
    {
     "name": "stdout",
     "output_type": "stream",
     "text": [
      " 13880 | Cost: 12.3055415145\nIteration:"
     ]
    },
    {
     "name": "stdout",
     "output_type": "stream",
     "text": [
      " 13890 | Cost: 12.6064004405\nIteration:"
     ]
    },
    {
     "name": "stdout",
     "output_type": "stream",
     "text": [
      " 13900 | Cost: 11.914864221\nIteration:"
     ]
    },
    {
     "name": "stdout",
     "output_type": "stream",
     "text": [
      " 13910 | Cost: 10.615681658\nIteration:"
     ]
    },
    {
     "name": "stdout",
     "output_type": "stream",
     "text": [
      " 13920 | Cost: 10.018003167\nIteration:"
     ]
    },
    {
     "name": "stdout",
     "output_type": "stream",
     "text": [
      " 13930 | Cost: 10.0694822651\nIteration:"
     ]
    },
    {
     "name": "stdout",
     "output_type": "stream",
     "text": [
      " 13940 | Cost: 11.2714187774\nIteration:"
     ]
    },
    {
     "name": "stdout",
     "output_type": "stream",
     "text": [
      " 13950 | Cost: 9.66299774828\nIteration:"
     ]
    },
    {
     "name": "stdout",
     "output_type": "stream",
     "text": [
      " 13960 | Cost: 11.4628693179\nIteration:"
     ]
    },
    {
     "name": "stdout",
     "output_type": "stream",
     "text": [
      " 13970 | Cost: 10.4864364793\nIteration:"
     ]
    },
    {
     "name": "stdout",
     "output_type": "stream",
     "text": [
      " 13980 | Cost: 10.6143310807\nIteration:"
     ]
    },
    {
     "name": "stdout",
     "output_type": "stream",
     "text": [
      " 13990 | Cost: 11.7804790184\nIteration:"
     ]
    },
    {
     "name": "stdout",
     "output_type": "stream",
     "text": [
      " 14000 | Cost: 11.6540845754\nIteration:"
     ]
    },
    {
     "name": "stdout",
     "output_type": "stream",
     "text": [
      " 14010 | Cost: 10.9880787504\nIteration:"
     ]
    },
    {
     "name": "stdout",
     "output_type": "stream",
     "text": [
      " 14020 | Cost: 10.6916492603\nIteration:"
     ]
    },
    {
     "name": "stdout",
     "output_type": "stream",
     "text": [
      " 14030 | Cost: 11.8687591046\nIteration:"
     ]
    },
    {
     "name": "stdout",
     "output_type": "stream",
     "text": [
      " 14040 | Cost: 10.7520199886\nIteration:"
     ]
    },
    {
     "name": "stdout",
     "output_type": "stream",
     "text": [
      " 14050 | Cost: 12.6429666213\nIteration:"
     ]
    },
    {
     "name": "stdout",
     "output_type": "stream",
     "text": [
      " 14060 | Cost: 10.49088671\nIteration:"
     ]
    },
    {
     "name": "stdout",
     "output_type": "stream",
     "text": [
      " 14070 | Cost: 10.3997653105\nIteration:"
     ]
    },
    {
     "name": "stdout",
     "output_type": "stream",
     "text": [
      " 14080 | Cost: 11.6540154008\nIteration:"
     ]
    },
    {
     "name": "stdout",
     "output_type": "stream",
     "text": [
      " 14090 | Cost: 8.30983644511\nIteration:"
     ]
    },
    {
     "name": "stdout",
     "output_type": "stream",
     "text": [
      " 14100 | Cost: 8.85887077506\nIteration:"
     ]
    },
    {
     "name": "stdout",
     "output_type": "stream",
     "text": [
      " 14110 | Cost: 11.3448496847\nIteration:"
     ]
    },
    {
     "name": "stdout",
     "output_type": "stream",
     "text": [
      " 14120 | Cost: 8.74171673464\nIteration:"
     ]
    },
    {
     "name": "stdout",
     "output_type": "stream",
     "text": [
      " 14130 | Cost: 11.6504332053\nIteration:"
     ]
    },
    {
     "name": "stdout",
     "output_type": "stream",
     "text": [
      " 14140 | Cost: 10.2668807475\nIteration:"
     ]
    },
    {
     "name": "stdout",
     "output_type": "stream",
     "text": [
      " 14150 | Cost: 7.86438377486\nIteration:"
     ]
    },
    {
     "name": "stdout",
     "output_type": "stream",
     "text": [
      " 14160 | Cost: 11.0946466858\nIteration:"
     ]
    },
    {
     "name": "stdout",
     "output_type": "stream",
     "text": [
      " 14170 | Cost: 11.0338564221\nIteration:"
     ]
    },
    {
     "name": "stdout",
     "output_type": "stream",
     "text": [
      " 14180 | Cost: 11.3819748323\nIteration:"
     ]
    },
    {
     "name": "stdout",
     "output_type": "stream",
     "text": [
      " 14190 | Cost: 11.0732708914\nIteration:"
     ]
    },
    {
     "name": "stdout",
     "output_type": "stream",
     "text": [
      " 14200 | Cost: 9.53499909824\nIteration:"
     ]
    },
    {
     "name": "stdout",
     "output_type": "stream",
     "text": [
      " 14210 | Cost: 11.0756434874\nIteration:"
     ]
    },
    {
     "name": "stdout",
     "output_type": "stream",
     "text": [
      " 14220 | Cost: 11.0053699912\nIteration:"
     ]
    },
    {
     "name": "stdout",
     "output_type": "stream",
     "text": [
      " 14230 | Cost: 11.4140483987\nIteration:"
     ]
    },
    {
     "name": "stdout",
     "output_type": "stream",
     "text": [
      " 14240 | Cost: 11.755735835\nIteration:"
     ]
    },
    {
     "name": "stdout",
     "output_type": "stream",
     "text": [
      " 14250 | Cost: 11.043706063\nIteration:"
     ]
    },
    {
     "name": "stdout",
     "output_type": "stream",
     "text": [
      " 14260 | Cost: 12.4288611706\nIteration:"
     ]
    },
    {
     "name": "stdout",
     "output_type": "stream",
     "text": [
      " 14270 | Cost: 11.0268644596\nIteration:"
     ]
    },
    {
     "name": "stdout",
     "output_type": "stream",
     "text": [
      " 14280 | Cost: 10.9494833006\nIteration:"
     ]
    },
    {
     "name": "stdout",
     "output_type": "stream",
     "text": [
      " 14290 | Cost: 10.0454510821\nIteration:"
     ]
    },
    {
     "name": "stdout",
     "output_type": "stream",
     "text": [
      " 14300 | Cost: 11.3550531705\nIteration:"
     ]
    },
    {
     "name": "stdout",
     "output_type": "stream",
     "text": [
      " 14310 | Cost: 10.0224402017\nIteration:"
     ]
    },
    {
     "name": "stdout",
     "output_type": "stream",
     "text": [
      " 14320 | Cost: 12.2115828041\nIteration:"
     ]
    },
    {
     "name": "stdout",
     "output_type": "stream",
     "text": [
      " 14330 | Cost: 11.8177823544\nIteration:"
     ]
    },
    {
     "name": "stdout",
     "output_type": "stream",
     "text": [
      " 14340 | Cost: 13.5147366271\nIteration:"
     ]
    },
    {
     "name": "stdout",
     "output_type": "stream",
     "text": [
      " 14350 | Cost: 12.4429426977\nIteration:"
     ]
    },
    {
     "name": "stdout",
     "output_type": "stream",
     "text": [
      " 14360 | Cost: 10.9030274917\nIteration:"
     ]
    },
    {
     "name": "stdout",
     "output_type": "stream",
     "text": [
      " 14370 | Cost: 12.983007351\nIteration:"
     ]
    },
    {
     "name": "stdout",
     "output_type": "stream",
     "text": [
      " 14380 | Cost: 10.7780445026\nIteration:"
     ]
    },
    {
     "name": "stdout",
     "output_type": "stream",
     "text": [
      " 14390 | Cost: 9.47381560461\nIteration:"
     ]
    },
    {
     "name": "stdout",
     "output_type": "stream",
     "text": [
      " 14400 | Cost: 12.7518439926\nIteration:"
     ]
    },
    {
     "name": "stdout",
     "output_type": "stream",
     "text": [
      " 14410 | Cost: 11.8880881108\nIteration:"
     ]
    },
    {
     "name": "stdout",
     "output_type": "stream",
     "text": [
      " 14420 | Cost: 9.95960692475\nIteration:"
     ]
    },
    {
     "name": "stdout",
     "output_type": "stream",
     "text": [
      " 14430 | Cost: 10.2440897954\nIteration:"
     ]
    },
    {
     "name": "stdout",
     "output_type": "stream",
     "text": [
      " 14440 | Cost: 10.4054003309\nIteration:"
     ]
    },
    {
     "name": "stdout",
     "output_type": "stream",
     "text": [
      " 14450 | Cost: 10.6214354299\nIteration:"
     ]
    },
    {
     "name": "stdout",
     "output_type": "stream",
     "text": [
      " 14460 | Cost: 9.89700322812\nIteration:"
     ]
    },
    {
     "name": "stdout",
     "output_type": "stream",
     "text": [
      " 14470 | Cost: 13.7604408632\nIteration:"
     ]
    },
    {
     "name": "stdout",
     "output_type": "stream",
     "text": [
      " 14480 | Cost: 10.8253114454\nIteration:"
     ]
    },
    {
     "name": "stdout",
     "output_type": "stream",
     "text": [
      " 14490 | Cost: 11.0463705105\nIteration:"
     ]
    },
    {
     "name": "stdout",
     "output_type": "stream",
     "text": [
      " 14500 | Cost: 11.3308173096\nIteration:"
     ]
    },
    {
     "name": "stdout",
     "output_type": "stream",
     "text": [
      " 14510 | Cost: 11.7120956455\nIteration:"
     ]
    },
    {
     "name": "stdout",
     "output_type": "stream",
     "text": [
      " 14520 | Cost: 10.0699598024\nIteration:"
     ]
    },
    {
     "name": "stdout",
     "output_type": "stream",
     "text": [
      " 14530 | Cost: 11.1092508645\nIteration:"
     ]
    },
    {
     "name": "stdout",
     "output_type": "stream",
     "text": [
      " 14540 | Cost: 11.1275072409\nIteration:"
     ]
    },
    {
     "name": "stdout",
     "output_type": "stream",
     "text": [
      " 14550 | Cost: 10.4779546295\nIteration:"
     ]
    },
    {
     "name": "stdout",
     "output_type": "stream",
     "text": [
      " 14560 | Cost: 10.5705806721\nIteration:"
     ]
    },
    {
     "name": "stdout",
     "output_type": "stream",
     "text": [
      " 14570 | Cost: 12.6555326098\nIteration:"
     ]
    },
    {
     "name": "stdout",
     "output_type": "stream",
     "text": [
      " 14580 | Cost: 9.92998729591\nIteration:"
     ]
    },
    {
     "name": "stdout",
     "output_type": "stream",
     "text": [
      " 14590 | Cost: 9.5191869793\nIteration:"
     ]
    },
    {
     "name": "stdout",
     "output_type": "stream",
     "text": [
      " 14600 | Cost: 11.8756332649\nIteration:"
     ]
    },
    {
     "name": "stdout",
     "output_type": "stream",
     "text": [
      " 14610 | Cost: 11.3769724551\nIteration:"
     ]
    },
    {
     "name": "stdout",
     "output_type": "stream",
     "text": [
      " 14620 | Cost: 12.1488344507\nIteration:"
     ]
    },
    {
     "name": "stdout",
     "output_type": "stream",
     "text": [
      " 14630 | Cost: 11.6090162192\nIteration:"
     ]
    },
    {
     "name": "stdout",
     "output_type": "stream",
     "text": [
      " 14640 | Cost: 12.0972841845\nIteration:"
     ]
    },
    {
     "name": "stdout",
     "output_type": "stream",
     "text": [
      " 14650 | Cost: 10.5850101661\nIteration:"
     ]
    },
    {
     "name": "stdout",
     "output_type": "stream",
     "text": [
      " 14660 | Cost: 10.3568464883\nIteration:"
     ]
    },
    {
     "name": "stdout",
     "output_type": "stream",
     "text": [
      " 14670 | Cost: 11.4805381219\nIteration:"
     ]
    },
    {
     "name": "stdout",
     "output_type": "stream",
     "text": [
      " 14680 | Cost: 11.1387230385\nIteration:"
     ]
    },
    {
     "name": "stdout",
     "output_type": "stream",
     "text": [
      " 14690 | Cost: 11.9470156163\nIteration:"
     ]
    },
    {
     "name": "stdout",
     "output_type": "stream",
     "text": [
      " 14700 | Cost: 10.7453950796\nIteration:"
     ]
    },
    {
     "name": "stdout",
     "output_type": "stream",
     "text": [
      " 14710 | Cost: 10.4543267231\nIteration:"
     ]
    },
    {
     "name": "stdout",
     "output_type": "stream",
     "text": [
      " 14720 | Cost: 10.2779261004\nIteration:"
     ]
    },
    {
     "name": "stdout",
     "output_type": "stream",
     "text": [
      " 14730 | Cost: 10.1482299694\nIteration:"
     ]
    },
    {
     "name": "stdout",
     "output_type": "stream",
     "text": [
      " 14740 | Cost: 14.4412953014\nIteration:"
     ]
    },
    {
     "name": "stdout",
     "output_type": "stream",
     "text": [
      " 14750 | Cost: 11.698333347\nIteration:"
     ]
    },
    {
     "name": "stdout",
     "output_type": "stream",
     "text": [
      " 14760 | Cost: 11.6116672316\nIteration:"
     ]
    },
    {
     "name": "stdout",
     "output_type": "stream",
     "text": [
      " 14770 | Cost: 10.8463636073\nIteration:"
     ]
    },
    {
     "name": "stdout",
     "output_type": "stream",
     "text": [
      " 14780 | Cost: 11.4193132011\nIteration:"
     ]
    },
    {
     "name": "stdout",
     "output_type": "stream",
     "text": [
      " 14790 | Cost: 9.86047175326\nIteration:"
     ]
    },
    {
     "name": "stdout",
     "output_type": "stream",
     "text": [
      " 14800 | Cost: 11.9217606347\nIteration:"
     ]
    },
    {
     "name": "stdout",
     "output_type": "stream",
     "text": [
      " 14810 | Cost: 11.1258108615\nIteration:"
     ]
    },
    {
     "name": "stdout",
     "output_type": "stream",
     "text": [
      " 14820 | Cost: 10.2344572657\nIteration:"
     ]
    },
    {
     "name": "stdout",
     "output_type": "stream",
     "text": [
      " 14830 | Cost: 12.2416610448\nIteration:"
     ]
    },
    {
     "name": "stdout",
     "output_type": "stream",
     "text": [
      " 14840 | Cost: 11.1433545062\nIteration:"
     ]
    },
    {
     "name": "stdout",
     "output_type": "stream",
     "text": [
      " 14850 | Cost: 9.95553655418\nIteration:"
     ]
    },
    {
     "name": "stdout",
     "output_type": "stream",
     "text": [
      " 14860 | Cost: 11.3378540704\nIteration:"
     ]
    },
    {
     "name": "stdout",
     "output_type": "stream",
     "text": [
      " 14870 | Cost: 12.2754566356\nIteration:"
     ]
    },
    {
     "name": "stdout",
     "output_type": "stream",
     "text": [
      " 14880 | Cost: 11.3184385369\nIteration:"
     ]
    },
    {
     "name": "stdout",
     "output_type": "stream",
     "text": [
      " 14890 | Cost: 10.7144161359\nIteration:"
     ]
    },
    {
     "name": "stdout",
     "output_type": "stream",
     "text": [
      " 14900 | Cost: 9.91952829935\nIteration:"
     ]
    },
    {
     "name": "stdout",
     "output_type": "stream",
     "text": [
      " 14910 | Cost: 10.935769466\nIteration:"
     ]
    },
    {
     "name": "stdout",
     "output_type": "stream",
     "text": [
      " 14920 | Cost: 11.2132754269\nIteration:"
     ]
    },
    {
     "name": "stdout",
     "output_type": "stream",
     "text": [
      " 14930 | Cost: 10.354863236\nIteration:"
     ]
    },
    {
     "name": "stdout",
     "output_type": "stream",
     "text": [
      " 14940 | Cost: 11.5726028239\nIteration:"
     ]
    },
    {
     "name": "stdout",
     "output_type": "stream",
     "text": [
      " 14950 | Cost: 9.12773496453\nIteration:"
     ]
    },
    {
     "name": "stdout",
     "output_type": "stream",
     "text": [
      " 14960 | Cost: 9.48238442819\nIteration:"
     ]
    },
    {
     "name": "stdout",
     "output_type": "stream",
     "text": [
      " 14970 | Cost: 10.8815945194\nIteration:"
     ]
    },
    {
     "name": "stdout",
     "output_type": "stream",
     "text": [
      " 14980 | Cost: 10.3716385168\nIteration:"
     ]
    },
    {
     "name": "stdout",
     "output_type": "stream",
     "text": [
      " 14990 | Cost: 11.1759188354\nIteration:"
     ]
    },
    {
     "name": "stdout",
     "output_type": "stream",
     "text": [
      " 15000 | Cost: 10.5839200523\nIteration:"
     ]
    },
    {
     "name": "stdout",
     "output_type": "stream",
     "text": [
      " 15010 | Cost: 10.9080968305\nIteration:"
     ]
    },
    {
     "name": "stdout",
     "output_type": "stream",
     "text": [
      " 15020 | Cost: 11.7868353743\nIteration:"
     ]
    },
    {
     "name": "stdout",
     "output_type": "stream",
     "text": [
      " 15030 | Cost: 11.7262239518\nIteration:"
     ]
    },
    {
     "name": "stdout",
     "output_type": "stream",
     "text": [
      " 15040 | Cost: 11.7997618566\nIteration:"
     ]
    },
    {
     "name": "stdout",
     "output_type": "stream",
     "text": [
      " 15050 | Cost: 13.0491322772\nIteration:"
     ]
    },
    {
     "name": "stdout",
     "output_type": "stream",
     "text": [
      " 15060 | Cost: 9.74655619739\nIteration:"
     ]
    },
    {
     "name": "stdout",
     "output_type": "stream",
     "text": [
      " 15070 | Cost: 10.2299275336\nIteration:"
     ]
    },
    {
     "name": "stdout",
     "output_type": "stream",
     "text": [
      " 15080 | Cost: 10.6495441855\nIteration:"
     ]
    },
    {
     "name": "stdout",
     "output_type": "stream",
     "text": [
      " 15090 | Cost: 11.617084238\nIteration:"
     ]
    },
    {
     "name": "stdout",
     "output_type": "stream",
     "text": [
      " 15100 | Cost: 11.2584346779\nIteration:"
     ]
    },
    {
     "name": "stdout",
     "output_type": "stream",
     "text": [
      " 15110 | Cost: 11.376921219\nIteration:"
     ]
    },
    {
     "name": "stdout",
     "output_type": "stream",
     "text": [
      " 15120 | Cost: 11.2143692452\nIteration:"
     ]
    },
    {
     "name": "stdout",
     "output_type": "stream",
     "text": [
      " 15130 | Cost: 9.5835085885\nIteration:"
     ]
    },
    {
     "name": "stdout",
     "output_type": "stream",
     "text": [
      " 15140 | Cost: 11.9337254826\nIteration:"
     ]
    },
    {
     "name": "stdout",
     "output_type": "stream",
     "text": [
      " 15150 | Cost: 11.9984651844\nIteration:"
     ]
    },
    {
     "name": "stdout",
     "output_type": "stream",
     "text": [
      " 15160 | Cost: 9.56591770422\nIteration:"
     ]
    },
    {
     "name": "stdout",
     "output_type": "stream",
     "text": [
      " 15170 | Cost: 10.9732875944\nIteration:"
     ]
    },
    {
     "name": "stdout",
     "output_type": "stream",
     "text": [
      " 15180 | Cost: 11.7458862635\nIteration:"
     ]
    },
    {
     "name": "stdout",
     "output_type": "stream",
     "text": [
      " 15190 | Cost: 10.8035918998\nIteration:"
     ]
    },
    {
     "name": "stdout",
     "output_type": "stream",
     "text": [
      " 15200 | Cost: 10.5237801988\nIteration:"
     ]
    },
    {
     "name": "stdout",
     "output_type": "stream",
     "text": [
      " 15210 | Cost: 10.2130612908\nIteration:"
     ]
    },
    {
     "name": "stdout",
     "output_type": "stream",
     "text": [
      " 15220 | Cost: 10.9991360528\nIteration:"
     ]
    },
    {
     "name": "stdout",
     "output_type": "stream",
     "text": [
      " 15230 | Cost: 10.196057039\nIteration:"
     ]
    },
    {
     "name": "stdout",
     "output_type": "stream",
     "text": [
      " 15240 | Cost: 11.1782365929\nIteration:"
     ]
    },
    {
     "name": "stdout",
     "output_type": "stream",
     "text": [
      " 15250 | Cost: 9.30040080793\nIteration:"
     ]
    },
    {
     "name": "stdout",
     "output_type": "stream",
     "text": [
      " 15260 | Cost: 10.6896653527\nIteration:"
     ]
    },
    {
     "name": "stdout",
     "output_type": "stream",
     "text": [
      " 15270 | Cost: 12.8091249304\nIteration:"
     ]
    },
    {
     "name": "stdout",
     "output_type": "stream",
     "text": [
      " 15280 | Cost: 10.4447358127\nIteration:"
     ]
    },
    {
     "name": "stdout",
     "output_type": "stream",
     "text": [
      " 15290 | Cost: 11.1765011915\nIteration:"
     ]
    },
    {
     "name": "stdout",
     "output_type": "stream",
     "text": [
      " 15300 | Cost: 12.1523531583\nIteration:"
     ]
    },
    {
     "name": "stdout",
     "output_type": "stream",
     "text": [
      " 15310 | Cost: 9.33423130962\nIteration:"
     ]
    },
    {
     "name": "stdout",
     "output_type": "stream",
     "text": [
      " 15320 | Cost: 9.71731267952\nIteration:"
     ]
    },
    {
     "name": "stdout",
     "output_type": "stream",
     "text": [
      " 15330 | Cost: 11.6915918433\nIteration:"
     ]
    },
    {
     "name": "stdout",
     "output_type": "stream",
     "text": [
      " 15340 | Cost: 12.0865599715\nIteration:"
     ]
    },
    {
     "name": "stdout",
     "output_type": "stream",
     "text": [
      " 15350 | Cost: 11.5459056799\nIteration:"
     ]
    },
    {
     "name": "stdout",
     "output_type": "stream",
     "text": [
      " 15360 | Cost: 11.6678793611\nIteration:"
     ]
    },
    {
     "name": "stdout",
     "output_type": "stream",
     "text": [
      " 15370 | Cost: 10.0447390536\nIteration:"
     ]
    },
    {
     "name": "stdout",
     "output_type": "stream",
     "text": [
      " 15380 | Cost: 10.4985134781\nIteration:"
     ]
    },
    {
     "name": "stdout",
     "output_type": "stream",
     "text": [
      " 15390 | Cost: 11.2254070527\nIteration:"
     ]
    },
    {
     "name": "stdout",
     "output_type": "stream",
     "text": [
      " 15400 | Cost: 10.3001065131\nIteration:"
     ]
    },
    {
     "name": "stdout",
     "output_type": "stream",
     "text": [
      " 15410 | Cost: 9.59731555009\nIteration:"
     ]
    },
    {
     "name": "stdout",
     "output_type": "stream",
     "text": [
      " 15420 | Cost: 11.2520043349\nIteration:"
     ]
    },
    {
     "name": "stdout",
     "output_type": "stream",
     "text": [
      " 15430 | Cost: 12.2216872347\nIteration:"
     ]
    },
    {
     "name": "stdout",
     "output_type": "stream",
     "text": [
      " 15440 | Cost: 11.023165288\nIteration:"
     ]
    },
    {
     "name": "stdout",
     "output_type": "stream",
     "text": [
      " 15450 | Cost: 12.3395320817\nIteration:"
     ]
    },
    {
     "name": "stdout",
     "output_type": "stream",
     "text": [
      " 15460 | Cost: 11.2789107539\nIteration:"
     ]
    },
    {
     "name": "stdout",
     "output_type": "stream",
     "text": [
      " 15470 | Cost: 11.9475949019\nIteration:"
     ]
    },
    {
     "name": "stdout",
     "output_type": "stream",
     "text": [
      " 15480 | Cost: 10.6025058954\nIteration:"
     ]
    },
    {
     "name": "stdout",
     "output_type": "stream",
     "text": [
      " 15490 | Cost: 10.3034139907\nIteration:"
     ]
    },
    {
     "name": "stdout",
     "output_type": "stream",
     "text": [
      " 15500 | Cost: 9.993343826\nIteration:"
     ]
    },
    {
     "name": "stdout",
     "output_type": "stream",
     "text": [
      " 15510 | Cost: 9.3968010523\nIteration:"
     ]
    },
    {
     "name": "stdout",
     "output_type": "stream",
     "text": [
      " 15520 | Cost: 10.2889299166\nIteration:"
     ]
    },
    {
     "name": "stdout",
     "output_type": "stream",
     "text": [
      " 15530 | Cost: 11.7654300482\nIteration:"
     ]
    },
    {
     "name": "stdout",
     "output_type": "stream",
     "text": [
      " 15540 | Cost: 11.6573096092\nIteration:"
     ]
    },
    {
     "name": "stdout",
     "output_type": "stream",
     "text": [
      " 15550 | Cost: 10.7693604276\nIteration:"
     ]
    },
    {
     "name": "stdout",
     "output_type": "stream",
     "text": [
      " 15560 | Cost: 8.74756168688\nIteration:"
     ]
    },
    {
     "name": "stdout",
     "output_type": "stream",
     "text": [
      " 15570 | Cost: 10.6449209799\nIteration:"
     ]
    },
    {
     "name": "stdout",
     "output_type": "stream",
     "text": [
      " 15580 | Cost: 10.4778508448\nIteration:"
     ]
    },
    {
     "name": "stdout",
     "output_type": "stream",
     "text": [
      " 15590 | Cost: 10.722029506\nIteration:"
     ]
    },
    {
     "name": "stdout",
     "output_type": "stream",
     "text": [
      " 15600 | Cost: 11.0484853338\nIteration:"
     ]
    },
    {
     "name": "stdout",
     "output_type": "stream",
     "text": [
      " 15610 | Cost: 9.85888142108\nIteration:"
     ]
    },
    {
     "name": "stdout",
     "output_type": "stream",
     "text": [
      " 15620 | Cost: 10.7651653918\nIteration:"
     ]
    },
    {
     "name": "stdout",
     "output_type": "stream",
     "text": [
      " 15630 | Cost: 11.4805200377\nIteration:"
     ]
    },
    {
     "name": "stdout",
     "output_type": "stream",
     "text": [
      " 15640 | Cost: 11.2110084729\nIteration:"
     ]
    },
    {
     "name": "stdout",
     "output_type": "stream",
     "text": [
      " 15650 | Cost: 11.2442792715\nIteration:"
     ]
    },
    {
     "name": "stdout",
     "output_type": "stream",
     "text": [
      " 15660 | Cost: 10.8588402643\nIteration:"
     ]
    },
    {
     "name": "stdout",
     "output_type": "stream",
     "text": [
      " 15670 | Cost: 11.4653285861\nIteration:"
     ]
    },
    {
     "name": "stdout",
     "output_type": "stream",
     "text": [
      " 15680 | Cost: 12.2459693657\nIteration:"
     ]
    },
    {
     "name": "stdout",
     "output_type": "stream",
     "text": [
      " 15690 | Cost: 9.9328892001\nIteration:"
     ]
    },
    {
     "name": "stdout",
     "output_type": "stream",
     "text": [
      " 15700 | Cost: 9.86350727741\nIteration:"
     ]
    },
    {
     "name": "stdout",
     "output_type": "stream",
     "text": [
      " 15710 | Cost: 9.60142141188\nIteration:"
     ]
    },
    {
     "name": "stdout",
     "output_type": "stream",
     "text": [
      " 15720 | Cost: 10.2106261357\nIteration:"
     ]
    },
    {
     "name": "stdout",
     "output_type": "stream",
     "text": [
      " 15730 | Cost: 10.3649841363\nIteration:"
     ]
    },
    {
     "name": "stdout",
     "output_type": "stream",
     "text": [
      " 15740 | Cost: 10.7473486623\nIteration:"
     ]
    },
    {
     "name": "stdout",
     "output_type": "stream",
     "text": [
      " 15750 | Cost: 9.61175457385\nIteration:"
     ]
    },
    {
     "name": "stdout",
     "output_type": "stream",
     "text": [
      " 15760 | Cost: 10.4542225457\nIteration:"
     ]
    },
    {
     "name": "stdout",
     "output_type": "stream",
     "text": [
      " 15770 | Cost: 9.8697716078\nIteration:"
     ]
    },
    {
     "name": "stdout",
     "output_type": "stream",
     "text": [
      " 15780 | Cost: 11.9750795564\nIteration:"
     ]
    },
    {
     "name": "stdout",
     "output_type": "stream",
     "text": [
      " 15790 | Cost: 9.96235465848\nIteration:"
     ]
    },
    {
     "name": "stdout",
     "output_type": "stream",
     "text": [
      " 15800 | Cost: 10.4718588326\nIteration:"
     ]
    },
    {
     "name": "stdout",
     "output_type": "stream",
     "text": [
      " 15810 | Cost: 10.2572759385\nIteration:"
     ]
    },
    {
     "name": "stdout",
     "output_type": "stream",
     "text": [
      " 15820 | Cost: 9.79059032651\nIteration:"
     ]
    },
    {
     "name": "stdout",
     "output_type": "stream",
     "text": [
      " 15830 | Cost: 11.5431981064\nIteration:"
     ]
    },
    {
     "name": "stdout",
     "output_type": "stream",
     "text": [
      " 15840 | Cost: 9.93443016815\nIteration:"
     ]
    },
    {
     "name": "stdout",
     "output_type": "stream",
     "text": [
      " 15850 | Cost: 10.9163760311\nIteration:"
     ]
    },
    {
     "name": "stdout",
     "output_type": "stream",
     "text": [
      " 15860 | Cost: 10.6969691893\nIteration:"
     ]
    },
    {
     "name": "stdout",
     "output_type": "stream",
     "text": [
      " 15870 | Cost: 12.7501614055\nIteration:"
     ]
    },
    {
     "name": "stdout",
     "output_type": "stream",
     "text": [
      " 15880 | Cost: 10.5463484763\nIteration:"
     ]
    },
    {
     "name": "stdout",
     "output_type": "stream",
     "text": [
      " 15890 | Cost: 11.1421892652\nIteration:"
     ]
    },
    {
     "name": "stdout",
     "output_type": "stream",
     "text": [
      " 15900 | Cost: 11.2503094379\nIteration:"
     ]
    },
    {
     "name": "stdout",
     "output_type": "stream",
     "text": [
      " 15910 | Cost: 10.3203981062\nIteration:"
     ]
    },
    {
     "name": "stdout",
     "output_type": "stream",
     "text": [
      " 15920 | Cost: 9.73000590065\nIteration:"
     ]
    },
    {
     "name": "stdout",
     "output_type": "stream",
     "text": [
      " 15930 | Cost: 11.1021088456\nIteration:"
     ]
    },
    {
     "name": "stdout",
     "output_type": "stream",
     "text": [
      " 15940 | Cost: 11.0629207521\nIteration:"
     ]
    },
    {
     "name": "stdout",
     "output_type": "stream",
     "text": [
      " 15950 | Cost: 10.3267662358\nIteration:"
     ]
    },
    {
     "name": "stdout",
     "output_type": "stream",
     "text": [
      " 15960 | Cost: 12.376858802\nIteration:"
     ]
    },
    {
     "name": "stdout",
     "output_type": "stream",
     "text": [
      " 15970 | Cost: 10.2777870474\nIteration:"
     ]
    },
    {
     "name": "stdout",
     "output_type": "stream",
     "text": [
      " 15980 | Cost: 10.6309305257\nIteration:"
     ]
    },
    {
     "name": "stdout",
     "output_type": "stream",
     "text": [
      " 15990 | Cost: 11.1396821641\nIteration:"
     ]
    },
    {
     "name": "stdout",
     "output_type": "stream",
     "text": [
      " 16000 | Cost: 10.5984773193\nIteration:"
     ]
    },
    {
     "name": "stdout",
     "output_type": "stream",
     "text": [
      " 16010 | Cost: 13.0517059213\nIteration:"
     ]
    },
    {
     "name": "stdout",
     "output_type": "stream",
     "text": [
      " 16020 | Cost: 9.46556045176\nIteration:"
     ]
    },
    {
     "name": "stdout",
     "output_type": "stream",
     "text": [
      " 16030 | Cost: 9.94979157153\nIteration:"
     ]
    },
    {
     "name": "stdout",
     "output_type": "stream",
     "text": [
      " 16040 | Cost: 10.7688990229\nIteration:"
     ]
    },
    {
     "name": "stdout",
     "output_type": "stream",
     "text": [
      " 16050 | Cost: 10.4826388563\nIteration:"
     ]
    },
    {
     "name": "stdout",
     "output_type": "stream",
     "text": [
      " 16060 | Cost: 9.19718525906\nIteration:"
     ]
    },
    {
     "name": "stdout",
     "output_type": "stream",
     "text": [
      " 16070 | Cost: 10.8286213113\nIteration:"
     ]
    },
    {
     "name": "stdout",
     "output_type": "stream",
     "text": [
      " 16080 | Cost: 10.1234120309\nIteration:"
     ]
    },
    {
     "name": "stdout",
     "output_type": "stream",
     "text": [
      " 16090 | Cost: 10.9190594663\nIteration:"
     ]
    },
    {
     "name": "stdout",
     "output_type": "stream",
     "text": [
      " 16100 | Cost: 11.1913690152\nIteration:"
     ]
    },
    {
     "name": "stdout",
     "output_type": "stream",
     "text": [
      " 16110 | Cost: 11.3020757269\nIteration:"
     ]
    },
    {
     "name": "stdout",
     "output_type": "stream",
     "text": [
      " 16120 | Cost: 8.17390373661\nIteration:"
     ]
    },
    {
     "name": "stdout",
     "output_type": "stream",
     "text": [
      " 16130 | Cost: 10.361275212\nIteration:"
     ]
    },
    {
     "name": "stdout",
     "output_type": "stream",
     "text": [
      " 16140 | Cost: 11.8562855767\nIteration:"
     ]
    },
    {
     "name": "stdout",
     "output_type": "stream",
     "text": [
      " 16150 | Cost: 12.9784113228\nIteration:"
     ]
    },
    {
     "name": "stdout",
     "output_type": "stream",
     "text": [
      " 16160 | Cost: 11.625168185\nIteration:"
     ]
    },
    {
     "name": "stdout",
     "output_type": "stream",
     "text": [
      " 16170 | Cost: 9.30101580672\nIteration:"
     ]
    },
    {
     "name": "stdout",
     "output_type": "stream",
     "text": [
      " 16180 | Cost: 10.7061696568\nIteration:"
     ]
    },
    {
     "name": "stdout",
     "output_type": "stream",
     "text": [
      " 16190 | Cost: 11.3322020009\nIteration:"
     ]
    },
    {
     "name": "stdout",
     "output_type": "stream",
     "text": [
      " 16200 | Cost: 10.785642098\nIteration:"
     ]
    },
    {
     "name": "stdout",
     "output_type": "stream",
     "text": [
      " 16210 | Cost: 10.9143140195\nIteration:"
     ]
    },
    {
     "name": "stdout",
     "output_type": "stream",
     "text": [
      " 16220 | Cost: 10.693652081\nIteration:"
     ]
    },
    {
     "name": "stdout",
     "output_type": "stream",
     "text": [
      " 16230 | Cost: 10.5130376974\nIteration:"
     ]
    },
    {
     "name": "stdout",
     "output_type": "stream",
     "text": [
      " 16240 | Cost: 10.7556655865\nIteration:"
     ]
    },
    {
     "name": "stdout",
     "output_type": "stream",
     "text": [
      " 16250 | Cost: 10.5266667941\nIteration:"
     ]
    },
    {
     "name": "stdout",
     "output_type": "stream",
     "text": [
      " 16260 | Cost: 12.2165163784\nIteration:"
     ]
    },
    {
     "name": "stdout",
     "output_type": "stream",
     "text": [
      " 16270 | Cost: 11.2112028643\nIteration:"
     ]
    },
    {
     "name": "stdout",
     "output_type": "stream",
     "text": [
      " 16280 | Cost: 9.27785050103\nIteration:"
     ]
    },
    {
     "name": "stdout",
     "output_type": "stream",
     "text": [
      " 16290 | Cost: 9.60960566906\nIteration:"
     ]
    },
    {
     "name": "stdout",
     "output_type": "stream",
     "text": [
      " 16300 | Cost: 10.1253077304\nIteration:"
     ]
    },
    {
     "name": "stdout",
     "output_type": "stream",
     "text": [
      " 16310 | Cost: 10.40232184\nIteration:"
     ]
    },
    {
     "name": "stdout",
     "output_type": "stream",
     "text": [
      " 16320 | Cost: 10.6910860959\nIteration:"
     ]
    },
    {
     "name": "stdout",
     "output_type": "stream",
     "text": [
      " 16330 | Cost: 10.7594158345\nIteration:"
     ]
    },
    {
     "name": "stdout",
     "output_type": "stream",
     "text": [
      " 16340 | Cost: 10.0204865065\nIteration:"
     ]
    },
    {
     "name": "stdout",
     "output_type": "stream",
     "text": [
      " 16350 | Cost: 10.8482248745\nIteration:"
     ]
    },
    {
     "name": "stdout",
     "output_type": "stream",
     "text": [
      " 16360 | Cost: 11.7149013061\nIteration:"
     ]
    },
    {
     "name": "stdout",
     "output_type": "stream",
     "text": [
      " 16370 | Cost: 10.6162795478\nIteration:"
     ]
    },
    {
     "name": "stdout",
     "output_type": "stream",
     "text": [
      " 16380 | Cost: 12.9759230122\nIteration:"
     ]
    },
    {
     "name": "stdout",
     "output_type": "stream",
     "text": [
      " 16390 | Cost: 10.1142652882\nIteration:"
     ]
    },
    {
     "name": "stdout",
     "output_type": "stream",
     "text": [
      " 16400 | Cost: 10.5792271938\nIteration:"
     ]
    },
    {
     "name": "stdout",
     "output_type": "stream",
     "text": [
      " 16410 | Cost: 11.6600844943\nIteration:"
     ]
    },
    {
     "name": "stdout",
     "output_type": "stream",
     "text": [
      " 16420 | Cost: 10.7800303527\nIteration:"
     ]
    },
    {
     "name": "stdout",
     "output_type": "stream",
     "text": [
      " 16430 | Cost: 10.4711345309\nIteration:"
     ]
    },
    {
     "name": "stdout",
     "output_type": "stream",
     "text": [
      " 16440 | Cost: 10.496684163\nIteration:"
     ]
    },
    {
     "name": "stdout",
     "output_type": "stream",
     "text": [
      " 16450 | Cost: 10.3124464243\nIteration:"
     ]
    },
    {
     "name": "stdout",
     "output_type": "stream",
     "text": [
      " 16460 | Cost: 11.1280954639\nIteration:"
     ]
    },
    {
     "name": "stdout",
     "output_type": "stream",
     "text": [
      " 16470 | Cost: 11.8667679323\nIteration:"
     ]
    },
    {
     "name": "stdout",
     "output_type": "stream",
     "text": [
      " 16480 | Cost: 13.3778177634\nIteration:"
     ]
    },
    {
     "name": "stdout",
     "output_type": "stream",
     "text": [
      " 16490 | Cost: 11.1090830509\nIteration:"
     ]
    },
    {
     "name": "stdout",
     "output_type": "stream",
     "text": [
      " 16500 | Cost: 11.0275638135\nIteration:"
     ]
    },
    {
     "name": "stdout",
     "output_type": "stream",
     "text": [
      " 16510 | Cost: 10.29498531\nIteration:"
     ]
    },
    {
     "name": "stdout",
     "output_type": "stream",
     "text": [
      " 16520 | Cost: 9.97173695229\nIteration:"
     ]
    },
    {
     "name": "stdout",
     "output_type": "stream",
     "text": [
      " 16530 | Cost: 11.6090840039\nIteration:"
     ]
    },
    {
     "name": "stdout",
     "output_type": "stream",
     "text": [
      " 16540 | Cost: 9.86598110658\nIteration:"
     ]
    },
    {
     "name": "stdout",
     "output_type": "stream",
     "text": [
      " 16550 | Cost: 10.4870993015\nIteration:"
     ]
    },
    {
     "name": "stdout",
     "output_type": "stream",
     "text": [
      " 16560 | Cost: 9.7946769413\nIteration:"
     ]
    },
    {
     "name": "stdout",
     "output_type": "stream",
     "text": [
      " 16570 | Cost: 10.04684381\nIteration:"
     ]
    },
    {
     "name": "stdout",
     "output_type": "stream",
     "text": [
      " 16580 | Cost: 9.82995315043\nIteration:"
     ]
    },
    {
     "name": "stdout",
     "output_type": "stream",
     "text": [
      " 16590 | Cost: 9.03562479548\nIteration:"
     ]
    },
    {
     "name": "stdout",
     "output_type": "stream",
     "text": [
      " 16600 | Cost: 10.2078284631\nIteration:"
     ]
    },
    {
     "name": "stdout",
     "output_type": "stream",
     "text": [
      " 16610 | Cost: 11.9436841296\nIteration:"
     ]
    },
    {
     "name": "stdout",
     "output_type": "stream",
     "text": [
      " 16620 | Cost: 10.2286996392\nIteration:"
     ]
    },
    {
     "name": "stdout",
     "output_type": "stream",
     "text": [
      " 16630 | Cost: 11.1224727714\nIteration:"
     ]
    },
    {
     "name": "stdout",
     "output_type": "stream",
     "text": [
      " 16640 | Cost: 10.9958372894\nIteration:"
     ]
    },
    {
     "name": "stdout",
     "output_type": "stream",
     "text": [
      " 16650 | Cost: 11.2514801299\nIteration:"
     ]
    },
    {
     "name": "stdout",
     "output_type": "stream",
     "text": [
      " 16660 | Cost: 10.8947543083\nIteration:"
     ]
    },
    {
     "name": "stdout",
     "output_type": "stream",
     "text": [
      " 16670 | Cost: 9.95159634219\nIteration:"
     ]
    },
    {
     "name": "stdout",
     "output_type": "stream",
     "text": [
      " 16680 | Cost: 10.3117166057\nIteration:"
     ]
    },
    {
     "name": "stdout",
     "output_type": "stream",
     "text": [
      " 16690 | Cost: 10.8022516924\nIteration:"
     ]
    },
    {
     "name": "stdout",
     "output_type": "stream",
     "text": [
      " 16700 | Cost: 10.4940123931\nIteration:"
     ]
    },
    {
     "name": "stdout",
     "output_type": "stream",
     "text": [
      " 16710 | Cost: 8.31165831883\nIteration:"
     ]
    },
    {
     "name": "stdout",
     "output_type": "stream",
     "text": [
      " 16720 | Cost: 10.2882406273\nIteration:"
     ]
    },
    {
     "name": "stdout",
     "output_type": "stream",
     "text": [
      " 16730 | Cost: 11.9444849024\nIteration:"
     ]
    },
    {
     "name": "stdout",
     "output_type": "stream",
     "text": [
      " 16740 | Cost: 10.8712826073\nIteration:"
     ]
    },
    {
     "name": "stdout",
     "output_type": "stream",
     "text": [
      " 16750 | Cost: 10.9985225755\nIteration:"
     ]
    },
    {
     "name": "stdout",
     "output_type": "stream",
     "text": [
      " 16760 | Cost: 9.60429649817\nIteration:"
     ]
    },
    {
     "name": "stdout",
     "output_type": "stream",
     "text": [
      " 16770 | Cost: 9.97010043999\nIteration:"
     ]
    },
    {
     "name": "stdout",
     "output_type": "stream",
     "text": [
      " 16780 | Cost: 10.7683128284\nIteration:"
     ]
    },
    {
     "name": "stdout",
     "output_type": "stream",
     "text": [
      " 16790 | Cost: 10.7388422352\nIteration:"
     ]
    },
    {
     "name": "stdout",
     "output_type": "stream",
     "text": [
      " 16800 | Cost: 10.6166737984\nIteration:"
     ]
    },
    {
     "name": "stdout",
     "output_type": "stream",
     "text": [
      " 16810 | Cost: 12.4956582791\nIteration:"
     ]
    },
    {
     "name": "stdout",
     "output_type": "stream",
     "text": [
      " 16820 | Cost: 10.7682093218\nIteration:"
     ]
    },
    {
     "name": "stdout",
     "output_type": "stream",
     "text": [
      " 16830 | Cost: 9.5533213265\nIteration:"
     ]
    },
    {
     "name": "stdout",
     "output_type": "stream",
     "text": [
      " 16840 | Cost: 11.8370576781\nIteration:"
     ]
    },
    {
     "name": "stdout",
     "output_type": "stream",
     "text": [
      " 16850 | Cost: 9.00319492016\nIteration:"
     ]
    },
    {
     "name": "stdout",
     "output_type": "stream",
     "text": [
      " 16860 | Cost: 11.505133457\nIteration:"
     ]
    },
    {
     "name": "stdout",
     "output_type": "stream",
     "text": [
      " 16870 | Cost: 11.6335042422\nIteration:"
     ]
    },
    {
     "name": "stdout",
     "output_type": "stream",
     "text": [
      " 16880 | Cost: 9.81455208071\nIteration:"
     ]
    },
    {
     "name": "stdout",
     "output_type": "stream",
     "text": [
      " 16890 | Cost: 10.9992309492\nIteration:"
     ]
    },
    {
     "name": "stdout",
     "output_type": "stream",
     "text": [
      " 16900 | Cost: 11.0101098778\nIteration:"
     ]
    },
    {
     "name": "stdout",
     "output_type": "stream",
     "text": [
      " 16910 | Cost: 11.5510776378\nIteration:"
     ]
    },
    {
     "name": "stdout",
     "output_type": "stream",
     "text": [
      " 16920 | Cost: 10.5354238385\nIteration:"
     ]
    },
    {
     "name": "stdout",
     "output_type": "stream",
     "text": [
      " 16930 | Cost: 9.84317412307\nIteration:"
     ]
    },
    {
     "name": "stdout",
     "output_type": "stream",
     "text": [
      " 16940 | Cost: 10.3224867526\nIteration:"
     ]
    },
    {
     "name": "stdout",
     "output_type": "stream",
     "text": [
      " 16950 | Cost: 11.0565009691\nIteration:"
     ]
    },
    {
     "name": "stdout",
     "output_type": "stream",
     "text": [
      " 16960 | Cost: 10.9505507743\nIteration:"
     ]
    },
    {
     "name": "stdout",
     "output_type": "stream",
     "text": [
      " 16970 | Cost: 10.9355983313\nIteration:"
     ]
    },
    {
     "name": "stdout",
     "output_type": "stream",
     "text": [
      " 16980 | Cost: 11.4761897258\nIteration:"
     ]
    },
    {
     "name": "stdout",
     "output_type": "stream",
     "text": [
      " 16990 | Cost: 9.42499718537\nIteration:"
     ]
    },
    {
     "name": "stdout",
     "output_type": "stream",
     "text": [
      " 17000 | Cost: 9.78309756404\nIteration:"
     ]
    },
    {
     "name": "stdout",
     "output_type": "stream",
     "text": [
      " 17010 | Cost: 11.138801908\nIteration:"
     ]
    },
    {
     "name": "stdout",
     "output_type": "stream",
     "text": [
      " 17020 | Cost: 11.3215917453\nIteration:"
     ]
    },
    {
     "name": "stdout",
     "output_type": "stream",
     "text": [
      " 17030 | Cost: 11.0077871309\nIteration:"
     ]
    },
    {
     "name": "stdout",
     "output_type": "stream",
     "text": [
      " 17040 | Cost: 11.0592045983\nIteration:"
     ]
    },
    {
     "name": "stdout",
     "output_type": "stream",
     "text": [
      " 17050 | Cost: 9.78374617525\nIteration:"
     ]
    },
    {
     "name": "stdout",
     "output_type": "stream",
     "text": [
      " 17060 | Cost: 9.37009424472\nIteration:"
     ]
    },
    {
     "name": "stdout",
     "output_type": "stream",
     "text": [
      " 17070 | Cost: 11.8557643275\nIteration:"
     ]
    },
    {
     "name": "stdout",
     "output_type": "stream",
     "text": [
      " 17080 | Cost: 12.0017355209\nIteration:"
     ]
    },
    {
     "name": "stdout",
     "output_type": "stream",
     "text": [
      " 17090 | Cost: 10.9076312291\nIteration:"
     ]
    },
    {
     "name": "stdout",
     "output_type": "stream",
     "text": [
      " 17100 | Cost: 11.0317622592\nIteration:"
     ]
    },
    {
     "name": "stdout",
     "output_type": "stream",
     "text": [
      " 17110 | Cost: 11.1581868163\nIteration:"
     ]
    },
    {
     "name": "stdout",
     "output_type": "stream",
     "text": [
      " 17120 | Cost: 11.6690360551\nIteration:"
     ]
    },
    {
     "name": "stdout",
     "output_type": "stream",
     "text": [
      " 17130 | Cost: 9.68358562729\nIteration:"
     ]
    },
    {
     "name": "stdout",
     "output_type": "stream",
     "text": [
      " 17140 | Cost: 10.0530179011\nIteration:"
     ]
    },
    {
     "name": "stdout",
     "output_type": "stream",
     "text": [
      " 17150 | Cost: 10.0957828628\nIteration:"
     ]
    },
    {
     "name": "stdout",
     "output_type": "stream",
     "text": [
      " 17160 | Cost: 10.8236649705\nIteration:"
     ]
    },
    {
     "name": "stdout",
     "output_type": "stream",
     "text": [
      " 17170 | Cost: 11.7109649904\nIteration:"
     ]
    },
    {
     "name": "stdout",
     "output_type": "stream",
     "text": [
      " 17180 | Cost: 10.8083767055\nIteration:"
     ]
    },
    {
     "name": "stdout",
     "output_type": "stream",
     "text": [
      " 17190 | Cost: 10.6816528522\nIteration:"
     ]
    },
    {
     "name": "stdout",
     "output_type": "stream",
     "text": [
      " 17200 | Cost: 10.1160738658\nIteration:"
     ]
    },
    {
     "name": "stdout",
     "output_type": "stream",
     "text": [
      " 17210 | Cost: 11.7735282855\nIteration:"
     ]
    },
    {
     "name": "stdout",
     "output_type": "stream",
     "text": [
      " 17220 | Cost: 9.89855154618\nIteration:"
     ]
    },
    {
     "name": "stdout",
     "output_type": "stream",
     "text": [
      " 17230 | Cost: 10.4061424452\nIteration:"
     ]
    },
    {
     "name": "stdout",
     "output_type": "stream",
     "text": [
      " 17240 | Cost: 10.3654194135\nIteration:"
     ]
    },
    {
     "name": "stdout",
     "output_type": "stream",
     "text": [
      " 17250 | Cost: 9.3384964237\nIteration:"
     ]
    },
    {
     "name": "stdout",
     "output_type": "stream",
     "text": [
      " 17260 | Cost: 11.5005646567\nIteration:"
     ]
    },
    {
     "name": "stdout",
     "output_type": "stream",
     "text": [
      " 17270 | Cost: 9.73926923802\nIteration:"
     ]
    },
    {
     "name": "stdout",
     "output_type": "stream",
     "text": [
      " 17280 | Cost: 9.98352288416\nIteration:"
     ]
    },
    {
     "name": "stdout",
     "output_type": "stream",
     "text": [
      " 17290 | Cost: 10.2512319643\nIteration:"
     ]
    },
    {
     "name": "stdout",
     "output_type": "stream",
     "text": [
      " 17300 | Cost: 11.4404384736\nIteration:"
     ]
    },
    {
     "name": "stdout",
     "output_type": "stream",
     "text": [
      " 17310 | Cost: 10.6344389808\nIteration:"
     ]
    },
    {
     "name": "stdout",
     "output_type": "stream",
     "text": [
      " 17320 | Cost: 9.50249384564\nIteration:"
     ]
    },
    {
     "name": "stdout",
     "output_type": "stream",
     "text": [
      " 17330 | Cost: 10.4486235915\nIteration:"
     ]
    },
    {
     "name": "stdout",
     "output_type": "stream",
     "text": [
      " 17340 | Cost: 9.31306480214\nIteration:"
     ]
    },
    {
     "name": "stdout",
     "output_type": "stream",
     "text": [
      " 17350 | Cost: 10.6779403239\nIteration:"
     ]
    },
    {
     "name": "stdout",
     "output_type": "stream",
     "text": [
      " 17360 | Cost: 10.8274116855\nIteration:"
     ]
    },
    {
     "name": "stdout",
     "output_type": "stream",
     "text": [
      " 17370 | Cost: 9.37149131658\nIteration:"
     ]
    },
    {
     "name": "stdout",
     "output_type": "stream",
     "text": [
      " 17380 | Cost: 9.80565760179\nIteration:"
     ]
    },
    {
     "name": "stdout",
     "output_type": "stream",
     "text": [
      " 17390 | Cost: 8.37100321276\nIteration:"
     ]
    },
    {
     "name": "stdout",
     "output_type": "stream",
     "text": [
      " 17400 | Cost: 9.93822793378\nIteration:"
     ]
    },
    {
     "name": "stdout",
     "output_type": "stream",
     "text": [
      " 17410 | Cost: 9.78885566493\nIteration:"
     ]
    },
    {
     "name": "stdout",
     "output_type": "stream",
     "text": [
      " 17420 | Cost: 9.65278674698\nIteration:"
     ]
    },
    {
     "name": "stdout",
     "output_type": "stream",
     "text": [
      " 17430 | Cost: 10.5037887771\nIteration:"
     ]
    },
    {
     "name": "stdout",
     "output_type": "stream",
     "text": [
      " 17440 | Cost: 9.56011056897\nIteration:"
     ]
    },
    {
     "name": "stdout",
     "output_type": "stream",
     "text": [
      " 17450 | Cost: 11.1583409225\nIteration:"
     ]
    },
    {
     "name": "stdout",
     "output_type": "stream",
     "text": [
      " 17460 | Cost: 11.6511995259\nIteration:"
     ]
    },
    {
     "name": "stdout",
     "output_type": "stream",
     "text": [
      " 17470 | Cost: 10.7898296977\nIteration:"
     ]
    },
    {
     "name": "stdout",
     "output_type": "stream",
     "text": [
      " 17480 | Cost: 10.0944852612\nIteration:"
     ]
    },
    {
     "name": "stdout",
     "output_type": "stream",
     "text": [
      " 17490 | Cost: 9.24390406628\nIteration:"
     ]
    },
    {
     "name": "stdout",
     "output_type": "stream",
     "text": [
      " 17500 | Cost: 9.79225158152\nIteration:"
     ]
    },
    {
     "name": "stdout",
     "output_type": "stream",
     "text": [
      " 17510 | Cost: 10.7000686523\nIteration:"
     ]
    },
    {
     "name": "stdout",
     "output_type": "stream",
     "text": [
      " 17520 | Cost: 9.65552394649\nIteration:"
     ]
    },
    {
     "name": "stdout",
     "output_type": "stream",
     "text": [
      " 17530 | Cost: 10.6409682714\nIteration:"
     ]
    },
    {
     "name": "stdout",
     "output_type": "stream",
     "text": [
      " 17540 | Cost: 11.3659552504\nIteration:"
     ]
    },
    {
     "name": "stdout",
     "output_type": "stream",
     "text": [
      " 17550 | Cost: 12.1077760222\nIteration:"
     ]
    },
    {
     "name": "stdout",
     "output_type": "stream",
     "text": [
      " 17560 | Cost: 11.7979326971\nIteration:"
     ]
    },
    {
     "name": "stdout",
     "output_type": "stream",
     "text": [
      " 17570 | Cost: 9.8308151303\nIteration:"
     ]
    },
    {
     "name": "stdout",
     "output_type": "stream",
     "text": [
      " 17580 | Cost: 11.2677772917\nIteration:"
     ]
    },
    {
     "name": "stdout",
     "output_type": "stream",
     "text": [
      " 17590 | Cost: 10.4184971286\nIteration:"
     ]
    },
    {
     "name": "stdout",
     "output_type": "stream",
     "text": [
      " 17600 | Cost: 10.7686962502\nIteration:"
     ]
    },
    {
     "name": "stdout",
     "output_type": "stream",
     "text": [
      " 17610 | Cost: 10.0220928921\nIteration:"
     ]
    },
    {
     "name": "stdout",
     "output_type": "stream",
     "text": [
      " 17620 | Cost: 11.3464743531\nIteration:"
     ]
    },
    {
     "name": "stdout",
     "output_type": "stream",
     "text": [
      " 17630 | Cost: 10.1772799654\nIteration:"
     ]
    },
    {
     "name": "stdout",
     "output_type": "stream",
     "text": [
      " 17640 | Cost: 11.6971092193\nIteration:"
     ]
    },
    {
     "name": "stdout",
     "output_type": "stream",
     "text": [
      " 17650 | Cost: 10.6356478534\nIteration:"
     ]
    },
    {
     "name": "stdout",
     "output_type": "stream",
     "text": [
      " 17660 | Cost: 10.9634732628\nIteration:"
     ]
    },
    {
     "name": "stdout",
     "output_type": "stream",
     "text": [
      " 17670 | Cost: 9.41790771287\nIteration:"
     ]
    },
    {
     "name": "stdout",
     "output_type": "stream",
     "text": [
      " 17680 | Cost: 11.1472497808\nIteration:"
     ]
    },
    {
     "name": "stdout",
     "output_type": "stream",
     "text": [
      " 17690 | Cost: 10.3592728533\nIteration:"
     ]
    },
    {
     "name": "stdout",
     "output_type": "stream",
     "text": [
      " 17700 | Cost: 11.4424305988\nIteration:"
     ]
    },
    {
     "name": "stdout",
     "output_type": "stream",
     "text": [
      " 17710 | Cost: 11.6356061012\nIteration:"
     ]
    },
    {
     "name": "stdout",
     "output_type": "stream",
     "text": [
      " 17720 | Cost: 10.0130692388\nIteration:"
     ]
    },
    {
     "name": "stdout",
     "output_type": "stream",
     "text": [
      " 17730 | Cost: 11.1259289398\nIteration:"
     ]
    },
    {
     "name": "stdout",
     "output_type": "stream",
     "text": [
      " 17740 | Cost: 9.9083300365\nIteration:"
     ]
    },
    {
     "name": "stdout",
     "output_type": "stream",
     "text": [
      " 17750 | Cost: 10.53991355\nIteration:"
     ]
    },
    {
     "name": "stdout",
     "output_type": "stream",
     "text": [
      " 17760 | Cost: 10.2884363821\nIteration:"
     ]
    },
    {
     "name": "stdout",
     "output_type": "stream",
     "text": [
      " 17770 | Cost: 11.6179821197\nIteration:"
     ]
    },
    {
     "name": "stdout",
     "output_type": "stream",
     "text": [
      " 17780 | Cost: 11.5050470497\nIteration:"
     ]
    },
    {
     "name": "stdout",
     "output_type": "stream",
     "text": [
      " 17790 | Cost: 10.0554433036\nIteration:"
     ]
    },
    {
     "name": "stdout",
     "output_type": "stream",
     "text": [
      " 17800 | Cost: 11.9222396239\nIteration:"
     ]
    },
    {
     "name": "stdout",
     "output_type": "stream",
     "text": [
      " 17810 | Cost: 12.0124515187\nIteration:"
     ]
    },
    {
     "name": "stdout",
     "output_type": "stream",
     "text": [
      " 17820 | Cost: 9.66893857432\nIteration:"
     ]
    },
    {
     "name": "stdout",
     "output_type": "stream",
     "text": [
      " 17830 | Cost: 10.2541044468\nIteration:"
     ]
    },
    {
     "name": "stdout",
     "output_type": "stream",
     "text": [
      " 17840 | Cost: 12.1769932302\nIteration:"
     ]
    },
    {
     "name": "stdout",
     "output_type": "stream",
     "text": [
      " 17850 | Cost: 11.3452798289\nIteration:"
     ]
    },
    {
     "name": "stdout",
     "output_type": "stream",
     "text": [
      " 17860 | Cost: 10.8790005496\nIteration:"
     ]
    },
    {
     "name": "stdout",
     "output_type": "stream",
     "text": [
      " 17870 | Cost: 10.6722194809\nIteration:"
     ]
    },
    {
     "name": "stdout",
     "output_type": "stream",
     "text": [
      " 17880 | Cost: 9.81897114581\nIteration:"
     ]
    },
    {
     "name": "stdout",
     "output_type": "stream",
     "text": [
      " 17890 | Cost: 10.2827488599\nIteration:"
     ]
    },
    {
     "name": "stdout",
     "output_type": "stream",
     "text": [
      " 17900 | Cost: 9.01602796316\nIteration:"
     ]
    },
    {
     "name": "stdout",
     "output_type": "stream",
     "text": [
      " 17910 | Cost: 10.7033420627\nIteration:"
     ]
    },
    {
     "name": "stdout",
     "output_type": "stream",
     "text": [
      " 17920 | Cost: 12.7713323831\nIteration:"
     ]
    },
    {
     "name": "stdout",
     "output_type": "stream",
     "text": [
      " 17930 | Cost: 11.1347061618\nIteration:"
     ]
    },
    {
     "name": "stdout",
     "output_type": "stream",
     "text": [
      " 17940 | Cost: 11.415511253\nIteration:"
     ]
    },
    {
     "name": "stdout",
     "output_type": "stream",
     "text": [
      " 17950 | Cost: 10.3871811307\nIteration:"
     ]
    },
    {
     "name": "stdout",
     "output_type": "stream",
     "text": [
      " 17960 | Cost: 11.4622068212\nIteration:"
     ]
    },
    {
     "name": "stdout",
     "output_type": "stream",
     "text": [
      " 17970 | Cost: 10.9615791916\nIteration:"
     ]
    },
    {
     "name": "stdout",
     "output_type": "stream",
     "text": [
      " 17980 | Cost: 8.20660844749\nIteration:"
     ]
    },
    {
     "name": "stdout",
     "output_type": "stream",
     "text": [
      " 17990 | Cost: 9.9619032749\nIteration:"
     ]
    },
    {
     "name": "stdout",
     "output_type": "stream",
     "text": [
      " 18000 | Cost: 9.52007052496\nIteration:"
     ]
    },
    {
     "name": "stdout",
     "output_type": "stream",
     "text": [
      " 18010 | Cost: 10.2293769752\nIteration:"
     ]
    },
    {
     "name": "stdout",
     "output_type": "stream",
     "text": [
      " 18020 | Cost: 10.417938807\nIteration:"
     ]
    },
    {
     "name": "stdout",
     "output_type": "stream",
     "text": [
      " 18030 | Cost: 9.2964126799\nIteration:"
     ]
    },
    {
     "name": "stdout",
     "output_type": "stream",
     "text": [
      " 18040 | Cost: 10.9083974951\nIteration:"
     ]
    },
    {
     "name": "stdout",
     "output_type": "stream",
     "text": [
      " 18050 | Cost: 10.1614632598\nIteration:"
     ]
    },
    {
     "name": "stdout",
     "output_type": "stream",
     "text": [
      " 18060 | Cost: 10.1455802235\nIteration:"
     ]
    },
    {
     "name": "stdout",
     "output_type": "stream",
     "text": [
      " 18070 | Cost: 10.2004761825\nIteration:"
     ]
    },
    {
     "name": "stdout",
     "output_type": "stream",
     "text": [
      " 18080 | Cost: 9.4021383096\nIteration:"
     ]
    },
    {
     "name": "stdout",
     "output_type": "stream",
     "text": [
      " 18090 | Cost: 10.1794159544\nIteration:"
     ]
    },
    {
     "name": "stdout",
     "output_type": "stream",
     "text": [
      " 18100 | Cost: 10.5825298068\nIteration:"
     ]
    },
    {
     "name": "stdout",
     "output_type": "stream",
     "text": [
      " 18110 | Cost: 12.9106974462\nIteration:"
     ]
    },
    {
     "name": "stdout",
     "output_type": "stream",
     "text": [
      " 18120 | Cost: 9.82092346303\nIteration:"
     ]
    },
    {
     "name": "stdout",
     "output_type": "stream",
     "text": [
      " 18130 | Cost: 10.4497175247\nIteration:"
     ]
    },
    {
     "name": "stdout",
     "output_type": "stream",
     "text": [
      " 18140 | Cost: 10.4889608089\nIteration:"
     ]
    },
    {
     "name": "stdout",
     "output_type": "stream",
     "text": [
      " 18150 | Cost: 10.4693962081\nIteration:"
     ]
    },
    {
     "name": "stdout",
     "output_type": "stream",
     "text": [
      " 18160 | Cost: 9.55763351177\nIteration:"
     ]
    },
    {
     "name": "stdout",
     "output_type": "stream",
     "text": [
      " 18170 | Cost: 9.31691002886\nIteration:"
     ]
    },
    {
     "name": "stdout",
     "output_type": "stream",
     "text": [
      " 18180 | Cost: 9.40029549441\nIteration:"
     ]
    },
    {
     "name": "stdout",
     "output_type": "stream",
     "text": [
      " 18190 | Cost: 11.1663416453\nIteration:"
     ]
    },
    {
     "name": "stdout",
     "output_type": "stream",
     "text": [
      " 18200 | Cost: 10.8223222973\nIteration:"
     ]
    },
    {
     "name": "stdout",
     "output_type": "stream",
     "text": [
      " 18210 | Cost: 10.8507803998\nIteration:"
     ]
    },
    {
     "name": "stdout",
     "output_type": "stream",
     "text": [
      " 18220 | Cost: 8.91617609585\nIteration:"
     ]
    },
    {
     "name": "stdout",
     "output_type": "stream",
     "text": [
      " 18230 | Cost: 10.2252004995\nIteration:"
     ]
    },
    {
     "name": "stdout",
     "output_type": "stream",
     "text": [
      " 18240 | Cost: 12.7585853986\nIteration:"
     ]
    },
    {
     "name": "stdout",
     "output_type": "stream",
     "text": [
      " 18250 | Cost: 10.7065027959\nIteration:"
     ]
    },
    {
     "name": "stdout",
     "output_type": "stream",
     "text": [
      " 18260 | Cost: 9.51329644262\nIteration:"
     ]
    },
    {
     "name": "stdout",
     "output_type": "stream",
     "text": [
      " 18270 | Cost: 10.9084942872\nIteration:"
     ]
    },
    {
     "name": "stdout",
     "output_type": "stream",
     "text": [
      " 18280 | Cost: 10.0435090732\nIteration:"
     ]
    },
    {
     "name": "stdout",
     "output_type": "stream",
     "text": [
      " 18290 | Cost: 8.43436599587\nIteration:"
     ]
    },
    {
     "name": "stdout",
     "output_type": "stream",
     "text": [
      " 18300 | Cost: 12.0510971323\nIteration:"
     ]
    },
    {
     "name": "stdout",
     "output_type": "stream",
     "text": [
      " 18310 | Cost: 10.8827746707\nIteration:"
     ]
    },
    {
     "name": "stdout",
     "output_type": "stream",
     "text": [
      " 18320 | Cost: 10.7005290757\nIteration:"
     ]
    },
    {
     "name": "stdout",
     "output_type": "stream",
     "text": [
      " 18330 | Cost: 9.87825792394\nIteration:"
     ]
    },
    {
     "name": "stdout",
     "output_type": "stream",
     "text": [
      " 18340 | Cost: 9.37670356756\nIteration:"
     ]
    },
    {
     "name": "stdout",
     "output_type": "stream",
     "text": [
      " 18350 | Cost: 10.9398330987\nIteration:"
     ]
    },
    {
     "name": "stdout",
     "output_type": "stream",
     "text": [
      " 18360 | Cost: 10.3672227529\nIteration:"
     ]
    },
    {
     "name": "stdout",
     "output_type": "stream",
     "text": [
      " 18370 | Cost: 11.4900255471\nIteration:"
     ]
    },
    {
     "name": "stdout",
     "output_type": "stream",
     "text": [
      " 18380 | Cost: 9.76710010135\nIteration:"
     ]
    },
    {
     "name": "stdout",
     "output_type": "stream",
     "text": [
      " 18390 | Cost: 8.8861859441\nIteration:"
     ]
    },
    {
     "name": "stdout",
     "output_type": "stream",
     "text": [
      " 18400 | Cost: 9.33214356317\nIteration:"
     ]
    },
    {
     "name": "stdout",
     "output_type": "stream",
     "text": [
      " 18410 | Cost: 8.99047648954\nIteration:"
     ]
    },
    {
     "name": "stdout",
     "output_type": "stream",
     "text": [
      " 18420 | Cost: 9.93261531267\nIteration:"
     ]
    },
    {
     "name": "stdout",
     "output_type": "stream",
     "text": [
      " 18430 | Cost: 12.2848556598\nIteration:"
     ]
    },
    {
     "name": "stdout",
     "output_type": "stream",
     "text": [
      " 18440 | Cost: 10.5363472758\nIteration:"
     ]
    },
    {
     "name": "stdout",
     "output_type": "stream",
     "text": [
      " 18450 | Cost: 11.0986959138\nIteration:"
     ]
    },
    {
     "name": "stdout",
     "output_type": "stream",
     "text": [
      " 18460 | Cost: 9.04410241194\nIteration:"
     ]
    },
    {
     "name": "stdout",
     "output_type": "stream",
     "text": [
      " 18470 | Cost: 10.6414016366\nIteration:"
     ]
    },
    {
     "name": "stdout",
     "output_type": "stream",
     "text": [
      " 18480 | Cost: 11.2346782169\nIteration:"
     ]
    },
    {
     "name": "stdout",
     "output_type": "stream",
     "text": [
      " 18490 | Cost: 10.5269456606\nIteration:"
     ]
    },
    {
     "name": "stdout",
     "output_type": "stream",
     "text": [
      " 18500 | Cost: 9.92864363763\nIteration:"
     ]
    },
    {
     "name": "stdout",
     "output_type": "stream",
     "text": [
      " 18510 | Cost: 11.4088926501\nIteration:"
     ]
    },
    {
     "name": "stdout",
     "output_type": "stream",
     "text": [
      " 18520 | Cost: 11.2828620385\nIteration:"
     ]
    },
    {
     "name": "stdout",
     "output_type": "stream",
     "text": [
      " 18530 | Cost: 10.5799272453\nIteration:"
     ]
    },
    {
     "name": "stdout",
     "output_type": "stream",
     "text": [
      " 18540 | Cost: 10.4941333121\nIteration:"
     ]
    },
    {
     "name": "stdout",
     "output_type": "stream",
     "text": [
      " 18550 | Cost: 11.0959415537\nIteration:"
     ]
    },
    {
     "name": "stdout",
     "output_type": "stream",
     "text": [
      " 18560 | Cost: 11.1988725861\nIteration:"
     ]
    },
    {
     "name": "stdout",
     "output_type": "stream",
     "text": [
      " 18570 | Cost: 9.21819466472\nIteration:"
     ]
    },
    {
     "name": "stdout",
     "output_type": "stream",
     "text": [
      " 18580 | Cost: 10.5393801348\nIteration:"
     ]
    },
    {
     "name": "stdout",
     "output_type": "stream",
     "text": [
      " 18590 | Cost: 10.5244562555\nIteration:"
     ]
    },
    {
     "name": "stdout",
     "output_type": "stream",
     "text": [
      " 18600 | Cost: 10.5721736233\nIteration:"
     ]
    },
    {
     "name": "stdout",
     "output_type": "stream",
     "text": [
      " 18610 | Cost: 11.2555539429\nIteration:"
     ]
    },
    {
     "name": "stdout",
     "output_type": "stream",
     "text": [
      " 18620 | Cost: 10.7106221159\nIteration:"
     ]
    },
    {
     "name": "stdout",
     "output_type": "stream",
     "text": [
      " 18630 | Cost: 10.2308851592\nIteration:"
     ]
    },
    {
     "name": "stdout",
     "output_type": "stream",
     "text": [
      " 18640 | Cost: 9.69067947953\nIteration:"
     ]
    },
    {
     "name": "stdout",
     "output_type": "stream",
     "text": [
      " 18650 | Cost: 10.8125662242\nIteration:"
     ]
    },
    {
     "name": "stdout",
     "output_type": "stream",
     "text": [
      " 18660 | Cost: 9.93647956048\nIteration:"
     ]
    },
    {
     "name": "stdout",
     "output_type": "stream",
     "text": [
      " 18670 | Cost: 7.92045408317\nIteration:"
     ]
    },
    {
     "name": "stdout",
     "output_type": "stream",
     "text": [
      " 18680 | Cost: 10.9624289901\nIteration:"
     ]
    },
    {
     "name": "stdout",
     "output_type": "stream",
     "text": [
      " 18690 | Cost: 10.9061775938\nIteration:"
     ]
    },
    {
     "name": "stdout",
     "output_type": "stream",
     "text": [
      " 18700 | Cost: 11.1533945966\nIteration:"
     ]
    },
    {
     "name": "stdout",
     "output_type": "stream",
     "text": [
      " 18710 | Cost: 10.0637448422\nIteration:"
     ]
    },
    {
     "name": "stdout",
     "output_type": "stream",
     "text": [
      " 18720 | Cost: 11.0573045524\nIteration:"
     ]
    },
    {
     "name": "stdout",
     "output_type": "stream",
     "text": [
      " 18730 | Cost: 10.3799338747\nIteration:"
     ]
    },
    {
     "name": "stdout",
     "output_type": "stream",
     "text": [
      " 18740 | Cost: 9.5848535599\nIteration:"
     ]
    },
    {
     "name": "stdout",
     "output_type": "stream",
     "text": [
      " 18750 | Cost: 9.19886652207\nIteration:"
     ]
    },
    {
     "name": "stdout",
     "output_type": "stream",
     "text": [
      " 18760 | Cost: 10.1989095569\nIteration:"
     ]
    },
    {
     "name": "stdout",
     "output_type": "stream",
     "text": [
      " 18770 | Cost: 12.0679693031\nIteration:"
     ]
    },
    {
     "name": "stdout",
     "output_type": "stream",
     "text": [
      " 18780 | Cost: 11.250922805\nIteration:"
     ]
    },
    {
     "name": "stdout",
     "output_type": "stream",
     "text": [
      " 18790 | Cost: 10.5882050004\nIteration:"
     ]
    },
    {
     "name": "stdout",
     "output_type": "stream",
     "text": [
      " 18800 | Cost: 10.7247656194\nIteration:"
     ]
    },
    {
     "name": "stdout",
     "output_type": "stream",
     "text": [
      " 18810 | Cost: 10.1378060208\nIteration:"
     ]
    },
    {
     "name": "stdout",
     "output_type": "stream",
     "text": [
      " 18820 | Cost: 10.3507085734\nIteration:"
     ]
    },
    {
     "name": "stdout",
     "output_type": "stream",
     "text": [
      " 18830 | Cost: 10.9354920915\nIteration:"
     ]
    },
    {
     "name": "stdout",
     "output_type": "stream",
     "text": [
      " 18840 | Cost: 11.3268419202\nIteration:"
     ]
    },
    {
     "name": "stdout",
     "output_type": "stream",
     "text": [
      " 18850 | Cost: 7.81593700629\nIteration:"
     ]
    },
    {
     "name": "stdout",
     "output_type": "stream",
     "text": [
      " 18860 | Cost: 10.9117296776\nIteration:"
     ]
    },
    {
     "name": "stdout",
     "output_type": "stream",
     "text": [
      " 18870 | Cost: 11.7274906407\nIteration:"
     ]
    },
    {
     "name": "stdout",
     "output_type": "stream",
     "text": [
      " 18880 | Cost: 9.78235075113\nIteration:"
     ]
    },
    {
     "name": "stdout",
     "output_type": "stream",
     "text": [
      " 18890 | Cost: 11.3806518383\nIteration:"
     ]
    },
    {
     "name": "stdout",
     "output_type": "stream",
     "text": [
      " 18900 | Cost: 9.45542626713\nIteration:"
     ]
    },
    {
     "name": "stdout",
     "output_type": "stream",
     "text": [
      " 18910 | Cost: 11.3678594021\nIteration:"
     ]
    },
    {
     "name": "stdout",
     "output_type": "stream",
     "text": [
      " 18920 | Cost: 10.1976796274\nIteration:"
     ]
    },
    {
     "name": "stdout",
     "output_type": "stream",
     "text": [
      " 18930 | Cost: 9.66943669607\nIteration:"
     ]
    },
    {
     "name": "stdout",
     "output_type": "stream",
     "text": [
      " 18940 | Cost: 9.68427111123\nIteration:"
     ]
    },
    {
     "name": "stdout",
     "output_type": "stream",
     "text": [
      " 18950 | Cost: 10.6475849155\nIteration:"
     ]
    },
    {
     "name": "stdout",
     "output_type": "stream",
     "text": [
      " 18960 | Cost: 10.256962732\nIteration:"
     ]
    },
    {
     "name": "stdout",
     "output_type": "stream",
     "text": [
      " 18970 | Cost: 9.25784677494\nIteration:"
     ]
    },
    {
     "name": "stdout",
     "output_type": "stream",
     "text": [
      " 18980 | Cost: 10.2797205633\nIteration:"
     ]
    },
    {
     "name": "stdout",
     "output_type": "stream",
     "text": [
      " 18990 | Cost: 9.21840666462\nIteration:"
     ]
    },
    {
     "name": "stdout",
     "output_type": "stream",
     "text": [
      " 19000 | Cost: 11.0470750672\nIteration:"
     ]
    },
    {
     "name": "stdout",
     "output_type": "stream",
     "text": [
      " 19010 | Cost: 9.29999462865\nIteration:"
     ]
    },
    {
     "name": "stdout",
     "output_type": "stream",
     "text": [
      " 19020 | Cost: 10.3791716364\nIteration:"
     ]
    },
    {
     "name": "stdout",
     "output_type": "stream",
     "text": [
      " 19030 | Cost: 10.3503389542\nIteration:"
     ]
    },
    {
     "name": "stdout",
     "output_type": "stream",
     "text": [
      " 19040 | Cost: 10.6127365018\nIteration:"
     ]
    },
    {
     "name": "stdout",
     "output_type": "stream",
     "text": [
      " 19050 | Cost: 9.71927484584\nIteration:"
     ]
    },
    {
     "name": "stdout",
     "output_type": "stream",
     "text": [
      " 19060 | Cost: 11.4191181013\nIteration:"
     ]
    },
    {
     "name": "stdout",
     "output_type": "stream",
     "text": [
      " 19070 | Cost: 11.6178047496\nIteration:"
     ]
    },
    {
     "name": "stdout",
     "output_type": "stream",
     "text": [
      " 19080 | Cost: 10.5964635871\nIteration:"
     ]
    },
    {
     "name": "stdout",
     "output_type": "stream",
     "text": [
      " 19090 | Cost: 10.0416565905\nIteration:"
     ]
    },
    {
     "name": "stdout",
     "output_type": "stream",
     "text": [
      " 19100 | Cost: 9.54276642107\nIteration:"
     ]
    },
    {
     "name": "stdout",
     "output_type": "stream",
     "text": [
      " 19110 | Cost: 9.33884023251\nIteration:"
     ]
    },
    {
     "name": "stdout",
     "output_type": "stream",
     "text": [
      " 19120 | Cost: 9.62186527075\nIteration:"
     ]
    },
    {
     "name": "stdout",
     "output_type": "stream",
     "text": [
      " 19130 | Cost: 10.5685299657\nIteration:"
     ]
    },
    {
     "name": "stdout",
     "output_type": "stream",
     "text": [
      " 19140 | Cost: 10.9603262569\nIteration:"
     ]
    },
    {
     "name": "stdout",
     "output_type": "stream",
     "text": [
      " 19150 | Cost: 11.2574236609\nIteration:"
     ]
    },
    {
     "name": "stdout",
     "output_type": "stream",
     "text": [
      " 19160 | Cost: 10.8417435491\nIteration:"
     ]
    },
    {
     "name": "stdout",
     "output_type": "stream",
     "text": [
      " 19170 | Cost: 8.55653331008\nIteration:"
     ]
    },
    {
     "name": "stdout",
     "output_type": "stream",
     "text": [
      " 19180 | Cost: 11.2759315132\nIteration:"
     ]
    },
    {
     "name": "stdout",
     "output_type": "stream",
     "text": [
      " 19190 | Cost: 11.0820930124\nIteration:"
     ]
    },
    {
     "name": "stdout",
     "output_type": "stream",
     "text": [
      " 19200 | Cost: 10.581598269\nIteration:"
     ]
    },
    {
     "name": "stdout",
     "output_type": "stream",
     "text": [
      " 19210 | Cost: 10.6244289535\nIteration:"
     ]
    },
    {
     "name": "stdout",
     "output_type": "stream",
     "text": [
      " 19220 | Cost: 9.15753877366\nIteration:"
     ]
    },
    {
     "name": "stdout",
     "output_type": "stream",
     "text": [
      " 19230 | Cost: 10.9269336978\nIteration:"
     ]
    },
    {
     "name": "stdout",
     "output_type": "stream",
     "text": [
      " 19240 | Cost: 10.5450857955\nIteration:"
     ]
    },
    {
     "name": "stdout",
     "output_type": "stream",
     "text": [
      " 19250 | Cost: 10.3301978301\nIteration:"
     ]
    },
    {
     "name": "stdout",
     "output_type": "stream",
     "text": [
      " 19260 | Cost: 10.4700309233\nIteration:"
     ]
    },
    {
     "name": "stdout",
     "output_type": "stream",
     "text": [
      " 19270 | Cost: 9.84685931588\nIteration:"
     ]
    },
    {
     "name": "stdout",
     "output_type": "stream",
     "text": [
      " 19280 | Cost: 10.7886301223\nIteration:"
     ]
    },
    {
     "name": "stdout",
     "output_type": "stream",
     "text": [
      " 19290 | Cost: 8.5844131866\nIteration:"
     ]
    },
    {
     "name": "stdout",
     "output_type": "stream",
     "text": [
      " 19300 | Cost: 9.97033945853\nIteration:"
     ]
    },
    {
     "name": "stdout",
     "output_type": "stream",
     "text": [
      " 19310 | Cost: 10.1975303656\nIteration:"
     ]
    },
    {
     "name": "stdout",
     "output_type": "stream",
     "text": [
      " 19320 | Cost: 10.0184226876\nIteration:"
     ]
    },
    {
     "name": "stdout",
     "output_type": "stream",
     "text": [
      " 19330 | Cost: 10.8515062103\nIteration:"
     ]
    },
    {
     "name": "stdout",
     "output_type": "stream",
     "text": [
      " 19340 | Cost: 10.6714980988\nIteration:"
     ]
    },
    {
     "name": "stdout",
     "output_type": "stream",
     "text": [
      " 19350 | Cost: 9.82084293331\nIteration:"
     ]
    },
    {
     "name": "stdout",
     "output_type": "stream",
     "text": [
      " 19360 | Cost: 9.26367466858\nIteration:"
     ]
    },
    {
     "name": "stdout",
     "output_type": "stream",
     "text": [
      " 19370 | Cost: 10.6805802019\nIteration:"
     ]
    },
    {
     "name": "stdout",
     "output_type": "stream",
     "text": [
      " 19380 | Cost: 10.9350695378\nIteration:"
     ]
    },
    {
     "name": "stdout",
     "output_type": "stream",
     "text": [
      " 19390 | Cost: 10.220182927\nIteration:"
     ]
    },
    {
     "name": "stdout",
     "output_type": "stream",
     "text": [
      " 19400 | Cost: 9.00716735121\nIteration:"
     ]
    },
    {
     "name": "stdout",
     "output_type": "stream",
     "text": [
      " 19410 | Cost: 10.5977106084\nIteration:"
     ]
    },
    {
     "name": "stdout",
     "output_type": "stream",
     "text": [
      " 19420 | Cost: 11.2043067022\nIteration:"
     ]
    },
    {
     "name": "stdout",
     "output_type": "stream",
     "text": [
      " 19430 | Cost: 9.93563850048\nIteration:"
     ]
    },
    {
     "name": "stdout",
     "output_type": "stream",
     "text": [
      " 19440 | Cost: 12.043518368\nIteration:"
     ]
    },
    {
     "name": "stdout",
     "output_type": "stream",
     "text": [
      " 19450 | Cost: 8.8259488423\nIteration:"
     ]
    },
    {
     "name": "stdout",
     "output_type": "stream",
     "text": [
      " 19460 | Cost: 10.4909253623\nIteration:"
     ]
    },
    {
     "name": "stdout",
     "output_type": "stream",
     "text": [
      " 19470 | Cost: 10.1943887382\nIteration:"
     ]
    },
    {
     "name": "stdout",
     "output_type": "stream",
     "text": [
      " 19480 | Cost: 12.1277477113\nIteration:"
     ]
    },
    {
     "name": "stdout",
     "output_type": "stream",
     "text": [
      " 19490 | Cost: 10.4068122151\nIteration:"
     ]
    },
    {
     "name": "stdout",
     "output_type": "stream",
     "text": [
      " 19500 | Cost: 10.3743464052\nIteration:"
     ]
    },
    {
     "name": "stdout",
     "output_type": "stream",
     "text": [
      " 19510 | Cost: 9.61152569034\nIteration:"
     ]
    },
    {
     "name": "stdout",
     "output_type": "stream",
     "text": [
      " 19520 | Cost: 10.0717559521\nIteration:"
     ]
    },
    {
     "name": "stdout",
     "output_type": "stream",
     "text": [
      " 19530 | Cost: 9.24198105588\nIteration:"
     ]
    },
    {
     "name": "stdout",
     "output_type": "stream",
     "text": [
      " 19540 | Cost: 11.4131862428\nIteration:"
     ]
    },
    {
     "name": "stdout",
     "output_type": "stream",
     "text": [
      " 19550 | Cost: 10.3992421042\nIteration:"
     ]
    },
    {
     "name": "stdout",
     "output_type": "stream",
     "text": [
      " 19560 | Cost: 9.59950597929\nIteration:"
     ]
    },
    {
     "name": "stdout",
     "output_type": "stream",
     "text": [
      " 19570 | Cost: 10.3528558624\nIteration:"
     ]
    },
    {
     "name": "stdout",
     "output_type": "stream",
     "text": [
      " 19580 | Cost: 9.80441946679\nIteration:"
     ]
    },
    {
     "name": "stdout",
     "output_type": "stream",
     "text": [
      " 19590 | Cost: 8.90988892865\nIteration:"
     ]
    },
    {
     "name": "stdout",
     "output_type": "stream",
     "text": [
      " 19600 | Cost: 11.3863799053\nIteration:"
     ]
    },
    {
     "name": "stdout",
     "output_type": "stream",
     "text": [
      " 19610 | Cost: 9.80016395759\nIteration:"
     ]
    },
    {
     "name": "stdout",
     "output_type": "stream",
     "text": [
      " 19620 | Cost: 10.3735219228\nIteration:"
     ]
    },
    {
     "name": "stdout",
     "output_type": "stream",
     "text": [
      " 19630 | Cost: 8.78582237445\nIteration:"
     ]
    },
    {
     "name": "stdout",
     "output_type": "stream",
     "text": [
      " 19640 | Cost: 9.36646939608\nIteration:"
     ]
    },
    {
     "name": "stdout",
     "output_type": "stream",
     "text": [
      " 19650 | Cost: 9.46042783693\nIteration:"
     ]
    },
    {
     "name": "stdout",
     "output_type": "stream",
     "text": [
      " 19660 | Cost: 11.0299537842\nIteration:"
     ]
    },
    {
     "name": "stdout",
     "output_type": "stream",
     "text": [
      " 19670 | Cost: 10.7006581998\nIteration:"
     ]
    },
    {
     "name": "stdout",
     "output_type": "stream",
     "text": [
      " 19680 | Cost: 11.6527540565\nIteration:"
     ]
    },
    {
     "name": "stdout",
     "output_type": "stream",
     "text": [
      " 19690 | Cost: 10.6650205655\nIteration:"
     ]
    },
    {
     "name": "stdout",
     "output_type": "stream",
     "text": [
      " 19700 | Cost: 10.1260525665\nIteration:"
     ]
    },
    {
     "name": "stdout",
     "output_type": "stream",
     "text": [
      " 19710 | Cost: 9.44723186821\nIteration:"
     ]
    },
    {
     "name": "stdout",
     "output_type": "stream",
     "text": [
      " 19720 | Cost: 9.13587113807\nIteration:"
     ]
    },
    {
     "name": "stdout",
     "output_type": "stream",
     "text": [
      " 19730 | Cost: 9.13233849557\nIteration:"
     ]
    },
    {
     "name": "stdout",
     "output_type": "stream",
     "text": [
      " 19740 | Cost: 11.2914635514\nIteration:"
     ]
    },
    {
     "name": "stdout",
     "output_type": "stream",
     "text": [
      " 19750 | Cost: 10.3272396792\nIteration:"
     ]
    },
    {
     "name": "stdout",
     "output_type": "stream",
     "text": [
      " 19760 | Cost: 9.83588995285\nIteration:"
     ]
    },
    {
     "name": "stdout",
     "output_type": "stream",
     "text": [
      " 19770 | Cost: 10.5694064488\nIteration:"
     ]
    },
    {
     "name": "stdout",
     "output_type": "stream",
     "text": [
      " 19780 | Cost: 9.34105161991\nIteration:"
     ]
    },
    {
     "name": "stdout",
     "output_type": "stream",
     "text": [
      " 19790 | Cost: 9.74044867073\nIteration:"
     ]
    },
    {
     "name": "stdout",
     "output_type": "stream",
     "text": [
      " 19800 | Cost: 9.61509776096\nIteration:"
     ]
    },
    {
     "name": "stdout",
     "output_type": "stream",
     "text": [
      " 19810 | Cost: 10.3950340279\nIteration:"
     ]
    },
    {
     "name": "stdout",
     "output_type": "stream",
     "text": [
      " 19820 | Cost: 11.1876211349\nIteration:"
     ]
    },
    {
     "name": "stdout",
     "output_type": "stream",
     "text": [
      " 19830 | Cost: 10.762272212\nIteration:"
     ]
    },
    {
     "name": "stdout",
     "output_type": "stream",
     "text": [
      " 19840 | Cost: 10.217239463\nIteration:"
     ]
    },
    {
     "name": "stdout",
     "output_type": "stream",
     "text": [
      " 19850 | Cost: 11.4328227296\nIteration:"
     ]
    },
    {
     "name": "stdout",
     "output_type": "stream",
     "text": [
      " 19860 | Cost: 9.34539097782\nIteration:"
     ]
    },
    {
     "name": "stdout",
     "output_type": "stream",
     "text": [
      " 19870 | Cost: 9.45325177821\nIteration:"
     ]
    },
    {
     "name": "stdout",
     "output_type": "stream",
     "text": [
      " 19880 | Cost: 10.6611901583\nIteration:"
     ]
    },
    {
     "name": "stdout",
     "output_type": "stream",
     "text": [
      " 19890 | Cost: 9.61078304853\nIteration:"
     ]
    },
    {
     "name": "stdout",
     "output_type": "stream",
     "text": [
      " 19900 | Cost: 11.7830625589\nIteration:"
     ]
    },
    {
     "name": "stdout",
     "output_type": "stream",
     "text": [
      " 19910 | Cost: 9.96604703335\nIteration:"
     ]
    },
    {
     "name": "stdout",
     "output_type": "stream",
     "text": [
      " 19920 | Cost: 10.2300731307\nIteration:"
     ]
    },
    {
     "name": "stdout",
     "output_type": "stream",
     "text": [
      " 19930 | Cost: 9.22579054627\nIteration:"
     ]
    },
    {
     "name": "stdout",
     "output_type": "stream",
     "text": [
      " 19940 | Cost: 9.4785372989\nIteration:"
     ]
    },
    {
     "name": "stdout",
     "output_type": "stream",
     "text": [
      " 19950 | Cost: 10.461492136\nIteration:"
     ]
    },
    {
     "name": "stdout",
     "output_type": "stream",
     "text": [
      " 19960 | Cost: 8.84722602935\nIteration:"
     ]
    },
    {
     "name": "stdout",
     "output_type": "stream",
     "text": [
      " 19970 | Cost: 9.48284573256\nIteration:"
     ]
    },
    {
     "name": "stdout",
     "output_type": "stream",
     "text": [
      " 19980 | Cost: 9.37829744017\nIteration:"
     ]
    },
    {
     "name": "stdout",
     "output_type": "stream",
     "text": [
      " 19990 | Cost: 10.1727094201\nIteration:"
     ]
    },
    {
     "name": "stdout",
     "output_type": "stream",
     "text": [
      " 20000 | Cost: 10.1515947681\nIteration:"
     ]
    },
    {
     "name": "stdout",
     "output_type": "stream",
     "text": [
      " 20010 | Cost: 9.5873080922\nIteration:"
     ]
    },
    {
     "name": "stdout",
     "output_type": "stream",
     "text": [
      " 20020 | Cost: 10.0944997859\nIteration:"
     ]
    },
    {
     "name": "stdout",
     "output_type": "stream",
     "text": [
      " 20030 | Cost: 11.7811605822\nIteration:"
     ]
    },
    {
     "name": "stdout",
     "output_type": "stream",
     "text": [
      " 20040 | Cost: 11.1831893497\nIteration:"
     ]
    },
    {
     "name": "stdout",
     "output_type": "stream",
     "text": [
      " 20050 | Cost: 10.1789941228\nIteration:"
     ]
    },
    {
     "name": "stdout",
     "output_type": "stream",
     "text": [
      " 20060 | Cost: 11.6790644149\nIteration:"
     ]
    },
    {
     "name": "stdout",
     "output_type": "stream",
     "text": [
      " 20070 | Cost: 12.0850997144\nIteration:"
     ]
    },
    {
     "name": "stdout",
     "output_type": "stream",
     "text": [
      " 20080 | Cost: 10.5334723297\nIteration:"
     ]
    },
    {
     "name": "stdout",
     "output_type": "stream",
     "text": [
      " 20090 | Cost: 10.2144959157\nIteration:"
     ]
    },
    {
     "name": "stdout",
     "output_type": "stream",
     "text": [
      " 20100 | Cost: 9.51531051054\nIteration:"
     ]
    },
    {
     "name": "stdout",
     "output_type": "stream",
     "text": [
      " 20110 | Cost: 8.66710913528\nIteration:"
     ]
    },
    {
     "name": "stdout",
     "output_type": "stream",
     "text": [
      " 20120 | Cost: 9.8129140587\nIteration:"
     ]
    },
    {
     "name": "stdout",
     "output_type": "stream",
     "text": [
      " 20130 | Cost: 10.0106428913\nIteration:"
     ]
    },
    {
     "name": "stdout",
     "output_type": "stream",
     "text": [
      " 20140 | Cost: 8.94141390366\nIteration:"
     ]
    },
    {
     "name": "stdout",
     "output_type": "stream",
     "text": [
      " 20150 | Cost: 10.538106751\nIteration:"
     ]
    },
    {
     "name": "stdout",
     "output_type": "stream",
     "text": [
      " 20160 | Cost: 10.2131200153\nIteration:"
     ]
    },
    {
     "name": "stdout",
     "output_type": "stream",
     "text": [
      " 20170 | Cost: 9.80365525556\nIteration:"
     ]
    },
    {
     "name": "stdout",
     "output_type": "stream",
     "text": [
      " 20180 | Cost: 8.48445812741\nIteration:"
     ]
    },
    {
     "name": "stdout",
     "output_type": "stream",
     "text": [
      " 20190 | Cost: 9.71879665058\nIteration:"
     ]
    },
    {
     "name": "stdout",
     "output_type": "stream",
     "text": [
      " 20200 | Cost: 9.90141223647\nIteration:"
     ]
    },
    {
     "name": "stdout",
     "output_type": "stream",
     "text": [
      " 20210 | Cost: 10.7170112563\nIteration:"
     ]
    },
    {
     "name": "stdout",
     "output_type": "stream",
     "text": [
      " 20220 | Cost: 8.9097156438\nIteration:"
     ]
    },
    {
     "name": "stdout",
     "output_type": "stream",
     "text": [
      " 20230 | Cost: 9.94065837908\nIteration:"
     ]
    },
    {
     "name": "stdout",
     "output_type": "stream",
     "text": [
      " 20240 | Cost: 8.9847030446\nIteration:"
     ]
    },
    {
     "name": "stdout",
     "output_type": "stream",
     "text": [
      " 20250 | Cost: 8.44706689492\nIteration:"
     ]
    },
    {
     "name": "stdout",
     "output_type": "stream",
     "text": [
      " 20260 | Cost: 9.79674851512\nIteration:"
     ]
    },
    {
     "name": "stdout",
     "output_type": "stream",
     "text": [
      " 20270 | Cost: 10.1586157184\nIteration:"
     ]
    },
    {
     "name": "stdout",
     "output_type": "stream",
     "text": [
      " 20280 | Cost: 10.6445572511\nIteration:"
     ]
    },
    {
     "name": "stdout",
     "output_type": "stream",
     "text": [
      " 20290 | Cost: 11.1893276724\nIteration:"
     ]
    },
    {
     "name": "stdout",
     "output_type": "stream",
     "text": [
      " 20300 | Cost: 9.7598975333\nIteration:"
     ]
    },
    {
     "name": "stdout",
     "output_type": "stream",
     "text": [
      " 20310 | Cost: 9.49497982079\nIteration:"
     ]
    },
    {
     "name": "stdout",
     "output_type": "stream",
     "text": [
      " 20320 | Cost: 10.8268336214\nIteration:"
     ]
    },
    {
     "name": "stdout",
     "output_type": "stream",
     "text": [
      " 20330 | Cost: 9.95590950775\nIteration:"
     ]
    },
    {
     "name": "stdout",
     "output_type": "stream",
     "text": [
      " 20340 | Cost: 11.7400735449\nIteration:"
     ]
    },
    {
     "name": "stdout",
     "output_type": "stream",
     "text": [
      " 20350 | Cost: 9.53740129159\nIteration:"
     ]
    },
    {
     "name": "stdout",
     "output_type": "stream",
     "text": [
      " 20360 | Cost: 9.26190147992\nIteration:"
     ]
    },
    {
     "name": "stdout",
     "output_type": "stream",
     "text": [
      " 20370 | Cost: 9.93245427202\nIteration:"
     ]
    },
    {
     "name": "stdout",
     "output_type": "stream",
     "text": [
      " 20380 | Cost: 10.4320691007\nIteration:"
     ]
    },
    {
     "name": "stdout",
     "output_type": "stream",
     "text": [
      " 20390 | Cost: 9.38195056586\nIteration:"
     ]
    },
    {
     "name": "stdout",
     "output_type": "stream",
     "text": [
      " 20400 | Cost: 10.0417416424\nIteration:"
     ]
    },
    {
     "name": "stdout",
     "output_type": "stream",
     "text": [
      " 20410 | Cost: 10.8298638721\nIteration:"
     ]
    },
    {
     "name": "stdout",
     "output_type": "stream",
     "text": [
      " 20420 | Cost: 10.1728673347\nIteration:"
     ]
    },
    {
     "name": "stdout",
     "output_type": "stream",
     "text": [
      " 20430 | Cost: 9.3282003068\nIteration:"
     ]
    },
    {
     "name": "stdout",
     "output_type": "stream",
     "text": [
      " 20440 | Cost: 9.71468239145\nIteration:"
     ]
    },
    {
     "name": "stdout",
     "output_type": "stream",
     "text": [
      " 20450 | Cost: 11.1759970137\nIteration:"
     ]
    },
    {
     "name": "stdout",
     "output_type": "stream",
     "text": [
      " 20460 | Cost: 11.6172099883\nIteration:"
     ]
    },
    {
     "name": "stdout",
     "output_type": "stream",
     "text": [
      " 20470 | Cost: 11.5183897451\nIteration:"
     ]
    },
    {
     "name": "stdout",
     "output_type": "stream",
     "text": [
      " 20480 | Cost: 8.69629304126\nIteration:"
     ]
    },
    {
     "name": "stdout",
     "output_type": "stream",
     "text": [
      " 20490 | Cost: 8.85485340741\nIteration:"
     ]
    },
    {
     "name": "stdout",
     "output_type": "stream",
     "text": [
      " 20500 | Cost: 8.99010640888\nIteration:"
     ]
    },
    {
     "name": "stdout",
     "output_type": "stream",
     "text": [
      " 20510 | Cost: 10.4242879279\nIteration:"
     ]
    },
    {
     "name": "stdout",
     "output_type": "stream",
     "text": [
      " 20520 | Cost: 9.42463398062\nIteration:"
     ]
    },
    {
     "name": "stdout",
     "output_type": "stream",
     "text": [
      " 20530 | Cost: 10.339468413\nIteration:"
     ]
    },
    {
     "name": "stdout",
     "output_type": "stream",
     "text": [
      " 20540 | Cost: 9.31506307388\nIteration:"
     ]
    },
    {
     "name": "stdout",
     "output_type": "stream",
     "text": [
      " 20550 | Cost: 10.5350738583\nIteration:"
     ]
    },
    {
     "name": "stdout",
     "output_type": "stream",
     "text": [
      " 20560 | Cost: 9.67252369637\nIteration:"
     ]
    },
    {
     "name": "stdout",
     "output_type": "stream",
     "text": [
      " 20570 | Cost: 9.19990912865\nIteration:"
     ]
    },
    {
     "name": "stdout",
     "output_type": "stream",
     "text": [
      " 20580 | Cost: 9.19064648402\nIteration:"
     ]
    },
    {
     "name": "stdout",
     "output_type": "stream",
     "text": [
      " 20590 | Cost: 10.0968751601\nIteration:"
     ]
    },
    {
     "name": "stdout",
     "output_type": "stream",
     "text": [
      " 20600 | Cost: 8.49602667564\nIteration:"
     ]
    },
    {
     "name": "stdout",
     "output_type": "stream",
     "text": [
      " 20610 | Cost: 9.99213267412\nIteration:"
     ]
    },
    {
     "name": "stdout",
     "output_type": "stream",
     "text": [
      " 20620 | Cost: 10.072873216\nIteration:"
     ]
    },
    {
     "name": "stdout",
     "output_type": "stream",
     "text": [
      " 20630 | Cost: 9.8752341435\nIteration:"
     ]
    },
    {
     "name": "stdout",
     "output_type": "stream",
     "text": [
      " 20640 | Cost: 8.38708318994\nIteration:"
     ]
    },
    {
     "name": "stdout",
     "output_type": "stream",
     "text": [
      " 20650 | Cost: 8.80213895903\nIteration:"
     ]
    },
    {
     "name": "stdout",
     "output_type": "stream",
     "text": [
      " 20660 | Cost: 10.1544312522\nIteration:"
     ]
    },
    {
     "name": "stdout",
     "output_type": "stream",
     "text": [
      " 20670 | Cost: 9.81907346328\nIteration:"
     ]
    },
    {
     "name": "stdout",
     "output_type": "stream",
     "text": [
      " 20680 | Cost: 9.6233667671\nIteration:"
     ]
    },
    {
     "name": "stdout",
     "output_type": "stream",
     "text": [
      " 20690 | Cost: 12.3999272391\nIteration:"
     ]
    },
    {
     "name": "stdout",
     "output_type": "stream",
     "text": [
      " 20700 | Cost: 10.1171559838\nIteration:"
     ]
    },
    {
     "name": "stdout",
     "output_type": "stream",
     "text": [
      " 20710 | Cost: 9.73398048507\nIteration:"
     ]
    },
    {
     "name": "stdout",
     "output_type": "stream",
     "text": [
      " 20720 | Cost: 10.9182971456\nIteration:"
     ]
    },
    {
     "name": "stdout",
     "output_type": "stream",
     "text": [
      " 20730 | Cost: 10.8494918293\nIteration:"
     ]
    },
    {
     "name": "stdout",
     "output_type": "stream",
     "text": [
      " 20740 | Cost: 10.6731543112\nIteration:"
     ]
    },
    {
     "name": "stdout",
     "output_type": "stream",
     "text": [
      " 20750 | Cost: 11.0715214224\nIteration:"
     ]
    },
    {
     "name": "stdout",
     "output_type": "stream",
     "text": [
      " 20760 | Cost: 10.6139044333\nIteration:"
     ]
    },
    {
     "name": "stdout",
     "output_type": "stream",
     "text": [
      " 20770 | Cost: 10.1295783951\nIteration:"
     ]
    },
    {
     "name": "stdout",
     "output_type": "stream",
     "text": [
      " 20780 | Cost: 8.53632006259\nIteration:"
     ]
    },
    {
     "name": "stdout",
     "output_type": "stream",
     "text": [
      " 20790 | Cost: 10.9390642793\nIteration:"
     ]
    },
    {
     "name": "stdout",
     "output_type": "stream",
     "text": [
      " 20800 | Cost: 11.3506507111\nIteration:"
     ]
    },
    {
     "name": "stdout",
     "output_type": "stream",
     "text": [
      " 20810 | Cost: 9.84479735594\nIteration:"
     ]
    },
    {
     "name": "stdout",
     "output_type": "stream",
     "text": [
      " 20820 | Cost: 10.6963889837\nIteration:"
     ]
    },
    {
     "name": "stdout",
     "output_type": "stream",
     "text": [
      " 20830 | Cost: 10.3640684761\nIteration:"
     ]
    },
    {
     "name": "stdout",
     "output_type": "stream",
     "text": [
      " 20840 | Cost: 9.03562968448\nIteration:"
     ]
    },
    {
     "name": "stdout",
     "output_type": "stream",
     "text": [
      " 20850 | Cost: 8.67631346624\nIteration:"
     ]
    },
    {
     "name": "stdout",
     "output_type": "stream",
     "text": [
      " 20860 | Cost: 10.0676196104\nIteration:"
     ]
    },
    {
     "name": "stdout",
     "output_type": "stream",
     "text": [
      " 20870 | Cost: 9.83996036727\nIteration:"
     ]
    },
    {
     "name": "stdout",
     "output_type": "stream",
     "text": [
      " 20880 | Cost: 10.068056975\nIteration:"
     ]
    },
    {
     "name": "stdout",
     "output_type": "stream",
     "text": [
      " 20890 | Cost: 11.5342357938\nIteration:"
     ]
    },
    {
     "name": "stdout",
     "output_type": "stream",
     "text": [
      " 20900 | Cost: 10.3273645901\nIteration:"
     ]
    },
    {
     "name": "stdout",
     "output_type": "stream",
     "text": [
      " 20910 | Cost: 11.7599108489\nIteration:"
     ]
    },
    {
     "name": "stdout",
     "output_type": "stream",
     "text": [
      " 20920 | Cost: 9.57812981193\nIteration:"
     ]
    },
    {
     "name": "stdout",
     "output_type": "stream",
     "text": [
      " 20930 | Cost: 9.65216034128\nIteration:"
     ]
    },
    {
     "name": "stdout",
     "output_type": "stream",
     "text": [
      " 20940 | Cost: 9.87980287203\nIteration:"
     ]
    },
    {
     "name": "stdout",
     "output_type": "stream",
     "text": [
      " 20950 | Cost: 10.8902687443\nIteration:"
     ]
    },
    {
     "name": "stdout",
     "output_type": "stream",
     "text": [
      " 20960 | Cost: 9.42944263476\nIteration:"
     ]
    },
    {
     "name": "stdout",
     "output_type": "stream",
     "text": [
      " 20970 | Cost: 11.4987240544\nIteration:"
     ]
    },
    {
     "name": "stdout",
     "output_type": "stream",
     "text": [
      " 20980 | Cost: 9.6876348889\nIteration:"
     ]
    },
    {
     "name": "stdout",
     "output_type": "stream",
     "text": [
      " 20990 | Cost: 8.95164671838\nIteration:"
     ]
    },
    {
     "name": "stdout",
     "output_type": "stream",
     "text": [
      " 21000 | Cost: 10.384173716\nIteration:"
     ]
    },
    {
     "name": "stdout",
     "output_type": "stream",
     "text": [
      " 21010 | Cost: 10.7666793638\nIteration:"
     ]
    },
    {
     "name": "stdout",
     "output_type": "stream",
     "text": [
      " 21020 | Cost: 9.56037005655\nIteration:"
     ]
    },
    {
     "name": "stdout",
     "output_type": "stream",
     "text": [
      " 21030 | Cost: 9.97626762527\nIteration:"
     ]
    },
    {
     "name": "stdout",
     "output_type": "stream",
     "text": [
      " 21040 | Cost: 10.4180434834\nIteration:"
     ]
    },
    {
     "name": "stdout",
     "output_type": "stream",
     "text": [
      " 21050 | Cost: 10.5272282878\nIteration:"
     ]
    },
    {
     "name": "stdout",
     "output_type": "stream",
     "text": [
      " 21060 | Cost: 9.97743196436\nIteration:"
     ]
    },
    {
     "name": "stdout",
     "output_type": "stream",
     "text": [
      " 21070 | Cost: 11.1929914722\nIteration:"
     ]
    },
    {
     "name": "stdout",
     "output_type": "stream",
     "text": [
      " 21080 | Cost: 10.0641470053\nIteration:"
     ]
    },
    {
     "name": "stdout",
     "output_type": "stream",
     "text": [
      " 21090 | Cost: 9.80279263141\nIteration:"
     ]
    },
    {
     "name": "stdout",
     "output_type": "stream",
     "text": [
      " 21100 | Cost: 10.7550443503\nIteration:"
     ]
    },
    {
     "name": "stdout",
     "output_type": "stream",
     "text": [
      " 21110 | Cost: 10.6266713931\nIteration:"
     ]
    },
    {
     "name": "stdout",
     "output_type": "stream",
     "text": [
      " 21120 | Cost: 10.8211011007\nIteration:"
     ]
    },
    {
     "name": "stdout",
     "output_type": "stream",
     "text": [
      " 21130 | Cost: 9.86976557492\nIteration:"
     ]
    },
    {
     "name": "stdout",
     "output_type": "stream",
     "text": [
      " 21140 | Cost: 9.4383629181\nIteration:"
     ]
    },
    {
     "name": "stdout",
     "output_type": "stream",
     "text": [
      " 21150 | Cost: 9.81674106703\nIteration:"
     ]
    },
    {
     "name": "stdout",
     "output_type": "stream",
     "text": [
      " 21160 | Cost: 8.73472215654\nIteration:"
     ]
    },
    {
     "name": "stdout",
     "output_type": "stream",
     "text": [
      " 21170 | Cost: 11.5734681351\nIteration:"
     ]
    },
    {
     "name": "stdout",
     "output_type": "stream",
     "text": [
      " 21180 | Cost: 9.21982423833\nIteration:"
     ]
    },
    {
     "name": "stdout",
     "output_type": "stream",
     "text": [
      " 21190 | Cost: 11.3385818402\nIteration:"
     ]
    },
    {
     "name": "stdout",
     "output_type": "stream",
     "text": [
      " 21200 | Cost: 10.3264442327\nIteration:"
     ]
    },
    {
     "name": "stdout",
     "output_type": "stream",
     "text": [
      " 21210 | Cost: 10.3621818011\nIteration:"
     ]
    },
    {
     "name": "stdout",
     "output_type": "stream",
     "text": [
      " 21220 | Cost: 10.9614801317\nIteration:"
     ]
    },
    {
     "name": "stdout",
     "output_type": "stream",
     "text": [
      " 21230 | Cost: 9.61138597858\nIteration:"
     ]
    },
    {
     "name": "stdout",
     "output_type": "stream",
     "text": [
      " 21240 | Cost: 10.0142845873\nIteration:"
     ]
    },
    {
     "name": "stdout",
     "output_type": "stream",
     "text": [
      " 21250 | Cost: 11.1297373557\nIteration:"
     ]
    },
    {
     "name": "stdout",
     "output_type": "stream",
     "text": [
      " 21260 | Cost: 10.7460534148\nIteration:"
     ]
    },
    {
     "name": "stdout",
     "output_type": "stream",
     "text": [
      " 21270 | Cost: 10.2914789228\nIteration:"
     ]
    },
    {
     "name": "stdout",
     "output_type": "stream",
     "text": [
      " 21280 | Cost: 11.8593070209\nIteration:"
     ]
    },
    {
     "name": "stdout",
     "output_type": "stream",
     "text": [
      " 21290 | Cost: 10.1657108048\nIteration:"
     ]
    },
    {
     "name": "stdout",
     "output_type": "stream",
     "text": [
      " 21300 | Cost: 9.91911879721\nIteration:"
     ]
    },
    {
     "name": "stdout",
     "output_type": "stream",
     "text": [
      " 21310 | Cost: 10.1452723288\nIteration:"
     ]
    },
    {
     "name": "stdout",
     "output_type": "stream",
     "text": [
      " 21320 | Cost: 9.80803004675\nIteration:"
     ]
    },
    {
     "name": "stdout",
     "output_type": "stream",
     "text": [
      " 21330 | Cost: 10.3275108049\nIteration:"
     ]
    },
    {
     "name": "stdout",
     "output_type": "stream",
     "text": [
      " 21340 | Cost: 8.96338283362\nIteration:"
     ]
    },
    {
     "name": "stdout",
     "output_type": "stream",
     "text": [
      " 21350 | Cost: 10.6787653003\nIteration:"
     ]
    },
    {
     "name": "stdout",
     "output_type": "stream",
     "text": [
      " 21360 | Cost: 7.98718729436\nIteration:"
     ]
    },
    {
     "name": "stdout",
     "output_type": "stream",
     "text": [
      " 21370 | Cost: 9.49022011038\nIteration:"
     ]
    },
    {
     "name": "stdout",
     "output_type": "stream",
     "text": [
      " 21380 | Cost: 10.0527734985\nIteration:"
     ]
    },
    {
     "name": "stdout",
     "output_type": "stream",
     "text": [
      " 21390 | Cost: 9.47977075567\nIteration:"
     ]
    },
    {
     "name": "stdout",
     "output_type": "stream",
     "text": [
      " 21400 | Cost: 10.450457919\nIteration:"
     ]
    },
    {
     "name": "stdout",
     "output_type": "stream",
     "text": [
      " 21410 | Cost: 11.3344494846\nIteration:"
     ]
    },
    {
     "name": "stdout",
     "output_type": "stream",
     "text": [
      " 21420 | Cost: 10.7578141045\nIteration:"
     ]
    },
    {
     "name": "stdout",
     "output_type": "stream",
     "text": [
      " 21430 | Cost: 10.5110089669\nIteration:"
     ]
    },
    {
     "name": "stdout",
     "output_type": "stream",
     "text": [
      " 21440 | Cost: 10.6107455397\nIteration:"
     ]
    },
    {
     "name": "stdout",
     "output_type": "stream",
     "text": [
      " 21450 | Cost: 10.160633343\nIteration:"
     ]
    },
    {
     "name": "stdout",
     "output_type": "stream",
     "text": [
      " 21460 | Cost: 9.86200671659\nIteration:"
     ]
    },
    {
     "name": "stdout",
     "output_type": "stream",
     "text": [
      " 21470 | Cost: 9.46223003337\nIteration:"
     ]
    },
    {
     "name": "stdout",
     "output_type": "stream",
     "text": [
      " 21480 | Cost: 10.8843103749\nIteration:"
     ]
    },
    {
     "name": "stdout",
     "output_type": "stream",
     "text": [
      " 21490 | Cost: 9.51155555497\nIteration:"
     ]
    },
    {
     "name": "stdout",
     "output_type": "stream",
     "text": [
      " 21500 | Cost: 9.15989498028\nIteration:"
     ]
    },
    {
     "name": "stdout",
     "output_type": "stream",
     "text": [
      " 21510 | Cost: 8.32990109989\nIteration:"
     ]
    },
    {
     "name": "stdout",
     "output_type": "stream",
     "text": [
      " 21520 | Cost: 11.1351355183\nIteration:"
     ]
    },
    {
     "name": "stdout",
     "output_type": "stream",
     "text": [
      " 21530 | Cost: 10.7852299728\nIteration:"
     ]
    },
    {
     "name": "stdout",
     "output_type": "stream",
     "text": [
      " 21540 | Cost: 8.81273360923\nIteration:"
     ]
    },
    {
     "name": "stdout",
     "output_type": "stream",
     "text": [
      " 21550 | Cost: 9.80651181849\nIteration:"
     ]
    },
    {
     "name": "stdout",
     "output_type": "stream",
     "text": [
      " 21560 | Cost: 9.43194325416\nIteration:"
     ]
    },
    {
     "name": "stdout",
     "output_type": "stream",
     "text": [
      " 21570 | Cost: 9.02707080434\nIteration:"
     ]
    },
    {
     "name": "stdout",
     "output_type": "stream",
     "text": [
      " 21580 | Cost: 10.7251403644\nIteration:"
     ]
    },
    {
     "name": "stdout",
     "output_type": "stream",
     "text": [
      " 21590 | Cost: 9.52020904292\nIteration:"
     ]
    },
    {
     "name": "stdout",
     "output_type": "stream",
     "text": [
      " 21600 | Cost: 9.265590722\nIteration:"
     ]
    },
    {
     "name": "stdout",
     "output_type": "stream",
     "text": [
      " 21610 | Cost: 11.6424658876\nIteration:"
     ]
    },
    {
     "name": "stdout",
     "output_type": "stream",
     "text": [
      " 21620 | Cost: 9.86651703405\nIteration:"
     ]
    },
    {
     "name": "stdout",
     "output_type": "stream",
     "text": [
      " 21630 | Cost: 8.86586040174\nIteration:"
     ]
    },
    {
     "name": "stdout",
     "output_type": "stream",
     "text": [
      " 21640 | Cost: 11.5044006615\nIteration:"
     ]
    },
    {
     "name": "stdout",
     "output_type": "stream",
     "text": [
      " 21650 | Cost: 9.6557874981\nIteration:"
     ]
    },
    {
     "name": "stdout",
     "output_type": "stream",
     "text": [
      " 21660 | Cost: 9.5968265645\nIteration:"
     ]
    },
    {
     "name": "stdout",
     "output_type": "stream",
     "text": [
      " 21670 | Cost: 10.6822126268\nIteration:"
     ]
    },
    {
     "name": "stdout",
     "output_type": "stream",
     "text": [
      " 21680 | Cost: 8.48720044004\nIteration:"
     ]
    },
    {
     "name": "stdout",
     "output_type": "stream",
     "text": [
      " 21690 | Cost: 8.9651466516\nIteration:"
     ]
    },
    {
     "name": "stdout",
     "output_type": "stream",
     "text": [
      " 21700 | Cost: 10.0599916001\nIteration:"
     ]
    },
    {
     "name": "stdout",
     "output_type": "stream",
     "text": [
      " 21710 | Cost: 9.8278519061\nIteration:"
     ]
    },
    {
     "name": "stdout",
     "output_type": "stream",
     "text": [
      " 21720 | Cost: 9.56867890904\nIteration:"
     ]
    },
    {
     "name": "stdout",
     "output_type": "stream",
     "text": [
      " 21730 | Cost: 11.6082813327\nIteration:"
     ]
    },
    {
     "name": "stdout",
     "output_type": "stream",
     "text": [
      " 21740 | Cost: 10.6279631143\nIteration:"
     ]
    },
    {
     "name": "stdout",
     "output_type": "stream",
     "text": [
      " 21750 | Cost: 9.67053698653\nIteration:"
     ]
    },
    {
     "name": "stdout",
     "output_type": "stream",
     "text": [
      " 21760 | Cost: 8.8461303251\nIteration:"
     ]
    },
    {
     "name": "stdout",
     "output_type": "stream",
     "text": [
      " 21770 | Cost: 9.43751025586\nIteration:"
     ]
    },
    {
     "name": "stdout",
     "output_type": "stream",
     "text": [
      " 21780 | Cost: 10.7268445415\nIteration:"
     ]
    },
    {
     "name": "stdout",
     "output_type": "stream",
     "text": [
      " 21790 | Cost: 9.36563419378\nIteration:"
     ]
    },
    {
     "name": "stdout",
     "output_type": "stream",
     "text": [
      " 21800 | Cost: 8.67588659329\nIteration:"
     ]
    },
    {
     "name": "stdout",
     "output_type": "stream",
     "text": [
      " 21810 | Cost: 10.3423891524\nIteration:"
     ]
    },
    {
     "name": "stdout",
     "output_type": "stream",
     "text": [
      " 21820 | Cost: 8.90799366556\nIteration:"
     ]
    },
    {
     "name": "stdout",
     "output_type": "stream",
     "text": [
      " 21830 | Cost: 10.175182095\nIteration:"
     ]
    },
    {
     "name": "stdout",
     "output_type": "stream",
     "text": [
      " 21840 | Cost: 10.9066393273\nIteration:"
     ]
    },
    {
     "name": "stdout",
     "output_type": "stream",
     "text": [
      " 21850 | Cost: 8.64819914051\nIteration:"
     ]
    },
    {
     "name": "stdout",
     "output_type": "stream",
     "text": [
      " 21860 | Cost: 10.4558810836\nIteration:"
     ]
    },
    {
     "name": "stdout",
     "output_type": "stream",
     "text": [
      " 21870 | Cost: 9.48781797141\nIteration:"
     ]
    },
    {
     "name": "stdout",
     "output_type": "stream",
     "text": [
      " 21880 | Cost: 9.96150238545\nIteration:"
     ]
    },
    {
     "name": "stdout",
     "output_type": "stream",
     "text": [
      " 21890 | Cost: 10.1747040918\nIteration:"
     ]
    },
    {
     "name": "stdout",
     "output_type": "stream",
     "text": [
      " 21900 | Cost: 10.6840422863\nIteration:"
     ]
    },
    {
     "name": "stdout",
     "output_type": "stream",
     "text": [
      " 21910 | Cost: 11.4169407666\nIteration:"
     ]
    },
    {
     "name": "stdout",
     "output_type": "stream",
     "text": [
      " 21920 | Cost: 10.4494945304\nIteration:"
     ]
    },
    {
     "name": "stdout",
     "output_type": "stream",
     "text": [
      " 21930 | Cost: 10.0807650248\nIteration:"
     ]
    },
    {
     "name": "stdout",
     "output_type": "stream",
     "text": [
      " 21940 | Cost: 9.62445320272\nIteration:"
     ]
    },
    {
     "name": "stdout",
     "output_type": "stream",
     "text": [
      " 21950 | Cost: 9.99508779402\nIteration:"
     ]
    },
    {
     "name": "stdout",
     "output_type": "stream",
     "text": [
      " 21960 | Cost: 11.437737007\nIteration:"
     ]
    },
    {
     "name": "stdout",
     "output_type": "stream",
     "text": [
      " 21970 | Cost: 10.8426291359\nIteration:"
     ]
    },
    {
     "name": "stdout",
     "output_type": "stream",
     "text": [
      " 21980 | Cost: 9.84159727144\nIteration:"
     ]
    },
    {
     "name": "stdout",
     "output_type": "stream",
     "text": [
      " 21990 | Cost: 10.9477994667\nIteration:"
     ]
    },
    {
     "name": "stdout",
     "output_type": "stream",
     "text": [
      " 22000 | Cost: 10.6924174534\nIteration:"
     ]
    },
    {
     "name": "stdout",
     "output_type": "stream",
     "text": [
      " 22010 | Cost: 11.074161053\nIteration:"
     ]
    },
    {
     "name": "stdout",
     "output_type": "stream",
     "text": [
      " 22020 | Cost: 10.172346917\nIteration:"
     ]
    },
    {
     "name": "stdout",
     "output_type": "stream",
     "text": [
      " 22030 | Cost: 9.0522575637\nIteration:"
     ]
    },
    {
     "name": "stdout",
     "output_type": "stream",
     "text": [
      " 22040 | Cost: 10.5082850502\nIteration:"
     ]
    },
    {
     "name": "stdout",
     "output_type": "stream",
     "text": [
      " 22050 | Cost: 10.0548998591\nIteration:"
     ]
    },
    {
     "name": "stdout",
     "output_type": "stream",
     "text": [
      " 22060 | Cost: 10.1982958347\nIteration:"
     ]
    },
    {
     "name": "stdout",
     "output_type": "stream",
     "text": [
      " 22070 | Cost: 10.4062937643\nIteration:"
     ]
    },
    {
     "name": "stdout",
     "output_type": "stream",
     "text": [
      " 22080 | Cost: 9.2294888099\nIteration:"
     ]
    },
    {
     "name": "stdout",
     "output_type": "stream",
     "text": [
      " 22090 | Cost: 9.60804252742\nIteration:"
     ]
    },
    {
     "name": "stdout",
     "output_type": "stream",
     "text": [
      " 22100 | Cost: 11.0005929121\nIteration:"
     ]
    },
    {
     "name": "stdout",
     "output_type": "stream",
     "text": [
      " 22110 | Cost: 10.2448239201\nIteration:"
     ]
    },
    {
     "name": "stdout",
     "output_type": "stream",
     "text": [
      " 22120 | Cost: 9.60254285303\nIteration:"
     ]
    },
    {
     "name": "stdout",
     "output_type": "stream",
     "text": [
      " 22130 | Cost: 10.8074254588\nIteration:"
     ]
    },
    {
     "name": "stdout",
     "output_type": "stream",
     "text": [
      " 22140 | Cost: 10.4881501819\nIteration:"
     ]
    },
    {
     "name": "stdout",
     "output_type": "stream",
     "text": [
      " 22150 | Cost: 9.07145272164\nIteration:"
     ]
    },
    {
     "name": "stdout",
     "output_type": "stream",
     "text": [
      " 22160 | Cost: 10.59696166\nIteration:"
     ]
    },
    {
     "name": "stdout",
     "output_type": "stream",
     "text": [
      " 22170 | Cost: 8.73475557076\nIteration:"
     ]
    },
    {
     "name": "stdout",
     "output_type": "stream",
     "text": [
      " 22180 | Cost: 9.1814371581\nIteration:"
     ]
    },
    {
     "name": "stdout",
     "output_type": "stream",
     "text": [
      " 22190 | Cost: 10.4500386823\nIteration:"
     ]
    },
    {
     "name": "stdout",
     "output_type": "stream",
     "text": [
      " 22200 | Cost: 9.67574791316\nIteration:"
     ]
    },
    {
     "name": "stdout",
     "output_type": "stream",
     "text": [
      " 22210 | Cost: 11.4480398158\nIteration:"
     ]
    },
    {
     "name": "stdout",
     "output_type": "stream",
     "text": [
      " 22220 | Cost: 9.5416516947\nIteration:"
     ]
    },
    {
     "name": "stdout",
     "output_type": "stream",
     "text": [
      " 22230 | Cost: 10.6745579264\nIteration:"
     ]
    },
    {
     "name": "stdout",
     "output_type": "stream",
     "text": [
      " 22240 | Cost: 10.7214504345\nIteration:"
     ]
    },
    {
     "name": "stdout",
     "output_type": "stream",
     "text": [
      " 22250 | Cost: 10.9047138465\nIteration:"
     ]
    },
    {
     "name": "stdout",
     "output_type": "stream",
     "text": [
      " 22260 | Cost: 10.1141495747\nIteration:"
     ]
    },
    {
     "name": "stdout",
     "output_type": "stream",
     "text": [
      " 22270 | Cost: 7.7019947952\nIteration:"
     ]
    },
    {
     "name": "stdout",
     "output_type": "stream",
     "text": [
      " 22280 | Cost: 10.0797860985\nIteration:"
     ]
    },
    {
     "name": "stdout",
     "output_type": "stream",
     "text": [
      " 22290 | Cost: 9.9041542487\nIteration:"
     ]
    },
    {
     "name": "stdout",
     "output_type": "stream",
     "text": [
      " 22300 | Cost: 9.19192567941\nIteration:"
     ]
    },
    {
     "name": "stdout",
     "output_type": "stream",
     "text": [
      " 22310 | Cost: 9.36848575571\nIteration:"
     ]
    },
    {
     "name": "stdout",
     "output_type": "stream",
     "text": [
      " 22320 | Cost: 10.288096018\nIteration:"
     ]
    },
    {
     "name": "stdout",
     "output_type": "stream",
     "text": [
      " 22330 | Cost: 9.96694061655\nIteration:"
     ]
    },
    {
     "name": "stdout",
     "output_type": "stream",
     "text": [
      " 22340 | Cost: 9.84538322939\nIteration:"
     ]
    },
    {
     "name": "stdout",
     "output_type": "stream",
     "text": [
      " 22350 | Cost: 11.8098364994\nIteration:"
     ]
    },
    {
     "name": "stdout",
     "output_type": "stream",
     "text": [
      " 22360 | Cost: 9.6314316004\nIteration:"
     ]
    },
    {
     "name": "stdout",
     "output_type": "stream",
     "text": [
      " 22370 | Cost: 11.3857053439\nIteration:"
     ]
    },
    {
     "name": "stdout",
     "output_type": "stream",
     "text": [
      " 22380 | Cost: 9.91494620402\nIteration:"
     ]
    },
    {
     "name": "stdout",
     "output_type": "stream",
     "text": [
      " 22390 | Cost: 9.31881093421\nIteration:"
     ]
    },
    {
     "name": "stdout",
     "output_type": "stream",
     "text": [
      " 22400 | Cost: 10.0198805627\nIteration:"
     ]
    },
    {
     "name": "stdout",
     "output_type": "stream",
     "text": [
      " 22410 | Cost: 10.2092716621\nIteration:"
     ]
    },
    {
     "name": "stdout",
     "output_type": "stream",
     "text": [
      " 22420 | Cost: 10.0023185538\nIteration:"
     ]
    },
    {
     "name": "stdout",
     "output_type": "stream",
     "text": [
      " 22430 | Cost: 9.45448583866\nIteration:"
     ]
    },
    {
     "name": "stdout",
     "output_type": "stream",
     "text": [
      " 22440 | Cost: 9.742681505\nIteration:"
     ]
    },
    {
     "name": "stdout",
     "output_type": "stream",
     "text": [
      " 22450 | Cost: 10.2232600173\nIteration:"
     ]
    },
    {
     "name": "stdout",
     "output_type": "stream",
     "text": [
      " 22460 | Cost: 8.73823814393\nIteration:"
     ]
    },
    {
     "name": "stdout",
     "output_type": "stream",
     "text": [
      " 22470 | Cost: 11.7298513455\nIteration:"
     ]
    },
    {
     "name": "stdout",
     "output_type": "stream",
     "text": [
      " 22480 | Cost: 10.3382876088\nIteration:"
     ]
    },
    {
     "name": "stdout",
     "output_type": "stream",
     "text": [
      " 22490 | Cost: 9.70751989879\nIteration:"
     ]
    },
    {
     "name": "stdout",
     "output_type": "stream",
     "text": [
      " 22500 | Cost: 9.84183785762\nIteration:"
     ]
    },
    {
     "name": "stdout",
     "output_type": "stream",
     "text": [
      " 22510 | Cost: 11.3807838957\nIteration:"
     ]
    },
    {
     "name": "stdout",
     "output_type": "stream",
     "text": [
      " 22520 | Cost: 9.09685171534\nIteration:"
     ]
    },
    {
     "name": "stdout",
     "output_type": "stream",
     "text": [
      " 22530 | Cost: 11.7705016039\nIteration:"
     ]
    },
    {
     "name": "stdout",
     "output_type": "stream",
     "text": [
      " 22540 | Cost: 10.3520667052\nIteration:"
     ]
    },
    {
     "name": "stdout",
     "output_type": "stream",
     "text": [
      " 22550 | Cost: 11.8539570532\nIteration:"
     ]
    },
    {
     "name": "stdout",
     "output_type": "stream",
     "text": [
      " 22560 | Cost: 9.78963043752\nIteration:"
     ]
    },
    {
     "name": "stdout",
     "output_type": "stream",
     "text": [
      " 22570 | Cost: 10.6483180932\nIteration:"
     ]
    },
    {
     "name": "stdout",
     "output_type": "stream",
     "text": [
      " 22580 | Cost: 9.24254537287\nIteration:"
     ]
    },
    {
     "name": "stdout",
     "output_type": "stream",
     "text": [
      " 22590 | Cost: 11.5281120007\nIteration:"
     ]
    },
    {
     "name": "stdout",
     "output_type": "stream",
     "text": [
      " 22600 | Cost: 10.6950311853\nIteration:"
     ]
    },
    {
     "name": "stdout",
     "output_type": "stream",
     "text": [
      " 22610 | Cost: 10.1612770126\nIteration:"
     ]
    },
    {
     "name": "stdout",
     "output_type": "stream",
     "text": [
      " 22620 | Cost: 10.2184920619\nIteration:"
     ]
    },
    {
     "name": "stdout",
     "output_type": "stream",
     "text": [
      " 22630 | Cost: 11.4431593275\nIteration:"
     ]
    },
    {
     "name": "stdout",
     "output_type": "stream",
     "text": [
      " 22640 | Cost: 11.5213586564\nIteration:"
     ]
    },
    {
     "name": "stdout",
     "output_type": "stream",
     "text": [
      " 22650 | Cost: 9.74510619437\nIteration:"
     ]
    },
    {
     "name": "stdout",
     "output_type": "stream",
     "text": [
      " 22660 | Cost: 10.0746550626\nIteration:"
     ]
    },
    {
     "name": "stdout",
     "output_type": "stream",
     "text": [
      " 22670 | Cost: 10.5530135006\nIteration:"
     ]
    },
    {
     "name": "stdout",
     "output_type": "stream",
     "text": [
      " 22680 | Cost: 10.0324379088\nIteration:"
     ]
    },
    {
     "name": "stdout",
     "output_type": "stream",
     "text": [
      " 22690 | Cost: 10.101603537\nIteration:"
     ]
    },
    {
     "name": "stdout",
     "output_type": "stream",
     "text": [
      " 22700 | Cost: 10.13439256\nIteration:"
     ]
    },
    {
     "name": "stdout",
     "output_type": "stream",
     "text": [
      " 22710 | Cost: 9.26560295005\nIteration:"
     ]
    },
    {
     "name": "stdout",
     "output_type": "stream",
     "text": [
      " 22720 | Cost: 9.50047394153\nIteration:"
     ]
    },
    {
     "name": "stdout",
     "output_type": "stream",
     "text": [
      " 22730 | Cost: 8.48803052966\nIteration:"
     ]
    },
    {
     "name": "stdout",
     "output_type": "stream",
     "text": [
      " 22740 | Cost: 9.81336022523\nIteration:"
     ]
    },
    {
     "name": "stdout",
     "output_type": "stream",
     "text": [
      " 22750 | Cost: 11.1731207817\nIteration:"
     ]
    },
    {
     "name": "stdout",
     "output_type": "stream",
     "text": [
      " 22760 | Cost: 10.3952630908\nIteration:"
     ]
    },
    {
     "name": "stdout",
     "output_type": "stream",
     "text": [
      " 22770 | Cost: 10.4965576394\nIteration:"
     ]
    },
    {
     "name": "stdout",
     "output_type": "stream",
     "text": [
      " 22780 | Cost: 9.65335917193\nIteration:"
     ]
    },
    {
     "name": "stdout",
     "output_type": "stream",
     "text": [
      " 22790 | Cost: 10.5471878098\nIteration:"
     ]
    },
    {
     "name": "stdout",
     "output_type": "stream",
     "text": [
      " 22800 | Cost: 10.1303069276\nIteration:"
     ]
    },
    {
     "name": "stdout",
     "output_type": "stream",
     "text": [
      " 22810 | Cost: 9.87575900316\nIteration:"
     ]
    },
    {
     "name": "stdout",
     "output_type": "stream",
     "text": [
      " 22820 | Cost: 9.72159817019\nIteration:"
     ]
    },
    {
     "name": "stdout",
     "output_type": "stream",
     "text": [
      " 22830 | Cost: 10.63612987\nIteration:"
     ]
    },
    {
     "name": "stdout",
     "output_type": "stream",
     "text": [
      " 22840 | Cost: 9.90223696454\nIteration:"
     ]
    },
    {
     "name": "stdout",
     "output_type": "stream",
     "text": [
      " 22850 | Cost: 9.24820702394\nIteration:"
     ]
    },
    {
     "name": "stdout",
     "output_type": "stream",
     "text": [
      " 22860 | Cost: 9.99320479512\nIteration:"
     ]
    },
    {
     "name": "stdout",
     "output_type": "stream",
     "text": [
      " 22870 | Cost: 11.1342788727\nIteration:"
     ]
    },
    {
     "name": "stdout",
     "output_type": "stream",
     "text": [
      " 22880 | Cost: 10.5741625975\nIteration:"
     ]
    },
    {
     "name": "stdout",
     "output_type": "stream",
     "text": [
      " 22890 | Cost: 12.5145142145\nIteration:"
     ]
    },
    {
     "name": "stdout",
     "output_type": "stream",
     "text": [
      " 22900 | Cost: 8.58370498553\nIteration:"
     ]
    },
    {
     "name": "stdout",
     "output_type": "stream",
     "text": [
      " 22910 | Cost: 9.36960161767\nIteration:"
     ]
    },
    {
     "name": "stdout",
     "output_type": "stream",
     "text": [
      " 22920 | Cost: 8.59692544785\nIteration:"
     ]
    },
    {
     "name": "stdout",
     "output_type": "stream",
     "text": [
      " 22930 | Cost: 9.573224528\nIteration:"
     ]
    },
    {
     "name": "stdout",
     "output_type": "stream",
     "text": [
      " 22940 | Cost: 9.83675296163\nIteration:"
     ]
    },
    {
     "name": "stdout",
     "output_type": "stream",
     "text": [
      " 22950 | Cost: 10.4084193385\nIteration:"
     ]
    },
    {
     "name": "stdout",
     "output_type": "stream",
     "text": [
      " 22960 | Cost: 10.4012165914\nIteration:"
     ]
    },
    {
     "name": "stdout",
     "output_type": "stream",
     "text": [
      " 22970 | Cost: 9.83308552774\nIteration:"
     ]
    },
    {
     "name": "stdout",
     "output_type": "stream",
     "text": [
      " 22980 | Cost: 7.62112960063\nIteration:"
     ]
    },
    {
     "name": "stdout",
     "output_type": "stream",
     "text": [
      " 22990 | Cost: 10.7603883904\nIteration:"
     ]
    },
    {
     "name": "stdout",
     "output_type": "stream",
     "text": [
      " 23000 | Cost: 7.97706696153\nIteration:"
     ]
    },
    {
     "name": "stdout",
     "output_type": "stream",
     "text": [
      " 23010 | Cost: 10.8846740123\nIteration:"
     ]
    },
    {
     "name": "stdout",
     "output_type": "stream",
     "text": [
      " 23020 | Cost: 8.83637011988\nIteration:"
     ]
    },
    {
     "name": "stdout",
     "output_type": "stream",
     "text": [
      " 23030 | Cost: 10.9747699203\nIteration:"
     ]
    },
    {
     "name": "stdout",
     "output_type": "stream",
     "text": [
      " 23040 | Cost: 10.2521399081\nIteration:"
     ]
    },
    {
     "name": "stdout",
     "output_type": "stream",
     "text": [
      " 23050 | Cost: 7.51569064376\nIteration:"
     ]
    },
    {
     "name": "stdout",
     "output_type": "stream",
     "text": [
      " 23060 | Cost: 9.41256987979\nIteration:"
     ]
    },
    {
     "name": "stdout",
     "output_type": "stream",
     "text": [
      " 23070 | Cost: 9.2447012584\nIteration:"
     ]
    },
    {
     "name": "stdout",
     "output_type": "stream",
     "text": [
      " 23080 | Cost: 9.1677211301\nIteration:"
     ]
    },
    {
     "name": "stdout",
     "output_type": "stream",
     "text": [
      " 23090 | Cost: 10.8910091589\nIteration:"
     ]
    },
    {
     "name": "stdout",
     "output_type": "stream",
     "text": [
      " 23100 | Cost: 9.96266838558\nIteration:"
     ]
    },
    {
     "name": "stdout",
     "output_type": "stream",
     "text": [
      " 23110 | Cost: 10.0174748979\nIteration:"
     ]
    },
    {
     "name": "stdout",
     "output_type": "stream",
     "text": [
      " 23120 | Cost: 10.5158893029\nIteration:"
     ]
    },
    {
     "name": "stdout",
     "output_type": "stream",
     "text": [
      " 23130 | Cost: 10.3912729479\nIteration:"
     ]
    },
    {
     "name": "stdout",
     "output_type": "stream",
     "text": [
      " 23140 | Cost: 10.7053118583\nIteration:"
     ]
    },
    {
     "name": "stdout",
     "output_type": "stream",
     "text": [
      " 23150 | Cost: 11.2262500103\nIteration:"
     ]
    },
    {
     "name": "stdout",
     "output_type": "stream",
     "text": [
      " 23160 | Cost: 10.3944534545\nIteration:"
     ]
    },
    {
     "name": "stdout",
     "output_type": "stream",
     "text": [
      " 23170 | Cost: 9.94616752617\nIteration:"
     ]
    },
    {
     "name": "stdout",
     "output_type": "stream",
     "text": [
      " 23180 | Cost: 9.78361372463\nIteration:"
     ]
    },
    {
     "name": "stdout",
     "output_type": "stream",
     "text": [
      " 23190 | Cost: 9.13407665281\nIteration:"
     ]
    },
    {
     "name": "stdout",
     "output_type": "stream",
     "text": [
      " 23200 | Cost: 9.94175282043\nIteration:"
     ]
    },
    {
     "name": "stdout",
     "output_type": "stream",
     "text": [
      " 23210 | Cost: 9.17498322568\nIteration:"
     ]
    },
    {
     "name": "stdout",
     "output_type": "stream",
     "text": [
      " 23220 | Cost: 10.7737236231\nIteration:"
     ]
    },
    {
     "name": "stdout",
     "output_type": "stream",
     "text": [
      " 23230 | Cost: 11.6990420856\nIteration:"
     ]
    },
    {
     "name": "stdout",
     "output_type": "stream",
     "text": [
      " 23240 | Cost: 9.80473858098\nIteration:"
     ]
    },
    {
     "name": "stdout",
     "output_type": "stream",
     "text": [
      " 23250 | Cost: 9.58243748347\nIteration:"
     ]
    },
    {
     "name": "stdout",
     "output_type": "stream",
     "text": [
      " 23260 | Cost: 9.58068124467\nIteration:"
     ]
    },
    {
     "name": "stdout",
     "output_type": "stream",
     "text": [
      " 23270 | Cost: 9.42149682951\nIteration:"
     ]
    },
    {
     "name": "stdout",
     "output_type": "stream",
     "text": [
      " 23280 | Cost: 11.7669396559\nIteration:"
     ]
    },
    {
     "name": "stdout",
     "output_type": "stream",
     "text": [
      " 23290 | Cost: 9.24730993946\nIteration:"
     ]
    },
    {
     "name": "stdout",
     "output_type": "stream",
     "text": [
      " 23300 | Cost: 9.63267247455\nIteration:"
     ]
    },
    {
     "name": "stdout",
     "output_type": "stream",
     "text": [
      " 23310 | Cost: 11.1082158647\nIteration:"
     ]
    },
    {
     "name": "stdout",
     "output_type": "stream",
     "text": [
      " 23320 | Cost: 10.3044066535\nIteration:"
     ]
    },
    {
     "name": "stdout",
     "output_type": "stream",
     "text": [
      " 23330 | Cost: 10.780749493\nIteration:"
     ]
    },
    {
     "name": "stdout",
     "output_type": "stream",
     "text": [
      " 23340 | Cost: 10.0328723291\nIteration:"
     ]
    },
    {
     "name": "stdout",
     "output_type": "stream",
     "text": [
      " 23350 | Cost: 9.58236987912\nIteration:"
     ]
    },
    {
     "name": "stdout",
     "output_type": "stream",
     "text": [
      " 23360 | Cost: 9.67159647238\nIteration:"
     ]
    },
    {
     "name": "stdout",
     "output_type": "stream",
     "text": [
      " 23370 | Cost: 9.66973725164\nIteration:"
     ]
    },
    {
     "name": "stdout",
     "output_type": "stream",
     "text": [
      " 23380 | Cost: 10.4755982601\nIteration:"
     ]
    },
    {
     "name": "stdout",
     "output_type": "stream",
     "text": [
      " 23390 | Cost: 8.4338992409\nIteration:"
     ]
    },
    {
     "name": "stdout",
     "output_type": "stream",
     "text": [
      " 23400 | Cost: 8.71198638449\nIteration:"
     ]
    },
    {
     "name": "stdout",
     "output_type": "stream",
     "text": [
      " 23410 | Cost: 9.71666818666\nIteration:"
     ]
    },
    {
     "name": "stdout",
     "output_type": "stream",
     "text": [
      " 23420 | Cost: 9.25363919148\nIteration:"
     ]
    },
    {
     "name": "stdout",
     "output_type": "stream",
     "text": [
      " 23430 | Cost: 10.362589507\nIteration:"
     ]
    },
    {
     "name": "stdout",
     "output_type": "stream",
     "text": [
      " 23440 | Cost: 10.9019640665\nIteration:"
     ]
    },
    {
     "name": "stdout",
     "output_type": "stream",
     "text": [
      " 23450 | Cost: 9.00074686031\nIteration:"
     ]
    },
    {
     "name": "stdout",
     "output_type": "stream",
     "text": [
      " 23460 | Cost: 9.92891512894\nIteration:"
     ]
    },
    {
     "name": "stdout",
     "output_type": "stream",
     "text": [
      " 23470 | Cost: 10.0035866063\nIteration:"
     ]
    },
    {
     "name": "stdout",
     "output_type": "stream",
     "text": [
      " 23480 | Cost: 9.38256506627\nIteration:"
     ]
    },
    {
     "name": "stdout",
     "output_type": "stream",
     "text": [
      " 23490 | Cost: 10.0577584175\nIteration:"
     ]
    },
    {
     "name": "stdout",
     "output_type": "stream",
     "text": [
      " 23500 | Cost: 9.66673701221\nIteration:"
     ]
    },
    {
     "name": "stdout",
     "output_type": "stream",
     "text": [
      " 23510 | Cost: 9.8992431522\nIteration:"
     ]
    },
    {
     "name": "stdout",
     "output_type": "stream",
     "text": [
      " 23520 | Cost: 11.3550706318\nIteration:"
     ]
    },
    {
     "name": "stdout",
     "output_type": "stream",
     "text": [
      " 23530 | Cost: 9.25317550845\nIteration:"
     ]
    },
    {
     "name": "stdout",
     "output_type": "stream",
     "text": [
      " 23540 | Cost: 9.21052206665\nIteration:"
     ]
    },
    {
     "name": "stdout",
     "output_type": "stream",
     "text": [
      " 23550 | Cost: 8.96670639661\nIteration:"
     ]
    },
    {
     "name": "stdout",
     "output_type": "stream",
     "text": [
      " 23560 | Cost: 10.0588486795\nIteration:"
     ]
    },
    {
     "name": "stdout",
     "output_type": "stream",
     "text": [
      " 23570 | Cost: 10.1534717572\nIteration:"
     ]
    },
    {
     "name": "stdout",
     "output_type": "stream",
     "text": [
      " 23580 | Cost: 9.01095832468\nIteration:"
     ]
    },
    {
     "name": "stdout",
     "output_type": "stream",
     "text": [
      " 23590 | Cost: 8.29606581971\nIteration:"
     ]
    },
    {
     "name": "stdout",
     "output_type": "stream",
     "text": [
      " 23600 | Cost: 9.21379390178\nIteration:"
     ]
    },
    {
     "name": "stdout",
     "output_type": "stream",
     "text": [
      " 23610 | Cost: 9.69064571968\nIteration:"
     ]
    },
    {
     "name": "stdout",
     "output_type": "stream",
     "text": [
      " 23620 | Cost: 10.1193526007\nIteration:"
     ]
    },
    {
     "name": "stdout",
     "output_type": "stream",
     "text": [
      " 23630 | Cost: 9.47033704923\nIteration:"
     ]
    },
    {
     "name": "stdout",
     "output_type": "stream",
     "text": [
      " 23640 | Cost: 8.47904640293\nIteration:"
     ]
    },
    {
     "name": "stdout",
     "output_type": "stream",
     "text": [
      " 23650 | Cost: 10.6463178704\nIteration:"
     ]
    },
    {
     "name": "stdout",
     "output_type": "stream",
     "text": [
      " 23660 | Cost: 9.49917157083\nIteration:"
     ]
    },
    {
     "name": "stdout",
     "output_type": "stream",
     "text": [
      " 23670 | Cost: 9.7202879367\nIteration:"
     ]
    },
    {
     "name": "stdout",
     "output_type": "stream",
     "text": [
      " 23680 | Cost: 10.3314990812\nIteration:"
     ]
    },
    {
     "name": "stdout",
     "output_type": "stream",
     "text": [
      " 23690 | Cost: 11.4736337289\nIteration:"
     ]
    },
    {
     "name": "stdout",
     "output_type": "stream",
     "text": [
      " 23700 | Cost: 9.85983611295\nIteration:"
     ]
    },
    {
     "name": "stdout",
     "output_type": "stream",
     "text": [
      " 23710 | Cost: 9.93302174478\nIteration:"
     ]
    },
    {
     "name": "stdout",
     "output_type": "stream",
     "text": [
      " 23720 | Cost: 9.85439957906\nIteration:"
     ]
    },
    {
     "name": "stdout",
     "output_type": "stream",
     "text": [
      " 23730 | Cost: 10.6603239153\nIteration:"
     ]
    },
    {
     "name": "stdout",
     "output_type": "stream",
     "text": [
      " 23740 | Cost: 10.0745639528\nIteration:"
     ]
    },
    {
     "name": "stdout",
     "output_type": "stream",
     "text": [
      " 23750 | Cost: 10.7783667069\nIteration:"
     ]
    },
    {
     "name": "stdout",
     "output_type": "stream",
     "text": [
      " 23760 | Cost: 10.1984101529\nIteration:"
     ]
    },
    {
     "name": "stdout",
     "output_type": "stream",
     "text": [
      " 23770 | Cost: 10.3036786725\nIteration:"
     ]
    },
    {
     "name": "stdout",
     "output_type": "stream",
     "text": [
      " 23780 | Cost: 8.95074345429\nIteration:"
     ]
    },
    {
     "name": "stdout",
     "output_type": "stream",
     "text": [
      " 23790 | Cost: 9.54716427133\nIteration:"
     ]
    },
    {
     "name": "stdout",
     "output_type": "stream",
     "text": [
      " 23800 | Cost: 10.9570009759\nIteration:"
     ]
    },
    {
     "name": "stdout",
     "output_type": "stream",
     "text": [
      " 23810 | Cost: 9.75405915153\nIteration:"
     ]
    },
    {
     "name": "stdout",
     "output_type": "stream",
     "text": [
      " 23820 | Cost: 8.81825702853\nIteration:"
     ]
    },
    {
     "name": "stdout",
     "output_type": "stream",
     "text": [
      " 23830 | Cost: 10.1176764403\nIteration:"
     ]
    },
    {
     "name": "stdout",
     "output_type": "stream",
     "text": [
      " 23840 | Cost: 9.69633687592\nIteration:"
     ]
    },
    {
     "name": "stdout",
     "output_type": "stream",
     "text": [
      " 23850 | Cost: 9.95721047598\nIteration:"
     ]
    },
    {
     "name": "stdout",
     "output_type": "stream",
     "text": [
      " 23860 | Cost: 10.4674984365\nIteration:"
     ]
    },
    {
     "name": "stdout",
     "output_type": "stream",
     "text": [
      " 23870 | Cost: 9.80879845025\nIteration:"
     ]
    },
    {
     "name": "stdout",
     "output_type": "stream",
     "text": [
      " 23880 | Cost: 9.46161861417\nIteration:"
     ]
    },
    {
     "name": "stdout",
     "output_type": "stream",
     "text": [
      " 23890 | Cost: 10.1922546461\nIteration:"
     ]
    },
    {
     "name": "stdout",
     "output_type": "stream",
     "text": [
      " 23900 | Cost: 9.80407430777\nIteration:"
     ]
    },
    {
     "name": "stdout",
     "output_type": "stream",
     "text": [
      " 23910 | Cost: 10.3293323354\nIteration:"
     ]
    },
    {
     "name": "stdout",
     "output_type": "stream",
     "text": [
      " 23920 | Cost: 9.59022321178\nIteration:"
     ]
    },
    {
     "name": "stdout",
     "output_type": "stream",
     "text": [
      " 23930 | Cost: 9.71617261088\nIteration:"
     ]
    },
    {
     "name": "stdout",
     "output_type": "stream",
     "text": [
      " 23940 | Cost: 8.46302718243\nIteration:"
     ]
    },
    {
     "name": "stdout",
     "output_type": "stream",
     "text": [
      " 23950 | Cost: 9.44999829508\nIteration:"
     ]
    },
    {
     "name": "stdout",
     "output_type": "stream",
     "text": [
      " 23960 | Cost: 10.7252407357\nIteration:"
     ]
    },
    {
     "name": "stdout",
     "output_type": "stream",
     "text": [
      " 23970 | Cost: 9.92793971466\nIteration:"
     ]
    },
    {
     "name": "stdout",
     "output_type": "stream",
     "text": [
      " 23980 | Cost: 10.5179401311\nIteration:"
     ]
    },
    {
     "name": "stdout",
     "output_type": "stream",
     "text": [
      " 23990 | Cost: 9.19700545489\nIteration:"
     ]
    },
    {
     "name": "stdout",
     "output_type": "stream",
     "text": [
      " 24000 | Cost: 10.4319058152\nIteration:"
     ]
    },
    {
     "name": "stdout",
     "output_type": "stream",
     "text": [
      " 24010 | Cost: 10.5036498281\nIteration:"
     ]
    },
    {
     "name": "stdout",
     "output_type": "stream",
     "text": [
      " 24020 | Cost: 10.1621167617\nIteration:"
     ]
    },
    {
     "name": "stdout",
     "output_type": "stream",
     "text": [
      " 24030 | Cost: 9.47524216701\nIteration:"
     ]
    },
    {
     "name": "stdout",
     "output_type": "stream",
     "text": [
      " 24040 | Cost: 8.89111956451\nIteration:"
     ]
    },
    {
     "name": "stdout",
     "output_type": "stream",
     "text": [
      " 24050 | Cost: 10.430292463\nIteration:"
     ]
    },
    {
     "name": "stdout",
     "output_type": "stream",
     "text": [
      " 24060 | Cost: 9.33652277071\nIteration:"
     ]
    },
    {
     "name": "stdout",
     "output_type": "stream",
     "text": [
      " 24070 | Cost: 10.8496239397\nIteration:"
     ]
    },
    {
     "name": "stdout",
     "output_type": "stream",
     "text": [
      " 24080 | Cost: 8.94232280149\nIteration:"
     ]
    },
    {
     "name": "stdout",
     "output_type": "stream",
     "text": [
      " 24090 | Cost: 9.87733383505\nIteration:"
     ]
    },
    {
     "name": "stdout",
     "output_type": "stream",
     "text": [
      " 24100 | Cost: 10.32413826\nIteration:"
     ]
    },
    {
     "name": "stdout",
     "output_type": "stream",
     "text": [
      " 24110 | Cost: 9.27192034121\nIteration:"
     ]
    },
    {
     "name": "stdout",
     "output_type": "stream",
     "text": [
      " 24120 | Cost: 10.4417231099\nIteration:"
     ]
    },
    {
     "name": "stdout",
     "output_type": "stream",
     "text": [
      " 24130 | Cost: 9.7300303708\nIteration:"
     ]
    },
    {
     "name": "stdout",
     "output_type": "stream",
     "text": [
      " 24140 | Cost: 9.88167454286\nIteration:"
     ]
    },
    {
     "name": "stdout",
     "output_type": "stream",
     "text": [
      " 24150 | Cost: 10.3010240093\nIteration:"
     ]
    },
    {
     "name": "stdout",
     "output_type": "stream",
     "text": [
      " 24160 | Cost: 10.6722852316\nIteration:"
     ]
    },
    {
     "name": "stdout",
     "output_type": "stream",
     "text": [
      " 24170 | Cost: 10.1167610184\nIteration:"
     ]
    },
    {
     "name": "stdout",
     "output_type": "stream",
     "text": [
      " 24180 | Cost: 9.01162710162\nIteration:"
     ]
    },
    {
     "name": "stdout",
     "output_type": "stream",
     "text": [
      " 24190 | Cost: 9.59186714558\nIteration:"
     ]
    },
    {
     "name": "stdout",
     "output_type": "stream",
     "text": [
      " 24200 | Cost: 10.3735893927\nIteration:"
     ]
    },
    {
     "name": "stdout",
     "output_type": "stream",
     "text": [
      " 24210 | Cost: 9.2589895851\nIteration:"
     ]
    },
    {
     "name": "stdout",
     "output_type": "stream",
     "text": [
      " 24220 | Cost: 9.67686920026\nIteration:"
     ]
    },
    {
     "name": "stdout",
     "output_type": "stream",
     "text": [
      " 24230 | Cost: 8.64314698323\nIteration:"
     ]
    },
    {
     "name": "stdout",
     "output_type": "stream",
     "text": [
      " 24240 | Cost: 12.001093949\nIteration:"
     ]
    },
    {
     "name": "stdout",
     "output_type": "stream",
     "text": [
      " 24250 | Cost: 11.3193151048\nIteration:"
     ]
    },
    {
     "name": "stdout",
     "output_type": "stream",
     "text": [
      " 24260 | Cost: 9.11753577866\nIteration:"
     ]
    },
    {
     "name": "stdout",
     "output_type": "stream",
     "text": [
      " 24270 | Cost: 9.24628233614\nIteration:"
     ]
    },
    {
     "name": "stdout",
     "output_type": "stream",
     "text": [
      " 24280 | Cost: 10.7780156373\nIteration:"
     ]
    },
    {
     "name": "stdout",
     "output_type": "stream",
     "text": [
      " 24290 | Cost: 9.90708369891\nIteration:"
     ]
    },
    {
     "name": "stdout",
     "output_type": "stream",
     "text": [
      " 24300 | Cost: 9.65484058583\nIteration:"
     ]
    },
    {
     "name": "stdout",
     "output_type": "stream",
     "text": [
      " 24310 | Cost: 9.88166887096\nIteration:"
     ]
    },
    {
     "name": "stdout",
     "output_type": "stream",
     "text": [
      " 24320 | Cost: 10.3611345831\nIteration:"
     ]
    },
    {
     "name": "stdout",
     "output_type": "stream",
     "text": [
      " 24330 | Cost: 10.0010131249\nIteration:"
     ]
    },
    {
     "name": "stdout",
     "output_type": "stream",
     "text": [
      " 24340 | Cost: 10.137361879\nIteration:"
     ]
    },
    {
     "name": "stdout",
     "output_type": "stream",
     "text": [
      " 24350 | Cost: 10.0178860382\nIteration:"
     ]
    },
    {
     "name": "stdout",
     "output_type": "stream",
     "text": [
      " 24360 | Cost: 10.259032124\nIteration:"
     ]
    },
    {
     "name": "stdout",
     "output_type": "stream",
     "text": [
      " 24370 | Cost: 9.89551594669\nIteration:"
     ]
    },
    {
     "name": "stdout",
     "output_type": "stream",
     "text": [
      " 24380 | Cost: 9.8672919935\nIteration:"
     ]
    },
    {
     "name": "stdout",
     "output_type": "stream",
     "text": [
      " 24390 | Cost: 9.29319275954\nIteration:"
     ]
    },
    {
     "name": "stdout",
     "output_type": "stream",
     "text": [
      " 24400 | Cost: 11.6753555741\nIteration:"
     ]
    },
    {
     "name": "stdout",
     "output_type": "stream",
     "text": [
      " 24410 | Cost: 8.02334624591\nIteration:"
     ]
    },
    {
     "name": "stdout",
     "output_type": "stream",
     "text": [
      " 24420 | Cost: 10.5651130408\nIteration:"
     ]
    },
    {
     "name": "stdout",
     "output_type": "stream",
     "text": [
      " 24430 | Cost: 9.65508771439\nIteration:"
     ]
    },
    {
     "name": "stdout",
     "output_type": "stream",
     "text": [
      " 24440 | Cost: 10.5581402805\nIteration:"
     ]
    },
    {
     "name": "stdout",
     "output_type": "stream",
     "text": [
      " 24450 | Cost: 9.90744383672\nIteration:"
     ]
    },
    {
     "name": "stdout",
     "output_type": "stream",
     "text": [
      " 24460 | Cost: 9.10462163229\nIteration:"
     ]
    },
    {
     "name": "stdout",
     "output_type": "stream",
     "text": [
      " 24470 | Cost: 10.0496883988\nIteration:"
     ]
    },
    {
     "name": "stdout",
     "output_type": "stream",
     "text": [
      " 24480 | Cost: 9.6287000693\nIteration:"
     ]
    },
    {
     "name": "stdout",
     "output_type": "stream",
     "text": [
      " 24490 | Cost: 10.3803993828\nIteration:"
     ]
    },
    {
     "name": "stdout",
     "output_type": "stream",
     "text": [
      " 24500 | Cost: 9.16646471361\nIteration:"
     ]
    },
    {
     "name": "stdout",
     "output_type": "stream",
     "text": [
      " 24510 | Cost: 10.6569262063\nIteration:"
     ]
    },
    {
     "name": "stdout",
     "output_type": "stream",
     "text": [
      " 24520 | Cost: 9.94446349524\nIteration:"
     ]
    },
    {
     "name": "stdout",
     "output_type": "stream",
     "text": [
      " 24530 | Cost: 11.2431338031\nIteration:"
     ]
    },
    {
     "name": "stdout",
     "output_type": "stream",
     "text": [
      " 24540 | Cost: 8.73983527656\nIteration:"
     ]
    },
    {
     "name": "stdout",
     "output_type": "stream",
     "text": [
      " 24550 | Cost: 11.3510950513\nIteration:"
     ]
    },
    {
     "name": "stdout",
     "output_type": "stream",
     "text": [
      " 24560 | Cost: 10.5380528161\nIteration:"
     ]
    },
    {
     "name": "stdout",
     "output_type": "stream",
     "text": [
      " 24570 | Cost: 11.3472687987\nIteration:"
     ]
    },
    {
     "name": "stdout",
     "output_type": "stream",
     "text": [
      " 24580 | Cost: 9.45632674947\nIteration:"
     ]
    },
    {
     "name": "stdout",
     "output_type": "stream",
     "text": [
      " 24590 | Cost: 9.2382761375\nIteration:"
     ]
    },
    {
     "name": "stdout",
     "output_type": "stream",
     "text": [
      " 24600 | Cost: 9.1707038681\nIteration:"
     ]
    },
    {
     "name": "stdout",
     "output_type": "stream",
     "text": [
      " 24610 | Cost: 9.37894479656\nIteration:"
     ]
    },
    {
     "name": "stdout",
     "output_type": "stream",
     "text": [
      " 24620 | Cost: 8.69424794447\nIteration:"
     ]
    },
    {
     "name": "stdout",
     "output_type": "stream",
     "text": [
      " 24630 | Cost: 9.34276907574\nIteration:"
     ]
    },
    {
     "name": "stdout",
     "output_type": "stream",
     "text": [
      " 24640 | Cost: 9.51399604534\nIteration:"
     ]
    },
    {
     "name": "stdout",
     "output_type": "stream",
     "text": [
      " 24650 | Cost: 10.1614207305\nIteration:"
     ]
    },
    {
     "name": "stdout",
     "output_type": "stream",
     "text": [
      " 24660 | Cost: 10.2816874884\nIteration:"
     ]
    },
    {
     "name": "stdout",
     "output_type": "stream",
     "text": [
      " 24670 | Cost: 9.04526511326\nIteration:"
     ]
    },
    {
     "name": "stdout",
     "output_type": "stream",
     "text": [
      " 24680 | Cost: 10.7739862715\nIteration:"
     ]
    },
    {
     "name": "stdout",
     "output_type": "stream",
     "text": [
      " 24690 | Cost: 8.84400655571\nIteration:"
     ]
    },
    {
     "name": "stdout",
     "output_type": "stream",
     "text": [
      " 24700 | Cost: 9.49688702929\nIteration:"
     ]
    },
    {
     "name": "stdout",
     "output_type": "stream",
     "text": [
      " 24710 | Cost: 9.77028161338\nIteration:"
     ]
    },
    {
     "name": "stdout",
     "output_type": "stream",
     "text": [
      " 24720 | Cost: 10.1752308548\nIteration:"
     ]
    },
    {
     "name": "stdout",
     "output_type": "stream",
     "text": [
      " 24730 | Cost: 9.78456577864\nIteration:"
     ]
    },
    {
     "name": "stdout",
     "output_type": "stream",
     "text": [
      " 24740 | Cost: 10.2705761857\nIteration:"
     ]
    },
    {
     "name": "stdout",
     "output_type": "stream",
     "text": [
      " 24750 | Cost: 10.0346354945\nIteration:"
     ]
    },
    {
     "name": "stdout",
     "output_type": "stream",
     "text": [
      " 24760 | Cost: 9.40521329116\nIteration:"
     ]
    },
    {
     "name": "stdout",
     "output_type": "stream",
     "text": [
      " 24770 | Cost: 8.95823150239\nIteration:"
     ]
    },
    {
     "name": "stdout",
     "output_type": "stream",
     "text": [
      " 24780 | Cost: 9.43974765616\nIteration:"
     ]
    },
    {
     "name": "stdout",
     "output_type": "stream",
     "text": [
      " 24790 | Cost: 9.70724387305\nIteration:"
     ]
    },
    {
     "name": "stdout",
     "output_type": "stream",
     "text": [
      " 24800 | Cost: 10.3113021356\nIteration:"
     ]
    },
    {
     "name": "stdout",
     "output_type": "stream",
     "text": [
      " 24810 | Cost: 11.047442985\nIteration:"
     ]
    },
    {
     "name": "stdout",
     "output_type": "stream",
     "text": [
      " 24820 | Cost: 9.10747057939\nIteration:"
     ]
    },
    {
     "name": "stdout",
     "output_type": "stream",
     "text": [
      " 24830 | Cost: 11.486826597\nIteration:"
     ]
    },
    {
     "name": "stdout",
     "output_type": "stream",
     "text": [
      " 24840 | Cost: 10.032562406\nIteration:"
     ]
    },
    {
     "name": "stdout",
     "output_type": "stream",
     "text": [
      " 24850 | Cost: 10.1966021262\nIteration:"
     ]
    },
    {
     "name": "stdout",
     "output_type": "stream",
     "text": [
      " 24860 | Cost: 10.4840027445\nIteration:"
     ]
    },
    {
     "name": "stdout",
     "output_type": "stream",
     "text": [
      " 24870 | Cost: 10.407959524\nIteration:"
     ]
    },
    {
     "name": "stdout",
     "output_type": "stream",
     "text": [
      " 24880 | Cost: 8.68117836559\nIteration:"
     ]
    },
    {
     "name": "stdout",
     "output_type": "stream",
     "text": [
      " 24890 | Cost: 9.41733676165\nIteration:"
     ]
    },
    {
     "name": "stdout",
     "output_type": "stream",
     "text": [
      " 24900 | Cost: 10.1126967817\nIteration:"
     ]
    },
    {
     "name": "stdout",
     "output_type": "stream",
     "text": [
      " 24910 | Cost: 9.42928875997\nIteration:"
     ]
    },
    {
     "name": "stdout",
     "output_type": "stream",
     "text": [
      " 24920 | Cost: 10.0950105857\nIteration:"
     ]
    },
    {
     "name": "stdout",
     "output_type": "stream",
     "text": [
      " 24930 | Cost: 10.8359879592\nIteration:"
     ]
    },
    {
     "name": "stdout",
     "output_type": "stream",
     "text": [
      " 24940 | Cost: 10.6345955523\nIteration:"
     ]
    },
    {
     "name": "stdout",
     "output_type": "stream",
     "text": [
      " 24950 | Cost: 9.00335173431\nIteration:"
     ]
    },
    {
     "name": "stdout",
     "output_type": "stream",
     "text": [
      " 24960 | Cost: 9.65166960621\nIteration:"
     ]
    },
    {
     "name": "stdout",
     "output_type": "stream",
     "text": [
      " 24970 | Cost: 10.2629098941\nIteration:"
     ]
    },
    {
     "name": "stdout",
     "output_type": "stream",
     "text": [
      " 24980 | Cost: 9.88552987165\nIteration:"
     ]
    },
    {
     "name": "stdout",
     "output_type": "stream",
     "text": [
      " 24990 | Cost: 8.59427451607\nIteration:"
     ]
    },
    {
     "name": "stdout",
     "output_type": "stream",
     "text": [
      " 25000 | Cost: 10.9906641527\nIteration:"
     ]
    },
    {
     "name": "stdout",
     "output_type": "stream",
     "text": [
      " 25010 | Cost: 11.250272525\nIteration:"
     ]
    },
    {
     "name": "stdout",
     "output_type": "stream",
     "text": [
      " 25020 | Cost: 10.7516625856\nIteration:"
     ]
    },
    {
     "name": "stdout",
     "output_type": "stream",
     "text": [
      " 25030 | Cost: 9.71630858785\nIteration:"
     ]
    },
    {
     "name": "stdout",
     "output_type": "stream",
     "text": [
      " 25040 | Cost: 10.7943104673\nIteration:"
     ]
    },
    {
     "name": "stdout",
     "output_type": "stream",
     "text": [
      " 25050 | Cost: 11.8386327277\nIteration:"
     ]
    },
    {
     "name": "stdout",
     "output_type": "stream",
     "text": [
      " 25060 | Cost: 9.49255729894\nIteration:"
     ]
    },
    {
     "name": "stdout",
     "output_type": "stream",
     "text": [
      " 25070 | Cost: 11.243757546\nIteration:"
     ]
    },
    {
     "name": "stdout",
     "output_type": "stream",
     "text": [
      " 25080 | Cost: 10.9119343015\nIteration:"
     ]
    },
    {
     "name": "stdout",
     "output_type": "stream",
     "text": [
      " 25090 | Cost: 10.3262881104\nIteration:"
     ]
    },
    {
     "name": "stdout",
     "output_type": "stream",
     "text": [
      " 25100 | Cost: 11.5612955381\nIteration:"
     ]
    },
    {
     "name": "stdout",
     "output_type": "stream",
     "text": [
      " 25110 | Cost: 10.2186253442\nIteration:"
     ]
    },
    {
     "name": "stdout",
     "output_type": "stream",
     "text": [
      " 25120 | Cost: 9.99276834857\nIteration:"
     ]
    },
    {
     "name": "stdout",
     "output_type": "stream",
     "text": [
      " 25130 | Cost: 10.1733985755\nIteration:"
     ]
    },
    {
     "name": "stdout",
     "output_type": "stream",
     "text": [
      " 25140 | Cost: 10.0240238258\nIteration:"
     ]
    },
    {
     "name": "stdout",
     "output_type": "stream",
     "text": [
      " 25150 | Cost: 10.6091262321\nIteration:"
     ]
    },
    {
     "name": "stdout",
     "output_type": "stream",
     "text": [
      " 25160 | Cost: 9.90600404526\nIteration:"
     ]
    },
    {
     "name": "stdout",
     "output_type": "stream",
     "text": [
      " 25170 | Cost: 9.73005597789\nIteration:"
     ]
    },
    {
     "name": "stdout",
     "output_type": "stream",
     "text": [
      " 25180 | Cost: 9.3159783457\nIteration:"
     ]
    },
    {
     "name": "stdout",
     "output_type": "stream",
     "text": [
      " 25190 | Cost: 9.48552559422\nIteration:"
     ]
    },
    {
     "name": "stdout",
     "output_type": "stream",
     "text": [
      " 25200 | Cost: 8.97344764758\nIteration:"
     ]
    },
    {
     "name": "stdout",
     "output_type": "stream",
     "text": [
      " 25210 | Cost: 9.2653589606\nIteration:"
     ]
    },
    {
     "name": "stdout",
     "output_type": "stream",
     "text": [
      " 25220 | Cost: 10.3528222509\nIteration:"
     ]
    },
    {
     "name": "stdout",
     "output_type": "stream",
     "text": [
      " 25230 | Cost: 9.29523871465\nIteration:"
     ]
    },
    {
     "name": "stdout",
     "output_type": "stream",
     "text": [
      " 25240 | Cost: 9.23447821711\nIteration:"
     ]
    },
    {
     "name": "stdout",
     "output_type": "stream",
     "text": [
      " 25250 | Cost: 10.9821871359\nIteration:"
     ]
    },
    {
     "name": "stdout",
     "output_type": "stream",
     "text": [
      " 25260 | Cost: 10.578877028\nIteration:"
     ]
    },
    {
     "name": "stdout",
     "output_type": "stream",
     "text": [
      " 25270 | Cost: 11.2564775138\nIteration:"
     ]
    },
    {
     "name": "stdout",
     "output_type": "stream",
     "text": [
      " 25280 | Cost: 9.93656317095\nIteration:"
     ]
    },
    {
     "name": "stdout",
     "output_type": "stream",
     "text": [
      " 25290 | Cost: 8.02450450954\nIteration:"
     ]
    },
    {
     "name": "stdout",
     "output_type": "stream",
     "text": [
      " 25300 | Cost: 8.25867959601\nIteration:"
     ]
    },
    {
     "name": "stdout",
     "output_type": "stream",
     "text": [
      " 25310 | Cost: 9.02289207935\nIteration:"
     ]
    },
    {
     "name": "stdout",
     "output_type": "stream",
     "text": [
      " 25320 | Cost: 11.3910266625\nIteration:"
     ]
    },
    {
     "name": "stdout",
     "output_type": "stream",
     "text": [
      " 25330 | Cost: 8.8877053736\nIteration:"
     ]
    },
    {
     "name": "stdout",
     "output_type": "stream",
     "text": [
      " 25340 | Cost: 9.3319962242\nIteration:"
     ]
    },
    {
     "name": "stdout",
     "output_type": "stream",
     "text": [
      " 25350 | Cost: 11.6194043039\nIteration:"
     ]
    },
    {
     "name": "stdout",
     "output_type": "stream",
     "text": [
      " 25360 | Cost: 9.94590402362\nIteration:"
     ]
    },
    {
     "name": "stdout",
     "output_type": "stream",
     "text": [
      " 25370 | Cost: 11.5233305303\nIteration:"
     ]
    },
    {
     "name": "stdout",
     "output_type": "stream",
     "text": [
      " 25380 | Cost: 9.97075680774\nIteration:"
     ]
    },
    {
     "name": "stdout",
     "output_type": "stream",
     "text": [
      " 25390 | Cost: 8.84184026557\nIteration:"
     ]
    },
    {
     "name": "stdout",
     "output_type": "stream",
     "text": [
      " 25400 | Cost: 11.1952317788\nIteration:"
     ]
    },
    {
     "name": "stdout",
     "output_type": "stream",
     "text": [
      " 25410 | Cost: 10.9012202189\nIteration:"
     ]
    },
    {
     "name": "stdout",
     "output_type": "stream",
     "text": [
      " 25420 | Cost: 10.4874313588\nIteration:"
     ]
    },
    {
     "name": "stdout",
     "output_type": "stream",
     "text": [
      " 25430 | Cost: 10.5231452332\nIteration:"
     ]
    },
    {
     "name": "stdout",
     "output_type": "stream",
     "text": [
      " 25440 | Cost: 8.4221963856\nIteration:"
     ]
    },
    {
     "name": "stdout",
     "output_type": "stream",
     "text": [
      " 25450 | Cost: 10.8219238186\nIteration:"
     ]
    },
    {
     "name": "stdout",
     "output_type": "stream",
     "text": [
      " 25460 | Cost: 10.7662763801\nIteration:"
     ]
    },
    {
     "name": "stdout",
     "output_type": "stream",
     "text": [
      " 25470 | Cost: 10.299201103\nIteration:"
     ]
    },
    {
     "name": "stdout",
     "output_type": "stream",
     "text": [
      " 25480 | Cost: 8.48611030779\nIteration:"
     ]
    },
    {
     "name": "stdout",
     "output_type": "stream",
     "text": [
      " 25490 | Cost: 10.7867382014\nIteration:"
     ]
    },
    {
     "name": "stdout",
     "output_type": "stream",
     "text": [
      " 25500 | Cost: 8.4960027544\nIteration:"
     ]
    },
    {
     "name": "stdout",
     "output_type": "stream",
     "text": [
      " 25510 | Cost: 10.1445286062\nIteration:"
     ]
    },
    {
     "name": "stdout",
     "output_type": "stream",
     "text": [
      " 25520 | Cost: 11.1707550597\nIteration:"
     ]
    },
    {
     "name": "stdout",
     "output_type": "stream",
     "text": [
      " 25530 | Cost: 11.215599512\nIteration:"
     ]
    },
    {
     "name": "stdout",
     "output_type": "stream",
     "text": [
      " 25540 | Cost: 10.0520894421\nIteration:"
     ]
    },
    {
     "name": "stdout",
     "output_type": "stream",
     "text": [
      " 25550 | Cost: 10.4244587749\nIteration:"
     ]
    },
    {
     "name": "stdout",
     "output_type": "stream",
     "text": [
      " 25560 | Cost: 9.54996019898\nIteration:"
     ]
    },
    {
     "name": "stdout",
     "output_type": "stream",
     "text": [
      " 25570 | Cost: 9.72892210166\nIteration:"
     ]
    },
    {
     "name": "stdout",
     "output_type": "stream",
     "text": [
      " 25580 | Cost: 11.1410523856\nIteration:"
     ]
    },
    {
     "name": "stdout",
     "output_type": "stream",
     "text": [
      " 25590 | Cost: 9.75250243111\nIteration:"
     ]
    },
    {
     "name": "stdout",
     "output_type": "stream",
     "text": [
      " 25600 | Cost: 10.4709665178\nIteration:"
     ]
    },
    {
     "name": "stdout",
     "output_type": "stream",
     "text": [
      " 25610 | Cost: 9.78395905853\nIteration:"
     ]
    },
    {
     "name": "stdout",
     "output_type": "stream",
     "text": [
      " 25620 | Cost: 11.8934884985\nIteration:"
     ]
    },
    {
     "name": "stdout",
     "output_type": "stream",
     "text": [
      " 25630 | Cost: 10.3276539338\nIteration:"
     ]
    },
    {
     "name": "stdout",
     "output_type": "stream",
     "text": [
      " 25640 | Cost: 10.5754351041\nIteration:"
     ]
    },
    {
     "name": "stdout",
     "output_type": "stream",
     "text": [
      " 25650 | Cost: 9.36430449153\nIteration:"
     ]
    },
    {
     "name": "stdout",
     "output_type": "stream",
     "text": [
      " 25660 | Cost: 9.6548180906\nIteration:"
     ]
    },
    {
     "name": "stdout",
     "output_type": "stream",
     "text": [
      " 25670 | Cost: 10.4382936891\nIteration:"
     ]
    },
    {
     "name": "stdout",
     "output_type": "stream",
     "text": [
      " 25680 | Cost: 9.00228122139\nIteration:"
     ]
    },
    {
     "name": "stdout",
     "output_type": "stream",
     "text": [
      " 25690 | Cost: 9.78762379183\nIteration:"
     ]
    },
    {
     "name": "stdout",
     "output_type": "stream",
     "text": [
      " 25700 | Cost: 10.5496113926\nIteration:"
     ]
    },
    {
     "name": "stdout",
     "output_type": "stream",
     "text": [
      " 25710 | Cost: 9.0881246047\nIteration:"
     ]
    },
    {
     "name": "stdout",
     "output_type": "stream",
     "text": [
      " 25720 | Cost: 8.50714007788\nIteration:"
     ]
    },
    {
     "name": "stdout",
     "output_type": "stream",
     "text": [
      " 25730 | Cost: 9.4134360744\nIteration:"
     ]
    },
    {
     "name": "stdout",
     "output_type": "stream",
     "text": [
      " 25740 | Cost: 8.54205912963\nIteration:"
     ]
    },
    {
     "name": "stdout",
     "output_type": "stream",
     "text": [
      " 25750 | Cost: 10.1931387219\nIteration:"
     ]
    },
    {
     "name": "stdout",
     "output_type": "stream",
     "text": [
      " 25760 | Cost: 9.65371096824\nIteration:"
     ]
    },
    {
     "name": "stdout",
     "output_type": "stream",
     "text": [
      " 25770 | Cost: 9.90632610887\nIteration:"
     ]
    },
    {
     "name": "stdout",
     "output_type": "stream",
     "text": [
      " 25780 | Cost: 8.17718935743\nIteration:"
     ]
    },
    {
     "name": "stdout",
     "output_type": "stream",
     "text": [
      " 25790 | Cost: 11.5755774938\nIteration:"
     ]
    },
    {
     "name": "stdout",
     "output_type": "stream",
     "text": [
      " 25800 | Cost: 11.222353204\nIteration:"
     ]
    },
    {
     "name": "stdout",
     "output_type": "stream",
     "text": [
      " 25810 | Cost: 9.03780045966\nIteration:"
     ]
    },
    {
     "name": "stdout",
     "output_type": "stream",
     "text": [
      " 25820 | Cost: 9.87459720379\nIteration:"
     ]
    },
    {
     "name": "stdout",
     "output_type": "stream",
     "text": [
      " 25830 | Cost: 9.83346251886\nIteration:"
     ]
    },
    {
     "name": "stdout",
     "output_type": "stream",
     "text": [
      " 25840 | Cost: 10.1565029695\nIteration:"
     ]
    },
    {
     "name": "stdout",
     "output_type": "stream",
     "text": [
      " 25850 | Cost: 9.12104586084\nIteration:"
     ]
    },
    {
     "name": "stdout",
     "output_type": "stream",
     "text": [
      " 25860 | Cost: 10.0972943446\nIteration:"
     ]
    },
    {
     "name": "stdout",
     "output_type": "stream",
     "text": [
      " 25870 | Cost: 9.0524076749\nIteration:"
     ]
    },
    {
     "name": "stdout",
     "output_type": "stream",
     "text": [
      " 25880 | Cost: 10.9823679264\nIteration:"
     ]
    },
    {
     "name": "stdout",
     "output_type": "stream",
     "text": [
      " 25890 | Cost: 9.83977035273\nIteration:"
     ]
    },
    {
     "name": "stdout",
     "output_type": "stream",
     "text": [
      " 25900 | Cost: 9.86238208175\nIteration:"
     ]
    },
    {
     "name": "stdout",
     "output_type": "stream",
     "text": [
      " 25910 | Cost: 9.63704710864\nIteration:"
     ]
    },
    {
     "name": "stdout",
     "output_type": "stream",
     "text": [
      " 25920 | Cost: 9.13165479723\nIteration:"
     ]
    },
    {
     "name": "stdout",
     "output_type": "stream",
     "text": [
      " 25930 | Cost: 9.4705825508\nIteration:"
     ]
    },
    {
     "name": "stdout",
     "output_type": "stream",
     "text": [
      " 25940 | Cost: 9.29220897994\nIteration:"
     ]
    },
    {
     "name": "stdout",
     "output_type": "stream",
     "text": [
      " 25950 | Cost: 9.25356051223\nIteration:"
     ]
    },
    {
     "name": "stdout",
     "output_type": "stream",
     "text": [
      " 25960 | Cost: 10.6735813522\nIteration:"
     ]
    },
    {
     "name": "stdout",
     "output_type": "stream",
     "text": [
      " 25970 | Cost: 9.02905149198\nIteration:"
     ]
    },
    {
     "name": "stdout",
     "output_type": "stream",
     "text": [
      " 25980 | Cost: 11.046184158\nIteration:"
     ]
    },
    {
     "name": "stdout",
     "output_type": "stream",
     "text": [
      " 25990 | Cost: 9.8993480507\nIteration:"
     ]
    },
    {
     "name": "stdout",
     "output_type": "stream",
     "text": [
      " 26000 | Cost: 9.22038711844\nIteration:"
     ]
    },
    {
     "name": "stdout",
     "output_type": "stream",
     "text": [
      " 26010 | Cost: 10.5446821077\nIteration:"
     ]
    },
    {
     "name": "stdout",
     "output_type": "stream",
     "text": [
      " 26020 | Cost: 9.91125673864\nIteration:"
     ]
    },
    {
     "name": "stdout",
     "output_type": "stream",
     "text": [
      " 26030 | Cost: 8.7569266385\nIteration:"
     ]
    },
    {
     "name": "stdout",
     "output_type": "stream",
     "text": [
      " 26040 | Cost: 10.1818509425\nIteration:"
     ]
    },
    {
     "name": "stdout",
     "output_type": "stream",
     "text": [
      " 26050 | Cost: 10.0294304039\nIteration:"
     ]
    },
    {
     "name": "stdout",
     "output_type": "stream",
     "text": [
      " 26060 | Cost: 9.56900272672\nIteration:"
     ]
    },
    {
     "name": "stdout",
     "output_type": "stream",
     "text": [
      " 26070 | Cost: 10.5413012042\nIteration:"
     ]
    },
    {
     "name": "stdout",
     "output_type": "stream",
     "text": [
      " 26080 | Cost: 9.68279826642\nIteration:"
     ]
    },
    {
     "name": "stdout",
     "output_type": "stream",
     "text": [
      " 26090 | Cost: 9.63442189617\nIteration:"
     ]
    },
    {
     "name": "stdout",
     "output_type": "stream",
     "text": [
      " 26100 | Cost: 10.6234295865\nIteration:"
     ]
    },
    {
     "name": "stdout",
     "output_type": "stream",
     "text": [
      " 26110 | Cost: 10.8318284633\nIteration:"
     ]
    },
    {
     "name": "stdout",
     "output_type": "stream",
     "text": [
      " 26120 | Cost: 10.5795863688\nIteration:"
     ]
    },
    {
     "name": "stdout",
     "output_type": "stream",
     "text": [
      " 26130 | Cost: 11.3285828577\nIteration:"
     ]
    },
    {
     "name": "stdout",
     "output_type": "stream",
     "text": [
      " 26140 | Cost: 11.3988816004\nIteration:"
     ]
    },
    {
     "name": "stdout",
     "output_type": "stream",
     "text": [
      " 26150 | Cost: 10.0618199612\nIteration:"
     ]
    },
    {
     "name": "stdout",
     "output_type": "stream",
     "text": [
      " 26160 | Cost: 10.1890076328\nIteration:"
     ]
    },
    {
     "name": "stdout",
     "output_type": "stream",
     "text": [
      " 26170 | Cost: 8.53516688536\nIteration:"
     ]
    },
    {
     "name": "stdout",
     "output_type": "stream",
     "text": [
      " 26180 | Cost: 10.0485639251\nIteration:"
     ]
    },
    {
     "name": "stdout",
     "output_type": "stream",
     "text": [
      " 26190 | Cost: 10.2536968801\nIteration:"
     ]
    },
    {
     "name": "stdout",
     "output_type": "stream",
     "text": [
      " 26200 | Cost: 11.2716562417\nIteration:"
     ]
    },
    {
     "name": "stdout",
     "output_type": "stream",
     "text": [
      " 26210 | Cost: 9.62109774286\nIteration:"
     ]
    },
    {
     "name": "stdout",
     "output_type": "stream",
     "text": [
      " 26220 | Cost: 10.0422359272\nIteration:"
     ]
    },
    {
     "name": "stdout",
     "output_type": "stream",
     "text": [
      " 26230 | Cost: 10.0026541607\nIteration:"
     ]
    },
    {
     "name": "stdout",
     "output_type": "stream",
     "text": [
      " 26240 | Cost: 11.0984029436\nIteration:"
     ]
    },
    {
     "name": "stdout",
     "output_type": "stream",
     "text": [
      " 26250 | Cost: 10.3766373625\nIteration:"
     ]
    },
    {
     "name": "stdout",
     "output_type": "stream",
     "text": [
      " 26260 | Cost: 9.42425957378\nIteration:"
     ]
    },
    {
     "name": "stdout",
     "output_type": "stream",
     "text": [
      " 26270 | Cost: 9.336274753\nIteration:"
     ]
    },
    {
     "name": "stdout",
     "output_type": "stream",
     "text": [
      " 26280 | Cost: 9.58012493229\nIteration:"
     ]
    },
    {
     "name": "stdout",
     "output_type": "stream",
     "text": [
      " 26290 | Cost: 10.9246465634\nIteration:"
     ]
    },
    {
     "name": "stdout",
     "output_type": "stream",
     "text": [
      " 26300 | Cost: 9.3988059714\nIteration:"
     ]
    },
    {
     "name": "stdout",
     "output_type": "stream",
     "text": [
      " 26310 | Cost: 9.6450989833\nIteration:"
     ]
    },
    {
     "name": "stdout",
     "output_type": "stream",
     "text": [
      " 26320 | Cost: 9.56670144221\nIteration:"
     ]
    },
    {
     "name": "stdout",
     "output_type": "stream",
     "text": [
      " 26330 | Cost: 9.50120107565\nIteration:"
     ]
    },
    {
     "name": "stdout",
     "output_type": "stream",
     "text": [
      " 26340 | Cost: 9.93417060472\nIteration:"
     ]
    },
    {
     "name": "stdout",
     "output_type": "stream",
     "text": [
      " 26350 | Cost: 10.3923597923\nIteration:"
     ]
    },
    {
     "name": "stdout",
     "output_type": "stream",
     "text": [
      " 26360 | Cost: 9.91353504889\nIteration:"
     ]
    },
    {
     "name": "stdout",
     "output_type": "stream",
     "text": [
      " 26370 | Cost: 10.0175250101\nIteration:"
     ]
    },
    {
     "name": "stdout",
     "output_type": "stream",
     "text": [
      " 26380 | Cost: 7.9234536629\nIteration:"
     ]
    },
    {
     "name": "stdout",
     "output_type": "stream",
     "text": [
      " 26390 | Cost: 9.68712899805\nIteration:"
     ]
    },
    {
     "name": "stdout",
     "output_type": "stream",
     "text": [
      " 26400 | Cost: 10.0413215228\nIteration:"
     ]
    },
    {
     "name": "stdout",
     "output_type": "stream",
     "text": [
      " 26410 | Cost: 9.90185585903\nIteration:"
     ]
    },
    {
     "name": "stdout",
     "output_type": "stream",
     "text": [
      " 26420 | Cost: 10.3876323474\nIteration:"
     ]
    },
    {
     "name": "stdout",
     "output_type": "stream",
     "text": [
      " 26430 | Cost: 10.3479322751\nIteration:"
     ]
    },
    {
     "name": "stdout",
     "output_type": "stream",
     "text": [
      " 26440 | Cost: 8.68659874426\nIteration:"
     ]
    },
    {
     "name": "stdout",
     "output_type": "stream",
     "text": [
      " 26450 | Cost: 10.5173315667\nIteration:"
     ]
    },
    {
     "name": "stdout",
     "output_type": "stream",
     "text": [
      " 26460 | Cost: 10.2452967771\nIteration:"
     ]
    },
    {
     "name": "stdout",
     "output_type": "stream",
     "text": [
      " 26470 | Cost: 10.6120651399\nIteration:"
     ]
    },
    {
     "name": "stdout",
     "output_type": "stream",
     "text": [
      " 26480 | Cost: 10.6284316682\nIteration:"
     ]
    },
    {
     "name": "stdout",
     "output_type": "stream",
     "text": [
      " 26490 | Cost: 11.9975991609\nIteration:"
     ]
    },
    {
     "name": "stdout",
     "output_type": "stream",
     "text": [
      " 26500 | Cost: 9.60160163654\nIteration:"
     ]
    },
    {
     "name": "stdout",
     "output_type": "stream",
     "text": [
      " 26510 | Cost: 9.84979124909\nIteration:"
     ]
    },
    {
     "name": "stdout",
     "output_type": "stream",
     "text": [
      " 26520 | Cost: 11.2458436051\nIteration:"
     ]
    },
    {
     "name": "stdout",
     "output_type": "stream",
     "text": [
      " 26530 | Cost: 8.84904738171\nIteration:"
     ]
    },
    {
     "name": "stdout",
     "output_type": "stream",
     "text": [
      " 26540 | Cost: 8.79693191383\nIteration:"
     ]
    },
    {
     "name": "stdout",
     "output_type": "stream",
     "text": [
      " 26550 | Cost: 9.51964047984\nIteration:"
     ]
    },
    {
     "name": "stdout",
     "output_type": "stream",
     "text": [
      " 26560 | Cost: 9.73623649493\nIteration:"
     ]
    },
    {
     "name": "stdout",
     "output_type": "stream",
     "text": [
      " 26570 | Cost: 11.0286360659\nIteration:"
     ]
    },
    {
     "name": "stdout",
     "output_type": "stream",
     "text": [
      " 26580 | Cost: 11.2680817795\nIteration:"
     ]
    },
    {
     "name": "stdout",
     "output_type": "stream",
     "text": [
      " 26590 | Cost: 9.32297275272\nIteration:"
     ]
    },
    {
     "name": "stdout",
     "output_type": "stream",
     "text": [
      " 26600 | Cost: 9.44238276902\nIteration:"
     ]
    },
    {
     "name": "stdout",
     "output_type": "stream",
     "text": [
      " 26610 | Cost: 10.5656486384\nIteration:"
     ]
    },
    {
     "name": "stdout",
     "output_type": "stream",
     "text": [
      " 26620 | Cost: 8.94193064097\nIteration:"
     ]
    },
    {
     "name": "stdout",
     "output_type": "stream",
     "text": [
      " 26630 | Cost: 9.88933867736\nIteration:"
     ]
    },
    {
     "name": "stdout",
     "output_type": "stream",
     "text": [
      " 26640 | Cost: 8.97174324767\nIteration:"
     ]
    },
    {
     "name": "stdout",
     "output_type": "stream",
     "text": [
      " 26650 | Cost: 9.29422022833\nIteration:"
     ]
    },
    {
     "name": "stdout",
     "output_type": "stream",
     "text": [
      " 26660 | Cost: 10.7253004066\nIteration:"
     ]
    },
    {
     "name": "stdout",
     "output_type": "stream",
     "text": [
      " 26670 | Cost: 9.07796036289\nIteration:"
     ]
    },
    {
     "name": "stdout",
     "output_type": "stream",
     "text": [
      " 26680 | Cost: 9.54809957057\nIteration:"
     ]
    },
    {
     "name": "stdout",
     "output_type": "stream",
     "text": [
      " 26690 | Cost: 9.29422454303\nIteration:"
     ]
    },
    {
     "name": "stdout",
     "output_type": "stream",
     "text": [
      " 26700 | Cost: 9.76321984799\nIteration:"
     ]
    },
    {
     "name": "stdout",
     "output_type": "stream",
     "text": [
      " 26710 | Cost: 8.4215512961\nIteration:"
     ]
    },
    {
     "name": "stdout",
     "output_type": "stream",
     "text": [
      " 26720 | Cost: 8.46327885823\nIteration:"
     ]
    },
    {
     "name": "stdout",
     "output_type": "stream",
     "text": [
      " 26730 | Cost: 10.9196865945\nIteration:"
     ]
    },
    {
     "name": "stdout",
     "output_type": "stream",
     "text": [
      " 26740 | Cost: 11.1960880556\nIteration:"
     ]
    },
    {
     "name": "stdout",
     "output_type": "stream",
     "text": [
      " 26750 | Cost: 10.0565478657\nIteration:"
     ]
    },
    {
     "name": "stdout",
     "output_type": "stream",
     "text": [
      " 26760 | Cost: 8.84260162025\nIteration:"
     ]
    },
    {
     "name": "stdout",
     "output_type": "stream",
     "text": [
      " 26770 | Cost: 10.4610022384\nIteration:"
     ]
    },
    {
     "name": "stdout",
     "output_type": "stream",
     "text": [
      " 26780 | Cost: 9.70265378861\nIteration:"
     ]
    },
    {
     "name": "stdout",
     "output_type": "stream",
     "text": [
      " 26790 | Cost: 10.1580011712\nIteration:"
     ]
    },
    {
     "name": "stdout",
     "output_type": "stream",
     "text": [
      " 26800 | Cost: 10.2129745356\nIteration:"
     ]
    },
    {
     "name": "stdout",
     "output_type": "stream",
     "text": [
      " 26810 | Cost: 9.23985870324\nIteration:"
     ]
    },
    {
     "name": "stdout",
     "output_type": "stream",
     "text": [
      " 26820 | Cost: 11.2169176229\nIteration:"
     ]
    },
    {
     "name": "stdout",
     "output_type": "stream",
     "text": [
      " 26830 | Cost: 10.9709987546\nIteration:"
     ]
    },
    {
     "name": "stdout",
     "output_type": "stream",
     "text": [
      " 26840 | Cost: 11.0763799977\nIteration:"
     ]
    },
    {
     "name": "stdout",
     "output_type": "stream",
     "text": [
      " 26850 | Cost: 9.84972808499\nIteration:"
     ]
    },
    {
     "name": "stdout",
     "output_type": "stream",
     "text": [
      " 26860 | Cost: 12.4850106049\nIteration:"
     ]
    },
    {
     "name": "stdout",
     "output_type": "stream",
     "text": [
      " 26870 | Cost: 9.61872915977\nIteration:"
     ]
    },
    {
     "name": "stdout",
     "output_type": "stream",
     "text": [
      " 26880 | Cost: 9.90470569876\nIteration:"
     ]
    },
    {
     "name": "stdout",
     "output_type": "stream",
     "text": [
      " 26890 | Cost: 10.1578238579\nIteration:"
     ]
    },
    {
     "name": "stdout",
     "output_type": "stream",
     "text": [
      " 26900 | Cost: 10.4931761763\nIteration:"
     ]
    },
    {
     "name": "stdout",
     "output_type": "stream",
     "text": [
      " 26910 | Cost: 10.9575172352\nIteration:"
     ]
    },
    {
     "name": "stdout",
     "output_type": "stream",
     "text": [
      " 26920 | Cost: 9.02260821361\nIteration:"
     ]
    },
    {
     "name": "stdout",
     "output_type": "stream",
     "text": [
      " 26930 | Cost: 9.90605454686\nIteration:"
     ]
    },
    {
     "name": "stdout",
     "output_type": "stream",
     "text": [
      " 26940 | Cost: 9.26416825979\nIteration:"
     ]
    },
    {
     "name": "stdout",
     "output_type": "stream",
     "text": [
      " 26950 | Cost: 11.2438526787\nIteration:"
     ]
    },
    {
     "name": "stdout",
     "output_type": "stream",
     "text": [
      " 26960 | Cost: 11.0659685663\nIteration:"
     ]
    },
    {
     "name": "stdout",
     "output_type": "stream",
     "text": [
      " 26970 | Cost: 9.28138481996\nIteration:"
     ]
    },
    {
     "name": "stdout",
     "output_type": "stream",
     "text": [
      " 26980 | Cost: 9.6493423719\nIteration:"
     ]
    },
    {
     "name": "stdout",
     "output_type": "stream",
     "text": [
      " 26990 | Cost: 9.13877124026\nIteration:"
     ]
    },
    {
     "name": "stdout",
     "output_type": "stream",
     "text": [
      " 27000 | Cost: 9.35089015865\nIteration:"
     ]
    },
    {
     "name": "stdout",
     "output_type": "stream",
     "text": [
      " 27010 | Cost: 9.57284099313\nIteration:"
     ]
    },
    {
     "name": "stdout",
     "output_type": "stream",
     "text": [
      " 27020 | Cost: 9.54407794648\nIteration:"
     ]
    },
    {
     "name": "stdout",
     "output_type": "stream",
     "text": [
      " 27030 | Cost: 9.73654273695\nIteration:"
     ]
    },
    {
     "name": "stdout",
     "output_type": "stream",
     "text": [
      " 27040 | Cost: 9.44930491289\nIteration:"
     ]
    },
    {
     "name": "stdout",
     "output_type": "stream",
     "text": [
      " 27050 | Cost: 10.6509520658\nIteration:"
     ]
    },
    {
     "name": "stdout",
     "output_type": "stream",
     "text": [
      " 27060 | Cost: 9.14612494186\nIteration:"
     ]
    },
    {
     "name": "stdout",
     "output_type": "stream",
     "text": [
      " 27070 | Cost: 9.16658628158\nIteration:"
     ]
    },
    {
     "name": "stdout",
     "output_type": "stream",
     "text": [
      " 27080 | Cost: 8.28492168458\nIteration:"
     ]
    },
    {
     "name": "stdout",
     "output_type": "stream",
     "text": [
      " 27090 | Cost: 8.07592592583\nIteration:"
     ]
    },
    {
     "name": "stdout",
     "output_type": "stream",
     "text": [
      " 27100 | Cost: 10.342699866\nIteration:"
     ]
    },
    {
     "name": "stdout",
     "output_type": "stream",
     "text": [
      " 27110 | Cost: 9.3396909076\nIteration:"
     ]
    },
    {
     "name": "stdout",
     "output_type": "stream",
     "text": [
      " 27120 | Cost: 9.69930093981\nIteration:"
     ]
    },
    {
     "name": "stdout",
     "output_type": "stream",
     "text": [
      " 27130 | Cost: 7.6610216872\nIteration:"
     ]
    },
    {
     "name": "stdout",
     "output_type": "stream",
     "text": [
      " 27140 | Cost: 11.4644128761\nIteration:"
     ]
    },
    {
     "name": "stdout",
     "output_type": "stream",
     "text": [
      " 27150 | Cost: 9.75978235968\nIteration:"
     ]
    },
    {
     "name": "stdout",
     "output_type": "stream",
     "text": [
      " 27160 | Cost: 9.0222425155\nIteration:"
     ]
    },
    {
     "name": "stdout",
     "output_type": "stream",
     "text": [
      " 27170 | Cost: 9.67653078943\nIteration:"
     ]
    },
    {
     "name": "stdout",
     "output_type": "stream",
     "text": [
      " 27180 | Cost: 11.3408837548\nIteration:"
     ]
    },
    {
     "name": "stdout",
     "output_type": "stream",
     "text": [
      " 27190 | Cost: 9.5498134588\nIteration:"
     ]
    },
    {
     "name": "stdout",
     "output_type": "stream",
     "text": [
      " 27200 | Cost: 9.06178015765\nIteration:"
     ]
    },
    {
     "name": "stdout",
     "output_type": "stream",
     "text": [
      " 27210 | Cost: 9.72410382784\nIteration:"
     ]
    },
    {
     "name": "stdout",
     "output_type": "stream",
     "text": [
      " 27220 | Cost: 8.58186658746\nIteration:"
     ]
    },
    {
     "name": "stdout",
     "output_type": "stream",
     "text": [
      " 27230 | Cost: 8.2425686603\nIteration:"
     ]
    },
    {
     "name": "stdout",
     "output_type": "stream",
     "text": [
      " 27240 | Cost: 10.9024734637\nIteration:"
     ]
    },
    {
     "name": "stdout",
     "output_type": "stream",
     "text": [
      " 27250 | Cost: 9.53393930201\nIteration:"
     ]
    },
    {
     "name": "stdout",
     "output_type": "stream",
     "text": [
      " 27260 | Cost: 10.1991462692\nIteration:"
     ]
    },
    {
     "name": "stdout",
     "output_type": "stream",
     "text": [
      " 27270 | Cost: 9.93398191167\nIteration:"
     ]
    },
    {
     "name": "stdout",
     "output_type": "stream",
     "text": [
      " 27280 | Cost: 9.73842850693\nIteration:"
     ]
    },
    {
     "name": "stdout",
     "output_type": "stream",
     "text": [
      " 27290 | Cost: 8.6862301057\nIteration:"
     ]
    },
    {
     "name": "stdout",
     "output_type": "stream",
     "text": [
      " 27300 | Cost: 9.2759256728\nIteration:"
     ]
    },
    {
     "name": "stdout",
     "output_type": "stream",
     "text": [
      " 27310 | Cost: 9.38868097312\nIteration:"
     ]
    },
    {
     "name": "stdout",
     "output_type": "stream",
     "text": [
      " 27320 | Cost: 10.0416984496\nIteration:"
     ]
    },
    {
     "name": "stdout",
     "output_type": "stream",
     "text": [
      " 27330 | Cost: 10.5782359654\nIteration:"
     ]
    },
    {
     "name": "stdout",
     "output_type": "stream",
     "text": [
      " 27340 | Cost: 10.1780941211\nIteration:"
     ]
    },
    {
     "name": "stdout",
     "output_type": "stream",
     "text": [
      " 27350 | Cost: 8.23051093882\nIteration:"
     ]
    },
    {
     "name": "stdout",
     "output_type": "stream",
     "text": [
      " 27360 | Cost: 10.099015464\nIteration:"
     ]
    },
    {
     "name": "stdout",
     "output_type": "stream",
     "text": [
      " 27370 | Cost: 11.2165905492\nIteration:"
     ]
    },
    {
     "name": "stdout",
     "output_type": "stream",
     "text": [
      " 27380 | Cost: 11.0294608044\nIteration:"
     ]
    },
    {
     "name": "stdout",
     "output_type": "stream",
     "text": [
      " 27390 | Cost: 9.12173231475\nIteration:"
     ]
    },
    {
     "name": "stdout",
     "output_type": "stream",
     "text": [
      " 27400 | Cost: 9.14307470647\nIteration:"
     ]
    },
    {
     "name": "stdout",
     "output_type": "stream",
     "text": [
      " 27410 | Cost: 9.33802246787\nIteration:"
     ]
    },
    {
     "name": "stdout",
     "output_type": "stream",
     "text": [
      " 27420 | Cost: 11.5262932971\nIteration:"
     ]
    },
    {
     "name": "stdout",
     "output_type": "stream",
     "text": [
      " 27430 | Cost: 10.100202938\nIteration:"
     ]
    },
    {
     "name": "stdout",
     "output_type": "stream",
     "text": [
      " 27440 | Cost: 9.16433192976\nIteration:"
     ]
    },
    {
     "name": "stdout",
     "output_type": "stream",
     "text": [
      " 27450 | Cost: 10.1621477953\nIteration:"
     ]
    },
    {
     "name": "stdout",
     "output_type": "stream",
     "text": [
      " 27460 | Cost: 8.24114652341\nIteration:"
     ]
    },
    {
     "name": "stdout",
     "output_type": "stream",
     "text": [
      " 27470 | Cost: 9.78195299395\nIteration:"
     ]
    },
    {
     "name": "stdout",
     "output_type": "stream",
     "text": [
      " 27480 | Cost: 10.1947778701\nIteration:"
     ]
    },
    {
     "name": "stdout",
     "output_type": "stream",
     "text": [
      " 27490 | Cost: 9.69490825437\nIteration:"
     ]
    },
    {
     "name": "stdout",
     "output_type": "stream",
     "text": [
      " 27500 | Cost: 9.28176761319\nIteration:"
     ]
    },
    {
     "name": "stdout",
     "output_type": "stream",
     "text": [
      " 27510 | Cost: 9.35546183503\nIteration:"
     ]
    },
    {
     "name": "stdout",
     "output_type": "stream",
     "text": [
      " 27520 | Cost: 11.7920394285\nIteration:"
     ]
    },
    {
     "name": "stdout",
     "output_type": "stream",
     "text": [
      " 27530 | Cost: 9.88022191629\nIteration:"
     ]
    },
    {
     "name": "stdout",
     "output_type": "stream",
     "text": [
      " 27540 | Cost: 9.69025002361\nIteration:"
     ]
    },
    {
     "name": "stdout",
     "output_type": "stream",
     "text": [
      " 27550 | Cost: 10.2009429916\nIteration:"
     ]
    },
    {
     "name": "stdout",
     "output_type": "stream",
     "text": [
      " 27560 | Cost: 9.04057176181\nIteration:"
     ]
    },
    {
     "name": "stdout",
     "output_type": "stream",
     "text": [
      " 27570 | Cost: 10.7576921748\nIteration:"
     ]
    },
    {
     "name": "stdout",
     "output_type": "stream",
     "text": [
      " 27580 | Cost: 9.30655922755\nIteration:"
     ]
    },
    {
     "name": "stdout",
     "output_type": "stream",
     "text": [
      " 27590 | Cost: 10.3547689935\nIteration:"
     ]
    },
    {
     "name": "stdout",
     "output_type": "stream",
     "text": [
      " 27600 | Cost: 10.1359350792\nIteration:"
     ]
    },
    {
     "name": "stdout",
     "output_type": "stream",
     "text": [
      " 27610 | Cost: 8.67795049689\nIteration:"
     ]
    },
    {
     "name": "stdout",
     "output_type": "stream",
     "text": [
      " 27620 | Cost: 10.5549114657\nIteration:"
     ]
    },
    {
     "name": "stdout",
     "output_type": "stream",
     "text": [
      " 27630 | Cost: 9.93896654482\nIteration:"
     ]
    },
    {
     "name": "stdout",
     "output_type": "stream",
     "text": [
      " 27640 | Cost: 10.7536751127\nIteration:"
     ]
    },
    {
     "name": "stdout",
     "output_type": "stream",
     "text": [
      " 27650 | Cost: 11.0942692442\nIteration:"
     ]
    },
    {
     "name": "stdout",
     "output_type": "stream",
     "text": [
      " 27660 | Cost: 9.7616564386\nIteration:"
     ]
    },
    {
     "name": "stdout",
     "output_type": "stream",
     "text": [
      " 27670 | Cost: 10.8223693627\nIteration:"
     ]
    },
    {
     "name": "stdout",
     "output_type": "stream",
     "text": [
      " 27680 | Cost: 8.40748758559\nIteration:"
     ]
    },
    {
     "name": "stdout",
     "output_type": "stream",
     "text": [
      " 27690 | Cost: 9.48815116174\nIteration:"
     ]
    },
    {
     "name": "stdout",
     "output_type": "stream",
     "text": [
      " 27700 | Cost: 10.3339161298\nIteration:"
     ]
    },
    {
     "name": "stdout",
     "output_type": "stream",
     "text": [
      " 27710 | Cost: 9.44535555707\nIteration:"
     ]
    },
    {
     "name": "stdout",
     "output_type": "stream",
     "text": [
      " 27720 | Cost: 8.97048944078\nIteration:"
     ]
    },
    {
     "name": "stdout",
     "output_type": "stream",
     "text": [
      " 27730 | Cost: 10.7370480468\nIteration:"
     ]
    },
    {
     "name": "stdout",
     "output_type": "stream",
     "text": [
      " 27740 | Cost: 9.8390738802\nIteration:"
     ]
    },
    {
     "name": "stdout",
     "output_type": "stream",
     "text": [
      " 27750 | Cost: 9.69608308882\nIteration:"
     ]
    },
    {
     "name": "stdout",
     "output_type": "stream",
     "text": [
      " 27760 | Cost: 10.8266655467\nIteration:"
     ]
    },
    {
     "name": "stdout",
     "output_type": "stream",
     "text": [
      " 27770 | Cost: 9.50923620732\nIteration:"
     ]
    },
    {
     "name": "stdout",
     "output_type": "stream",
     "text": [
      " 27780 | Cost: 11.1757286076\nIteration:"
     ]
    },
    {
     "name": "stdout",
     "output_type": "stream",
     "text": [
      " 27790 | Cost: 11.2413172356\nIteration:"
     ]
    },
    {
     "name": "stdout",
     "output_type": "stream",
     "text": [
      " 27800 | Cost: 9.31497649746\nIteration:"
     ]
    },
    {
     "name": "stdout",
     "output_type": "stream",
     "text": [
      " 27810 | Cost: 9.5423036884\nIteration:"
     ]
    },
    {
     "name": "stdout",
     "output_type": "stream",
     "text": [
      " 27820 | Cost: 9.75593160303\nIteration:"
     ]
    },
    {
     "name": "stdout",
     "output_type": "stream",
     "text": [
      " 27830 | Cost: 10.3563430449\nIteration:"
     ]
    },
    {
     "name": "stdout",
     "output_type": "stream",
     "text": [
      " 27840 | Cost: 9.9621976373\nIteration:"
     ]
    },
    {
     "name": "stdout",
     "output_type": "stream",
     "text": [
      " 27850 | Cost: 9.60855616235\nIteration:"
     ]
    },
    {
     "name": "stdout",
     "output_type": "stream",
     "text": [
      " 27860 | Cost: 7.57354901912\nIteration:"
     ]
    },
    {
     "name": "stdout",
     "output_type": "stream",
     "text": [
      " 27870 | Cost: 9.53298429009\nIteration:"
     ]
    },
    {
     "name": "stdout",
     "output_type": "stream",
     "text": [
      " 27880 | Cost: 10.0403477304\nIteration:"
     ]
    },
    {
     "name": "stdout",
     "output_type": "stream",
     "text": [
      " 27890 | Cost: 9.45043865407\nIteration:"
     ]
    },
    {
     "name": "stdout",
     "output_type": "stream",
     "text": [
      " 27900 | Cost: 9.40129530785\nIteration:"
     ]
    },
    {
     "name": "stdout",
     "output_type": "stream",
     "text": [
      " 27910 | Cost: 10.1809336479\nIteration:"
     ]
    },
    {
     "name": "stdout",
     "output_type": "stream",
     "text": [
      " 27920 | Cost: 8.53762008529\nIteration:"
     ]
    },
    {
     "name": "stdout",
     "output_type": "stream",
     "text": [
      " 27930 | Cost: 9.39990067958\nIteration:"
     ]
    },
    {
     "name": "stdout",
     "output_type": "stream",
     "text": [
      " 27940 | Cost: 8.34228499452\nIteration:"
     ]
    },
    {
     "name": "stdout",
     "output_type": "stream",
     "text": [
      " 27950 | Cost: 9.52498522477\nIteration:"
     ]
    },
    {
     "name": "stdout",
     "output_type": "stream",
     "text": [
      " 27960 | Cost: 10.5913217201\nIteration:"
     ]
    },
    {
     "name": "stdout",
     "output_type": "stream",
     "text": [
      " 27970 | Cost: 9.37755772294\nIteration:"
     ]
    },
    {
     "name": "stdout",
     "output_type": "stream",
     "text": [
      " 27980 | Cost: 10.7479743871\nIteration:"
     ]
    },
    {
     "name": "stdout",
     "output_type": "stream",
     "text": [
      " 27990 | Cost: 8.3011077474\nIteration:"
     ]
    },
    {
     "name": "stdout",
     "output_type": "stream",
     "text": [
      " 28000 | Cost: 10.1199906296\nIteration:"
     ]
    },
    {
     "name": "stdout",
     "output_type": "stream",
     "text": [
      " 28010 | Cost: 10.4321083835\nIteration:"
     ]
    },
    {
     "name": "stdout",
     "output_type": "stream",
     "text": [
      " 28020 | Cost: 9.74336192663\nIteration:"
     ]
    },
    {
     "name": "stdout",
     "output_type": "stream",
     "text": [
      " 28030 | Cost: 9.67875881553\nIteration:"
     ]
    },
    {
     "name": "stdout",
     "output_type": "stream",
     "text": [
      " 28040 | Cost: 9.75246916984\nIteration:"
     ]
    },
    {
     "name": "stdout",
     "output_type": "stream",
     "text": [
      " 28050 | Cost: 9.11990674672\nIteration:"
     ]
    },
    {
     "name": "stdout",
     "output_type": "stream",
     "text": [
      " 28060 | Cost: 11.036656674\nIteration:"
     ]
    },
    {
     "name": "stdout",
     "output_type": "stream",
     "text": [
      " 28070 | Cost: 9.95118141225\nIteration:"
     ]
    },
    {
     "name": "stdout",
     "output_type": "stream",
     "text": [
      " 28080 | Cost: 11.7527374836\nIteration:"
     ]
    },
    {
     "name": "stdout",
     "output_type": "stream",
     "text": [
      " 28090 | Cost: 10.4155834046\nIteration:"
     ]
    },
    {
     "name": "stdout",
     "output_type": "stream",
     "text": [
      " 28100 | Cost: 9.44654992937\nIteration:"
     ]
    },
    {
     "name": "stdout",
     "output_type": "stream",
     "text": [
      " 28110 | Cost: 10.1708656727\nIteration:"
     ]
    },
    {
     "name": "stdout",
     "output_type": "stream",
     "text": [
      " 28120 | Cost: 9.19788573417\nIteration:"
     ]
    },
    {
     "name": "stdout",
     "output_type": "stream",
     "text": [
      " 28130 | Cost: 9.37041574341\nIteration:"
     ]
    },
    {
     "name": "stdout",
     "output_type": "stream",
     "text": [
      " 28140 | Cost: 12.1082242018\nIteration:"
     ]
    },
    {
     "name": "stdout",
     "output_type": "stream",
     "text": [
      " 28150 | Cost: 10.4190122635\nIteration:"
     ]
    },
    {
     "name": "stdout",
     "output_type": "stream",
     "text": [
      " 28160 | Cost: 10.5353299418\nIteration:"
     ]
    },
    {
     "name": "stdout",
     "output_type": "stream",
     "text": [
      " 28170 | Cost: 10.2030327503\nIteration:"
     ]
    },
    {
     "name": "stdout",
     "output_type": "stream",
     "text": [
      " 28180 | Cost: 9.83118758586\nIteration:"
     ]
    },
    {
     "name": "stdout",
     "output_type": "stream",
     "text": [
      " 28190 | Cost: 10.8668884765\nIteration:"
     ]
    },
    {
     "name": "stdout",
     "output_type": "stream",
     "text": [
      " 28200 | Cost: 9.05706707349\nIteration:"
     ]
    },
    {
     "name": "stdout",
     "output_type": "stream",
     "text": [
      " 28210 | Cost: 9.78949166797\nIteration:"
     ]
    },
    {
     "name": "stdout",
     "output_type": "stream",
     "text": [
      " 28220 | Cost: 10.6409980637\nIteration:"
     ]
    },
    {
     "name": "stdout",
     "output_type": "stream",
     "text": [
      " 28230 | Cost: 9.60789900816\nIteration:"
     ]
    },
    {
     "name": "stdout",
     "output_type": "stream",
     "text": [
      " 28240 | Cost: 8.54115092716\nIteration:"
     ]
    },
    {
     "name": "stdout",
     "output_type": "stream",
     "text": [
      " 28250 | Cost: 8.43680252371\nIteration:"
     ]
    },
    {
     "name": "stdout",
     "output_type": "stream",
     "text": [
      " 28260 | Cost: 10.9304920138\nIteration:"
     ]
    },
    {
     "name": "stdout",
     "output_type": "stream",
     "text": [
      " 28270 | Cost: 8.991058088\nIteration:"
     ]
    },
    {
     "name": "stdout",
     "output_type": "stream",
     "text": [
      " 28280 | Cost: 9.65905024308\nIteration:"
     ]
    },
    {
     "name": "stdout",
     "output_type": "stream",
     "text": [
      " 28290 | Cost: 8.74736825282\nIteration:"
     ]
    },
    {
     "name": "stdout",
     "output_type": "stream",
     "text": [
      " 28300 | Cost: 10.5371786813\nIteration:"
     ]
    },
    {
     "name": "stdout",
     "output_type": "stream",
     "text": [
      " 28310 | Cost: 9.74052976417\nIteration:"
     ]
    },
    {
     "name": "stdout",
     "output_type": "stream",
     "text": [
      " 28320 | Cost: 7.69136056646\nIteration:"
     ]
    },
    {
     "name": "stdout",
     "output_type": "stream",
     "text": [
      " 28330 | Cost: 10.9633751604\nIteration:"
     ]
    },
    {
     "name": "stdout",
     "output_type": "stream",
     "text": [
      " 28340 | Cost: 10.451801188\nIteration:"
     ]
    },
    {
     "name": "stdout",
     "output_type": "stream",
     "text": [
      " 28350 | Cost: 10.358730904\nIteration:"
     ]
    },
    {
     "name": "stdout",
     "output_type": "stream",
     "text": [
      " 28360 | Cost: 8.88321130667\nIteration:"
     ]
    },
    {
     "name": "stdout",
     "output_type": "stream",
     "text": [
      " 28370 | Cost: 11.2271958276\nIteration:"
     ]
    },
    {
     "name": "stdout",
     "output_type": "stream",
     "text": [
      " 28380 | Cost: 8.59647051058\nIteration:"
     ]
    },
    {
     "name": "stdout",
     "output_type": "stream",
     "text": [
      " 28390 | Cost: 9.16207915158\nIteration:"
     ]
    },
    {
     "name": "stdout",
     "output_type": "stream",
     "text": [
      " 28400 | Cost: 9.2575509962\nIteration:"
     ]
    },
    {
     "name": "stdout",
     "output_type": "stream",
     "text": [
      " 28410 | Cost: 8.98409075473\nIteration:"
     ]
    },
    {
     "name": "stdout",
     "output_type": "stream",
     "text": [
      " 28420 | Cost: 10.2296388688\nIteration:"
     ]
    },
    {
     "name": "stdout",
     "output_type": "stream",
     "text": [
      " 28430 | Cost: 10.2986411645\nIteration:"
     ]
    },
    {
     "name": "stdout",
     "output_type": "stream",
     "text": [
      " 28440 | Cost: 9.91381107375\nIteration:"
     ]
    },
    {
     "name": "stdout",
     "output_type": "stream",
     "text": [
      " 28450 | Cost: 9.52074446911\nIteration:"
     ]
    },
    {
     "name": "stdout",
     "output_type": "stream",
     "text": [
      " 28460 | Cost: 10.0603474528\nIteration:"
     ]
    },
    {
     "name": "stdout",
     "output_type": "stream",
     "text": [
      " 28470 | Cost: 8.12941755376\nIteration:"
     ]
    },
    {
     "name": "stdout",
     "output_type": "stream",
     "text": [
      " 28480 | Cost: 8.67482478998\nIteration:"
     ]
    },
    {
     "name": "stdout",
     "output_type": "stream",
     "text": [
      " 28490 | Cost: 10.5019893021\nIteration:"
     ]
    },
    {
     "name": "stdout",
     "output_type": "stream",
     "text": [
      " 28500 | Cost: 10.0661617985\nIteration:"
     ]
    },
    {
     "name": "stdout",
     "output_type": "stream",
     "text": [
      " 28510 | Cost: 11.0121750291\nIteration:"
     ]
    },
    {
     "name": "stdout",
     "output_type": "stream",
     "text": [
      " 28520 | Cost: 10.9354295818\nIteration:"
     ]
    },
    {
     "name": "stdout",
     "output_type": "stream",
     "text": [
      " 28530 | Cost: 9.02307658414\nIteration:"
     ]
    },
    {
     "name": "stdout",
     "output_type": "stream",
     "text": [
      " 28540 | Cost: 10.2429548745\nIteration:"
     ]
    },
    {
     "name": "stdout",
     "output_type": "stream",
     "text": [
      " 28550 | Cost: 9.52786110933\nIteration:"
     ]
    },
    {
     "name": "stdout",
     "output_type": "stream",
     "text": [
      " 28560 | Cost: 9.43674004299\nIteration:"
     ]
    },
    {
     "name": "stdout",
     "output_type": "stream",
     "text": [
      " 28570 | Cost: 9.63357792764\nIteration:"
     ]
    },
    {
     "name": "stdout",
     "output_type": "stream",
     "text": [
      " 28580 | Cost: 10.9702827121\nIteration:"
     ]
    },
    {
     "name": "stdout",
     "output_type": "stream",
     "text": [
      " 28590 | Cost: 10.5629445457\nIteration:"
     ]
    },
    {
     "name": "stdout",
     "output_type": "stream",
     "text": [
      " 28600 | Cost: 9.44855218042\nIteration:"
     ]
    },
    {
     "name": "stdout",
     "output_type": "stream",
     "text": [
      " 28610 | Cost: 10.3357177021\nIteration:"
     ]
    },
    {
     "name": "stdout",
     "output_type": "stream",
     "text": [
      " 28620 | Cost: 8.67986340338\nIteration:"
     ]
    },
    {
     "name": "stdout",
     "output_type": "stream",
     "text": [
      " 28630 | Cost: 8.35089537242\nIteration:"
     ]
    },
    {
     "name": "stdout",
     "output_type": "stream",
     "text": [
      " 28640 | Cost: 10.0857095609\nIteration:"
     ]
    },
    {
     "name": "stdout",
     "output_type": "stream",
     "text": [
      " 28650 | Cost: 10.0751216441\nIteration:"
     ]
    },
    {
     "name": "stdout",
     "output_type": "stream",
     "text": [
      " 28660 | Cost: 11.1383201043\nIteration:"
     ]
    },
    {
     "name": "stdout",
     "output_type": "stream",
     "text": [
      " 28670 | Cost: 9.86731987712\nIteration:"
     ]
    },
    {
     "name": "stdout",
     "output_type": "stream",
     "text": [
      " 28680 | Cost: 9.84353557302\nIteration:"
     ]
    },
    {
     "name": "stdout",
     "output_type": "stream",
     "text": [
      " 28690 | Cost: 9.07374582429\nIteration:"
     ]
    },
    {
     "name": "stdout",
     "output_type": "stream",
     "text": [
      " 28700 | Cost: 11.0387673331\nIteration:"
     ]
    },
    {
     "name": "stdout",
     "output_type": "stream",
     "text": [
      " 28710 | Cost: 10.2307708988\nIteration:"
     ]
    },
    {
     "name": "stdout",
     "output_type": "stream",
     "text": [
      " 28720 | Cost: 9.03359704697\nIteration:"
     ]
    },
    {
     "name": "stdout",
     "output_type": "stream",
     "text": [
      " 28730 | Cost: 8.89657423853\nIteration:"
     ]
    },
    {
     "name": "stdout",
     "output_type": "stream",
     "text": [
      " 28740 | Cost: 9.45648223919\nIteration:"
     ]
    },
    {
     "name": "stdout",
     "output_type": "stream",
     "text": [
      " 28750 | Cost: 9.52397148943\nIteration:"
     ]
    },
    {
     "name": "stdout",
     "output_type": "stream",
     "text": [
      " 28760 | Cost: 9.99475467066\nIteration:"
     ]
    },
    {
     "name": "stdout",
     "output_type": "stream",
     "text": [
      " 28770 | Cost: 11.7644943008\nIteration:"
     ]
    },
    {
     "name": "stdout",
     "output_type": "stream",
     "text": [
      " 28780 | Cost: 8.40638880304\nIteration:"
     ]
    },
    {
     "name": "stdout",
     "output_type": "stream",
     "text": [
      " 28790 | Cost: 8.24653267359\nIteration:"
     ]
    },
    {
     "name": "stdout",
     "output_type": "stream",
     "text": [
      " 28800 | Cost: 10.7235357448\nIteration:"
     ]
    },
    {
     "name": "stdout",
     "output_type": "stream",
     "text": [
      " 28810 | Cost: 11.621860691\nIteration:"
     ]
    },
    {
     "name": "stdout",
     "output_type": "stream",
     "text": [
      " 28820 | Cost: 10.6223648138\nIteration:"
     ]
    },
    {
     "name": "stdout",
     "output_type": "stream",
     "text": [
      " 28830 | Cost: 9.87931463436\nIteration:"
     ]
    },
    {
     "name": "stdout",
     "output_type": "stream",
     "text": [
      " 28840 | Cost: 10.6832807681\nIteration:"
     ]
    },
    {
     "name": "stdout",
     "output_type": "stream",
     "text": [
      " 28850 | Cost: 8.81935160013\nIteration:"
     ]
    },
    {
     "name": "stdout",
     "output_type": "stream",
     "text": [
      " 28860 | Cost: 10.1536962524\nIteration:"
     ]
    },
    {
     "name": "stdout",
     "output_type": "stream",
     "text": [
      " 28870 | Cost: 10.9890653051\nIteration:"
     ]
    },
    {
     "name": "stdout",
     "output_type": "stream",
     "text": [
      " 28880 | Cost: 10.3989867386\nIteration:"
     ]
    },
    {
     "name": "stdout",
     "output_type": "stream",
     "text": [
      " 28890 | Cost: 10.8916407891\nIteration:"
     ]
    },
    {
     "name": "stdout",
     "output_type": "stream",
     "text": [
      " 28900 | Cost: 9.07550069246\nIteration:"
     ]
    },
    {
     "name": "stdout",
     "output_type": "stream",
     "text": [
      " 28910 | Cost: 9.34034199075\nIteration:"
     ]
    },
    {
     "name": "stdout",
     "output_type": "stream",
     "text": [
      " 28920 | Cost: 10.7728441429\nIteration:"
     ]
    },
    {
     "name": "stdout",
     "output_type": "stream",
     "text": [
      " 28930 | Cost: 10.4477644065\nIteration:"
     ]
    },
    {
     "name": "stdout",
     "output_type": "stream",
     "text": [
      " 28940 | Cost: 10.2678151481\nIteration:"
     ]
    },
    {
     "name": "stdout",
     "output_type": "stream",
     "text": [
      " 28950 | Cost: 10.764271055\nIteration:"
     ]
    },
    {
     "name": "stdout",
     "output_type": "stream",
     "text": [
      " 28960 | Cost: 10.9077940551\nIteration:"
     ]
    },
    {
     "name": "stdout",
     "output_type": "stream",
     "text": [
      " 28970 | Cost: 8.78184727791\nIteration:"
     ]
    },
    {
     "name": "stdout",
     "output_type": "stream",
     "text": [
      " 28980 | Cost: 10.1408947487\nIteration:"
     ]
    },
    {
     "name": "stdout",
     "output_type": "stream",
     "text": [
      " 28990 | Cost: 8.92118248979\nIteration:"
     ]
    },
    {
     "name": "stdout",
     "output_type": "stream",
     "text": [
      " 29000 | Cost: 10.1068882098\nIteration:"
     ]
    },
    {
     "name": "stdout",
     "output_type": "stream",
     "text": [
      " 29010 | Cost: 9.36367106163\nIteration:"
     ]
    },
    {
     "name": "stdout",
     "output_type": "stream",
     "text": [
      " 29020 | Cost: 9.0870269161\nIteration:"
     ]
    },
    {
     "name": "stdout",
     "output_type": "stream",
     "text": [
      " 29030 | Cost: 10.7760041474\nIteration:"
     ]
    },
    {
     "name": "stdout",
     "output_type": "stream",
     "text": [
      " 29040 | Cost: 9.88795606359\nIteration:"
     ]
    },
    {
     "name": "stdout",
     "output_type": "stream",
     "text": [
      " 29050 | Cost: 8.84297608567\nIteration:"
     ]
    },
    {
     "name": "stdout",
     "output_type": "stream",
     "text": [
      " 29060 | Cost: 10.1823168963\nIteration:"
     ]
    },
    {
     "name": "stdout",
     "output_type": "stream",
     "text": [
      " 29070 | Cost: 9.84403547897\nIteration:"
     ]
    },
    {
     "name": "stdout",
     "output_type": "stream",
     "text": [
      " 29080 | Cost: 8.82542479835\nIteration:"
     ]
    },
    {
     "name": "stdout",
     "output_type": "stream",
     "text": [
      " 29090 | Cost: 8.45569501776\nIteration:"
     ]
    },
    {
     "name": "stdout",
     "output_type": "stream",
     "text": [
      " 29100 | Cost: 9.72680104412\nIteration:"
     ]
    },
    {
     "name": "stdout",
     "output_type": "stream",
     "text": [
      " 29110 | Cost: 10.7237304311\nIteration:"
     ]
    },
    {
     "name": "stdout",
     "output_type": "stream",
     "text": [
      " 29120 | Cost: 10.1183753571\nIteration:"
     ]
    },
    {
     "name": "stdout",
     "output_type": "stream",
     "text": [
      " 29130 | Cost: 9.53579782941\nIteration:"
     ]
    },
    {
     "name": "stdout",
     "output_type": "stream",
     "text": [
      " 29140 | Cost: 9.30119878392\nIteration:"
     ]
    },
    {
     "name": "stdout",
     "output_type": "stream",
     "text": [
      " 29150 | Cost: 9.3930499697\nIteration:"
     ]
    },
    {
     "name": "stdout",
     "output_type": "stream",
     "text": [
      " 29160 | Cost: 10.56978417\nIteration:"
     ]
    },
    {
     "name": "stdout",
     "output_type": "stream",
     "text": [
      " 29170 | Cost: 10.8594500052\nIteration:"
     ]
    },
    {
     "name": "stdout",
     "output_type": "stream",
     "text": [
      " 29180 | Cost: 10.1847646447\nIteration:"
     ]
    },
    {
     "name": "stdout",
     "output_type": "stream",
     "text": [
      " 29190 | Cost: 9.57648599948\nIteration:"
     ]
    },
    {
     "name": "stdout",
     "output_type": "stream",
     "text": [
      " 29200 | Cost: 8.38944234537\nIteration:"
     ]
    },
    {
     "name": "stdout",
     "output_type": "stream",
     "text": [
      " 29210 | Cost: 8.99881168604\nIteration:"
     ]
    },
    {
     "name": "stdout",
     "output_type": "stream",
     "text": [
      " 29220 | Cost: 11.1371706794\nIteration:"
     ]
    },
    {
     "name": "stdout",
     "output_type": "stream",
     "text": [
      " 29230 | Cost: 9.97203046917\nIteration:"
     ]
    },
    {
     "name": "stdout",
     "output_type": "stream",
     "text": [
      " 29240 | Cost: 9.14665199807\nIteration:"
     ]
    },
    {
     "name": "stdout",
     "output_type": "stream",
     "text": [
      " 29250 | Cost: 9.00698512141\nIteration:"
     ]
    },
    {
     "name": "stdout",
     "output_type": "stream",
     "text": [
      " 29260 | Cost: 10.4278746206\nIteration:"
     ]
    },
    {
     "name": "stdout",
     "output_type": "stream",
     "text": [
      " 29270 | Cost: 9.61423858277\nIteration:"
     ]
    },
    {
     "name": "stdout",
     "output_type": "stream",
     "text": [
      " 29280 | Cost: 9.77366627907\nIteration:"
     ]
    },
    {
     "name": "stdout",
     "output_type": "stream",
     "text": [
      " 29290 | Cost: 10.6129462395\nIteration:"
     ]
    },
    {
     "name": "stdout",
     "output_type": "stream",
     "text": [
      " 29300 | Cost: 9.20187435611\nIteration:"
     ]
    },
    {
     "name": "stdout",
     "output_type": "stream",
     "text": [
      " 29310 | Cost: 10.0413112341\nIteration:"
     ]
    },
    {
     "name": "stdout",
     "output_type": "stream",
     "text": [
      " 29320 | Cost: 8.91519312411\nIteration:"
     ]
    },
    {
     "name": "stdout",
     "output_type": "stream",
     "text": [
      " 29330 | Cost: 8.81492050057\nIteration:"
     ]
    },
    {
     "name": "stdout",
     "output_type": "stream",
     "text": [
      " 29340 | Cost: 8.4636739434\nIteration:"
     ]
    },
    {
     "name": "stdout",
     "output_type": "stream",
     "text": [
      " 29350 | Cost: 9.75469967417\nIteration:"
     ]
    },
    {
     "name": "stdout",
     "output_type": "stream",
     "text": [
      " 29360 | Cost: 8.84009071135\nIteration:"
     ]
    },
    {
     "name": "stdout",
     "output_type": "stream",
     "text": [
      " 29370 | Cost: 9.4114987623\nIteration:"
     ]
    },
    {
     "name": "stdout",
     "output_type": "stream",
     "text": [
      " 29380 | Cost: 10.4221622537\nIteration:"
     ]
    },
    {
     "name": "stdout",
     "output_type": "stream",
     "text": [
      " 29390 | Cost: 10.5671118251\nIteration:"
     ]
    },
    {
     "name": "stdout",
     "output_type": "stream",
     "text": [
      " 29400 | Cost: 9.45400640773\nIteration:"
     ]
    },
    {
     "name": "stdout",
     "output_type": "stream",
     "text": [
      " 29410 | Cost: 11.0190666235\nIteration:"
     ]
    },
    {
     "name": "stdout",
     "output_type": "stream",
     "text": [
      " 29420 | Cost: 10.5929642546\nIteration:"
     ]
    },
    {
     "name": "stdout",
     "output_type": "stream",
     "text": [
      " 29430 | Cost: 10.4874161291\nIteration:"
     ]
    },
    {
     "name": "stdout",
     "output_type": "stream",
     "text": [
      " 29440 | Cost: 12.0079081548\nIteration:"
     ]
    },
    {
     "name": "stdout",
     "output_type": "stream",
     "text": [
      " 29450 | Cost: 9.7589031642\nIteration:"
     ]
    },
    {
     "name": "stdout",
     "output_type": "stream",
     "text": [
      " 29460 | Cost: 9.11665539226\nIteration:"
     ]
    },
    {
     "name": "stdout",
     "output_type": "stream",
     "text": [
      " 29470 | Cost: 9.55970090467\nIteration:"
     ]
    },
    {
     "name": "stdout",
     "output_type": "stream",
     "text": [
      " 29480 | Cost: 8.48730218874\nIteration:"
     ]
    },
    {
     "name": "stdout",
     "output_type": "stream",
     "text": [
      " 29490 | Cost: 9.80624185279\nIteration:"
     ]
    },
    {
     "name": "stdout",
     "output_type": "stream",
     "text": [
      " 29500 | Cost: 10.4045149302\nIteration:"
     ]
    },
    {
     "name": "stdout",
     "output_type": "stream",
     "text": [
      " 29510 | Cost: 8.51982668116\nIteration:"
     ]
    },
    {
     "name": "stdout",
     "output_type": "stream",
     "text": [
      " 29520 | Cost: 10.7086739102\nIteration:"
     ]
    },
    {
     "name": "stdout",
     "output_type": "stream",
     "text": [
      " 29530 | Cost: 9.20152251501\nIteration:"
     ]
    },
    {
     "name": "stdout",
     "output_type": "stream",
     "text": [
      " 29540 | Cost: 9.39527626098\nIteration:"
     ]
    },
    {
     "name": "stdout",
     "output_type": "stream",
     "text": [
      " 29550 | Cost: 10.6287439772\nIteration:"
     ]
    },
    {
     "name": "stdout",
     "output_type": "stream",
     "text": [
      " 29560 | Cost: 10.6954623963\nIteration:"
     ]
    },
    {
     "name": "stdout",
     "output_type": "stream",
     "text": [
      " 29570 | Cost: 10.3818131733\nIteration:"
     ]
    },
    {
     "name": "stdout",
     "output_type": "stream",
     "text": [
      " 29580 | Cost: 10.0543506529\nIteration:"
     ]
    },
    {
     "name": "stdout",
     "output_type": "stream",
     "text": [
      " 29590 | Cost: 10.1170174766\nIteration:"
     ]
    },
    {
     "name": "stdout",
     "output_type": "stream",
     "text": [
      " 29600 | Cost: 9.12900999505\nIteration:"
     ]
    },
    {
     "name": "stdout",
     "output_type": "stream",
     "text": [
      " 29610 | Cost: 8.49134007188\nIteration:"
     ]
    },
    {
     "name": "stdout",
     "output_type": "stream",
     "text": [
      " 29620 | Cost: 10.64845945\nIteration:"
     ]
    },
    {
     "name": "stdout",
     "output_type": "stream",
     "text": [
      " 29630 | Cost: 10.6922585884\nIteration:"
     ]
    },
    {
     "name": "stdout",
     "output_type": "stream",
     "text": [
      " 29640 | Cost: 8.93637607017\nIteration:"
     ]
    },
    {
     "name": "stdout",
     "output_type": "stream",
     "text": [
      " 29650 | Cost: 10.4918280894\nIteration:"
     ]
    },
    {
     "name": "stdout",
     "output_type": "stream",
     "text": [
      " 29660 | Cost: 9.09225261631\nIteration:"
     ]
    },
    {
     "name": "stdout",
     "output_type": "stream",
     "text": [
      " 29670 | Cost: 10.4457524783\nIteration:"
     ]
    },
    {
     "name": "stdout",
     "output_type": "stream",
     "text": [
      " 29680 | Cost: 9.30711597334\nIteration:"
     ]
    },
    {
     "name": "stdout",
     "output_type": "stream",
     "text": [
      " 29690 | Cost: 9.21148842374\nIteration:"
     ]
    },
    {
     "name": "stdout",
     "output_type": "stream",
     "text": [
      " 29700 | Cost: 9.00361795548\nIteration:"
     ]
    },
    {
     "name": "stdout",
     "output_type": "stream",
     "text": [
      " 29710 | Cost: 10.4915850402\nIteration:"
     ]
    },
    {
     "name": "stdout",
     "output_type": "stream",
     "text": [
      " 29720 | Cost: 8.1495895877\nIteration:"
     ]
    },
    {
     "name": "stdout",
     "output_type": "stream",
     "text": [
      " 29730 | Cost: 10.3014078239\nIteration:"
     ]
    },
    {
     "name": "stdout",
     "output_type": "stream",
     "text": [
      " 29740 | Cost: 11.2409418056\nIteration:"
     ]
    },
    {
     "name": "stdout",
     "output_type": "stream",
     "text": [
      " 29750 | Cost: 8.94497542218\nIteration:"
     ]
    },
    {
     "name": "stdout",
     "output_type": "stream",
     "text": [
      " 29760 | Cost: 11.3343967282\nIteration:"
     ]
    },
    {
     "name": "stdout",
     "output_type": "stream",
     "text": [
      " 29770 | Cost: 9.53068925174\nIteration:"
     ]
    },
    {
     "name": "stdout",
     "output_type": "stream",
     "text": [
      " 29780 | Cost: 7.74417094713\nIteration:"
     ]
    },
    {
     "name": "stdout",
     "output_type": "stream",
     "text": [
      " 29790 | Cost: 8.74254680442\nIteration:"
     ]
    },
    {
     "name": "stdout",
     "output_type": "stream",
     "text": [
      " 29800 | Cost: 9.25908187244\nIteration:"
     ]
    },
    {
     "name": "stdout",
     "output_type": "stream",
     "text": [
      " 29810 | Cost: 9.32086383024\nIteration:"
     ]
    },
    {
     "name": "stdout",
     "output_type": "stream",
     "text": [
      " 29820 | Cost: 10.2922084912\nIteration:"
     ]
    },
    {
     "name": "stdout",
     "output_type": "stream",
     "text": [
      " 29830 | Cost: 10.0401240151\nIteration:"
     ]
    },
    {
     "name": "stdout",
     "output_type": "stream",
     "text": [
      " 29840 | Cost: 9.33000034474\nIteration:"
     ]
    },
    {
     "name": "stdout",
     "output_type": "stream",
     "text": [
      " 29850 | Cost: 9.4111580318\nIteration:"
     ]
    },
    {
     "name": "stdout",
     "output_type": "stream",
     "text": [
      " 29860 | Cost: 11.4269983054\nIteration:"
     ]
    },
    {
     "name": "stdout",
     "output_type": "stream",
     "text": [
      " 29870 | Cost: 11.194929021\nIteration:"
     ]
    },
    {
     "name": "stdout",
     "output_type": "stream",
     "text": [
      " 29880 | Cost: 10.5517276314\nIteration:"
     ]
    },
    {
     "name": "stdout",
     "output_type": "stream",
     "text": [
      " 29890 | Cost: 11.899871568\nIteration:"
     ]
    },
    {
     "name": "stdout",
     "output_type": "stream",
     "text": [
      " 29900 | Cost: 9.16990470965\nIteration:"
     ]
    },
    {
     "name": "stdout",
     "output_type": "stream",
     "text": [
      " 29910 | Cost: 10.2812472198\nIteration:"
     ]
    },
    {
     "name": "stdout",
     "output_type": "stream",
     "text": [
      " 29920 | Cost: 10.2491095206\nIteration:"
     ]
    },
    {
     "name": "stdout",
     "output_type": "stream",
     "text": [
      " 29930 | Cost: 10.3325260869\nIteration:"
     ]
    },
    {
     "name": "stdout",
     "output_type": "stream",
     "text": [
      " 29940 | Cost: 9.37738934769\nIteration:"
     ]
    },
    {
     "name": "stdout",
     "output_type": "stream",
     "text": [
      " 29950 | Cost: 9.71647140583\nIteration:"
     ]
    },
    {
     "name": "stdout",
     "output_type": "stream",
     "text": [
      " 29960 | Cost: 8.64070157622\nIteration:"
     ]
    },
    {
     "name": "stdout",
     "output_type": "stream",
     "text": [
      " 29970 | Cost: 9.7252351287\nIteration:"
     ]
    },
    {
     "name": "stdout",
     "output_type": "stream",
     "text": [
      " 29980 | Cost: 9.56907382511\nIteration:"
     ]
    },
    {
     "name": "stdout",
     "output_type": "stream",
     "text": [
      " 29990 | Cost: 9.27538445855\nIteration:"
     ]
    },
    {
     "name": "stdout",
     "output_type": "stream",
     "text": [
      " 30000 | Cost: 10.3081573166\nIteration:"
     ]
    },
    {
     "name": "stdout",
     "output_type": "stream",
     "text": [
      " 30010 | Cost: 8.70515561378\nIteration:"
     ]
    },
    {
     "name": "stdout",
     "output_type": "stream",
     "text": [
      " 30020 | Cost: 10.3361750668\nIteration:"
     ]
    },
    {
     "name": "stdout",
     "output_type": "stream",
     "text": [
      " 30030 | Cost: 10.180929393\nIteration:"
     ]
    },
    {
     "name": "stdout",
     "output_type": "stream",
     "text": [
      " 30040 | Cost: 8.96551575486\nIteration:"
     ]
    },
    {
     "name": "stdout",
     "output_type": "stream",
     "text": [
      " 30050 | Cost: 8.39361410645\nIteration:"
     ]
    },
    {
     "name": "stdout",
     "output_type": "stream",
     "text": [
      " 30060 | Cost: 11.3183382342\nIteration:"
     ]
    },
    {
     "name": "stdout",
     "output_type": "stream",
     "text": [
      " 30070 | Cost: 8.91379146705\nIteration:"
     ]
    },
    {
     "name": "stdout",
     "output_type": "stream",
     "text": [
      " 30080 | Cost: 9.20997795136\nIteration:"
     ]
    },
    {
     "name": "stdout",
     "output_type": "stream",
     "text": [
      " 30090 | Cost: 10.6605242126\nIteration:"
     ]
    },
    {
     "name": "stdout",
     "output_type": "stream",
     "text": [
      " 30100 | Cost: 8.4043976208\nIteration:"
     ]
    },
    {
     "name": "stdout",
     "output_type": "stream",
     "text": [
      " 30110 | Cost: 10.505866437\nIteration:"
     ]
    },
    {
     "name": "stdout",
     "output_type": "stream",
     "text": [
      " 30120 | Cost: 8.45277708481\nIteration:"
     ]
    },
    {
     "name": "stdout",
     "output_type": "stream",
     "text": [
      " 30130 | Cost: 9.31119717383\nIteration:"
     ]
    },
    {
     "name": "stdout",
     "output_type": "stream",
     "text": [
      " 30140 | Cost: 10.373556016\nIteration:"
     ]
    },
    {
     "name": "stdout",
     "output_type": "stream",
     "text": [
      " 30150 | Cost: 9.78858708927\nIteration:"
     ]
    },
    {
     "name": "stdout",
     "output_type": "stream",
     "text": [
      " 30160 | Cost: 9.81187659922\nIteration:"
     ]
    },
    {
     "name": "stdout",
     "output_type": "stream",
     "text": [
      " 30170 | Cost: 9.87679742391\nIteration:"
     ]
    },
    {
     "name": "stdout",
     "output_type": "stream",
     "text": [
      " 30180 | Cost: 9.44627575199\nIteration:"
     ]
    },
    {
     "name": "stdout",
     "output_type": "stream",
     "text": [
      " 30190 | Cost: 9.29682072163\nIteration:"
     ]
    },
    {
     "name": "stdout",
     "output_type": "stream",
     "text": [
      " 30200 | Cost: 9.24675908948\nIteration:"
     ]
    },
    {
     "name": "stdout",
     "output_type": "stream",
     "text": [
      " 30210 | Cost: 10.685731299\nIteration:"
     ]
    },
    {
     "name": "stdout",
     "output_type": "stream",
     "text": [
      " 30220 | Cost: 10.5578220398\nIteration:"
     ]
    },
    {
     "name": "stdout",
     "output_type": "stream",
     "text": [
      " 30230 | Cost: 9.81516217472\nIteration:"
     ]
    },
    {
     "name": "stdout",
     "output_type": "stream",
     "text": [
      " 30240 | Cost: 10.5741432139\nIteration:"
     ]
    },
    {
     "name": "stdout",
     "output_type": "stream",
     "text": [
      " 30250 | Cost: 10.4434264251\nIteration:"
     ]
    },
    {
     "name": "stdout",
     "output_type": "stream",
     "text": [
      " 30260 | Cost: 11.6592262349\nIteration:"
     ]
    },
    {
     "name": "stdout",
     "output_type": "stream",
     "text": [
      " 30270 | Cost: 10.5475809309\nIteration:"
     ]
    },
    {
     "name": "stdout",
     "output_type": "stream",
     "text": [
      " 30280 | Cost: 8.88158467832\nIteration:"
     ]
    },
    {
     "name": "stdout",
     "output_type": "stream",
     "text": [
      " 30290 | Cost: 9.51970641249\nIteration:"
     ]
    },
    {
     "name": "stdout",
     "output_type": "stream",
     "text": [
      " 30300 | Cost: 9.16255446359\nIteration:"
     ]
    },
    {
     "name": "stdout",
     "output_type": "stream",
     "text": [
      " 30310 | Cost: 9.83000814044\nIteration:"
     ]
    },
    {
     "name": "stdout",
     "output_type": "stream",
     "text": [
      " 30320 | Cost: 8.56058078258\nIteration:"
     ]
    },
    {
     "name": "stdout",
     "output_type": "stream",
     "text": [
      " 30330 | Cost: 9.63557551033\nIteration:"
     ]
    },
    {
     "name": "stdout",
     "output_type": "stream",
     "text": [
      " 30340 | Cost: 9.06632589244\nIteration:"
     ]
    },
    {
     "name": "stdout",
     "output_type": "stream",
     "text": [
      " 30350 | Cost: 8.85287573106\nIteration:"
     ]
    },
    {
     "name": "stdout",
     "output_type": "stream",
     "text": [
      " 30360 | Cost: 10.1606940845\nIteration:"
     ]
    },
    {
     "name": "stdout",
     "output_type": "stream",
     "text": [
      " 30370 | Cost: 9.2364404403\nIteration:"
     ]
    },
    {
     "name": "stdout",
     "output_type": "stream",
     "text": [
      " 30380 | Cost: 9.84277926609\nIteration:"
     ]
    },
    {
     "name": "stdout",
     "output_type": "stream",
     "text": [
      " 30390 | Cost: 9.65514099066\nIteration:"
     ]
    },
    {
     "name": "stdout",
     "output_type": "stream",
     "text": [
      " 30400 | Cost: 8.32059983834\nIteration:"
     ]
    },
    {
     "name": "stdout",
     "output_type": "stream",
     "text": [
      " 30410 | Cost: 9.25728632124\nIteration:"
     ]
    },
    {
     "name": "stdout",
     "output_type": "stream",
     "text": [
      " 30420 | Cost: 9.66968033997\nIteration:"
     ]
    },
    {
     "name": "stdout",
     "output_type": "stream",
     "text": [
      " 30430 | Cost: 11.7368718611\nIteration:"
     ]
    },
    {
     "name": "stdout",
     "output_type": "stream",
     "text": [
      " 30440 | Cost: 11.4774737279\nIteration:"
     ]
    },
    {
     "name": "stdout",
     "output_type": "stream",
     "text": [
      " 30450 | Cost: 9.75339713689\nIteration:"
     ]
    },
    {
     "name": "stdout",
     "output_type": "stream",
     "text": [
      " 30460 | Cost: 8.67520651791\nIteration:"
     ]
    },
    {
     "name": "stdout",
     "output_type": "stream",
     "text": [
      " 30470 | Cost: 9.5993900217\nIteration:"
     ]
    },
    {
     "name": "stdout",
     "output_type": "stream",
     "text": [
      " 30480 | Cost: 9.07999156311\nIteration:"
     ]
    },
    {
     "name": "stdout",
     "output_type": "stream",
     "text": [
      " 30490 | Cost: 8.42589562019\nIteration:"
     ]
    },
    {
     "name": "stdout",
     "output_type": "stream",
     "text": [
      " 30500 | Cost: 9.73319366794\nIteration:"
     ]
    },
    {
     "name": "stdout",
     "output_type": "stream",
     "text": [
      " 30510 | Cost: 10.5483976257\nIteration:"
     ]
    },
    {
     "name": "stdout",
     "output_type": "stream",
     "text": [
      " 30520 | Cost: 10.0092238647\nIteration:"
     ]
    },
    {
     "name": "stdout",
     "output_type": "stream",
     "text": [
      " 30530 | Cost: 10.1397914843\nIteration:"
     ]
    },
    {
     "name": "stdout",
     "output_type": "stream",
     "text": [
      " 30540 | Cost: 10.2597480796\nIteration:"
     ]
    },
    {
     "name": "stdout",
     "output_type": "stream",
     "text": [
      " 30550 | Cost: 8.87825200933\nIteration:"
     ]
    },
    {
     "name": "stdout",
     "output_type": "stream",
     "text": [
      " 30560 | Cost: 10.1352673326\nIteration:"
     ]
    },
    {
     "name": "stdout",
     "output_type": "stream",
     "text": [
      " 30570 | Cost: 8.17211085205\nIteration:"
     ]
    },
    {
     "name": "stdout",
     "output_type": "stream",
     "text": [
      " 30580 | Cost: 9.46929551931\nIteration:"
     ]
    },
    {
     "name": "stdout",
     "output_type": "stream",
     "text": [
      " 30590 | Cost: 10.3349543938\nIteration:"
     ]
    },
    {
     "name": "stdout",
     "output_type": "stream",
     "text": [
      " 30600 | Cost: 10.1986963352\nIteration:"
     ]
    },
    {
     "name": "stdout",
     "output_type": "stream",
     "text": [
      " 30610 | Cost: 8.40313528672\nIteration:"
     ]
    },
    {
     "name": "stdout",
     "output_type": "stream",
     "text": [
      " 30620 | Cost: 8.56399079406\nIteration:"
     ]
    },
    {
     "name": "stdout",
     "output_type": "stream",
     "text": [
      " 30630 | Cost: 9.12247794079\nIteration:"
     ]
    },
    {
     "name": "stdout",
     "output_type": "stream",
     "text": [
      " 30640 | Cost: 8.94693741289\nIteration:"
     ]
    },
    {
     "name": "stdout",
     "output_type": "stream",
     "text": [
      " 30650 | Cost: 8.99762223688\nIteration:"
     ]
    },
    {
     "name": "stdout",
     "output_type": "stream",
     "text": [
      " 30660 | Cost: 8.57922680463\nIteration:"
     ]
    },
    {
     "name": "stdout",
     "output_type": "stream",
     "text": [
      " 30670 | Cost: 10.1824246218\nIteration:"
     ]
    },
    {
     "name": "stdout",
     "output_type": "stream",
     "text": [
      " 30680 | Cost: 10.2797624528\nIteration:"
     ]
    },
    {
     "name": "stdout",
     "output_type": "stream",
     "text": [
      " 30690 | Cost: 10.1791247001\nIteration:"
     ]
    },
    {
     "name": "stdout",
     "output_type": "stream",
     "text": [
      " 30700 | Cost: 10.1507652034\nIteration:"
     ]
    },
    {
     "name": "stdout",
     "output_type": "stream",
     "text": [
      " 30710 | Cost: 8.99215639252\nIteration:"
     ]
    },
    {
     "name": "stdout",
     "output_type": "stream",
     "text": [
      " 30720 | Cost: 10.4471573786\nIteration:"
     ]
    },
    {
     "name": "stdout",
     "output_type": "stream",
     "text": [
      " 30730 | Cost: 9.64361548584\nIteration:"
     ]
    },
    {
     "name": "stdout",
     "output_type": "stream",
     "text": [
      " 30740 | Cost: 10.3919890055\nIteration:"
     ]
    },
    {
     "name": "stdout",
     "output_type": "stream",
     "text": [
      " 30750 | Cost: 10.1029394665\nIteration:"
     ]
    },
    {
     "name": "stdout",
     "output_type": "stream",
     "text": [
      " 30760 | Cost: 9.47426561158\nIteration:"
     ]
    },
    {
     "name": "stdout",
     "output_type": "stream",
     "text": [
      " 30770 | Cost: 10.0110199048\nIteration:"
     ]
    },
    {
     "name": "stdout",
     "output_type": "stream",
     "text": [
      " 30780 | Cost: 9.62777946376\nIteration:"
     ]
    },
    {
     "name": "stdout",
     "output_type": "stream",
     "text": [
      " 30790 | Cost: 10.9265926927\nIteration:"
     ]
    },
    {
     "name": "stdout",
     "output_type": "stream",
     "text": [
      " 30800 | Cost: 11.2288812359\nIteration:"
     ]
    },
    {
     "name": "stdout",
     "output_type": "stream",
     "text": [
      " 30810 | Cost: 10.5311373774\nIteration:"
     ]
    },
    {
     "name": "stdout",
     "output_type": "stream",
     "text": [
      " 30820 | Cost: 8.7188676244\nIteration:"
     ]
    },
    {
     "name": "stdout",
     "output_type": "stream",
     "text": [
      " 30830 | Cost: 9.15769927321\nIteration:"
     ]
    },
    {
     "name": "stdout",
     "output_type": "stream",
     "text": [
      " 30840 | Cost: 7.84900851408\nIteration:"
     ]
    },
    {
     "name": "stdout",
     "output_type": "stream",
     "text": [
      " 30850 | Cost: 9.46691569668\nIteration:"
     ]
    },
    {
     "name": "stdout",
     "output_type": "stream",
     "text": [
      " 30860 | Cost: 11.0143890172\nIteration:"
     ]
    },
    {
     "name": "stdout",
     "output_type": "stream",
     "text": [
      " 30870 | Cost: 10.3661150969\nIteration:"
     ]
    },
    {
     "name": "stdout",
     "output_type": "stream",
     "text": [
      " 30880 | Cost: 9.56311361036\nIteration:"
     ]
    },
    {
     "name": "stdout",
     "output_type": "stream",
     "text": [
      " 30890 | Cost: 8.84803661182\nIteration:"
     ]
    },
    {
     "name": "stdout",
     "output_type": "stream",
     "text": [
      " 30900 | Cost: 10.8738198305\nIteration:"
     ]
    },
    {
     "name": "stdout",
     "output_type": "stream",
     "text": [
      " 30910 | Cost: 8.20128368457\nIteration:"
     ]
    },
    {
     "name": "stdout",
     "output_type": "stream",
     "text": [
      " 30920 | Cost: 10.2180512916\nIteration:"
     ]
    },
    {
     "name": "stdout",
     "output_type": "stream",
     "text": [
      " 30930 | Cost: 11.3007920598\nIteration:"
     ]
    },
    {
     "name": "stdout",
     "output_type": "stream",
     "text": [
      " 30940 | Cost: 10.1654144938\nIteration:"
     ]
    },
    {
     "name": "stdout",
     "output_type": "stream",
     "text": [
      " 30950 | Cost: 9.16669719682\nIteration:"
     ]
    },
    {
     "name": "stdout",
     "output_type": "stream",
     "text": [
      " 30960 | Cost: 9.95401138034\nIteration:"
     ]
    },
    {
     "name": "stdout",
     "output_type": "stream",
     "text": [
      " 30970 | Cost: 10.369525751\nIteration:"
     ]
    },
    {
     "name": "stdout",
     "output_type": "stream",
     "text": [
      " 30980 | Cost: 10.5818705904\nIteration:"
     ]
    },
    {
     "name": "stdout",
     "output_type": "stream",
     "text": [
      " 30990 | Cost: 9.84077963348\nIteration:"
     ]
    },
    {
     "name": "stdout",
     "output_type": "stream",
     "text": [
      " 31000 | Cost: 8.88668066224\nIteration:"
     ]
    },
    {
     "name": "stdout",
     "output_type": "stream",
     "text": [
      " 31010 | Cost: 9.72343153479\nIteration:"
     ]
    },
    {
     "name": "stdout",
     "output_type": "stream",
     "text": [
      " 31020 | Cost: 8.59769177729\nIteration:"
     ]
    },
    {
     "name": "stdout",
     "output_type": "stream",
     "text": [
      " 31030 | Cost: 10.0005287471\nIteration:"
     ]
    },
    {
     "name": "stdout",
     "output_type": "stream",
     "text": [
      " 31040 | Cost: 9.97795507141\nIteration:"
     ]
    },
    {
     "name": "stdout",
     "output_type": "stream",
     "text": [
      " 31050 | Cost: 9.0942192423\nIteration:"
     ]
    },
    {
     "name": "stdout",
     "output_type": "stream",
     "text": [
      " 31060 | Cost: 10.6138590951\nIteration:"
     ]
    },
    {
     "name": "stdout",
     "output_type": "stream",
     "text": [
      " 31070 | Cost: 10.1583215361\nIteration:"
     ]
    },
    {
     "name": "stdout",
     "output_type": "stream",
     "text": [
      " 31080 | Cost: 9.73689424711\nIteration:"
     ]
    },
    {
     "name": "stdout",
     "output_type": "stream",
     "text": [
      " 31090 | Cost: 10.4211670992\nIteration:"
     ]
    },
    {
     "name": "stdout",
     "output_type": "stream",
     "text": [
      " 31100 | Cost: 8.74248335316\nIteration:"
     ]
    },
    {
     "name": "stdout",
     "output_type": "stream",
     "text": [
      " 31110 | Cost: 11.32035331\nIteration:"
     ]
    },
    {
     "name": "stdout",
     "output_type": "stream",
     "text": [
      " 31120 | Cost: 9.59958641025\nIteration:"
     ]
    },
    {
     "name": "stdout",
     "output_type": "stream",
     "text": [
      " 31130 | Cost: 9.92268872868\nIteration:"
     ]
    },
    {
     "name": "stdout",
     "output_type": "stream",
     "text": [
      " 31140 | Cost: 10.0459789347\nIteration:"
     ]
    },
    {
     "name": "stdout",
     "output_type": "stream",
     "text": [
      " 31150 | Cost: 10.6582902349\nIteration:"
     ]
    },
    {
     "name": "stdout",
     "output_type": "stream",
     "text": [
      " 31160 | Cost: 10.3496544099\nIteration:"
     ]
    },
    {
     "name": "stdout",
     "output_type": "stream",
     "text": [
      " 31170 | Cost: 8.36684289532\nIteration:"
     ]
    },
    {
     "name": "stdout",
     "output_type": "stream",
     "text": [
      " 31180 | Cost: 9.13143943618\nIteration:"
     ]
    },
    {
     "name": "stdout",
     "output_type": "stream",
     "text": [
      " 31190 | Cost: 8.98911116922\nIteration:"
     ]
    },
    {
     "name": "stdout",
     "output_type": "stream",
     "text": [
      " 31200 | Cost: 11.6293063189\nIteration:"
     ]
    },
    {
     "name": "stdout",
     "output_type": "stream",
     "text": [
      " 31210 | Cost: 8.67445495037\nIteration:"
     ]
    },
    {
     "name": "stdout",
     "output_type": "stream",
     "text": [
      " 31220 | Cost: 10.25154685\nIteration:"
     ]
    },
    {
     "name": "stdout",
     "output_type": "stream",
     "text": [
      " 31230 | Cost: 10.4459064017\nIteration:"
     ]
    },
    {
     "name": "stdout",
     "output_type": "stream",
     "text": [
      " 31240 | Cost: 8.95575056906\nIteration:"
     ]
    },
    {
     "name": "stdout",
     "output_type": "stream",
     "text": [
      " 31250 | Cost: 7.73436058229\nIteration:"
     ]
    },
    {
     "name": "stdout",
     "output_type": "stream",
     "text": [
      " 31260 | Cost: 10.8960957334\nIteration:"
     ]
    },
    {
     "name": "stdout",
     "output_type": "stream",
     "text": [
      " 31270 | Cost: 10.7842171381\nIteration:"
     ]
    },
    {
     "name": "stdout",
     "output_type": "stream",
     "text": [
      " 31280 | Cost: 9.73974951116\nIteration:"
     ]
    },
    {
     "name": "stdout",
     "output_type": "stream",
     "text": [
      " 31290 | Cost: 9.49669956719\nIteration:"
     ]
    },
    {
     "name": "stdout",
     "output_type": "stream",
     "text": [
      " 31300 | Cost: 9.84254946464\nIteration:"
     ]
    },
    {
     "name": "stdout",
     "output_type": "stream",
     "text": [
      " 31310 | Cost: 9.22779679699\nIteration:"
     ]
    },
    {
     "name": "stdout",
     "output_type": "stream",
     "text": [
      " 31320 | Cost: 9.24996482105\nIteration:"
     ]
    },
    {
     "name": "stdout",
     "output_type": "stream",
     "text": [
      " 31330 | Cost: 9.95400179669\nIteration:"
     ]
    },
    {
     "name": "stdout",
     "output_type": "stream",
     "text": [
      " 31340 | Cost: 8.22793202437\nIteration:"
     ]
    },
    {
     "name": "stdout",
     "output_type": "stream",
     "text": [
      " 31350 | Cost: 9.39251934309\nIteration:"
     ]
    },
    {
     "name": "stdout",
     "output_type": "stream",
     "text": [
      " 31360 | Cost: 8.1036660094\nIteration:"
     ]
    },
    {
     "name": "stdout",
     "output_type": "stream",
     "text": [
      " 31370 | Cost: 10.6786002203\nIteration:"
     ]
    },
    {
     "name": "stdout",
     "output_type": "stream",
     "text": [
      " 31380 | Cost: 9.51332390629\nIteration:"
     ]
    },
    {
     "name": "stdout",
     "output_type": "stream",
     "text": [
      " 31390 | Cost: 9.66655966855\nIteration:"
     ]
    },
    {
     "name": "stdout",
     "output_type": "stream",
     "text": [
      " 31400 | Cost: 9.45038126486\nIteration:"
     ]
    },
    {
     "name": "stdout",
     "output_type": "stream",
     "text": [
      " 31410 | Cost: 9.42627026065\nIteration:"
     ]
    },
    {
     "name": "stdout",
     "output_type": "stream",
     "text": [
      " 31420 | Cost: 9.96379444451\nIteration:"
     ]
    },
    {
     "name": "stdout",
     "output_type": "stream",
     "text": [
      " 31430 | Cost: 9.37788617399\nIteration:"
     ]
    },
    {
     "name": "stdout",
     "output_type": "stream",
     "text": [
      " 31440 | Cost: 9.93812461351\nIteration:"
     ]
    },
    {
     "name": "stdout",
     "output_type": "stream",
     "text": [
      " 31450 | Cost: 9.22846312329\nIteration:"
     ]
    },
    {
     "name": "stdout",
     "output_type": "stream",
     "text": [
      " 31460 | Cost: 9.34003818699\nIteration:"
     ]
    },
    {
     "name": "stdout",
     "output_type": "stream",
     "text": [
      " 31470 | Cost: 9.2439451634\nIteration:"
     ]
    },
    {
     "name": "stdout",
     "output_type": "stream",
     "text": [
      " 31480 | Cost: 9.17653990431\nIteration:"
     ]
    },
    {
     "name": "stdout",
     "output_type": "stream",
     "text": [
      " 31490 | Cost: 10.2443450563\nIteration:"
     ]
    },
    {
     "name": "stdout",
     "output_type": "stream",
     "text": [
      " 31500 | Cost: 8.6901048227\nIteration:"
     ]
    },
    {
     "name": "stdout",
     "output_type": "stream",
     "text": [
      " 31510 | Cost: 9.2381957518\nIteration:"
     ]
    },
    {
     "name": "stdout",
     "output_type": "stream",
     "text": [
      " 31520 | Cost: 9.34141860975\nIteration:"
     ]
    },
    {
     "name": "stdout",
     "output_type": "stream",
     "text": [
      " 31530 | Cost: 8.57851178538\nIteration:"
     ]
    },
    {
     "name": "stdout",
     "output_type": "stream",
     "text": [
      " 31540 | Cost: 9.49178360286\nIteration:"
     ]
    },
    {
     "name": "stdout",
     "output_type": "stream",
     "text": [
      " 31550 | Cost: 11.2191903728\nIteration:"
     ]
    },
    {
     "name": "stdout",
     "output_type": "stream",
     "text": [
      " 31560 | Cost: 9.680664416\nIteration:"
     ]
    },
    {
     "name": "stdout",
     "output_type": "stream",
     "text": [
      " 31570 | Cost: 9.40442803907\nIteration:"
     ]
    },
    {
     "name": "stdout",
     "output_type": "stream",
     "text": [
      " 31580 | Cost: 8.51037184402\nIteration:"
     ]
    },
    {
     "name": "stdout",
     "output_type": "stream",
     "text": [
      " 31590 | Cost: 10.1860308939\nIteration:"
     ]
    },
    {
     "name": "stdout",
     "output_type": "stream",
     "text": [
      " 31600 | Cost: 8.1944361528\nIteration:"
     ]
    },
    {
     "name": "stdout",
     "output_type": "stream",
     "text": [
      " 31610 | Cost: 9.01519833099\nIteration:"
     ]
    },
    {
     "name": "stdout",
     "output_type": "stream",
     "text": [
      " 31620 | Cost: 9.64605549015\nIteration:"
     ]
    },
    {
     "name": "stdout",
     "output_type": "stream",
     "text": [
      " 31630 | Cost: 8.85035243878\nIteration:"
     ]
    },
    {
     "name": "stdout",
     "output_type": "stream",
     "text": [
      " 31640 | Cost: 9.32103893164\nIteration:"
     ]
    },
    {
     "name": "stdout",
     "output_type": "stream",
     "text": [
      " 31650 | Cost: 9.06592608079\nIteration:"
     ]
    },
    {
     "name": "stdout",
     "output_type": "stream",
     "text": [
      " 31660 | Cost: 10.004617039\nIteration:"
     ]
    },
    {
     "name": "stdout",
     "output_type": "stream",
     "text": [
      " 31670 | Cost: 10.5879056954\nIteration:"
     ]
    },
    {
     "name": "stdout",
     "output_type": "stream",
     "text": [
      " 31680 | Cost: 8.1699526957\nIteration:"
     ]
    },
    {
     "name": "stdout",
     "output_type": "stream",
     "text": [
      " 31690 | Cost: 9.57173195371\nIteration:"
     ]
    },
    {
     "name": "stdout",
     "output_type": "stream",
     "text": [
      " 31700 | Cost: 10.3209019639\nIteration:"
     ]
    },
    {
     "name": "stdout",
     "output_type": "stream",
     "text": [
      " 31710 | Cost: 9.92694269153\nIteration:"
     ]
    },
    {
     "name": "stdout",
     "output_type": "stream",
     "text": [
      " 31720 | Cost: 9.19001746947\nIteration:"
     ]
    },
    {
     "name": "stdout",
     "output_type": "stream",
     "text": [
      " 31730 | Cost: 8.21115328083\nIteration:"
     ]
    },
    {
     "name": "stdout",
     "output_type": "stream",
     "text": [
      " 31740 | Cost: 9.44403598033\nIteration:"
     ]
    },
    {
     "name": "stdout",
     "output_type": "stream",
     "text": [
      " 31750 | Cost: 9.71143861416\nIteration:"
     ]
    },
    {
     "name": "stdout",
     "output_type": "stream",
     "text": [
      " 31760 | Cost: 10.1065635426\nIteration:"
     ]
    },
    {
     "name": "stdout",
     "output_type": "stream",
     "text": [
      " 31770 | Cost: 9.72938307344\nIteration:"
     ]
    },
    {
     "name": "stdout",
     "output_type": "stream",
     "text": [
      " 31780 | Cost: 10.5217833981\nIteration:"
     ]
    },
    {
     "name": "stdout",
     "output_type": "stream",
     "text": [
      " 31790 | Cost: 9.53210698439\nIteration:"
     ]
    },
    {
     "name": "stdout",
     "output_type": "stream",
     "text": [
      " 31800 | Cost: 9.71850355478\nIteration:"
     ]
    },
    {
     "name": "stdout",
     "output_type": "stream",
     "text": [
      " 31810 | Cost: 9.33364066233\nIteration:"
     ]
    },
    {
     "name": "stdout",
     "output_type": "stream",
     "text": [
      " 31820 | Cost: 10.0171698737\nIteration:"
     ]
    },
    {
     "name": "stdout",
     "output_type": "stream",
     "text": [
      " 31830 | Cost: 8.56305889039\nIteration:"
     ]
    },
    {
     "name": "stdout",
     "output_type": "stream",
     "text": [
      " 31840 | Cost: 9.52364158965\nIteration:"
     ]
    },
    {
     "name": "stdout",
     "output_type": "stream",
     "text": [
      " 31850 | Cost: 9.24118704357\nIteration:"
     ]
    },
    {
     "name": "stdout",
     "output_type": "stream",
     "text": [
      " 31860 | Cost: 10.7825331631\nIteration:"
     ]
    },
    {
     "name": "stdout",
     "output_type": "stream",
     "text": [
      " 31870 | Cost: 9.2914070146\nIteration:"
     ]
    },
    {
     "name": "stdout",
     "output_type": "stream",
     "text": [
      " 31880 | Cost: 9.22287221018\nIteration:"
     ]
    },
    {
     "name": "stdout",
     "output_type": "stream",
     "text": [
      " 31890 | Cost: 9.5475498561\nIteration:"
     ]
    },
    {
     "name": "stdout",
     "output_type": "stream",
     "text": [
      " 31900 | Cost: 10.8655411767\nIteration:"
     ]
    },
    {
     "name": "stdout",
     "output_type": "stream",
     "text": [
      " 31910 | Cost: 8.47048452096\nIteration:"
     ]
    },
    {
     "name": "stdout",
     "output_type": "stream",
     "text": [
      " 31920 | Cost: 10.8850799915\nIteration:"
     ]
    },
    {
     "name": "stdout",
     "output_type": "stream",
     "text": [
      " 31930 | Cost: 9.46129627057\nIteration:"
     ]
    },
    {
     "name": "stdout",
     "output_type": "stream",
     "text": [
      " 31940 | Cost: 9.25466396224\nIteration:"
     ]
    },
    {
     "name": "stdout",
     "output_type": "stream",
     "text": [
      " 31950 | Cost: 11.7653212251\nIteration:"
     ]
    },
    {
     "name": "stdout",
     "output_type": "stream",
     "text": [
      " 31960 | Cost: 10.7509421274\nIteration:"
     ]
    },
    {
     "name": "stdout",
     "output_type": "stream",
     "text": [
      " 31970 | Cost: 10.215934426\nIteration:"
     ]
    },
    {
     "name": "stdout",
     "output_type": "stream",
     "text": [
      " 31980 | Cost: 8.5848022168\nIteration:"
     ]
    },
    {
     "name": "stdout",
     "output_type": "stream",
     "text": [
      " 31990 | Cost: 8.71319451063\nIteration:"
     ]
    },
    {
     "name": "stdout",
     "output_type": "stream",
     "text": [
      " 32000 | Cost: 8.54369888199\nIteration:"
     ]
    },
    {
     "name": "stdout",
     "output_type": "stream",
     "text": [
      " 32010 | Cost: 7.71292228045\nIteration:"
     ]
    },
    {
     "name": "stdout",
     "output_type": "stream",
     "text": [
      " 32020 | Cost: 9.68551031789\nIteration:"
     ]
    },
    {
     "name": "stdout",
     "output_type": "stream",
     "text": [
      " 32030 | Cost: 9.12993101738\nIteration:"
     ]
    },
    {
     "name": "stdout",
     "output_type": "stream",
     "text": [
      " 32040 | Cost: 9.52218314592\nIteration:"
     ]
    },
    {
     "name": "stdout",
     "output_type": "stream",
     "text": [
      " 32050 | Cost: 10.3735534385\nIteration:"
     ]
    },
    {
     "name": "stdout",
     "output_type": "stream",
     "text": [
      " 32060 | Cost: 10.9901449831\nIteration:"
     ]
    },
    {
     "name": "stdout",
     "output_type": "stream",
     "text": [
      " 32070 | Cost: 11.3812094257\nIteration:"
     ]
    },
    {
     "name": "stdout",
     "output_type": "stream",
     "text": [
      " 32080 | Cost: 9.96591525466\nIteration:"
     ]
    },
    {
     "name": "stdout",
     "output_type": "stream",
     "text": [
      " 32090 | Cost: 8.28355315482\nIteration:"
     ]
    },
    {
     "name": "stdout",
     "output_type": "stream",
     "text": [
      " 32100 | Cost: 8.63918048164\nIteration:"
     ]
    },
    {
     "name": "stdout",
     "output_type": "stream",
     "text": [
      " 32110 | Cost: 9.43960322609\nIteration:"
     ]
    },
    {
     "name": "stdout",
     "output_type": "stream",
     "text": [
      " 32120 | Cost: 9.41601811583\nIteration:"
     ]
    },
    {
     "name": "stdout",
     "output_type": "stream",
     "text": [
      " 32130 | Cost: 9.90245332573\nIteration:"
     ]
    },
    {
     "name": "stdout",
     "output_type": "stream",
     "text": [
      " 32140 | Cost: 10.2661857844\nIteration:"
     ]
    },
    {
     "name": "stdout",
     "output_type": "stream",
     "text": [
      " 32150 | Cost: 9.39803802123\nIteration:"
     ]
    },
    {
     "name": "stdout",
     "output_type": "stream",
     "text": [
      " 32160 | Cost: 9.358549913\nIteration:"
     ]
    },
    {
     "name": "stdout",
     "output_type": "stream",
     "text": [
      " 32170 | Cost: 8.67101921544\nIteration:"
     ]
    },
    {
     "name": "stdout",
     "output_type": "stream",
     "text": [
      " 32180 | Cost: 9.7701028644\nIteration:"
     ]
    },
    {
     "name": "stdout",
     "output_type": "stream",
     "text": [
      " 32190 | Cost: 8.48512950204\nIteration:"
     ]
    },
    {
     "name": "stdout",
     "output_type": "stream",
     "text": [
      " 32200 | Cost: 10.2744016955\nIteration:"
     ]
    },
    {
     "name": "stdout",
     "output_type": "stream",
     "text": [
      " 32210 | Cost: 9.61977623\nIteration:"
     ]
    },
    {
     "name": "stdout",
     "output_type": "stream",
     "text": [
      " 32220 | Cost: 10.5727136372\nIteration:"
     ]
    },
    {
     "name": "stdout",
     "output_type": "stream",
     "text": [
      " 32230 | Cost: 10.005803615\nIteration:"
     ]
    },
    {
     "name": "stdout",
     "output_type": "stream",
     "text": [
      " 32240 | Cost: 9.91857217414\nIteration:"
     ]
    },
    {
     "name": "stdout",
     "output_type": "stream",
     "text": [
      " 32250 | Cost: 10.0707432914\nIteration:"
     ]
    },
    {
     "name": "stdout",
     "output_type": "stream",
     "text": [
      " 32260 | Cost: 10.1930097934\nIteration:"
     ]
    },
    {
     "name": "stdout",
     "output_type": "stream",
     "text": [
      " 32270 | Cost: 8.68244212997\nIteration:"
     ]
    },
    {
     "name": "stdout",
     "output_type": "stream",
     "text": [
      " 32280 | Cost: 9.78873430098\nIteration:"
     ]
    },
    {
     "name": "stdout",
     "output_type": "stream",
     "text": [
      " 32290 | Cost: 9.52441925529\nIteration:"
     ]
    },
    {
     "name": "stdout",
     "output_type": "stream",
     "text": [
      " 32300 | Cost: 8.51334042996\nIteration:"
     ]
    },
    {
     "name": "stdout",
     "output_type": "stream",
     "text": [
      " 32310 | Cost: 8.51505256467\nIteration:"
     ]
    },
    {
     "name": "stdout",
     "output_type": "stream",
     "text": [
      " 32320 | Cost: 9.84979293342\nIteration:"
     ]
    },
    {
     "name": "stdout",
     "output_type": "stream",
     "text": [
      " 32330 | Cost: 11.8197907229\nIteration:"
     ]
    },
    {
     "name": "stdout",
     "output_type": "stream",
     "text": [
      " 32340 | Cost: 10.1923893985\nIteration:"
     ]
    },
    {
     "name": "stdout",
     "output_type": "stream",
     "text": [
      " 32350 | Cost: 9.00402516311\nIteration:"
     ]
    },
    {
     "name": "stdout",
     "output_type": "stream",
     "text": [
      " 32360 | Cost: 9.11034484892\nIteration:"
     ]
    },
    {
     "name": "stdout",
     "output_type": "stream",
     "text": [
      " 32370 | Cost: 9.09993117835\nIteration:"
     ]
    },
    {
     "name": "stdout",
     "output_type": "stream",
     "text": [
      " 32380 | Cost: 10.3609550591\nIteration:"
     ]
    },
    {
     "name": "stdout",
     "output_type": "stream",
     "text": [
      " 32390 | Cost: 9.93384535619\nIteration:"
     ]
    },
    {
     "name": "stdout",
     "output_type": "stream",
     "text": [
      " 32400 | Cost: 7.89128435636\nIteration:"
     ]
    },
    {
     "name": "stdout",
     "output_type": "stream",
     "text": [
      " 32410 | Cost: 9.71427567293\nIteration:"
     ]
    },
    {
     "name": "stdout",
     "output_type": "stream",
     "text": [
      " 32420 | Cost: 10.0591138285\nIteration:"
     ]
    },
    {
     "name": "stdout",
     "output_type": "stream",
     "text": [
      " 32430 | Cost: 8.61077140762\nIteration:"
     ]
    },
    {
     "name": "stdout",
     "output_type": "stream",
     "text": [
      " 32440 | Cost: 9.21505294443\nIteration:"
     ]
    },
    {
     "name": "stdout",
     "output_type": "stream",
     "text": [
      " 32450 | Cost: 11.0082849326\nIteration:"
     ]
    },
    {
     "name": "stdout",
     "output_type": "stream",
     "text": [
      " 32460 | Cost: 9.80571147753\nIteration:"
     ]
    },
    {
     "name": "stdout",
     "output_type": "stream",
     "text": [
      " 32470 | Cost: 10.1600591953\nIteration:"
     ]
    },
    {
     "name": "stdout",
     "output_type": "stream",
     "text": [
      " 32480 | Cost: 9.4213384729\nIteration:"
     ]
    },
    {
     "name": "stdout",
     "output_type": "stream",
     "text": [
      " 32490 | Cost: 9.52841854253\nIteration:"
     ]
    },
    {
     "name": "stdout",
     "output_type": "stream",
     "text": [
      " 32500 | Cost: 9.5853162272\nIteration:"
     ]
    },
    {
     "name": "stdout",
     "output_type": "stream",
     "text": [
      " 32510 | Cost: 9.1946966945\nIteration:"
     ]
    },
    {
     "name": "stdout",
     "output_type": "stream",
     "text": [
      " 32520 | Cost: 10.2515787474\nIteration:"
     ]
    },
    {
     "name": "stdout",
     "output_type": "stream",
     "text": [
      " 32530 | Cost: 10.2591892483\nIteration:"
     ]
    },
    {
     "name": "stdout",
     "output_type": "stream",
     "text": [
      " 32540 | Cost: 9.57912054937\nIteration:"
     ]
    },
    {
     "name": "stdout",
     "output_type": "stream",
     "text": [
      " 32550 | Cost: 11.7251060438\nIteration:"
     ]
    },
    {
     "name": "stdout",
     "output_type": "stream",
     "text": [
      " 32560 | Cost: 9.93125404799\nIteration:"
     ]
    },
    {
     "name": "stdout",
     "output_type": "stream",
     "text": [
      " 32570 | Cost: 9.63085499087\nIteration:"
     ]
    },
    {
     "name": "stdout",
     "output_type": "stream",
     "text": [
      " 32580 | Cost: 9.28508906914\nIteration:"
     ]
    },
    {
     "name": "stdout",
     "output_type": "stream",
     "text": [
      " 32590 | Cost: 9.89357758184\nIteration:"
     ]
    },
    {
     "name": "stdout",
     "output_type": "stream",
     "text": [
      " 32600 | Cost: 9.65336956892\nIteration:"
     ]
    },
    {
     "name": "stdout",
     "output_type": "stream",
     "text": [
      " 32610 | Cost: 9.29346622161\nIteration:"
     ]
    },
    {
     "name": "stdout",
     "output_type": "stream",
     "text": [
      " 32620 | Cost: 8.5463150529\nIteration:"
     ]
    },
    {
     "name": "stdout",
     "output_type": "stream",
     "text": [
      " 32630 | Cost: 9.23729563992\nIteration:"
     ]
    },
    {
     "name": "stdout",
     "output_type": "stream",
     "text": [
      " 32640 | Cost: 9.82994721804\nIteration:"
     ]
    },
    {
     "name": "stdout",
     "output_type": "stream",
     "text": [
      " 32650 | Cost: 9.78673755967\nIteration:"
     ]
    },
    {
     "name": "stdout",
     "output_type": "stream",
     "text": [
      " 32660 | Cost: 10.1704683482\nIteration:"
     ]
    },
    {
     "name": "stdout",
     "output_type": "stream",
     "text": [
      " 32670 | Cost: 9.15133236442\nIteration:"
     ]
    },
    {
     "name": "stdout",
     "output_type": "stream",
     "text": [
      " 32680 | Cost: 10.413245572\nIteration:"
     ]
    },
    {
     "name": "stdout",
     "output_type": "stream",
     "text": [
      " 32690 | Cost: 9.34388265425\nIteration:"
     ]
    },
    {
     "name": "stdout",
     "output_type": "stream",
     "text": [
      " 32700 | Cost: 9.88045851696\nIteration:"
     ]
    },
    {
     "name": "stdout",
     "output_type": "stream",
     "text": [
      " 32710 | Cost: 8.41228864083\nIteration:"
     ]
    },
    {
     "name": "stdout",
     "output_type": "stream",
     "text": [
      " 32720 | Cost: 10.131854293\nIteration:"
     ]
    },
    {
     "name": "stdout",
     "output_type": "stream",
     "text": [
      " 32730 | Cost: 9.2734642961\nIteration:"
     ]
    },
    {
     "name": "stdout",
     "output_type": "stream",
     "text": [
      " 32740 | Cost: 9.5742367143\nIteration:"
     ]
    },
    {
     "name": "stdout",
     "output_type": "stream",
     "text": [
      " 32750 | Cost: 9.44543127452\nIteration:"
     ]
    },
    {
     "name": "stdout",
     "output_type": "stream",
     "text": [
      " 32760 | Cost: 9.64125654701\nIteration:"
     ]
    },
    {
     "name": "stdout",
     "output_type": "stream",
     "text": [
      " 32770 | Cost: 10.7023720816\nIteration:"
     ]
    },
    {
     "name": "stdout",
     "output_type": "stream",
     "text": [
      " 32780 | Cost: 9.58351323911\nIteration:"
     ]
    },
    {
     "name": "stdout",
     "output_type": "stream",
     "text": [
      " 32790 | Cost: 11.37409605\nIteration:"
     ]
    },
    {
     "name": "stdout",
     "output_type": "stream",
     "text": [
      " 32800 | Cost: 9.03232444656\nIteration:"
     ]
    },
    {
     "name": "stdout",
     "output_type": "stream",
     "text": [
      " 32810 | Cost: 8.5687719176\nIteration:"
     ]
    },
    {
     "name": "stdout",
     "output_type": "stream",
     "text": [
      " 32820 | Cost: 10.1703335127\nIteration:"
     ]
    },
    {
     "name": "stdout",
     "output_type": "stream",
     "text": [
      " 32830 | Cost: 9.06745514678\nIteration:"
     ]
    },
    {
     "name": "stdout",
     "output_type": "stream",
     "text": [
      " 32840 | Cost: 8.68441064686\nIteration:"
     ]
    },
    {
     "name": "stdout",
     "output_type": "stream",
     "text": [
      " 32850 | Cost: 9.89636913043\nIteration:"
     ]
    },
    {
     "name": "stdout",
     "output_type": "stream",
     "text": [
      " 32860 | Cost: 8.83019124398\nIteration:"
     ]
    },
    {
     "name": "stdout",
     "output_type": "stream",
     "text": [
      " 32870 | Cost: 8.87789207978\nIteration:"
     ]
    },
    {
     "name": "stdout",
     "output_type": "stream",
     "text": [
      " 32880 | Cost: 10.2282019094\nIteration:"
     ]
    },
    {
     "name": "stdout",
     "output_type": "stream",
     "text": [
      " 32890 | Cost: 10.2372321643\nIteration:"
     ]
    },
    {
     "name": "stdout",
     "output_type": "stream",
     "text": [
      " 32900 | Cost: 9.27843603582\nIteration:"
     ]
    },
    {
     "name": "stdout",
     "output_type": "stream",
     "text": [
      " 32910 | Cost: 9.30730365797\nIteration:"
     ]
    },
    {
     "name": "stdout",
     "output_type": "stream",
     "text": [
      " 32920 | Cost: 10.4366900703\nIteration:"
     ]
    },
    {
     "name": "stdout",
     "output_type": "stream",
     "text": [
      " 32930 | Cost: 9.796591088\nIteration:"
     ]
    },
    {
     "name": "stdout",
     "output_type": "stream",
     "text": [
      " 32940 | Cost: 9.71374980654\nIteration:"
     ]
    },
    {
     "name": "stdout",
     "output_type": "stream",
     "text": [
      " 32950 | Cost: 9.83386634864\nIteration:"
     ]
    },
    {
     "name": "stdout",
     "output_type": "stream",
     "text": [
      " 32960 | Cost: 10.7681461672\nIteration:"
     ]
    },
    {
     "name": "stdout",
     "output_type": "stream",
     "text": [
      " 32970 | Cost: 9.07121066896\nIteration:"
     ]
    },
    {
     "name": "stdout",
     "output_type": "stream",
     "text": [
      " 32980 | Cost: 9.85321580956\nIteration:"
     ]
    },
    {
     "name": "stdout",
     "output_type": "stream",
     "text": [
      " 32990 | Cost: 9.52473301075\nIteration:"
     ]
    },
    {
     "name": "stdout",
     "output_type": "stream",
     "text": [
      " 33000 | Cost: 9.43043700725\nIteration:"
     ]
    },
    {
     "name": "stdout",
     "output_type": "stream",
     "text": [
      " 33010 | Cost: 11.3503610834\nIteration:"
     ]
    },
    {
     "name": "stdout",
     "output_type": "stream",
     "text": [
      " 33020 | Cost: 8.8373580591\nIteration:"
     ]
    },
    {
     "name": "stdout",
     "output_type": "stream",
     "text": [
      " 33030 | Cost: 8.47959911547\nIteration:"
     ]
    },
    {
     "name": "stdout",
     "output_type": "stream",
     "text": [
      " 33040 | Cost: 9.79193311219\nIteration:"
     ]
    },
    {
     "name": "stdout",
     "output_type": "stream",
     "text": [
      " 33050 | Cost: 10.8071107905\nIteration:"
     ]
    },
    {
     "name": "stdout",
     "output_type": "stream",
     "text": [
      " 33060 | Cost: 9.70147642242\nIteration:"
     ]
    },
    {
     "name": "stdout",
     "output_type": "stream",
     "text": [
      " 33070 | Cost: 9.65026369027\nIteration:"
     ]
    },
    {
     "name": "stdout",
     "output_type": "stream",
     "text": [
      " 33080 | Cost: 9.58156356831\nIteration:"
     ]
    },
    {
     "name": "stdout",
     "output_type": "stream",
     "text": [
      " 33090 | Cost: 8.94113182751\nIteration:"
     ]
    },
    {
     "name": "stdout",
     "output_type": "stream",
     "text": [
      " 33100 | Cost: 9.94498116542\nIteration:"
     ]
    },
    {
     "name": "stdout",
     "output_type": "stream",
     "text": [
      " 33110 | Cost: 9.88938946046\nIteration:"
     ]
    },
    {
     "name": "stdout",
     "output_type": "stream",
     "text": [
      " 33120 | Cost: 9.01169649521\nIteration:"
     ]
    },
    {
     "name": "stdout",
     "output_type": "stream",
     "text": [
      " 33130 | Cost: 9.68325942466\nIteration:"
     ]
    },
    {
     "name": "stdout",
     "output_type": "stream",
     "text": [
      " 33140 | Cost: 10.3985752017\nIteration:"
     ]
    },
    {
     "name": "stdout",
     "output_type": "stream",
     "text": [
      " 33150 | Cost: 9.13708629419\nIteration:"
     ]
    },
    {
     "name": "stdout",
     "output_type": "stream",
     "text": [
      " 33160 | Cost: 9.3572203409\nIteration:"
     ]
    },
    {
     "name": "stdout",
     "output_type": "stream",
     "text": [
      " 33170 | Cost: 8.63398760169\nIteration:"
     ]
    },
    {
     "name": "stdout",
     "output_type": "stream",
     "text": [
      " 33180 | Cost: 8.97603249599\nIteration:"
     ]
    },
    {
     "name": "stdout",
     "output_type": "stream",
     "text": [
      " 33190 | Cost: 9.66848007605\nIteration:"
     ]
    },
    {
     "name": "stdout",
     "output_type": "stream",
     "text": [
      " 33200 | Cost: 10.2066652598\nIteration:"
     ]
    },
    {
     "name": "stdout",
     "output_type": "stream",
     "text": [
      " 33210 | Cost: 8.53193658552\nIteration:"
     ]
    },
    {
     "name": "stdout",
     "output_type": "stream",
     "text": [
      " 33220 | Cost: 11.2661370166\nIteration:"
     ]
    },
    {
     "name": "stdout",
     "output_type": "stream",
     "text": [
      " 33230 | Cost: 11.4327904884\nIteration:"
     ]
    },
    {
     "name": "stdout",
     "output_type": "stream",
     "text": [
      " 33240 | Cost: 8.52164533301\nIteration:"
     ]
    },
    {
     "name": "stdout",
     "output_type": "stream",
     "text": [
      " 33250 | Cost: 10.5536496707\nIteration:"
     ]
    },
    {
     "name": "stdout",
     "output_type": "stream",
     "text": [
      " 33260 | Cost: 9.85750794788\nIteration:"
     ]
    },
    {
     "name": "stdout",
     "output_type": "stream",
     "text": [
      " 33270 | Cost: 9.81160093081\nIteration:"
     ]
    },
    {
     "name": "stdout",
     "output_type": "stream",
     "text": [
      " 33280 | Cost: 10.4070646787\nIteration:"
     ]
    },
    {
     "name": "stdout",
     "output_type": "stream",
     "text": [
      " 33290 | Cost: 9.2442481555\nIteration:"
     ]
    },
    {
     "name": "stdout",
     "output_type": "stream",
     "text": [
      " 33300 | Cost: 9.84363999886\nIteration:"
     ]
    },
    {
     "name": "stdout",
     "output_type": "stream",
     "text": [
      " 33310 | Cost: 9.15153461808\nIteration:"
     ]
    },
    {
     "name": "stdout",
     "output_type": "stream",
     "text": [
      " 33320 | Cost: 9.40189416456\nIteration:"
     ]
    },
    {
     "name": "stdout",
     "output_type": "stream",
     "text": [
      " 33330 | Cost: 9.24015689722\nIteration:"
     ]
    },
    {
     "name": "stdout",
     "output_type": "stream",
     "text": [
      " 33340 | Cost: 10.2858232864\nIteration:"
     ]
    },
    {
     "name": "stdout",
     "output_type": "stream",
     "text": [
      " 33350 | Cost: 10.1031978682\nIteration:"
     ]
    },
    {
     "name": "stdout",
     "output_type": "stream",
     "text": [
      " 33360 | Cost: 11.0474293231\nIteration:"
     ]
    },
    {
     "name": "stdout",
     "output_type": "stream",
     "text": [
      " 33370 | Cost: 10.0105935714\nIteration:"
     ]
    },
    {
     "name": "stdout",
     "output_type": "stream",
     "text": [
      " 33380 | Cost: 10.6206017636\nIteration:"
     ]
    },
    {
     "name": "stdout",
     "output_type": "stream",
     "text": [
      " 33390 | Cost: 10.1859548197\nIteration:"
     ]
    },
    {
     "name": "stdout",
     "output_type": "stream",
     "text": [
      " 33400 | Cost: 9.78913435388\nIteration:"
     ]
    },
    {
     "name": "stdout",
     "output_type": "stream",
     "text": [
      " 33410 | Cost: 8.07577575675\nIteration:"
     ]
    },
    {
     "name": "stdout",
     "output_type": "stream",
     "text": [
      " 33420 | Cost: 9.68949622424\nIteration:"
     ]
    },
    {
     "name": "stdout",
     "output_type": "stream",
     "text": [
      " 33430 | Cost: 7.82341066201\nIteration:"
     ]
    },
    {
     "name": "stdout",
     "output_type": "stream",
     "text": [
      " 33440 | Cost: 9.37839974071\nIteration:"
     ]
    },
    {
     "name": "stdout",
     "output_type": "stream",
     "text": [
      " 33450 | Cost: 9.33570739477\nIteration:"
     ]
    },
    {
     "name": "stdout",
     "output_type": "stream",
     "text": [
      " 33460 | Cost: 9.61514271884\nIteration:"
     ]
    },
    {
     "name": "stdout",
     "output_type": "stream",
     "text": [
      " 33470 | Cost: 9.11318147221\nIteration:"
     ]
    },
    {
     "name": "stdout",
     "output_type": "stream",
     "text": [
      " 33480 | Cost: 9.57554712062\nIteration:"
     ]
    },
    {
     "name": "stdout",
     "output_type": "stream",
     "text": [
      " 33490 | Cost: 10.8895168574\nIteration:"
     ]
    },
    {
     "name": "stdout",
     "output_type": "stream",
     "text": [
      " 33500 | Cost: 10.188896846\nIteration:"
     ]
    },
    {
     "name": "stdout",
     "output_type": "stream",
     "text": [
      " 33510 | Cost: 11.2420169248\nIteration:"
     ]
    },
    {
     "name": "stdout",
     "output_type": "stream",
     "text": [
      " 33520 | Cost: 10.5257104339\nIteration:"
     ]
    },
    {
     "name": "stdout",
     "output_type": "stream",
     "text": [
      " 33530 | Cost: 12.0489817019\nIteration:"
     ]
    },
    {
     "name": "stdout",
     "output_type": "stream",
     "text": [
      " 33540 | Cost: 9.71083184435\nIteration:"
     ]
    },
    {
     "name": "stdout",
     "output_type": "stream",
     "text": [
      " 33550 | Cost: 9.76640076017\nIteration:"
     ]
    },
    {
     "name": "stdout",
     "output_type": "stream",
     "text": [
      " 33560 | Cost: 11.1077696548\nIteration:"
     ]
    },
    {
     "name": "stdout",
     "output_type": "stream",
     "text": [
      " 33570 | Cost: 8.88943832024\nIteration:"
     ]
    },
    {
     "name": "stdout",
     "output_type": "stream",
     "text": [
      " 33580 | Cost: 11.3281511123\nIteration:"
     ]
    },
    {
     "name": "stdout",
     "output_type": "stream",
     "text": [
      " 33590 | Cost: 9.48397980741\nIteration:"
     ]
    },
    {
     "name": "stdout",
     "output_type": "stream",
     "text": [
      " 33600 | Cost: 10.1193585745\nIteration:"
     ]
    },
    {
     "name": "stdout",
     "output_type": "stream",
     "text": [
      " 33610 | Cost: 10.7944483521\nIteration:"
     ]
    },
    {
     "name": "stdout",
     "output_type": "stream",
     "text": [
      " 33620 | Cost: 9.61163908654\nIteration:"
     ]
    },
    {
     "name": "stdout",
     "output_type": "stream",
     "text": [
      " 33630 | Cost: 10.8229081324\nIteration:"
     ]
    },
    {
     "name": "stdout",
     "output_type": "stream",
     "text": [
      " 33640 | Cost: 11.3298708517\nIteration:"
     ]
    },
    {
     "name": "stdout",
     "output_type": "stream",
     "text": [
      " 33650 | Cost: 9.4528389663\nIteration:"
     ]
    },
    {
     "name": "stdout",
     "output_type": "stream",
     "text": [
      " 33660 | Cost: 10.6437245359\nIteration:"
     ]
    },
    {
     "name": "stdout",
     "output_type": "stream",
     "text": [
      " 33670 | Cost: 10.1182602261\nIteration:"
     ]
    },
    {
     "name": "stdout",
     "output_type": "stream",
     "text": [
      " 33680 | Cost: 8.88171561158\nIteration:"
     ]
    },
    {
     "name": "stdout",
     "output_type": "stream",
     "text": [
      " 33690 | Cost: 11.8414880504\nIteration:"
     ]
    },
    {
     "name": "stdout",
     "output_type": "stream",
     "text": [
      " 33700 | Cost: 10.0634841705\nIteration:"
     ]
    },
    {
     "name": "stdout",
     "output_type": "stream",
     "text": [
      " 33710 | Cost: 10.1963226545\nIteration:"
     ]
    },
    {
     "name": "stdout",
     "output_type": "stream",
     "text": [
      " 33720 | Cost: 11.4840881211\nIteration:"
     ]
    },
    {
     "name": "stdout",
     "output_type": "stream",
     "text": [
      " 33730 | Cost: 8.74856041933\nIteration:"
     ]
    },
    {
     "name": "stdout",
     "output_type": "stream",
     "text": [
      " 33740 | Cost: 9.36900634495\nIteration:"
     ]
    },
    {
     "name": "stdout",
     "output_type": "stream",
     "text": [
      " 33750 | Cost: 10.110682961\nIteration:"
     ]
    },
    {
     "name": "stdout",
     "output_type": "stream",
     "text": [
      " 33760 | Cost: 9.34245586262\nIteration:"
     ]
    },
    {
     "name": "stdout",
     "output_type": "stream",
     "text": [
      " 33770 | Cost: 9.56716218459\nIteration:"
     ]
    },
    {
     "name": "stdout",
     "output_type": "stream",
     "text": [
      " 33780 | Cost: 9.15946992949\nIteration:"
     ]
    },
    {
     "name": "stdout",
     "output_type": "stream",
     "text": [
      " 33790 | Cost: 9.93434463453\nIteration:"
     ]
    },
    {
     "name": "stdout",
     "output_type": "stream",
     "text": [
      " 33800 | Cost: 9.98300244329\nIteration:"
     ]
    },
    {
     "name": "stdout",
     "output_type": "stream",
     "text": [
      " 33810 | Cost: 9.53215183757\nIteration:"
     ]
    },
    {
     "name": "stdout",
     "output_type": "stream",
     "text": [
      " 33820 | Cost: 9.06552927032\nIteration:"
     ]
    },
    {
     "name": "stdout",
     "output_type": "stream",
     "text": [
      " 33830 | Cost: 8.62064307632\nIteration:"
     ]
    },
    {
     "name": "stdout",
     "output_type": "stream",
     "text": [
      " 33840 | Cost: 9.27267862152\nIteration:"
     ]
    },
    {
     "name": "stdout",
     "output_type": "stream",
     "text": [
      " 33850 | Cost: 9.26712821668\nIteration:"
     ]
    },
    {
     "name": "stdout",
     "output_type": "stream",
     "text": [
      " 33860 | Cost: 9.07456744925\nIteration:"
     ]
    },
    {
     "name": "stdout",
     "output_type": "stream",
     "text": [
      " 33870 | Cost: 9.37541844404\nIteration:"
     ]
    },
    {
     "name": "stdout",
     "output_type": "stream",
     "text": [
      " 33880 | Cost: 10.555306081\nIteration:"
     ]
    },
    {
     "name": "stdout",
     "output_type": "stream",
     "text": [
      " 33890 | Cost: 9.30020026272\nIteration:"
     ]
    },
    {
     "name": "stdout",
     "output_type": "stream",
     "text": [
      " 33900 | Cost: 9.04336908877\nIteration:"
     ]
    },
    {
     "name": "stdout",
     "output_type": "stream",
     "text": [
      " 33910 | Cost: 8.88877417732\nIteration:"
     ]
    },
    {
     "name": "stdout",
     "output_type": "stream",
     "text": [
      " 33920 | Cost: 8.74029295066\nIteration:"
     ]
    },
    {
     "name": "stdout",
     "output_type": "stream",
     "text": [
      " 33930 | Cost: 9.22150714994\nIteration:"
     ]
    },
    {
     "name": "stdout",
     "output_type": "stream",
     "text": [
      " 33940 | Cost: 7.97833473778\nIteration:"
     ]
    },
    {
     "name": "stdout",
     "output_type": "stream",
     "text": [
      " 33950 | Cost: 10.7891944866\nIteration:"
     ]
    },
    {
     "name": "stdout",
     "output_type": "stream",
     "text": [
      " 33960 | Cost: 9.33611001998\nIteration:"
     ]
    },
    {
     "name": "stdout",
     "output_type": "stream",
     "text": [
      " 33970 | Cost: 10.1909299452\nIteration:"
     ]
    },
    {
     "name": "stdout",
     "output_type": "stream",
     "text": [
      " 33980 | Cost: 9.10004599569\nIteration:"
     ]
    },
    {
     "name": "stdout",
     "output_type": "stream",
     "text": [
      " 33990 | Cost: 12.3121122512\nIteration:"
     ]
    },
    {
     "name": "stdout",
     "output_type": "stream",
     "text": [
      " 34000 | Cost: 9.93709195411\nIteration:"
     ]
    },
    {
     "name": "stdout",
     "output_type": "stream",
     "text": [
      " 34010 | Cost: 8.56142989206\nIteration:"
     ]
    },
    {
     "name": "stdout",
     "output_type": "stream",
     "text": [
      " 34020 | Cost: 10.9841906382\nIteration:"
     ]
    },
    {
     "name": "stdout",
     "output_type": "stream",
     "text": [
      " 34030 | Cost: 10.2316537405\nIteration:"
     ]
    },
    {
     "name": "stdout",
     "output_type": "stream",
     "text": [
      " 34040 | Cost: 10.1903088994\nIteration:"
     ]
    },
    {
     "name": "stdout",
     "output_type": "stream",
     "text": [
      " 34050 | Cost: 8.71836333707\nIteration:"
     ]
    },
    {
     "name": "stdout",
     "output_type": "stream",
     "text": [
      " 34060 | Cost: 9.29953102598\nIteration:"
     ]
    },
    {
     "name": "stdout",
     "output_type": "stream",
     "text": [
      " 34070 | Cost: 9.44285349931\nIteration:"
     ]
    },
    {
     "name": "stdout",
     "output_type": "stream",
     "text": [
      " 34080 | Cost: 8.85109420827\nIteration:"
     ]
    },
    {
     "name": "stdout",
     "output_type": "stream",
     "text": [
      " 34090 | Cost: 9.81739163177\nIteration:"
     ]
    },
    {
     "name": "stdout",
     "output_type": "stream",
     "text": [
      " 34100 | Cost: 8.88035224368\nIteration:"
     ]
    },
    {
     "name": "stdout",
     "output_type": "stream",
     "text": [
      " 34110 | Cost: 10.7270935261\nIteration:"
     ]
    },
    {
     "name": "stdout",
     "output_type": "stream",
     "text": [
      " 34120 | Cost: 9.08440677873\nIteration:"
     ]
    },
    {
     "name": "stdout",
     "output_type": "stream",
     "text": [
      " 34130 | Cost: 9.56105194403\nIteration:"
     ]
    },
    {
     "name": "stdout",
     "output_type": "stream",
     "text": [
      " 34140 | Cost: 8.4952858653\nIteration:"
     ]
    },
    {
     "name": "stdout",
     "output_type": "stream",
     "text": [
      " 34150 | Cost: 9.8963527981\nIteration:"
     ]
    },
    {
     "name": "stdout",
     "output_type": "stream",
     "text": [
      " 34160 | Cost: 9.26985094326\nIteration:"
     ]
    },
    {
     "name": "stdout",
     "output_type": "stream",
     "text": [
      " 34170 | Cost: 8.83054141989\nIteration:"
     ]
    },
    {
     "name": "stdout",
     "output_type": "stream",
     "text": [
      " 34180 | Cost: 10.1242270562\nIteration:"
     ]
    },
    {
     "name": "stdout",
     "output_type": "stream",
     "text": [
      " 34190 | Cost: 10.4981109918\nIteration:"
     ]
    },
    {
     "name": "stdout",
     "output_type": "stream",
     "text": [
      " 34200 | Cost: 10.2582786704\nIteration:"
     ]
    },
    {
     "name": "stdout",
     "output_type": "stream",
     "text": [
      " 34210 | Cost: 7.66430192463\nIteration:"
     ]
    },
    {
     "name": "stdout",
     "output_type": "stream",
     "text": [
      " 34220 | Cost: 8.33381379921\nIteration:"
     ]
    },
    {
     "name": "stdout",
     "output_type": "stream",
     "text": [
      " 34230 | Cost: 10.9825295845\nIteration:"
     ]
    },
    {
     "name": "stdout",
     "output_type": "stream",
     "text": [
      " 34240 | Cost: 9.35480313272\nIteration:"
     ]
    },
    {
     "name": "stdout",
     "output_type": "stream",
     "text": [
      " 34250 | Cost: 9.51779680372\nIteration:"
     ]
    },
    {
     "name": "stdout",
     "output_type": "stream",
     "text": [
      " 34260 | Cost: 11.9381460413\nIteration:"
     ]
    },
    {
     "name": "stdout",
     "output_type": "stream",
     "text": [
      " 34270 | Cost: 8.50141875538\nIteration:"
     ]
    },
    {
     "name": "stdout",
     "output_type": "stream",
     "text": [
      " 34280 | Cost: 9.26559548299\nIteration:"
     ]
    },
    {
     "name": "stdout",
     "output_type": "stream",
     "text": [
      " 34290 | Cost: 9.28720925886\nIteration:"
     ]
    },
    {
     "name": "stdout",
     "output_type": "stream",
     "text": [
      " 34300 | Cost: 9.80869760797\nIteration:"
     ]
    },
    {
     "name": "stdout",
     "output_type": "stream",
     "text": [
      " 34310 | Cost: 9.45340279234\nIteration:"
     ]
    },
    {
     "name": "stdout",
     "output_type": "stream",
     "text": [
      " 34320 | Cost: 10.1333525881\nIteration:"
     ]
    },
    {
     "name": "stdout",
     "output_type": "stream",
     "text": [
      " 34330 | Cost: 11.0700305708\nIteration:"
     ]
    },
    {
     "name": "stdout",
     "output_type": "stream",
     "text": [
      " 34340 | Cost: 9.99322109628\nIteration:"
     ]
    },
    {
     "name": "stdout",
     "output_type": "stream",
     "text": [
      " 34350 | Cost: 9.29628990159\nIteration:"
     ]
    },
    {
     "name": "stdout",
     "output_type": "stream",
     "text": [
      " 34360 | Cost: 9.90119546526\nIteration:"
     ]
    },
    {
     "name": "stdout",
     "output_type": "stream",
     "text": [
      " 34370 | Cost: 9.25464766827\nIteration:"
     ]
    },
    {
     "name": "stdout",
     "output_type": "stream",
     "text": [
      " 34380 | Cost: 9.00364487554\nIteration:"
     ]
    },
    {
     "name": "stdout",
     "output_type": "stream",
     "text": [
      " 34390 | Cost: 9.23051261558\nIteration:"
     ]
    },
    {
     "name": "stdout",
     "output_type": "stream",
     "text": [
      " 34400 | Cost: 9.28577751996\nIteration:"
     ]
    },
    {
     "name": "stdout",
     "output_type": "stream",
     "text": [
      " 34410 | Cost: 9.98254347779\nIteration:"
     ]
    },
    {
     "name": "stdout",
     "output_type": "stream",
     "text": [
      " 34420 | Cost: 10.1363098685\nIteration:"
     ]
    },
    {
     "name": "stdout",
     "output_type": "stream",
     "text": [
      " 34430 | Cost: 9.42751870867\nIteration:"
     ]
    },
    {
     "name": "stdout",
     "output_type": "stream",
     "text": [
      " 34440 | Cost: 8.89967331845\nIteration:"
     ]
    },
    {
     "name": "stdout",
     "output_type": "stream",
     "text": [
      " 34450 | Cost: 10.0534154788\nIteration:"
     ]
    },
    {
     "name": "stdout",
     "output_type": "stream",
     "text": [
      " 34460 | Cost: 8.25680485743\nIteration:"
     ]
    },
    {
     "name": "stdout",
     "output_type": "stream",
     "text": [
      " 34470 | Cost: 10.235038909\nIteration:"
     ]
    },
    {
     "name": "stdout",
     "output_type": "stream",
     "text": [
      " 34480 | Cost: 10.0740101041\nIteration:"
     ]
    },
    {
     "name": "stdout",
     "output_type": "stream",
     "text": [
      " 34490 | Cost: 9.14760603386\nIteration:"
     ]
    },
    {
     "name": "stdout",
     "output_type": "stream",
     "text": [
      " 34500 | Cost: 8.93062954206\nIteration:"
     ]
    },
    {
     "name": "stdout",
     "output_type": "stream",
     "text": [
      " 34510 | Cost: 9.81918048652\nIteration:"
     ]
    },
    {
     "name": "stdout",
     "output_type": "stream",
     "text": [
      " 34520 | Cost: 9.47306421546\nIteration:"
     ]
    },
    {
     "name": "stdout",
     "output_type": "stream",
     "text": [
      " 34530 | Cost: 10.1367168902\nIteration:"
     ]
    },
    {
     "name": "stdout",
     "output_type": "stream",
     "text": [
      " 34540 | Cost: 8.75068061477\nIteration:"
     ]
    },
    {
     "name": "stdout",
     "output_type": "stream",
     "text": [
      " 34550 | Cost: 10.1786027611\nIteration:"
     ]
    },
    {
     "name": "stdout",
     "output_type": "stream",
     "text": [
      " 34560 | Cost: 9.15158132198\nIteration:"
     ]
    },
    {
     "name": "stdout",
     "output_type": "stream",
     "text": [
      " 34570 | Cost: 10.0637173599\nIteration:"
     ]
    },
    {
     "name": "stdout",
     "output_type": "stream",
     "text": [
      " 34580 | Cost: 9.03949479752\nIteration:"
     ]
    },
    {
     "name": "stdout",
     "output_type": "stream",
     "text": [
      " 34590 | Cost: 9.11820794126\nIteration:"
     ]
    },
    {
     "name": "stdout",
     "output_type": "stream",
     "text": [
      " 34600 | Cost: 10.1064714104\nIteration:"
     ]
    },
    {
     "name": "stdout",
     "output_type": "stream",
     "text": [
      " 34610 | Cost: 9.75086428352\nIteration:"
     ]
    },
    {
     "name": "stdout",
     "output_type": "stream",
     "text": [
      " 34620 | Cost: 10.7516661973\nIteration:"
     ]
    },
    {
     "name": "stdout",
     "output_type": "stream",
     "text": [
      " 34630 | Cost: 9.72157634655\nIteration:"
     ]
    },
    {
     "name": "stdout",
     "output_type": "stream",
     "text": [
      " 34640 | Cost: 10.6526289493\nIteration:"
     ]
    },
    {
     "name": "stdout",
     "output_type": "stream",
     "text": [
      " 34650 | Cost: 9.79123903926\nIteration:"
     ]
    },
    {
     "name": "stdout",
     "output_type": "stream",
     "text": [
      " 34660 | Cost: 9.47590876325\nIteration:"
     ]
    },
    {
     "name": "stdout",
     "output_type": "stream",
     "text": [
      " 34670 | Cost: 10.1884237294\nIteration:"
     ]
    },
    {
     "name": "stdout",
     "output_type": "stream",
     "text": [
      " 34680 | Cost: 9.76678967617\nIteration:"
     ]
    },
    {
     "name": "stdout",
     "output_type": "stream",
     "text": [
      " 34690 | Cost: 10.9789042035\nIteration:"
     ]
    },
    {
     "name": "stdout",
     "output_type": "stream",
     "text": [
      " 34700 | Cost: 10.3395535011\nIteration:"
     ]
    },
    {
     "name": "stdout",
     "output_type": "stream",
     "text": [
      " 34710 | Cost: 10.0866433049\nIteration:"
     ]
    },
    {
     "name": "stdout",
     "output_type": "stream",
     "text": [
      " 34720 | Cost: 9.7278368375\nIteration:"
     ]
    },
    {
     "name": "stdout",
     "output_type": "stream",
     "text": [
      " 34730 | Cost: 9.35280023812\nIteration:"
     ]
    },
    {
     "name": "stdout",
     "output_type": "stream",
     "text": [
      " 34740 | Cost: 10.7569832388\nIteration:"
     ]
    },
    {
     "name": "stdout",
     "output_type": "stream",
     "text": [
      " 34750 | Cost: 10.4686854091\nIteration:"
     ]
    },
    {
     "name": "stdout",
     "output_type": "stream",
     "text": [
      " 34760 | Cost: 9.21843465462\nIteration:"
     ]
    },
    {
     "name": "stdout",
     "output_type": "stream",
     "text": [
      " 34770 | Cost: 11.4339527649\nIteration:"
     ]
    },
    {
     "name": "stdout",
     "output_type": "stream",
     "text": [
      " 34780 | Cost: 8.69644007357\nIteration:"
     ]
    },
    {
     "name": "stdout",
     "output_type": "stream",
     "text": [
      " 34790 | Cost: 9.03477977155\nIteration:"
     ]
    },
    {
     "name": "stdout",
     "output_type": "stream",
     "text": [
      " 34800 | Cost: 9.83223317383\nIteration:"
     ]
    },
    {
     "name": "stdout",
     "output_type": "stream",
     "text": [
      " 34810 | Cost: 10.2209928613\nIteration:"
     ]
    },
    {
     "name": "stdout",
     "output_type": "stream",
     "text": [
      " 34820 | Cost: 9.36846811179\nIteration:"
     ]
    },
    {
     "name": "stdout",
     "output_type": "stream",
     "text": [
      " 34830 | Cost: 9.53968167684\nIteration:"
     ]
    },
    {
     "name": "stdout",
     "output_type": "stream",
     "text": [
      " 34840 | Cost: 8.34861327646\nIteration:"
     ]
    },
    {
     "name": "stdout",
     "output_type": "stream",
     "text": [
      " 34850 | Cost: 9.84587665366\nIteration:"
     ]
    },
    {
     "name": "stdout",
     "output_type": "stream",
     "text": [
      " 34860 | Cost: 8.55151161243\nIteration:"
     ]
    },
    {
     "name": "stdout",
     "output_type": "stream",
     "text": [
      " 34870 | Cost: 10.9358606465\nIteration:"
     ]
    },
    {
     "name": "stdout",
     "output_type": "stream",
     "text": [
      " 34880 | Cost: 8.97331963047\nIteration:"
     ]
    },
    {
     "name": "stdout",
     "output_type": "stream",
     "text": [
      " 34890 | Cost: 8.14153979925\nIteration:"
     ]
    },
    {
     "name": "stdout",
     "output_type": "stream",
     "text": [
      " 34900 | Cost: 9.66423500122\nIteration:"
     ]
    },
    {
     "name": "stdout",
     "output_type": "stream",
     "text": [
      " 34910 | Cost: 8.67477500556\nIteration:"
     ]
    },
    {
     "name": "stdout",
     "output_type": "stream",
     "text": [
      " 34920 | Cost: 10.4782186737\nIteration:"
     ]
    },
    {
     "name": "stdout",
     "output_type": "stream",
     "text": [
      " 34930 | Cost: 9.61588091056\nIteration:"
     ]
    },
    {
     "name": "stdout",
     "output_type": "stream",
     "text": [
      " 34940 | Cost: 8.8142727759\nIteration:"
     ]
    },
    {
     "name": "stdout",
     "output_type": "stream",
     "text": [
      " 34950 | Cost: 10.4034563265\nIteration:"
     ]
    },
    {
     "name": "stdout",
     "output_type": "stream",
     "text": [
      " 34960 | Cost: 6.94200697882\nIteration:"
     ]
    },
    {
     "name": "stdout",
     "output_type": "stream",
     "text": [
      " 34970 | Cost: 10.6201844028\nIteration:"
     ]
    },
    {
     "name": "stdout",
     "output_type": "stream",
     "text": [
      " 34980 | Cost: 9.14723256687\nIteration:"
     ]
    },
    {
     "name": "stdout",
     "output_type": "stream",
     "text": [
      " 34990 | Cost: 10.4686080705\nIteration:"
     ]
    },
    {
     "name": "stdout",
     "output_type": "stream",
     "text": [
      " 35000 | Cost: 10.403162759\nIteration:"
     ]
    },
    {
     "name": "stdout",
     "output_type": "stream",
     "text": [
      " 35010 | Cost: 10.9252961408\nIteration:"
     ]
    },
    {
     "name": "stdout",
     "output_type": "stream",
     "text": [
      " 35020 | Cost: 8.80660911818\nIteration:"
     ]
    },
    {
     "name": "stdout",
     "output_type": "stream",
     "text": [
      " 35030 | Cost: 9.4367346455\nIteration:"
     ]
    },
    {
     "name": "stdout",
     "output_type": "stream",
     "text": [
      " 35040 | Cost: 10.635892113\nIteration:"
     ]
    },
    {
     "name": "stdout",
     "output_type": "stream",
     "text": [
      " 35050 | Cost: 8.71894678584\nIteration:"
     ]
    },
    {
     "name": "stdout",
     "output_type": "stream",
     "text": [
      " 35060 | Cost: 9.84526666447\nIteration:"
     ]
    },
    {
     "name": "stdout",
     "output_type": "stream",
     "text": [
      " 35070 | Cost: 10.9536126641\nIteration:"
     ]
    },
    {
     "name": "stdout",
     "output_type": "stream",
     "text": [
      " 35080 | Cost: 10.1864624473\nIteration:"
     ]
    },
    {
     "name": "stdout",
     "output_type": "stream",
     "text": [
      " 35090 | Cost: 8.99144320295\nIteration:"
     ]
    },
    {
     "name": "stdout",
     "output_type": "stream",
     "text": [
      " 35100 | Cost: 9.61273172116\nIteration:"
     ]
    },
    {
     "name": "stdout",
     "output_type": "stream",
     "text": [
      " 35110 | Cost: 10.1671581932\nIteration:"
     ]
    },
    {
     "name": "stdout",
     "output_type": "stream",
     "text": [
      " 35120 | Cost: 9.37424781818\nIteration:"
     ]
    },
    {
     "name": "stdout",
     "output_type": "stream",
     "text": [
      " 35130 | Cost: 8.74253337202\nIteration:"
     ]
    },
    {
     "name": "stdout",
     "output_type": "stream",
     "text": [
      " 35140 | Cost: 9.41688029715\nIteration:"
     ]
    },
    {
     "name": "stdout",
     "output_type": "stream",
     "text": [
      " 35150 | Cost: 9.15248234706\nIteration:"
     ]
    },
    {
     "name": "stdout",
     "output_type": "stream",
     "text": [
      " 35160 | Cost: 10.0340321011\nIteration:"
     ]
    },
    {
     "name": "stdout",
     "output_type": "stream",
     "text": [
      " 35170 | Cost: 9.60076689445\nIteration:"
     ]
    },
    {
     "name": "stdout",
     "output_type": "stream",
     "text": [
      " 35180 | Cost: 9.63803939568\nIteration:"
     ]
    },
    {
     "name": "stdout",
     "output_type": "stream",
     "text": [
      " 35190 | Cost: 8.76248572655\nIteration:"
     ]
    },
    {
     "name": "stdout",
     "output_type": "stream",
     "text": [
      " 35200 | Cost: 8.11783507059\nIteration:"
     ]
    },
    {
     "name": "stdout",
     "output_type": "stream",
     "text": [
      " 35210 | Cost: 9.88972759833\nIteration:"
     ]
    },
    {
     "name": "stdout",
     "output_type": "stream",
     "text": [
      " 35220 | Cost: 9.33635387233\nIteration:"
     ]
    },
    {
     "name": "stdout",
     "output_type": "stream",
     "text": [
      " 35230 | Cost: 10.3820836567\nIteration:"
     ]
    },
    {
     "name": "stdout",
     "output_type": "stream",
     "text": [
      " 35240 | Cost: 9.55120462878\nIteration:"
     ]
    },
    {
     "name": "stdout",
     "output_type": "stream",
     "text": [
      " 35250 | Cost: 10.1150904154\nIteration:"
     ]
    },
    {
     "name": "stdout",
     "output_type": "stream",
     "text": [
      " 35260 | Cost: 8.43820421245\nIteration:"
     ]
    },
    {
     "name": "stdout",
     "output_type": "stream",
     "text": [
      " 35270 | Cost: 10.5128592828\nIteration:"
     ]
    },
    {
     "name": "stdout",
     "output_type": "stream",
     "text": [
      " 35280 | Cost: 9.40056034867\nIteration:"
     ]
    },
    {
     "name": "stdout",
     "output_type": "stream",
     "text": [
      " 35290 | Cost: 8.33600732258\nIteration:"
     ]
    },
    {
     "name": "stdout",
     "output_type": "stream",
     "text": [
      " 35300 | Cost: 8.68560133184\nIteration:"
     ]
    },
    {
     "name": "stdout",
     "output_type": "stream",
     "text": [
      " 35310 | Cost: 10.4708960883\nIteration:"
     ]
    },
    {
     "name": "stdout",
     "output_type": "stream",
     "text": [
      " 35320 | Cost: 10.5005682091\nIteration:"
     ]
    },
    {
     "name": "stdout",
     "output_type": "stream",
     "text": [
      " 35330 | Cost: 9.75786163678\nIteration:"
     ]
    },
    {
     "name": "stdout",
     "output_type": "stream",
     "text": [
      " 35340 | Cost: 10.8604525476\nIteration:"
     ]
    },
    {
     "name": "stdout",
     "output_type": "stream",
     "text": [
      " 35350 | Cost: 8.91761428475\nIteration:"
     ]
    },
    {
     "name": "stdout",
     "output_type": "stream",
     "text": [
      " 35360 | Cost: 9.64564156001\nIteration:"
     ]
    },
    {
     "name": "stdout",
     "output_type": "stream",
     "text": [
      " 35370 | Cost: 7.69976169092\nIteration:"
     ]
    },
    {
     "name": "stdout",
     "output_type": "stream",
     "text": [
      " 35380 | Cost: 9.40642572153\nIteration:"
     ]
    },
    {
     "name": "stdout",
     "output_type": "stream",
     "text": [
      " 35390 | Cost: 9.42554257103\nIteration:"
     ]
    },
    {
     "name": "stdout",
     "output_type": "stream",
     "text": [
      " 35400 | Cost: 8.32980692932\nIteration:"
     ]
    },
    {
     "name": "stdout",
     "output_type": "stream",
     "text": [
      " 35410 | Cost: 8.98644681195\nIteration:"
     ]
    },
    {
     "name": "stdout",
     "output_type": "stream",
     "text": [
      " 35420 | Cost: 9.33090727653\nIteration:"
     ]
    },
    {
     "name": "stdout",
     "output_type": "stream",
     "text": [
      " 35430 | Cost: 10.6598674293\nIteration:"
     ]
    },
    {
     "name": "stdout",
     "output_type": "stream",
     "text": [
      " 35440 | Cost: 9.61502629892\nIteration:"
     ]
    },
    {
     "name": "stdout",
     "output_type": "stream",
     "text": [
      " 35450 | Cost: 9.25734663007\nIteration:"
     ]
    },
    {
     "name": "stdout",
     "output_type": "stream",
     "text": [
      " 35460 | Cost: 9.33898235648\nIteration:"
     ]
    },
    {
     "name": "stdout",
     "output_type": "stream",
     "text": [
      " 35470 | Cost: 9.58744600647\nIteration:"
     ]
    },
    {
     "name": "stdout",
     "output_type": "stream",
     "text": [
      " 35480 | Cost: 10.6837917408\nIteration:"
     ]
    },
    {
     "name": "stdout",
     "output_type": "stream",
     "text": [
      " 35490 | Cost: 8.8943713296\nIteration:"
     ]
    },
    {
     "name": "stdout",
     "output_type": "stream",
     "text": [
      " 35500 | Cost: 9.26922641439\nIteration:"
     ]
    },
    {
     "name": "stdout",
     "output_type": "stream",
     "text": [
      " 35510 | Cost: 9.45134526232\nIteration:"
     ]
    },
    {
     "name": "stdout",
     "output_type": "stream",
     "text": [
      " 35520 | Cost: 9.79617054993\nIteration:"
     ]
    },
    {
     "name": "stdout",
     "output_type": "stream",
     "text": [
      " 35530 | Cost: 9.77990915849\nIteration:"
     ]
    },
    {
     "name": "stdout",
     "output_type": "stream",
     "text": [
      " 35540 | Cost: 10.1549235917\nIteration:"
     ]
    },
    {
     "name": "stdout",
     "output_type": "stream",
     "text": [
      " 35550 | Cost: 10.4468250376\nIteration:"
     ]
    },
    {
     "name": "stdout",
     "output_type": "stream",
     "text": [
      " 35560 | Cost: 9.71975225757\nIteration:"
     ]
    },
    {
     "name": "stdout",
     "output_type": "stream",
     "text": [
      " 35570 | Cost: 8.80955041107\nIteration:"
     ]
    },
    {
     "name": "stdout",
     "output_type": "stream",
     "text": [
      " 35580 | Cost: 7.67681310257\nIteration:"
     ]
    },
    {
     "name": "stdout",
     "output_type": "stream",
     "text": [
      " 35590 | Cost: 9.52522499588\nIteration:"
     ]
    },
    {
     "name": "stdout",
     "output_type": "stream",
     "text": [
      " 35600 | Cost: 10.7825431707\nIteration:"
     ]
    },
    {
     "name": "stdout",
     "output_type": "stream",
     "text": [
      " 35610 | Cost: 10.639522173\nIteration:"
     ]
    },
    {
     "name": "stdout",
     "output_type": "stream",
     "text": [
      " 35620 | Cost: 9.6946158294\nIteration:"
     ]
    },
    {
     "name": "stdout",
     "output_type": "stream",
     "text": [
      " 35630 | Cost: 9.12213681451\nIteration:"
     ]
    },
    {
     "name": "stdout",
     "output_type": "stream",
     "text": [
      " 35640 | Cost: 8.98441144992\nIteration:"
     ]
    },
    {
     "name": "stdout",
     "output_type": "stream",
     "text": [
      " 35650 | Cost: 9.39593446056\nIteration:"
     ]
    },
    {
     "name": "stdout",
     "output_type": "stream",
     "text": [
      " 35660 | Cost: 10.678132741\nIteration:"
     ]
    },
    {
     "name": "stdout",
     "output_type": "stream",
     "text": [
      " 35670 | Cost: 8.09865808685\nIteration:"
     ]
    },
    {
     "name": "stdout",
     "output_type": "stream",
     "text": [
      " 35680 | Cost: 9.58643075432\nIteration:"
     ]
    },
    {
     "name": "stdout",
     "output_type": "stream",
     "text": [
      " 35690 | Cost: 9.71449281188\nIteration:"
     ]
    },
    {
     "name": "stdout",
     "output_type": "stream",
     "text": [
      " 35700 | Cost: 10.1497044647\nIteration:"
     ]
    },
    {
     "name": "stdout",
     "output_type": "stream",
     "text": [
      " 35710 | Cost: 9.9386118481\nIteration:"
     ]
    },
    {
     "name": "stdout",
     "output_type": "stream",
     "text": [
      " 35720 | Cost: 8.80663932383\nIteration:"
     ]
    },
    {
     "name": "stdout",
     "output_type": "stream",
     "text": [
      " 35730 | Cost: 10.3202964266\nIteration:"
     ]
    },
    {
     "name": "stdout",
     "output_type": "stream",
     "text": [
      " 35740 | Cost: 9.42125630302\nIteration:"
     ]
    },
    {
     "name": "stdout",
     "output_type": "stream",
     "text": [
      " 35750 | Cost: 9.59299700606\nIteration:"
     ]
    },
    {
     "name": "stdout",
     "output_type": "stream",
     "text": [
      " 35760 | Cost: 8.99627423759\nIteration:"
     ]
    },
    {
     "name": "stdout",
     "output_type": "stream",
     "text": [
      " 35770 | Cost: 10.2481663841\nIteration:"
     ]
    },
    {
     "name": "stdout",
     "output_type": "stream",
     "text": [
      " 35780 | Cost: 10.0090061022\nIteration:"
     ]
    },
    {
     "name": "stdout",
     "output_type": "stream",
     "text": [
      " 35790 | Cost: 8.81069150974\nIteration:"
     ]
    },
    {
     "name": "stdout",
     "output_type": "stream",
     "text": [
      " 35800 | Cost: 9.3480943584\nIteration:"
     ]
    },
    {
     "name": "stdout",
     "output_type": "stream",
     "text": [
      " 35810 | Cost: 8.74242092048\nIteration:"
     ]
    },
    {
     "name": "stdout",
     "output_type": "stream",
     "text": [
      " 35820 | Cost: 9.9902877521\nIteration:"
     ]
    },
    {
     "name": "stdout",
     "output_type": "stream",
     "text": [
      " 35830 | Cost: 9.1636635449\nIteration:"
     ]
    },
    {
     "name": "stdout",
     "output_type": "stream",
     "text": [
      " 35840 | Cost: 9.44919008866\nIteration:"
     ]
    },
    {
     "name": "stdout",
     "output_type": "stream",
     "text": [
      " 35850 | Cost: 9.05956292875\nIteration:"
     ]
    },
    {
     "name": "stdout",
     "output_type": "stream",
     "text": [
      " 35860 | Cost: 8.96685490937\nIteration:"
     ]
    },
    {
     "name": "stdout",
     "output_type": "stream",
     "text": [
      " 35870 | Cost: 8.50294028006\nIteration:"
     ]
    },
    {
     "name": "stdout",
     "output_type": "stream",
     "text": [
      " 35880 | Cost: 8.17497379218\nIteration:"
     ]
    },
    {
     "name": "stdout",
     "output_type": "stream",
     "text": [
      " 35890 | Cost: 9.24727347571\nIteration:"
     ]
    },
    {
     "name": "stdout",
     "output_type": "stream",
     "text": [
      " 35900 | Cost: 9.60245495777\nIteration:"
     ]
    },
    {
     "name": "stdout",
     "output_type": "stream",
     "text": [
      " 35910 | Cost: 10.2487480187\nIteration:"
     ]
    },
    {
     "name": "stdout",
     "output_type": "stream",
     "text": [
      " 35920 | Cost: 8.6938798345\nIteration:"
     ]
    },
    {
     "name": "stdout",
     "output_type": "stream",
     "text": [
      " 35930 | Cost: 9.41075899468\nIteration:"
     ]
    },
    {
     "name": "stdout",
     "output_type": "stream",
     "text": [
      " 35940 | Cost: 9.17989871297\nIteration:"
     ]
    },
    {
     "name": "stdout",
     "output_type": "stream",
     "text": [
      " 35950 | Cost: 9.89905439689\nIteration:"
     ]
    },
    {
     "name": "stdout",
     "output_type": "stream",
     "text": [
      " 35960 | Cost: 9.93231375062\nIteration:"
     ]
    },
    {
     "name": "stdout",
     "output_type": "stream",
     "text": [
      " 35970 | Cost: 7.94403329803\nIteration:"
     ]
    },
    {
     "name": "stdout",
     "output_type": "stream",
     "text": [
      " 35980 | Cost: 9.80475549867\nIteration:"
     ]
    },
    {
     "name": "stdout",
     "output_type": "stream",
     "text": [
      " 35990 | Cost: 9.74106370651\nIteration:"
     ]
    },
    {
     "name": "stdout",
     "output_type": "stream",
     "text": [
      " 36000 | Cost: 10.2272381235\nIteration:"
     ]
    },
    {
     "name": "stdout",
     "output_type": "stream",
     "text": [
      " 36010 | Cost: 8.70405754854\nIteration:"
     ]
    },
    {
     "name": "stdout",
     "output_type": "stream",
     "text": [
      " 36020 | Cost: 8.94568293659\nIteration:"
     ]
    },
    {
     "name": "stdout",
     "output_type": "stream",
     "text": [
      " 36030 | Cost: 9.0189454228\nIteration:"
     ]
    },
    {
     "name": "stdout",
     "output_type": "stream",
     "text": [
      " 36040 | Cost: 10.217908342\nIteration:"
     ]
    },
    {
     "name": "stdout",
     "output_type": "stream",
     "text": [
      " 36050 | Cost: 10.8473841568\nIteration:"
     ]
    },
    {
     "name": "stdout",
     "output_type": "stream",
     "text": [
      " 36060 | Cost: 9.75877510191\nIteration:"
     ]
    },
    {
     "name": "stdout",
     "output_type": "stream",
     "text": [
      " 36070 | Cost: 9.62112401504\nIteration:"
     ]
    },
    {
     "name": "stdout",
     "output_type": "stream",
     "text": [
      " 36080 | Cost: 8.98609622519\nIteration:"
     ]
    },
    {
     "name": "stdout",
     "output_type": "stream",
     "text": [
      " 36090 | Cost: 8.35956855127\nIteration:"
     ]
    },
    {
     "name": "stdout",
     "output_type": "stream",
     "text": [
      " 36100 | Cost: 10.435613895\nIteration:"
     ]
    },
    {
     "name": "stdout",
     "output_type": "stream",
     "text": [
      " 36110 | Cost: 8.95839661028\nIteration:"
     ]
    },
    {
     "name": "stdout",
     "output_type": "stream",
     "text": [
      " 36120 | Cost: 9.59403375211\nIteration:"
     ]
    },
    {
     "name": "stdout",
     "output_type": "stream",
     "text": [
      " 36130 | Cost: 9.33561368819\nIteration:"
     ]
    },
    {
     "name": "stdout",
     "output_type": "stream",
     "text": [
      " 36140 | Cost: 8.5356628531\nIteration:"
     ]
    },
    {
     "name": "stdout",
     "output_type": "stream",
     "text": [
      " 36150 | Cost: 9.12464560612\nIteration:"
     ]
    },
    {
     "name": "stdout",
     "output_type": "stream",
     "text": [
      " 36160 | Cost: 9.28950308535\nIteration:"
     ]
    },
    {
     "name": "stdout",
     "output_type": "stream",
     "text": [
      " 36170 | Cost: 8.1526283278\nIteration:"
     ]
    },
    {
     "name": "stdout",
     "output_type": "stream",
     "text": [
      " 36180 | Cost: 10.0744250653\nIteration:"
     ]
    },
    {
     "name": "stdout",
     "output_type": "stream",
     "text": [
      " 36190 | Cost: 9.36891079273\nIteration:"
     ]
    },
    {
     "name": "stdout",
     "output_type": "stream",
     "text": [
      " 36200 | Cost: 9.9070197644\nIteration:"
     ]
    },
    {
     "name": "stdout",
     "output_type": "stream",
     "text": [
      " 36210 | Cost: 10.0421875521\nIteration:"
     ]
    },
    {
     "name": "stdout",
     "output_type": "stream",
     "text": [
      " 36220 | Cost: 9.57324215463\nIteration:"
     ]
    },
    {
     "name": "stdout",
     "output_type": "stream",
     "text": [
      " 36230 | Cost: 8.73401275212\nIteration:"
     ]
    },
    {
     "name": "stdout",
     "output_type": "stream",
     "text": [
      " 36240 | Cost: 9.24153375508\nIteration:"
     ]
    },
    {
     "name": "stdout",
     "output_type": "stream",
     "text": [
      " 36250 | Cost: 8.97707789323\nIteration:"
     ]
    },
    {
     "name": "stdout",
     "output_type": "stream",
     "text": [
      " 36260 | Cost: 9.40837365005\nIteration:"
     ]
    },
    {
     "name": "stdout",
     "output_type": "stream",
     "text": [
      " 36270 | Cost: 9.92831085264\nIteration:"
     ]
    },
    {
     "name": "stdout",
     "output_type": "stream",
     "text": [
      " 36280 | Cost: 10.6416530957\nIteration:"
     ]
    },
    {
     "name": "stdout",
     "output_type": "stream",
     "text": [
      " 36290 | Cost: 10.9101511819\nIteration:"
     ]
    },
    {
     "name": "stdout",
     "output_type": "stream",
     "text": [
      " 36300 | Cost: 10.362604281\nIteration:"
     ]
    },
    {
     "name": "stdout",
     "output_type": "stream",
     "text": [
      " 36310 | Cost: 9.4776129417\nIteration:"
     ]
    },
    {
     "name": "stdout",
     "output_type": "stream",
     "text": [
      " 36320 | Cost: 11.4445648839\nIteration:"
     ]
    },
    {
     "name": "stdout",
     "output_type": "stream",
     "text": [
      " 36330 | Cost: 9.27066342728\nIteration:"
     ]
    },
    {
     "name": "stdout",
     "output_type": "stream",
     "text": [
      " 36340 | Cost: 9.44655700942\nIteration:"
     ]
    },
    {
     "name": "stdout",
     "output_type": "stream",
     "text": [
      " 36350 | Cost: 9.41160797926\nIteration:"
     ]
    },
    {
     "name": "stdout",
     "output_type": "stream",
     "text": [
      " 36360 | Cost: 10.4897120529\nIteration:"
     ]
    },
    {
     "name": "stdout",
     "output_type": "stream",
     "text": [
      " 36370 | Cost: 8.71905636289\nIteration:"
     ]
    },
    {
     "name": "stdout",
     "output_type": "stream",
     "text": [
      " 36380 | Cost: 9.46281544157\nIteration:"
     ]
    },
    {
     "name": "stdout",
     "output_type": "stream",
     "text": [
      " 36390 | Cost: 9.57056290896\nIteration:"
     ]
    },
    {
     "name": "stdout",
     "output_type": "stream",
     "text": [
      " 36400 | Cost: 9.22762378065\nIteration:"
     ]
    },
    {
     "name": "stdout",
     "output_type": "stream",
     "text": [
      " 36410 | Cost: 9.73699285997\nIteration:"
     ]
    },
    {
     "name": "stdout",
     "output_type": "stream",
     "text": [
      " 36420 | Cost: 10.2543666879\nIteration:"
     ]
    },
    {
     "name": "stdout",
     "output_type": "stream",
     "text": [
      " 36430 | Cost: 8.29999859162\nIteration:"
     ]
    },
    {
     "name": "stdout",
     "output_type": "stream",
     "text": [
      " 36440 | Cost: 9.78089482573\nIteration:"
     ]
    },
    {
     "name": "stdout",
     "output_type": "stream",
     "text": [
      " 36450 | Cost: 10.0626684193\nIteration:"
     ]
    },
    {
     "name": "stdout",
     "output_type": "stream",
     "text": [
      " 36460 | Cost: 10.2573277438\nIteration:"
     ]
    },
    {
     "name": "stdout",
     "output_type": "stream",
     "text": [
      " 36470 | Cost: 8.97641517209\nIteration:"
     ]
    },
    {
     "name": "stdout",
     "output_type": "stream",
     "text": [
      " 36480 | Cost: 9.77559174183\nIteration:"
     ]
    },
    {
     "name": "stdout",
     "output_type": "stream",
     "text": [
      " 36490 | Cost: 8.3056762682\nIteration:"
     ]
    },
    {
     "name": "stdout",
     "output_type": "stream",
     "text": [
      " 36500 | Cost: 8.49672930534\nIteration:"
     ]
    },
    {
     "name": "stdout",
     "output_type": "stream",
     "text": [
      " 36510 | Cost: 8.08204851675\nIteration:"
     ]
    },
    {
     "name": "stdout",
     "output_type": "stream",
     "text": [
      " 36520 | Cost: 9.43739636042\nIteration:"
     ]
    },
    {
     "name": "stdout",
     "output_type": "stream",
     "text": [
      " 36530 | Cost: 9.84122179527\nIteration:"
     ]
    },
    {
     "name": "stdout",
     "output_type": "stream",
     "text": [
      " 36540 | Cost: 9.96089088146\nIteration:"
     ]
    },
    {
     "name": "stdout",
     "output_type": "stream",
     "text": [
      " 36550 | Cost: 9.53255165992\nIteration:"
     ]
    },
    {
     "name": "stdout",
     "output_type": "stream",
     "text": [
      " 36560 | Cost: 10.5417779266\nIteration:"
     ]
    },
    {
     "name": "stdout",
     "output_type": "stream",
     "text": [
      " 36570 | Cost: 8.93584530587\nIteration:"
     ]
    },
    {
     "name": "stdout",
     "output_type": "stream",
     "text": [
      " 36580 | Cost: 8.34553999529\nIteration:"
     ]
    },
    {
     "name": "stdout",
     "output_type": "stream",
     "text": [
      " 36590 | Cost: 9.27197117436\nIteration:"
     ]
    },
    {
     "name": "stdout",
     "output_type": "stream",
     "text": [
      " 36600 | Cost: 10.6148788324\nIteration:"
     ]
    },
    {
     "name": "stdout",
     "output_type": "stream",
     "text": [
      " 36610 | Cost: 9.79527305516\nIteration:"
     ]
    },
    {
     "name": "stdout",
     "output_type": "stream",
     "text": [
      " 36620 | Cost: 8.94108539059\nIteration:"
     ]
    },
    {
     "name": "stdout",
     "output_type": "stream",
     "text": [
      " 36630 | Cost: 10.5175613727\nIteration:"
     ]
    },
    {
     "name": "stdout",
     "output_type": "stream",
     "text": [
      " 36640 | Cost: 9.89558276339\nIteration:"
     ]
    },
    {
     "name": "stdout",
     "output_type": "stream",
     "text": [
      " 36650 | Cost: 9.44242402152\nIteration:"
     ]
    },
    {
     "name": "stdout",
     "output_type": "stream",
     "text": [
      " 36660 | Cost: 8.03789257164\nIteration:"
     ]
    },
    {
     "name": "stdout",
     "output_type": "stream",
     "text": [
      " 36670 | Cost: 9.54641926797\nIteration:"
     ]
    },
    {
     "name": "stdout",
     "output_type": "stream",
     "text": [
      " 36680 | Cost: 10.3161605406\nIteration:"
     ]
    },
    {
     "name": "stdout",
     "output_type": "stream",
     "text": [
      " 36690 | Cost: 9.72397780615\nIteration:"
     ]
    },
    {
     "name": "stdout",
     "output_type": "stream",
     "text": [
      " 36700 | Cost: 9.49886864607\nIteration:"
     ]
    },
    {
     "name": "stdout",
     "output_type": "stream",
     "text": [
      " 36710 | Cost: 8.9699568589\nIteration:"
     ]
    },
    {
     "name": "stdout",
     "output_type": "stream",
     "text": [
      " 36720 | Cost: 10.1013794859\nIteration:"
     ]
    },
    {
     "name": "stdout",
     "output_type": "stream",
     "text": [
      " 36730 | Cost: 9.33861782932\nIteration:"
     ]
    },
    {
     "name": "stdout",
     "output_type": "stream",
     "text": [
      " 36740 | Cost: 10.3032775856\nIteration:"
     ]
    },
    {
     "name": "stdout",
     "output_type": "stream",
     "text": [
      " 36750 | Cost: 9.90793266996\nIteration:"
     ]
    },
    {
     "name": "stdout",
     "output_type": "stream",
     "text": [
      " 36760 | Cost: 9.54626962095\nIteration:"
     ]
    },
    {
     "name": "stdout",
     "output_type": "stream",
     "text": [
      " 36770 | Cost: 9.58392413134\nIteration:"
     ]
    },
    {
     "name": "stdout",
     "output_type": "stream",
     "text": [
      " 36780 | Cost: 10.2465583349\nIteration:"
     ]
    },
    {
     "name": "stdout",
     "output_type": "stream",
     "text": [
      " 36790 | Cost: 8.70299041877\nIteration:"
     ]
    },
    {
     "name": "stdout",
     "output_type": "stream",
     "text": [
      " 36800 | Cost: 8.05649543172\nIteration:"
     ]
    },
    {
     "name": "stdout",
     "output_type": "stream",
     "text": [
      " 36810 | Cost: 10.0442543892\nIteration:"
     ]
    },
    {
     "name": "stdout",
     "output_type": "stream",
     "text": [
      " 36820 | Cost: 8.83404817526\nIteration:"
     ]
    },
    {
     "name": "stdout",
     "output_type": "stream",
     "text": [
      " 36830 | Cost: 10.0354566467\nIteration:"
     ]
    },
    {
     "name": "stdout",
     "output_type": "stream",
     "text": [
      " 36840 | Cost: 8.21119426572\nIteration:"
     ]
    },
    {
     "name": "stdout",
     "output_type": "stream",
     "text": [
      " 36850 | Cost: 10.4718872629\nIteration:"
     ]
    },
    {
     "name": "stdout",
     "output_type": "stream",
     "text": [
      " 36860 | Cost: 9.66881977754\nIteration:"
     ]
    },
    {
     "name": "stdout",
     "output_type": "stream",
     "text": [
      " 36870 | Cost: 11.2970333508\nIteration:"
     ]
    },
    {
     "name": "stdout",
     "output_type": "stream",
     "text": [
      " 36880 | Cost: 8.98547573823\nIteration:"
     ]
    },
    {
     "name": "stdout",
     "output_type": "stream",
     "text": [
      " 36890 | Cost: 8.62977602862\nIteration:"
     ]
    },
    {
     "name": "stdout",
     "output_type": "stream",
     "text": [
      " 36900 | Cost: 8.93875509765\nIteration:"
     ]
    },
    {
     "name": "stdout",
     "output_type": "stream",
     "text": [
      " 36910 | Cost: 8.87114745466\nIteration:"
     ]
    },
    {
     "name": "stdout",
     "output_type": "stream",
     "text": [
      " 36920 | Cost: 9.48071863929\nIteration:"
     ]
    },
    {
     "name": "stdout",
     "output_type": "stream",
     "text": [
      " 36930 | Cost: 9.28454802432\nIteration:"
     ]
    },
    {
     "name": "stdout",
     "output_type": "stream",
     "text": [
      " 36940 | Cost: 10.0176281042\nIteration:"
     ]
    },
    {
     "name": "stdout",
     "output_type": "stream",
     "text": [
      " 36950 | Cost: 10.5233572882\nIteration:"
     ]
    },
    {
     "name": "stdout",
     "output_type": "stream",
     "text": [
      " 36960 | Cost: 9.46558299708\nIteration:"
     ]
    },
    {
     "name": "stdout",
     "output_type": "stream",
     "text": [
      " 36970 | Cost: 8.35100826125\nIteration:"
     ]
    },
    {
     "name": "stdout",
     "output_type": "stream",
     "text": [
      " 36980 | Cost: 10.4754958392\nIteration:"
     ]
    },
    {
     "name": "stdout",
     "output_type": "stream",
     "text": [
      " 36990 | Cost: 9.25212646456\nIteration:"
     ]
    },
    {
     "name": "stdout",
     "output_type": "stream",
     "text": [
      " 37000 | Cost: 10.7305342178\nIteration:"
     ]
    },
    {
     "name": "stdout",
     "output_type": "stream",
     "text": [
      " 37010 | Cost: 10.3400741572\nIteration:"
     ]
    },
    {
     "name": "stdout",
     "output_type": "stream",
     "text": [
      " 37020 | Cost: 10.1974537689\nIteration:"
     ]
    },
    {
     "name": "stdout",
     "output_type": "stream",
     "text": [
      " 37030 | Cost: 9.25933650301\nIteration:"
     ]
    },
    {
     "name": "stdout",
     "output_type": "stream",
     "text": [
      " 37040 | Cost: 9.65873742397\nIteration:"
     ]
    },
    {
     "name": "stdout",
     "output_type": "stream",
     "text": [
      " 37050 | Cost: 9.2360354915\nIteration:"
     ]
    },
    {
     "name": "stdout",
     "output_type": "stream",
     "text": [
      " 37060 | Cost: 9.65700271986\nIteration:"
     ]
    },
    {
     "name": "stdout",
     "output_type": "stream",
     "text": [
      " 37070 | Cost: 9.04243763666\nIteration:"
     ]
    },
    {
     "name": "stdout",
     "output_type": "stream",
     "text": [
      " 37080 | Cost: 8.87488113396\nIteration:"
     ]
    },
    {
     "name": "stdout",
     "output_type": "stream",
     "text": [
      " 37090 | Cost: 11.0214555621\nIteration:"
     ]
    },
    {
     "name": "stdout",
     "output_type": "stream",
     "text": [
      " 37100 | Cost: 10.2572040146\nIteration:"
     ]
    },
    {
     "name": "stdout",
     "output_type": "stream",
     "text": [
      " 37110 | Cost: 8.74495693567\nIteration:"
     ]
    },
    {
     "name": "stdout",
     "output_type": "stream",
     "text": [
      " 37120 | Cost: 9.56858211092\nIteration:"
     ]
    },
    {
     "name": "stdout",
     "output_type": "stream",
     "text": [
      " 37130 | Cost: 9.80932828909\nIteration:"
     ]
    },
    {
     "name": "stdout",
     "output_type": "stream",
     "text": [
      " 37140 | Cost: 11.0031623609\nIteration:"
     ]
    },
    {
     "name": "stdout",
     "output_type": "stream",
     "text": [
      " 37150 | Cost: 9.42322031569\nIteration:"
     ]
    },
    {
     "name": "stdout",
     "output_type": "stream",
     "text": [
      " 37160 | Cost: 9.6241777846\nIteration:"
     ]
    },
    {
     "name": "stdout",
     "output_type": "stream",
     "text": [
      " 37170 | Cost: 9.46002912251\nIteration:"
     ]
    },
    {
     "name": "stdout",
     "output_type": "stream",
     "text": [
      " 37180 | Cost: 9.53486649323\nIteration:"
     ]
    },
    {
     "name": "stdout",
     "output_type": "stream",
     "text": [
      " 37190 | Cost: 8.83784370008\nIteration:"
     ]
    },
    {
     "name": "stdout",
     "output_type": "stream",
     "text": [
      " 37200 | Cost: 8.7313845851\nIteration:"
     ]
    },
    {
     "name": "stdout",
     "output_type": "stream",
     "text": [
      " 37210 | Cost: 9.82062194491\nIteration:"
     ]
    },
    {
     "name": "stdout",
     "output_type": "stream",
     "text": [
      " 37220 | Cost: 10.2613263594\nIteration:"
     ]
    },
    {
     "name": "stdout",
     "output_type": "stream",
     "text": [
      " 37230 | Cost: 8.55887360967\nIteration:"
     ]
    },
    {
     "name": "stdout",
     "output_type": "stream",
     "text": [
      " 37240 | Cost: 10.0996334751\nIteration:"
     ]
    },
    {
     "name": "stdout",
     "output_type": "stream",
     "text": [
      " 37250 | Cost: 9.04075561461\nIteration:"
     ]
    },
    {
     "name": "stdout",
     "output_type": "stream",
     "text": [
      " 37260 | Cost: 9.68381773121\nIteration:"
     ]
    },
    {
     "name": "stdout",
     "output_type": "stream",
     "text": [
      " 37270 | Cost: 10.8267775337\nIteration:"
     ]
    },
    {
     "name": "stdout",
     "output_type": "stream",
     "text": [
      " 37280 | Cost: 9.15113899578\nIteration:"
     ]
    },
    {
     "name": "stdout",
     "output_type": "stream",
     "text": [
      " 37290 | Cost: 10.6528574138\nIteration:"
     ]
    },
    {
     "name": "stdout",
     "output_type": "stream",
     "text": [
      " 37300 | Cost: 9.33252282807\nIteration:"
     ]
    },
    {
     "name": "stdout",
     "output_type": "stream",
     "text": [
      " 37310 | Cost: 9.91390853504\nIteration:"
     ]
    },
    {
     "name": "stdout",
     "output_type": "stream",
     "text": [
      " 37320 | Cost: 10.672771102\nIteration:"
     ]
    },
    {
     "name": "stdout",
     "output_type": "stream",
     "text": [
      " 37330 | Cost: 9.23425824892\nIteration:"
     ]
    },
    {
     "name": "stdout",
     "output_type": "stream",
     "text": [
      " 37340 | Cost: 10.2536694678\nIteration:"
     ]
    },
    {
     "name": "stdout",
     "output_type": "stream",
     "text": [
      " 37350 | Cost: 9.27973302363\nIteration:"
     ]
    },
    {
     "name": "stdout",
     "output_type": "stream",
     "text": [
      " 37360 | Cost: 8.84813070226\nIteration:"
     ]
    },
    {
     "name": "stdout",
     "output_type": "stream",
     "text": [
      " 37370 | Cost: 10.0691467758\nIteration:"
     ]
    },
    {
     "name": "stdout",
     "output_type": "stream",
     "text": [
      " 37380 | Cost: 8.69392967584\nIteration:"
     ]
    },
    {
     "name": "stdout",
     "output_type": "stream",
     "text": [
      " 37390 | Cost: 9.77651093652\nIteration:"
     ]
    },
    {
     "name": "stdout",
     "output_type": "stream",
     "text": [
      " 37400 | Cost: 9.28197293387\nIteration:"
     ]
    },
    {
     "name": "stdout",
     "output_type": "stream",
     "text": [
      " 37410 | Cost: 10.0717914011\nIteration:"
     ]
    },
    {
     "name": "stdout",
     "output_type": "stream",
     "text": [
      " 37420 | Cost: 9.2842045942\nIteration:"
     ]
    },
    {
     "name": "stdout",
     "output_type": "stream",
     "text": [
      " 37430 | Cost: 9.08946834903\nIteration:"
     ]
    },
    {
     "name": "stdout",
     "output_type": "stream",
     "text": [
      " 37440 | Cost: 10.8401643271\nIteration:"
     ]
    },
    {
     "name": "stdout",
     "output_type": "stream",
     "text": [
      " 37450 | Cost: 10.0139212829\nIteration:"
     ]
    },
    {
     "name": "stdout",
     "output_type": "stream",
     "text": [
      " 37460 | Cost: 10.4514316316\nIteration:"
     ]
    },
    {
     "name": "stdout",
     "output_type": "stream",
     "text": [
      " 37470 | Cost: 9.94120885104\nIteration:"
     ]
    },
    {
     "name": "stdout",
     "output_type": "stream",
     "text": [
      " 37480 | Cost: 9.64968652558\nIteration:"
     ]
    },
    {
     "name": "stdout",
     "output_type": "stream",
     "text": [
      " 37490 | Cost: 8.7276572007\nIteration:"
     ]
    },
    {
     "name": "stdout",
     "output_type": "stream",
     "text": [
      " 37500 | Cost: 9.22836453249\nIteration:"
     ]
    },
    {
     "name": "stdout",
     "output_type": "stream",
     "text": [
      " 37510 | Cost: 9.0125819828\nIteration:"
     ]
    },
    {
     "name": "stdout",
     "output_type": "stream",
     "text": [
      " 37520 | Cost: 11.6396242755\nIteration:"
     ]
    },
    {
     "name": "stdout",
     "output_type": "stream",
     "text": [
      " 37530 | Cost: 8.89055929251\nIteration:"
     ]
    },
    {
     "name": "stdout",
     "output_type": "stream",
     "text": [
      " 37540 | Cost: 10.3703131434\nIteration:"
     ]
    },
    {
     "name": "stdout",
     "output_type": "stream",
     "text": [
      " 37550 | Cost: 10.0072712639\nIteration:"
     ]
    },
    {
     "name": "stdout",
     "output_type": "stream",
     "text": [
      " 37560 | Cost: 9.78892151845\nIteration:"
     ]
    },
    {
     "name": "stdout",
     "output_type": "stream",
     "text": [
      " 37570 | Cost: 10.5462266643\nIteration:"
     ]
    },
    {
     "name": "stdout",
     "output_type": "stream",
     "text": [
      " 37580 | Cost: 9.67702660489\nIteration:"
     ]
    },
    {
     "name": "stdout",
     "output_type": "stream",
     "text": [
      " 37590 | Cost: 10.2425421173\nIteration:"
     ]
    },
    {
     "name": "stdout",
     "output_type": "stream",
     "text": [
      " 37600 | Cost: 10.6989818291\nIteration:"
     ]
    },
    {
     "name": "stdout",
     "output_type": "stream",
     "text": [
      " 37610 | Cost: 11.9436604326\nIteration:"
     ]
    },
    {
     "name": "stdout",
     "output_type": "stream",
     "text": [
      " 37620 | Cost: 10.1292784321\nIteration:"
     ]
    },
    {
     "name": "stdout",
     "output_type": "stream",
     "text": [
      " 37630 | Cost: 10.7065128171\nIteration:"
     ]
    },
    {
     "name": "stdout",
     "output_type": "stream",
     "text": [
      " 37640 | Cost: 9.6892703725\nIteration:"
     ]
    },
    {
     "name": "stdout",
     "output_type": "stream",
     "text": [
      " 37650 | Cost: 9.83338001501\nIteration:"
     ]
    },
    {
     "name": "stdout",
     "output_type": "stream",
     "text": [
      " 37660 | Cost: 9.72710141791\nIteration:"
     ]
    },
    {
     "name": "stdout",
     "output_type": "stream",
     "text": [
      " 37670 | Cost: 9.59451851177\nIteration:"
     ]
    },
    {
     "name": "stdout",
     "output_type": "stream",
     "text": [
      " 37680 | Cost: 9.20450891266\nIteration:"
     ]
    },
    {
     "name": "stdout",
     "output_type": "stream",
     "text": [
      " 37690 | Cost: 9.5940301304\nIteration:"
     ]
    },
    {
     "name": "stdout",
     "output_type": "stream",
     "text": [
      " 37700 | Cost: 11.7071779699\nIteration:"
     ]
    },
    {
     "name": "stdout",
     "output_type": "stream",
     "text": [
      " 37710 | Cost: 9.06073138301\nIteration:"
     ]
    },
    {
     "name": "stdout",
     "output_type": "stream",
     "text": [
      " 37720 | Cost: 8.60786242434\nIteration:"
     ]
    },
    {
     "name": "stdout",
     "output_type": "stream",
     "text": [
      " 37730 | Cost: 9.62782020243\nIteration:"
     ]
    },
    {
     "name": "stdout",
     "output_type": "stream",
     "text": [
      " 37740 | Cost: 10.5616907595\nIteration:"
     ]
    },
    {
     "name": "stdout",
     "output_type": "stream",
     "text": [
      " 37750 | Cost: 9.06552145575\nIteration:"
     ]
    },
    {
     "name": "stdout",
     "output_type": "stream",
     "text": [
      " 37760 | Cost: 10.2139476559\nIteration:"
     ]
    },
    {
     "name": "stdout",
     "output_type": "stream",
     "text": [
      " 37770 | Cost: 9.66995955094\nIteration:"
     ]
    },
    {
     "name": "stdout",
     "output_type": "stream",
     "text": [
      " 37780 | Cost: 9.51580484372\nIteration:"
     ]
    },
    {
     "name": "stdout",
     "output_type": "stream",
     "text": [
      " 37790 | Cost: 9.82616059579\nIteration:"
     ]
    },
    {
     "name": "stdout",
     "output_type": "stream",
     "text": [
      " 37800 | Cost: 9.73878246604\nIteration:"
     ]
    },
    {
     "name": "stdout",
     "output_type": "stream",
     "text": [
      " 37810 | Cost: 9.00788263505\nIteration:"
     ]
    },
    {
     "name": "stdout",
     "output_type": "stream",
     "text": [
      " 37820 | Cost: 10.5387289329\nIteration:"
     ]
    },
    {
     "name": "stdout",
     "output_type": "stream",
     "text": [
      " 37830 | Cost: 10.766062852\nIteration:"
     ]
    },
    {
     "name": "stdout",
     "output_type": "stream",
     "text": [
      " 37840 | Cost: 8.61043561332\nIteration:"
     ]
    },
    {
     "name": "stdout",
     "output_type": "stream",
     "text": [
      " 37850 | Cost: 8.71794964718\nIteration:"
     ]
    },
    {
     "name": "stdout",
     "output_type": "stream",
     "text": [
      " 37860 | Cost: 10.3387738932\nIteration:"
     ]
    },
    {
     "name": "stdout",
     "output_type": "stream",
     "text": [
      " 37870 | Cost: 10.9240428361\nIteration:"
     ]
    },
    {
     "name": "stdout",
     "output_type": "stream",
     "text": [
      " 37880 | Cost: 8.70892384526\nIteration:"
     ]
    },
    {
     "name": "stdout",
     "output_type": "stream",
     "text": [
      " 37890 | Cost: 10.9769081446\nIteration:"
     ]
    },
    {
     "name": "stdout",
     "output_type": "stream",
     "text": [
      " 37900 | Cost: 9.59184301459\nIteration:"
     ]
    },
    {
     "name": "stdout",
     "output_type": "stream",
     "text": [
      " 37910 | Cost: 10.3201604897\nIteration:"
     ]
    },
    {
     "name": "stdout",
     "output_type": "stream",
     "text": [
      " 37920 | Cost: 9.20575086261\nIteration:"
     ]
    },
    {
     "name": "stdout",
     "output_type": "stream",
     "text": [
      " 37930 | Cost: 9.00664454459\nIteration:"
     ]
    },
    {
     "name": "stdout",
     "output_type": "stream",
     "text": [
      " 37940 | Cost: 8.80705572007\nIteration:"
     ]
    },
    {
     "name": "stdout",
     "output_type": "stream",
     "text": [
      " 37950 | Cost: 10.0763661993\nIteration:"
     ]
    },
    {
     "name": "stdout",
     "output_type": "stream",
     "text": [
      " 37960 | Cost: 8.85039448857\nIteration:"
     ]
    },
    {
     "name": "stdout",
     "output_type": "stream",
     "text": [
      " 37970 | Cost: 9.83374264055\nIteration:"
     ]
    },
    {
     "name": "stdout",
     "output_type": "stream",
     "text": [
      " 37980 | Cost: 9.07223562488\nIteration:"
     ]
    },
    {
     "name": "stdout",
     "output_type": "stream",
     "text": [
      " 37990 | Cost: 9.17884731631\nIteration:"
     ]
    },
    {
     "name": "stdout",
     "output_type": "stream",
     "text": [
      " 38000 | Cost: 9.16141736655\nIteration:"
     ]
    },
    {
     "name": "stdout",
     "output_type": "stream",
     "text": [
      " 38010 | Cost: 10.8169943913\nIteration:"
     ]
    },
    {
     "name": "stdout",
     "output_type": "stream",
     "text": [
      " 38020 | Cost: 9.68129812194\nIteration:"
     ]
    },
    {
     "name": "stdout",
     "output_type": "stream",
     "text": [
      " 38030 | Cost: 8.42047903611\nIteration:"
     ]
    },
    {
     "name": "stdout",
     "output_type": "stream",
     "text": [
      " 38040 | Cost: 10.19044322\nIteration:"
     ]
    },
    {
     "name": "stdout",
     "output_type": "stream",
     "text": [
      " 38050 | Cost: 9.5619345439\nIteration:"
     ]
    },
    {
     "name": "stdout",
     "output_type": "stream",
     "text": [
      " 38060 | Cost: 11.7224613284\nIteration:"
     ]
    },
    {
     "name": "stdout",
     "output_type": "stream",
     "text": [
      " 38070 | Cost: 9.82692101163\nIteration:"
     ]
    },
    {
     "name": "stdout",
     "output_type": "stream",
     "text": [
      " 38080 | Cost: 10.0168414664\nIteration:"
     ]
    },
    {
     "name": "stdout",
     "output_type": "stream",
     "text": [
      " 38090 | Cost: 8.53285688617\nIteration:"
     ]
    },
    {
     "name": "stdout",
     "output_type": "stream",
     "text": [
      " 38100 | Cost: 9.91053706014\nIteration:"
     ]
    },
    {
     "name": "stdout",
     "output_type": "stream",
     "text": [
      " 38110 | Cost: 8.78885135879\nIteration:"
     ]
    },
    {
     "name": "stdout",
     "output_type": "stream",
     "text": [
      " 38120 | Cost: 10.8161565149\nIteration:"
     ]
    },
    {
     "name": "stdout",
     "output_type": "stream",
     "text": [
      " 38130 | Cost: 9.65518152054\nIteration:"
     ]
    },
    {
     "name": "stdout",
     "output_type": "stream",
     "text": [
      " 38140 | Cost: 9.5213205773\nIteration:"
     ]
    },
    {
     "name": "stdout",
     "output_type": "stream",
     "text": [
      " 38150 | Cost: 8.19375353247\nIteration:"
     ]
    },
    {
     "name": "stdout",
     "output_type": "stream",
     "text": [
      " 38160 | Cost: 9.6216491645\nIteration:"
     ]
    },
    {
     "name": "stdout",
     "output_type": "stream",
     "text": [
      " 38170 | Cost: 10.1520654791\nIteration:"
     ]
    },
    {
     "name": "stdout",
     "output_type": "stream",
     "text": [
      " 38180 | Cost: 9.41853399849\nIteration:"
     ]
    },
    {
     "name": "stdout",
     "output_type": "stream",
     "text": [
      " 38190 | Cost: 10.1486241927\nIteration:"
     ]
    },
    {
     "name": "stdout",
     "output_type": "stream",
     "text": [
      " 38200 | Cost: 9.36486187316\nIteration:"
     ]
    },
    {
     "name": "stdout",
     "output_type": "stream",
     "text": [
      " 38210 | Cost: 9.02031568794\nIteration:"
     ]
    },
    {
     "name": "stdout",
     "output_type": "stream",
     "text": [
      " 38220 | Cost: 11.9326622434\nIteration:"
     ]
    },
    {
     "name": "stdout",
     "output_type": "stream",
     "text": [
      " 38230 | Cost: 10.0994464452\nIteration:"
     ]
    },
    {
     "name": "stdout",
     "output_type": "stream",
     "text": [
      " 38240 | Cost: 9.096257133\nIteration:"
     ]
    },
    {
     "name": "stdout",
     "output_type": "stream",
     "text": [
      " 38250 | Cost: 10.3334905798\nIteration:"
     ]
    },
    {
     "name": "stdout",
     "output_type": "stream",
     "text": [
      " 38260 | Cost: 11.3715020683\nIteration:"
     ]
    },
    {
     "name": "stdout",
     "output_type": "stream",
     "text": [
      " 38270 | Cost: 9.53119319756\nIteration:"
     ]
    },
    {
     "name": "stdout",
     "output_type": "stream",
     "text": [
      " 38280 | Cost: 8.72836963653\nIteration:"
     ]
    },
    {
     "name": "stdout",
     "output_type": "stream",
     "text": [
      " 38290 | Cost: 10.3556897921\nIteration:"
     ]
    },
    {
     "name": "stdout",
     "output_type": "stream",
     "text": [
      " 38300 | Cost: 7.6917605392\nIteration:"
     ]
    },
    {
     "name": "stdout",
     "output_type": "stream",
     "text": [
      " 38310 | Cost: 9.84247437153\nIteration:"
     ]
    },
    {
     "name": "stdout",
     "output_type": "stream",
     "text": [
      " 38320 | Cost: 10.6824752625\nIteration:"
     ]
    },
    {
     "name": "stdout",
     "output_type": "stream",
     "text": [
      " 38330 | Cost: 9.97644809451\nIteration:"
     ]
    },
    {
     "name": "stdout",
     "output_type": "stream",
     "text": [
      " 38340 | Cost: 9.76674297758\nIteration:"
     ]
    },
    {
     "name": "stdout",
     "output_type": "stream",
     "text": [
      " 38350 | Cost: 9.98496321462\nIteration:"
     ]
    },
    {
     "name": "stdout",
     "output_type": "stream",
     "text": [
      " 38360 | Cost: 9.39845817031\nIteration:"
     ]
    },
    {
     "name": "stdout",
     "output_type": "stream",
     "text": [
      " 38370 | Cost: 9.31818987402\nIteration:"
     ]
    },
    {
     "name": "stdout",
     "output_type": "stream",
     "text": [
      " 38380 | Cost: 10.1695331139\nIteration:"
     ]
    },
    {
     "name": "stdout",
     "output_type": "stream",
     "text": [
      " 38390 | Cost: 9.97963393328\nIteration:"
     ]
    },
    {
     "name": "stdout",
     "output_type": "stream",
     "text": [
      " 38400 | Cost: 11.3674828055\nIteration:"
     ]
    },
    {
     "name": "stdout",
     "output_type": "stream",
     "text": [
      " 38410 | Cost: 9.42724867771\nIteration:"
     ]
    },
    {
     "name": "stdout",
     "output_type": "stream",
     "text": [
      " 38420 | Cost: 9.71912293194\nIteration:"
     ]
    },
    {
     "name": "stdout",
     "output_type": "stream",
     "text": [
      " 38430 | Cost: 9.95079652422\nIteration:"
     ]
    },
    {
     "name": "stdout",
     "output_type": "stream",
     "text": [
      " 38440 | Cost: 8.73534574143\nIteration:"
     ]
    },
    {
     "name": "stdout",
     "output_type": "stream",
     "text": [
      " 38450 | Cost: 9.36462051079\nIteration:"
     ]
    },
    {
     "name": "stdout",
     "output_type": "stream",
     "text": [
      " 38460 | Cost: 9.21857268714\nIteration:"
     ]
    },
    {
     "name": "stdout",
     "output_type": "stream",
     "text": [
      " 38470 | Cost: 9.03799154779\nIteration:"
     ]
    },
    {
     "name": "stdout",
     "output_type": "stream",
     "text": [
      " 38480 | Cost: 9.44498303265\nIteration:"
     ]
    },
    {
     "name": "stdout",
     "output_type": "stream",
     "text": [
      " 38490 | Cost: 11.109298254\nIteration:"
     ]
    },
    {
     "name": "stdout",
     "output_type": "stream",
     "text": [
      " 38500 | Cost: 10.8881567165\nIteration:"
     ]
    },
    {
     "name": "stdout",
     "output_type": "stream",
     "text": [
      " 38510 | Cost: 9.88555720631\nIteration:"
     ]
    },
    {
     "name": "stdout",
     "output_type": "stream",
     "text": [
      " 38520 | Cost: 9.89836231113\nIteration:"
     ]
    },
    {
     "name": "stdout",
     "output_type": "stream",
     "text": [
      " 38530 | Cost: 9.41134266587\nIteration:"
     ]
    },
    {
     "name": "stdout",
     "output_type": "stream",
     "text": [
      " 38540 | Cost: 9.93602444063\nIteration:"
     ]
    },
    {
     "name": "stdout",
     "output_type": "stream",
     "text": [
      " 38550 | Cost: 9.11281953567\nIteration:"
     ]
    },
    {
     "name": "stdout",
     "output_type": "stream",
     "text": [
      " 38560 | Cost: 10.8189984059\nIteration:"
     ]
    },
    {
     "name": "stdout",
     "output_type": "stream",
     "text": [
      " 38570 | Cost: 9.94830471779\nIteration:"
     ]
    },
    {
     "name": "stdout",
     "output_type": "stream",
     "text": [
      " 38580 | Cost: 9.85708682869\nIteration:"
     ]
    },
    {
     "name": "stdout",
     "output_type": "stream",
     "text": [
      " 38590 | Cost: 9.79963975789\nIteration:"
     ]
    },
    {
     "name": "stdout",
     "output_type": "stream",
     "text": [
      " 38600 | Cost: 10.3719415557\nIteration:"
     ]
    },
    {
     "name": "stdout",
     "output_type": "stream",
     "text": [
      " 38610 | Cost: 8.79860644654\nIteration:"
     ]
    },
    {
     "name": "stdout",
     "output_type": "stream",
     "text": [
      " 38620 | Cost: 9.64175340834\nIteration:"
     ]
    },
    {
     "name": "stdout",
     "output_type": "stream",
     "text": [
      " 38630 | Cost: 10.2875975161\nIteration:"
     ]
    },
    {
     "name": "stdout",
     "output_type": "stream",
     "text": [
      " 38640 | Cost: 9.58048312875\nIteration:"
     ]
    },
    {
     "name": "stdout",
     "output_type": "stream",
     "text": [
      " 38650 | Cost: 10.1403968445\nIteration:"
     ]
    },
    {
     "name": "stdout",
     "output_type": "stream",
     "text": [
      " 38660 | Cost: 10.124707977\nIteration:"
     ]
    },
    {
     "name": "stdout",
     "output_type": "stream",
     "text": [
      " 38670 | Cost: 9.72731827541\nIteration:"
     ]
    },
    {
     "name": "stdout",
     "output_type": "stream",
     "text": [
      " 38680 | Cost: 9.94749219573\nIteration:"
     ]
    },
    {
     "name": "stdout",
     "output_type": "stream",
     "text": [
      " 38690 | Cost: 8.13794182103\nIteration:"
     ]
    },
    {
     "name": "stdout",
     "output_type": "stream",
     "text": [
      " 38700 | Cost: 9.61228866986\nIteration:"
     ]
    },
    {
     "name": "stdout",
     "output_type": "stream",
     "text": [
      " 38710 | Cost: 10.685245047\nIteration:"
     ]
    },
    {
     "name": "stdout",
     "output_type": "stream",
     "text": [
      " 38720 | Cost: 9.90525770507\nIteration:"
     ]
    },
    {
     "name": "stdout",
     "output_type": "stream",
     "text": [
      " 38730 | Cost: 10.7268907056\nIteration:"
     ]
    },
    {
     "name": "stdout",
     "output_type": "stream",
     "text": [
      " 38740 | Cost: 11.7029141233\nIteration:"
     ]
    },
    {
     "name": "stdout",
     "output_type": "stream",
     "text": [
      " 38750 | Cost: 10.5936614085\nIteration:"
     ]
    },
    {
     "name": "stdout",
     "output_type": "stream",
     "text": [
      " 38760 | Cost: 9.29656671809\nIteration:"
     ]
    },
    {
     "name": "stdout",
     "output_type": "stream",
     "text": [
      " 38770 | Cost: 9.85516027254\nIteration:"
     ]
    },
    {
     "name": "stdout",
     "output_type": "stream",
     "text": [
      " 38780 | Cost: 9.81638281727\nIteration:"
     ]
    },
    {
     "name": "stdout",
     "output_type": "stream",
     "text": [
      " 38790 | Cost: 11.0757106379\nIteration:"
     ]
    },
    {
     "name": "stdout",
     "output_type": "stream",
     "text": [
      " 38800 | Cost: 7.9792912132\nIteration:"
     ]
    },
    {
     "name": "stdout",
     "output_type": "stream",
     "text": [
      " 38810 | Cost: 10.4378082736\nIteration:"
     ]
    },
    {
     "name": "stdout",
     "output_type": "stream",
     "text": [
      " 38820 | Cost: 9.87500642823\nIteration:"
     ]
    },
    {
     "name": "stdout",
     "output_type": "stream",
     "text": [
      " 38830 | Cost: 10.3785702703\nIteration:"
     ]
    },
    {
     "name": "stdout",
     "output_type": "stream",
     "text": [
      " 38840 | Cost: 9.6623009574\nIteration:"
     ]
    },
    {
     "name": "stdout",
     "output_type": "stream",
     "text": [
      " 38850 | Cost: 9.9216431402\nIteration:"
     ]
    },
    {
     "name": "stdout",
     "output_type": "stream",
     "text": [
      " 38860 | Cost: 10.2033329339\nIteration:"
     ]
    },
    {
     "name": "stdout",
     "output_type": "stream",
     "text": [
      " 38870 | Cost: 8.20313402033\nIteration:"
     ]
    },
    {
     "name": "stdout",
     "output_type": "stream",
     "text": [
      " 38880 | Cost: 9.37215976615\nIteration:"
     ]
    },
    {
     "name": "stdout",
     "output_type": "stream",
     "text": [
      " 38890 | Cost: 9.16796691098\nIteration:"
     ]
    },
    {
     "name": "stdout",
     "output_type": "stream",
     "text": [
      " 38900 | Cost: 9.60459983028\nIteration:"
     ]
    },
    {
     "name": "stdout",
     "output_type": "stream",
     "text": [
      " 38910 | Cost: 10.1785806148\nIteration:"
     ]
    },
    {
     "name": "stdout",
     "output_type": "stream",
     "text": [
      " 38920 | Cost: 9.0004890115\nIteration:"
     ]
    },
    {
     "name": "stdout",
     "output_type": "stream",
     "text": [
      " 38930 | Cost: 8.2000461161\nIteration:"
     ]
    },
    {
     "name": "stdout",
     "output_type": "stream",
     "text": [
      " 38940 | Cost: 9.31859647094\nIteration:"
     ]
    },
    {
     "name": "stdout",
     "output_type": "stream",
     "text": [
      " 38950 | Cost: 9.53174385714\nIteration:"
     ]
    },
    {
     "name": "stdout",
     "output_type": "stream",
     "text": [
      " 38960 | Cost: 9.86593193658\nIteration:"
     ]
    },
    {
     "name": "stdout",
     "output_type": "stream",
     "text": [
      " 38970 | Cost: 9.87411925515\nIteration:"
     ]
    },
    {
     "name": "stdout",
     "output_type": "stream",
     "text": [
      " 38980 | Cost: 9.55993385424\nIteration:"
     ]
    },
    {
     "name": "stdout",
     "output_type": "stream",
     "text": [
      " 38990 | Cost: 9.32558648252\nIteration:"
     ]
    },
    {
     "name": "stdout",
     "output_type": "stream",
     "text": [
      " 39000 | Cost: 9.60047065433\nIteration:"
     ]
    },
    {
     "name": "stdout",
     "output_type": "stream",
     "text": [
      " 39010 | Cost: 8.62741593793\nIteration:"
     ]
    },
    {
     "name": "stdout",
     "output_type": "stream",
     "text": [
      " 39020 | Cost: 9.98585319768\nIteration:"
     ]
    },
    {
     "name": "stdout",
     "output_type": "stream",
     "text": [
      " 39030 | Cost: 8.72901494657\nIteration:"
     ]
    },
    {
     "name": "stdout",
     "output_type": "stream",
     "text": [
      " 39040 | Cost: 9.68849265797\nIteration:"
     ]
    },
    {
     "name": "stdout",
     "output_type": "stream",
     "text": [
      " 39050 | Cost: 10.2754764431\nIteration:"
     ]
    },
    {
     "name": "stdout",
     "output_type": "stream",
     "text": [
      " 39060 | Cost: 11.839819348\nIteration:"
     ]
    },
    {
     "name": "stdout",
     "output_type": "stream",
     "text": [
      " 39070 | Cost: 9.29317132246\nIteration:"
     ]
    },
    {
     "name": "stdout",
     "output_type": "stream",
     "text": [
      " 39080 | Cost: 8.41133492062\nIteration:"
     ]
    },
    {
     "name": "stdout",
     "output_type": "stream",
     "text": [
      " 39090 | Cost: 10.3854639901\nIteration:"
     ]
    },
    {
     "name": "stdout",
     "output_type": "stream",
     "text": [
      " 39100 | Cost: 8.77297535127\nIteration:"
     ]
    },
    {
     "name": "stdout",
     "output_type": "stream",
     "text": [
      " 39110 | Cost: 10.7201807413\nIteration:"
     ]
    },
    {
     "name": "stdout",
     "output_type": "stream",
     "text": [
      " 39120 | Cost: 10.0056541473\nIteration:"
     ]
    },
    {
     "name": "stdout",
     "output_type": "stream",
     "text": [
      " 39130 | Cost: 8.24434802452\nIteration:"
     ]
    },
    {
     "name": "stdout",
     "output_type": "stream",
     "text": [
      " 39140 | Cost: 9.5744656871\nIteration:"
     ]
    },
    {
     "name": "stdout",
     "output_type": "stream",
     "text": [
      " 39150 | Cost: 9.77279498499\nIteration:"
     ]
    },
    {
     "name": "stdout",
     "output_type": "stream",
     "text": [
      " 39160 | Cost: 9.01425258349\nIteration:"
     ]
    },
    {
     "name": "stdout",
     "output_type": "stream",
     "text": [
      " 39170 | Cost: 8.54372147788\nIteration:"
     ]
    },
    {
     "name": "stdout",
     "output_type": "stream",
     "text": [
      " 39180 | Cost: 9.43959973481\nIteration:"
     ]
    },
    {
     "name": "stdout",
     "output_type": "stream",
     "text": [
      " 39190 | Cost: 9.87406342009\nIteration:"
     ]
    },
    {
     "name": "stdout",
     "output_type": "stream",
     "text": [
      " 39200 | Cost: 9.26406334982\nIteration:"
     ]
    },
    {
     "name": "stdout",
     "output_type": "stream",
     "text": [
      " 39210 | Cost: 10.8447137888\nIteration:"
     ]
    },
    {
     "name": "stdout",
     "output_type": "stream",
     "text": [
      " 39220 | Cost: 10.9869368501\nIteration:"
     ]
    },
    {
     "name": "stdout",
     "output_type": "stream",
     "text": [
      " 39230 | Cost: 9.51863067716\nIteration:"
     ]
    },
    {
     "name": "stdout",
     "output_type": "stream",
     "text": [
      " 39240 | Cost: 8.72017048223\nIteration:"
     ]
    },
    {
     "name": "stdout",
     "output_type": "stream",
     "text": [
      " 39250 | Cost: 9.67365162757\nIteration:"
     ]
    },
    {
     "name": "stdout",
     "output_type": "stream",
     "text": [
      " 39260 | Cost: 10.846179406\nIteration:"
     ]
    },
    {
     "name": "stdout",
     "output_type": "stream",
     "text": [
      " 39270 | Cost: 9.83275769316\nIteration:"
     ]
    },
    {
     "name": "stdout",
     "output_type": "stream",
     "text": [
      " 39280 | Cost: 8.6584624058\nIteration:"
     ]
    },
    {
     "name": "stdout",
     "output_type": "stream",
     "text": [
      " 39290 | Cost: 10.1813247491\nIteration:"
     ]
    },
    {
     "name": "stdout",
     "output_type": "stream",
     "text": [
      " 39300 | Cost: 10.0052964071\nIteration:"
     ]
    },
    {
     "name": "stdout",
     "output_type": "stream",
     "text": [
      " 39310 | Cost: 9.08380489652\nIteration:"
     ]
    },
    {
     "name": "stdout",
     "output_type": "stream",
     "text": [
      " 39320 | Cost: 9.51452537394\nIteration:"
     ]
    },
    {
     "name": "stdout",
     "output_type": "stream",
     "text": [
      " 39330 | Cost: 9.33436328558\nIteration:"
     ]
    },
    {
     "name": "stdout",
     "output_type": "stream",
     "text": [
      " 39340 | Cost: 8.31834038443\nIteration:"
     ]
    },
    {
     "name": "stdout",
     "output_type": "stream",
     "text": [
      " 39350 | Cost: 9.34472552868\nIteration:"
     ]
    },
    {
     "name": "stdout",
     "output_type": "stream",
     "text": [
      " 39360 | Cost: 8.72545930137\nIteration:"
     ]
    },
    {
     "name": "stdout",
     "output_type": "stream",
     "text": [
      " 39370 | Cost: 7.50814592436\nIteration:"
     ]
    },
    {
     "name": "stdout",
     "output_type": "stream",
     "text": [
      " 39380 | Cost: 9.14365773337\nIteration:"
     ]
    },
    {
     "name": "stdout",
     "output_type": "stream",
     "text": [
      " 39390 | Cost: 9.55260305836\nIteration:"
     ]
    },
    {
     "name": "stdout",
     "output_type": "stream",
     "text": [
      " 39400 | Cost: 9.42845308555\nIteration:"
     ]
    },
    {
     "name": "stdout",
     "output_type": "stream",
     "text": [
      " 39410 | Cost: 9.36010108532\nIteration:"
     ]
    },
    {
     "name": "stdout",
     "output_type": "stream",
     "text": [
      " 39420 | Cost: 9.2362242873\nIteration:"
     ]
    },
    {
     "name": "stdout",
     "output_type": "stream",
     "text": [
      " 39430 | Cost: 9.87381538641\nIteration:"
     ]
    },
    {
     "name": "stdout",
     "output_type": "stream",
     "text": [
      " 39440 | Cost: 10.4738247058\nIteration:"
     ]
    },
    {
     "name": "stdout",
     "output_type": "stream",
     "text": [
      " 39450 | Cost: 7.95015251647\nIteration:"
     ]
    },
    {
     "name": "stdout",
     "output_type": "stream",
     "text": [
      " 39460 | Cost: 9.49640921725\nIteration:"
     ]
    },
    {
     "name": "stdout",
     "output_type": "stream",
     "text": [
      " 39470 | Cost: 9.76042117167\nIteration:"
     ]
    },
    {
     "name": "stdout",
     "output_type": "stream",
     "text": [
      " 39480 | Cost: 9.44845810277\nIteration:"
     ]
    },
    {
     "name": "stdout",
     "output_type": "stream",
     "text": [
      " 39490 | Cost: 9.4865421925\nIteration:"
     ]
    },
    {
     "name": "stdout",
     "output_type": "stream",
     "text": [
      " 39500 | Cost: 8.71334851645\nIteration:"
     ]
    },
    {
     "name": "stdout",
     "output_type": "stream",
     "text": [
      " 39510 | Cost: 11.0213263336\nIteration:"
     ]
    },
    {
     "name": "stdout",
     "output_type": "stream",
     "text": [
      " 39520 | Cost: 9.28045405236\nIteration:"
     ]
    },
    {
     "name": "stdout",
     "output_type": "stream",
     "text": [
      " 39530 | Cost: 8.46800337236\nIteration:"
     ]
    },
    {
     "name": "stdout",
     "output_type": "stream",
     "text": [
      " 39540 | Cost: 8.02202252097\nIteration:"
     ]
    },
    {
     "name": "stdout",
     "output_type": "stream",
     "text": [
      " 39550 | Cost: 9.56315530481\nIteration:"
     ]
    },
    {
     "name": "stdout",
     "output_type": "stream",
     "text": [
      " 39560 | Cost: 9.97915036396\nIteration:"
     ]
    },
    {
     "name": "stdout",
     "output_type": "stream",
     "text": [
      " 39570 | Cost: 9.63369281252\nIteration:"
     ]
    },
    {
     "name": "stdout",
     "output_type": "stream",
     "text": [
      " 39580 | Cost: 9.81253883449\nIteration:"
     ]
    },
    {
     "name": "stdout",
     "output_type": "stream",
     "text": [
      " 39590 | Cost: 10.8187264679\nIteration:"
     ]
    },
    {
     "name": "stdout",
     "output_type": "stream",
     "text": [
      " 39600 | Cost: 10.4833829159\nIteration:"
     ]
    },
    {
     "name": "stdout",
     "output_type": "stream",
     "text": [
      " 39610 | Cost: 8.84363220005\nIteration:"
     ]
    },
    {
     "name": "stdout",
     "output_type": "stream",
     "text": [
      " 39620 | Cost: 10.8904852008\nIteration:"
     ]
    },
    {
     "name": "stdout",
     "output_type": "stream",
     "text": [
      " 39630 | Cost: 9.49069176527\nIteration:"
     ]
    },
    {
     "name": "stdout",
     "output_type": "stream",
     "text": [
      " 39640 | Cost: 9.04825319122\nIteration:"
     ]
    },
    {
     "name": "stdout",
     "output_type": "stream",
     "text": [
      " 39650 | Cost: 8.395088909\nIteration:"
     ]
    },
    {
     "name": "stdout",
     "output_type": "stream",
     "text": [
      " 39660 | Cost: 9.3482780533\nIteration:"
     ]
    },
    {
     "name": "stdout",
     "output_type": "stream",
     "text": [
      " 39670 | Cost: 10.1337409426\nIteration:"
     ]
    },
    {
     "name": "stdout",
     "output_type": "stream",
     "text": [
      " 39680 | Cost: 8.91198649905\nIteration:"
     ]
    },
    {
     "name": "stdout",
     "output_type": "stream",
     "text": [
      " 39690 | Cost: 9.63787322319\nIteration:"
     ]
    },
    {
     "name": "stdout",
     "output_type": "stream",
     "text": [
      " 39700 | Cost: 9.83062489454\nIteration:"
     ]
    },
    {
     "name": "stdout",
     "output_type": "stream",
     "text": [
      " 39710 | Cost: 8.5194675083\nIteration:"
     ]
    },
    {
     "name": "stdout",
     "output_type": "stream",
     "text": [
      " 39720 | Cost: 8.83768110325\nIteration:"
     ]
    },
    {
     "name": "stdout",
     "output_type": "stream",
     "text": [
      " 39730 | Cost: 9.89275210809\nIteration:"
     ]
    },
    {
     "name": "stdout",
     "output_type": "stream",
     "text": [
      " 39740 | Cost: 8.86350238823\nIteration:"
     ]
    },
    {
     "name": "stdout",
     "output_type": "stream",
     "text": [
      " 39750 | Cost: 9.82302305972\nIteration:"
     ]
    },
    {
     "name": "stdout",
     "output_type": "stream",
     "text": [
      " 39760 | Cost: 9.96889085109\nIteration:"
     ]
    },
    {
     "name": "stdout",
     "output_type": "stream",
     "text": [
      " 39770 | Cost: 10.0798583997\nIteration:"
     ]
    },
    {
     "name": "stdout",
     "output_type": "stream",
     "text": [
      " 39780 | Cost: 9.59335633707\nIteration:"
     ]
    },
    {
     "name": "stdout",
     "output_type": "stream",
     "text": [
      " 39790 | Cost: 9.71123608711\nIteration:"
     ]
    },
    {
     "name": "stdout",
     "output_type": "stream",
     "text": [
      " 39800 | Cost: 9.24624535286\nIteration:"
     ]
    },
    {
     "name": "stdout",
     "output_type": "stream",
     "text": [
      " 39810 | Cost: 8.70381619279\nIteration:"
     ]
    },
    {
     "name": "stdout",
     "output_type": "stream",
     "text": [
      " 39820 | Cost: 10.1882987572\nIteration:"
     ]
    },
    {
     "name": "stdout",
     "output_type": "stream",
     "text": [
      " 39830 | Cost: 10.3294929613\nIteration:"
     ]
    },
    {
     "name": "stdout",
     "output_type": "stream",
     "text": [
      " 39840 | Cost: 8.55008905613\nIteration:"
     ]
    },
    {
     "name": "stdout",
     "output_type": "stream",
     "text": [
      " 39850 | Cost: 10.2514687782\nIteration:"
     ]
    },
    {
     "name": "stdout",
     "output_type": "stream",
     "text": [
      " 39860 | Cost: 8.50692012182\nIteration:"
     ]
    },
    {
     "name": "stdout",
     "output_type": "stream",
     "text": [
      " 39870 | Cost: 8.6219382812\nIteration:"
     ]
    },
    {
     "name": "stdout",
     "output_type": "stream",
     "text": [
      " 39880 | Cost: 9.57062378026\nIteration:"
     ]
    },
    {
     "name": "stdout",
     "output_type": "stream",
     "text": [
      " 39890 | Cost: 9.92416133767\nIteration:"
     ]
    },
    {
     "name": "stdout",
     "output_type": "stream",
     "text": [
      " 39900 | Cost: 10.5472859395\nIteration:"
     ]
    },
    {
     "name": "stdout",
     "output_type": "stream",
     "text": [
      " 39910 | Cost: 10.4119190715\nIteration:"
     ]
    },
    {
     "name": "stdout",
     "output_type": "stream",
     "text": [
      " 39920 | Cost: 9.80895528956\nIteration:"
     ]
    },
    {
     "name": "stdout",
     "output_type": "stream",
     "text": [
      " 39930 | Cost: 11.2123489884\nIteration:"
     ]
    },
    {
     "name": "stdout",
     "output_type": "stream",
     "text": [
      " 39940 | Cost: 10.9269739286\nIteration:"
     ]
    },
    {
     "name": "stdout",
     "output_type": "stream",
     "text": [
      " 39950 | Cost: 10.1065097372\nIteration:"
     ]
    },
    {
     "name": "stdout",
     "output_type": "stream",
     "text": [
      " 39960 | Cost: 9.42565159718\nIteration:"
     ]
    },
    {
     "name": "stdout",
     "output_type": "stream",
     "text": [
      " 39970 | Cost: 8.48436303615\nIteration:"
     ]
    },
    {
     "name": "stdout",
     "output_type": "stream",
     "text": [
      " 39980 | Cost: 9.01025173311\nIteration:"
     ]
    },
    {
     "name": "stdout",
     "output_type": "stream",
     "text": [
      " 39990 | Cost: 8.74218197183\nIteration:"
     ]
    },
    {
     "name": "stdout",
     "output_type": "stream",
     "text": [
      " 40000 | Cost: 10.071870171\n\n=== For autograder ==="
     ]
    },
    {
     "name": "stdout",
     "output_type": "stream",
     "text": [
      "\n[[-0.42228835 -0.27681538  0.10529904  0.57622994  1.03184906 -0.48800304\n   0.04397824  0.61315279 -0.8191535  -0.09451214]\n [-0.45905296 -0.16120535  0.09131196  0.48465452  0.95757914 -0.45019033\n  -0.07439518  0.52200259 -0.82881761 -0.18574232]\n [-0.31640883 -0.00899457  0.01107082  0.43816862  0.8405119  -0.23609758\n  -0.01563366  0.42258454 -0.51017922 -0.07996252]\n [-0.38121623 -0.17627352  0.06691346  0.41548791  0.78141731 -0.28542256\n  -0.00521071  0.52342752 -0.53175287 -0.04917845]\n [-0.15802201 -0.00561573 -0.0538053   0.15367163  0.23874534 -0.04897271\n  -0.04566645  0.10129293 -0.07614706 -0.04504949]\n [-0.37856394 -0.14663006  0.04081689  0.50195396  0.75466956 -0.31939618\n  -0.0263935   0.40979692 -0.50570645 -0.07874919]\n [-0.35960172 -0.15939     0.07154291  0.46451714  0.89994815 -0.29895742\n  -0.10805682  0.5456585  -0.66393962 -0.15666107]]\n"
     ]
    }
   ],
   "source": [
    "# Train word vectors (this could take a while!)\n",
    "\n",
    "# Reset the random seed to make sure that everyone gets the same results\n",
    "random.seed(31415)\n",
    "np.random.seed(9265)\n",
    "wordVectors = np.concatenate(((np.random.rand(nWords, dimVectors) - .5) / dimVectors, \n",
    "                              np.zeros((nWords, dimVectors))), axis=0)\n",
    "wordVectors0 = sgd(lambda vec: word2vec_sgd_wrapper(skipgram, tokens, vec, dataset, C, negSamplingCostAndGradient), \n",
    "                   wordVectors, 0.3, 40000, None, True, PRINT_EVERY=10)\n",
    "# sanity check: cost at convergence should be around or below 10\n",
    "\n",
    "# sum the input and output word vectors\n",
    "wordVectors = (wordVectors0[:nWords,:] + wordVectors0[nWords:,:])\n",
    "\n",
    "print \"\\n=== For autograder ===\"\n",
    "checkWords = [\"the\", \"a\", \"an\", \"movie\", \"ordinary\", \"but\", \"and\"]\n",
    "checkIdx = [tokens[word] for word in checkWords]\n",
    "checkVecs = wordVectors[checkIdx, :]\n",
    "print checkVecs"
   ]
  },
  {
   "cell_type": "code",
   "execution_count": 169,
   "metadata": {},
   "outputs": [
    {
     "data": {
      "text/plain": [
       "(-0.1042349928196018, 0.17447891706738972)"
      ]
     },
     "execution_count": 169,
     "output_type": "execute_result",
     "metadata": {}
    },
    {
     "data": {
      "image/png": "[encoded data removed]"
     },
     "output_type": "display_data",
     "text": [
      "<matplotlib.figure.Figure at 0x1645d048>"
     ],
     "metadata": {}
    }
   ],
   "source": [
    "# Visualize the word vectors you trained\n",
    "\n",
    "_, wordVectors0, _ = load_saved_params()\n",
    "wordVectors = (wordVectors0[:nWords,:] + wordVectors0[nWords:,:])\n",
    "visualizeWords = [\"the\", \"a\", \"an\", \",\", \".\", \"?\", \"!\", \"``\", \"''\", \"--\", \"good\", \"great\", \"cool\", \"brilliant\", \"wonderful\", \"well\", \"amazing\", \"worth\", \"sweet\", \"enjoyable\", \"boring\", \"bad\", \"waste\", \"dumb\", \"annoying\"]\n",
    "visualizeIdx = [tokens[word] for word in visualizeWords]\n",
    "visualizeVecs = wordVectors[visualizeIdx, :]\n",
    "temp = (visualizeVecs - np.mean(visualizeVecs, axis=0))\n",
    "covariance = 1.0 / len(visualizeIdx) * temp.T.dot(temp)\n",
    "U,S,V = np.linalg.svd(covariance)\n",
    "coord = temp.dot(U[:,0:2]) \n",
    "\n",
    "for i in xrange(len(visualizeWords)):\n",
    "    plt.text(coord[i,0], coord[i,1], visualizeWords[i], bbox=dict(facecolor='green', alpha=0.1))\n",
    "    \n",
    "plt.xlim((np.min(coord[:,0]), np.max(coord[:,0])))\n",
    "plt.ylim((np.min(coord[:,1]), np.max(coord[:,1])))"
   ]
  },
  {
   "cell_type": "markdown",
   "metadata": {},
   "source": [
    "## 4. Sentiment Analysis\n",
    "\n",
    "Now, with the word vectors you trained, we are going to perform a simple sentiment analysis.\n",
    "\n",
    "For each sentence in the Stanford Sentiment Treebank dataset, we are going to use the average of all the word vectors in that sentence as its feature, and try to predict the sentiment level of the said sentence. The sentiment level of the phrases are represented as real values in the original dataset, here we'll just use five classes:\n",
    "\n",
    "    \"very negative\", \"negative\", \"neutral\", \"positive\", \"very positive\"\n",
    "    \n",
    "which are represented by 0 to 4 in the code, respectively.\n",
    "\n",
    "For this part, you will learn to train a softmax regressor with SGD, and perform train/dev validation to improve generalization of your regressor."
   ]
  },
  {
   "cell_type": "code",
   "execution_count": 174,
   "metadata": {},
   "outputs": [],
   "source": [
    "# Now, implement some helper functions\n",
    "\n",
    "def getSentenceFeature(tokens, wordVectors, sentence):\n",
    "    \"\"\" Obtain the sentence feature for sentiment analysis by averaging its word vectors \"\"\"\n",
    "    ###################################################################\n",
    "    # Implement computation for the sentence features given a         #\n",
    "    # sentence.                                                       #\n",
    "    # Inputs:                                                         #\n",
    "    #   - tokens: a dictionary that maps words to their indices in    #\n",
    "    #             the word vector list                                #\n",
    "    #   - wordVectors: word vectors for all tokens                    #\n",
    "    #   - sentence: a list of words in the sentence of interest       #\n",
    "    # Output:                                                         #\n",
    "    #   - sentVector: feature vector for the sentence                 #\n",
    "    ###################################################################\n",
    "    n = float(len(sentence))\n",
    "    \n",
    "    sentVector = reduce((lambda x, y: wordVectors[tokens[y]] + x), sentence,\n",
    "                        np.zeros(wordVectors.shape[1]))/n  # third arg is base case of reduce\n",
    "\n",
    "    return sentVector\n",
    "\n",
    "def softmaxRegression(features, labels, weights, regularization = 0.0, nopredictions = False):\n",
    "    \"\"\" Softmax Regression \"\"\"\n",
    "    ###################################################################\n",
    "    # Implement softmax regression with weight regularization.        #\n",
    "    # Inputs:                                                         #\n",
    "    #   - features: feature vectors, each row is a feature vector     #\n",
    "    #   - labels: labels corresponding to the feature vectors         #\n",
    "    #   - weights: weights of the regressor                           #\n",
    "    #   - regularization: L2 regularization constant                  #\n",
    "    # Output:                                                         #\n",
    "    #   - cost: cost of the regressor                                 #\n",
    "    #   - grad: gradient of the regressor cost with respect to its    #\n",
    "    #           weights                                               #\n",
    "    #   - pred: label predictions of the regressor (you might find    #\n",
    "    #           np.argmax helpful)                                    #\n",
    "    ###################################################################\n",
    "    \n",
    "    probs = softmax(features.dot(weights))\n",
    "    if len(features.shape) > 1:\n",
    "        N = features.shape[0]\n",
    "    else:\n",
    "        N = 1\n",
    "    # A vectorized implementation of    1/N * sum(cross_entropy(x_i, y_i)) + 1/2*|w|^2_F\n",
    "    cost = -np.sum(np.log(probs[range(N), labels])) / N \n",
    "    cost += 0.5 * regularization * np.sum(weights ** 2)\n",
    "\n",
    "    pred = np.argmax(probs, axis=1)\n",
    "\n",
    "    grad = probs\n",
    "    grad[range(N), labels] -= 1\n",
    "    grad = np.dot(features.T, grad) / N\n",
    "    grad += regularization * weights\n",
    "\n",
    "    if nopredictions:\n",
    "        return cost, grad\n",
    "    else:\n",
    "        return cost, grad, pred\n",
    "\n",
    "def precision(y, yhat):\n",
    "    \"\"\" Precision for classifier \"\"\"\n",
    "    assert(y.shape == yhat.shape)\n",
    "    return np.sum(y == yhat) * 100.0 / y.size\n",
    "\n",
    "def softmax_wrapper(features, labels, weights, regularization = 0.0):\n",
    "    cost, grad, _ = softmaxRegression(features, labels, weights, regularization)\n",
    "    return cost, grad"
   ]
  },
  {
   "cell_type": "code",
   "execution_count": 175,
   "metadata": {},
   "outputs": [
    {
     "name": "stdout",
     "output_type": "stream",
     "text": [
      "==== Gradient check for softmax regression ====\nGradient check passed!\n\n=== For autograder ===\n(1.9087572203226311, array([[ 0.13471085,  0.0104175 ,  0.06464052,  0.14678234,  0.07468882],\n       [-0.11082732, -0.0753506 ,  0.00940976,  0.09072251,  0.02397455],\n       [ 0.02857999, -0.07050319,  0.00609608, -0.00242226, -0.08065193],\n       [ 0.1165844 ,  0.23443669, -0.03104372, -0.05643964, -0.03242766],\n       [ 0.16402121,  0.07514553, -0.06366103,  0.00533061, -0.24784793],\n       [ 0.00873329, -0.03116552,  0.28757243,  0.11892055,  0.09353462],\n       [-0.14699131, -0.16446357, -0.23492789, -0.14272223,  0.08556511],\n       [ 0.10900431,  0.06290933, -0.03857583,  0.10949341, -0.11392697],\n       [-0.25459777,  0.17492415,  0.07520622,  0.09168167,  0.02080977],\n       [-0.05482908, -0.0023394 ,  0.10969091, -0.06085632,  0.10433387]]), array([0, 0, 0, 0, 0, 0, 0, 0, 0, 1], dtype=int64))\n"
     ]
    }
   ],
   "source": [
    "# Gradient check always comes first\n",
    "random.seed(314159)\n",
    "np.random.seed(265)\n",
    "dummy_weights = 0.1 * np.random.randn(dimVectors, 5)\n",
    "dummy_features = np.zeros((10, dimVectors))\n",
    "dummy_labels = np.zeros((10,), dtype=np.int32)    \n",
    "for i in xrange(10):\n",
    "    words, dummy_labels[i] = dataset.getRandomTrainSentence()\n",
    "    dummy_features[i, :] = getSentenceFeature(tokens, wordVectors, words)\n",
    "print \"==== Gradient check for softmax regression ====\"\n",
    "gradcheck_naive(lambda weights: softmaxRegression(dummy_features, dummy_labels, weights, 1.0, nopredictions = True), dummy_weights)\n",
    "\n",
    "print \"\\n=== For autograder ===\"\n",
    "print softmaxRegression(dummy_features, dummy_labels, dummy_weights, 1.0)"
   ]
  },
  {
   "cell_type": "code",
   "execution_count": 182,
   "metadata": {},
   "outputs": [
    {
     "name": "stdout",
     "output_type": "stream",
     "text": [
      "Iteration: 100 | Cost: 1.5714\nIteration: 200 | Cost: 1.57097"
     ]
    },
    {
     "name": "stdout",
     "output_type": "stream",
     "text": [
      "\nIteration: 300 | Cost: 1.57058"
     ]
    },
    {
     "name": "stdout",
     "output_type": "stream",
     "text": [
      "\nIteration: 400 | Cost: 1.5702"
     ]
    },
    {
     "name": "stdout",
     "output_type": "stream",
     "text": [
      "\nIteration: 500 | Cost: 1.56985"
     ]
    },
    {
     "name": "stdout",
     "output_type": "stream",
     "text": [
      "\nIteration: 600 | Cost: 1.56953"
     ]
    },
    {
     "name": "stdout",
     "output_type": "stream",
     "text": [
      "\nIteration: 700 | Cost: 1.56922"
     ]
    },
    {
     "name": "stdout",
     "output_type": "stream",
     "text": [
      "\nIteration: 800 | Cost: 1.56893"
     ]
    },
    {
     "name": "stdout",
     "output_type": "stream",
     "text": [
      "\nIteration: 900 | Cost: 1.56865"
     ]
    },
    {
     "name": "stdout",
     "output_type": "stream",
     "text": [
      "\nIteration: 1000 | Cost: 1.56839"
     ]
    },
    {
     "name": "stdout",
     "output_type": "stream",
     "text": [
      "\nIteration: 1100 | Cost: 1.56815"
     ]
    },
    {
     "name": "stdout",
     "output_type": "stream",
     "text": [
      "\nIteration: 1200 | Cost: 1.56792"
     ]
    },
    {
     "name": "stdout",
     "output_type": "stream",
     "text": [
      "\nIteration: 1300 | Cost: 1.5677"
     ]
    },
    {
     "name": "stdout",
     "output_type": "stream",
     "text": [
      "\nIteration: 1400 | Cost: 1.56749"
     ]
    },
    {
     "name": "stdout",
     "output_type": "stream",
     "text": [
      "\nIteration: 1500 | Cost: 1.56729"
     ]
    },
    {
     "name": "stdout",
     "output_type": "stream",
     "text": [
      "\nIteration: 1600 | Cost: 1.56711"
     ]
    },
    {
     "name": "stdout",
     "output_type": "stream",
     "text": [
      "\nIteration: 1700 | Cost: 1.56693"
     ]
    },
    {
     "name": "stdout",
     "output_type": "stream",
     "text": [
      "\nIteration: 1800 | Cost: 1.56676"
     ]
    },
    {
     "name": "stdout",
     "output_type": "stream",
     "text": [
      "\nIteration: 1900 | Cost: 1.5666"
     ]
    },
    {
     "name": "stdout",
     "output_type": "stream",
     "text": [
      "\nIteration: 2000 | Cost: 1.56645"
     ]
    },
    {
     "name": "stdout",
     "output_type": "stream",
     "text": [
      "\nIteration: 2100 | Cost: 1.5663"
     ]
    },
    {
     "name": "stdout",
     "output_type": "stream",
     "text": [
      "\nIteration: 2200 | Cost: 1.56617"
     ]
    },
    {
     "name": "stdout",
     "output_type": "stream",
     "text": [
      "\nIteration: 2300 | Cost: 1.56603"
     ]
    },
    {
     "name": "stdout",
     "output_type": "stream",
     "text": [
      "\nIteration: 2400 | Cost: 1.56591"
     ]
    },
    {
     "name": "stdout",
     "output_type": "stream",
     "text": [
      "\nIteration: 2500 | Cost: 1.56579"
     ]
    },
    {
     "name": "stdout",
     "output_type": "stream",
     "text": [
      "\nIteration: 2600 | Cost: 1.56567"
     ]
    },
    {
     "name": "stdout",
     "output_type": "stream",
     "text": [
      "\nIteration: 2700 | Cost: 1.56556"
     ]
    },
    {
     "name": "stdout",
     "output_type": "stream",
     "text": [
      "\nIteration: 2800 | Cost: 1.56546"
     ]
    },
    {
     "name": "stdout",
     "output_type": "stream",
     "text": [
      "\nIteration: 2900 | Cost: 1.56536"
     ]
    },
    {
     "name": "stdout",
     "output_type": "stream",
     "text": [
      "\nIteration: 3000 | Cost: 1.56526"
     ]
    },
    {
     "name": "stdout",
     "output_type": "stream",
     "text": [
      "\nIteration: 3100 | Cost: 1.56517"
     ]
    },
    {
     "name": "stdout",
     "output_type": "stream",
     "text": [
      "\nIteration: 3200 | Cost: 1.56508"
     ]
    },
    {
     "name": "stdout",
     "output_type": "stream",
     "text": [
      "\nIteration: 3300 | Cost: 1.565"
     ]
    },
    {
     "name": "stdout",
     "output_type": "stream",
     "text": [
      "\nIteration: 3400 | Cost: 1.56492"
     ]
    },
    {
     "name": "stdout",
     "output_type": "stream",
     "text": [
      "\nIteration: 3500 | Cost: 1.56484"
     ]
    },
    {
     "name": "stdout",
     "output_type": "stream",
     "text": [
      "\nIteration: 3600 | Cost: 1.56477"
     ]
    },
    {
     "name": "stdout",
     "output_type": "stream",
     "text": [
      "\nIteration: 3700 | Cost: 1.56469"
     ]
    },
    {
     "name": "stdout",
     "output_type": "stream",
     "text": [
      "\nIteration: 3800 | Cost: 1.56463"
     ]
    },
    {
     "name": "stdout",
     "output_type": "stream",
     "text": [
      "\nIteration: 3900 | Cost: 1.56456"
     ]
    },
    {
     "name": "stdout",
     "output_type": "stream",
     "text": [
      "\nIteration: 4000 | Cost: 1.5645"
     ]
    },
    {
     "name": "stdout",
     "output_type": "stream",
     "text": [
      "\nIteration: 4100 | Cost: 1.56444"
     ]
    },
    {
     "name": "stdout",
     "output_type": "stream",
     "text": [
      "\nIteration: 4200 | Cost: 1.56438"
     ]
    },
    {
     "name": "stdout",
     "output_type": "stream",
     "text": [
      "\nIteration: 4300 | Cost: 1.56432"
     ]
    },
    {
     "name": "stdout",
     "output_type": "stream",
     "text": [
      "\nIteration: 4400 | Cost: 1.56427"
     ]
    },
    {
     "name": "stdout",
     "output_type": "stream",
     "text": [
      "\nIteration: 4500 | Cost: 1.56421"
     ]
    },
    {
     "name": "stdout",
     "output_type": "stream",
     "text": [
      "\nIteration: 4600 | Cost: 1.56416"
     ]
    },
    {
     "name": "stdout",
     "output_type": "stream",
     "text": [
      "\nIteration: 4700 | Cost: 1.56411"
     ]
    },
    {
     "name": "stdout",
     "output_type": "stream",
     "text": [
      "\nIteration: 4800 | Cost: 1.56407"
     ]
    },
    {
     "name": "stdout",
     "output_type": "stream",
     "text": [
      "\nIteration: 4900 | Cost: 1.56402"
     ]
    },
    {
     "name": "stdout",
     "output_type": "stream",
     "text": [
      "\nIteration: 5000 | Cost: 1.56398"
     ]
    },
    {
     "name": "stdout",
     "output_type": "stream",
     "text": [
      "\nIteration: 5100 | Cost: 1.56394"
     ]
    },
    {
     "name": "stdout",
     "output_type": "stream",
     "text": [
      "\nIteration: 5200 | Cost: 1.5639"
     ]
    },
    {
     "name": "stdout",
     "output_type": "stream",
     "text": [
      "\nIteration: 5300 | Cost: 1.56386"
     ]
    },
    {
     "name": "stdout",
     "output_type": "stream",
     "text": [
      "\nIteration: 5400 | Cost: 1.56382"
     ]
    },
    {
     "name": "stdout",
     "output_type": "stream",
     "text": [
      "\nIteration: 5500 | Cost: 1.56379"
     ]
    },
    {
     "name": "stdout",
     "output_type": "stream",
     "text": [
      "\nIteration: 5600 | Cost: 1.56375"
     ]
    },
    {
     "name": "stdout",
     "output_type": "stream",
     "text": [
      "\nIteration: 5700 | Cost: 1.56372"
     ]
    },
    {
     "name": "stdout",
     "output_type": "stream",
     "text": [
      "\nIteration: 5800 | Cost: 1.56369"
     ]
    },
    {
     "name": "stdout",
     "output_type": "stream",
     "text": [
      "\nIteration: 5900 | Cost: 1.56365"
     ]
    },
    {
     "name": "stdout",
     "output_type": "stream",
     "text": [
      "\nIteration: 6000 | Cost: 1.56362"
     ]
    },
    {
     "name": "stdout",
     "output_type": "stream",
     "text": [
      "\nIteration: 6100 | Cost: 1.56359"
     ]
    },
    {
     "name": "stdout",
     "output_type": "stream",
     "text": [
      "\nIteration: 6200 | Cost: 1.56357"
     ]
    },
    {
     "name": "stdout",
     "output_type": "stream",
     "text": [
      "\nIteration: 6300 | Cost: 1.56354"
     ]
    },
    {
     "name": "stdout",
     "output_type": "stream",
     "text": [
      "\nIteration: 6400 | Cost: 1.56351"
     ]
    },
    {
     "name": "stdout",
     "output_type": "stream",
     "text": [
      "\nIteration: 6500 | Cost: 1.56349"
     ]
    },
    {
     "name": "stdout",
     "output_type": "stream",
     "text": [
      "\nIteration: 6600 | Cost: 1.56346"
     ]
    },
    {
     "name": "stdout",
     "output_type": "stream",
     "text": [
      "\nIteration: 6700 | Cost: 1.56344"
     ]
    },
    {
     "name": "stdout",
     "output_type": "stream",
     "text": [
      "\nIteration: 6800 | Cost: 1.56342"
     ]
    },
    {
     "name": "stdout",
     "output_type": "stream",
     "text": [
      "\nIteration: 6900 | Cost: 1.56339"
     ]
    },
    {
     "name": "stdout",
     "output_type": "stream",
     "text": [
      "\nIteration: 7000 | Cost: 1.56337"
     ]
    },
    {
     "name": "stdout",
     "output_type": "stream",
     "text": [
      "\nIteration: 7100 | Cost: 1.56335"
     ]
    },
    {
     "name": "stdout",
     "output_type": "stream",
     "text": [
      "\nIteration: 7200 | Cost: 1.56333"
     ]
    },
    {
     "name": "stdout",
     "output_type": "stream",
     "text": [
      "\nIteration: 7300 | Cost: 1.56331"
     ]
    },
    {
     "name": "stdout",
     "output_type": "stream",
     "text": [
      "\nIteration: 7400 | Cost: 1.5633"
     ]
    },
    {
     "name": "stdout",
     "output_type": "stream",
     "text": [
      "\nIteration: 7500 | Cost: 1.56328"
     ]
    },
    {
     "name": "stdout",
     "output_type": "stream",
     "text": [
      "\nIteration: 7600 | Cost: 1.56326"
     ]
    },
    {
     "name": "stdout",
     "output_type": "stream",
     "text": [
      "\nIteration: 7700 | Cost: 1.56324"
     ]
    },
    {
     "name": "stdout",
     "output_type": "stream",
     "text": [
      "\nIteration: 7800 | Cost: 1.56323"
     ]
    },
    {
     "name": "stdout",
     "output_type": "stream",
     "text": [
      "\nIteration: 7900 | Cost: 1.56321"
     ]
    },
    {
     "name": "stdout",
     "output_type": "stream",
     "text": [
      "\nIteration: 8000 | Cost: 1.5632"
     ]
    },
    {
     "name": "stdout",
     "output_type": "stream",
     "text": [
      "\nIteration: 8100 | Cost: 1.56318"
     ]
    },
    {
     "name": "stdout",
     "output_type": "stream",
     "text": [
      "\nIteration: 8200 | Cost: 1.56317"
     ]
    },
    {
     "name": "stdout",
     "output_type": "stream",
     "text": [
      "\nIteration: 8300 | Cost: 1.56315"
     ]
    },
    {
     "name": "stdout",
     "output_type": "stream",
     "text": [
      "\nIteration: 8400 | Cost: 1.56314"
     ]
    },
    {
     "name": "stdout",
     "output_type": "stream",
     "text": [
      "\nIteration: 8500 | Cost: 1.56313"
     ]
    },
    {
     "name": "stdout",
     "output_type": "stream",
     "text": [
      "\nIteration: 8600 | Cost: 1.56311"
     ]
    },
    {
     "name": "stdout",
     "output_type": "stream",
     "text": [
      "\nIteration: 8700 | Cost: 1.5631"
     ]
    },
    {
     "name": "stdout",
     "output_type": "stream",
     "text": [
      "\nIteration: 8800 | Cost: 1.56309"
     ]
    },
    {
     "name": "stdout",
     "output_type": "stream",
     "text": [
      "\nIteration: 8900 | Cost: 1.56308"
     ]
    },
    {
     "name": "stdout",
     "output_type": "stream",
     "text": [
      "\nIteration: 9000 | Cost: 1.56307"
     ]
    },
    {
     "name": "stdout",
     "output_type": "stream",
     "text": [
      "\nIteration: 9100 | Cost: 1.56306"
     ]
    },
    {
     "name": "stdout",
     "output_type": "stream",
     "text": [
      "\nIteration: 9200 | Cost: 1.56305"
     ]
    },
    {
     "name": "stdout",
     "output_type": "stream",
     "text": [
      "\nIteration: 9300 | Cost: 1.56304"
     ]
    },
    {
     "name": "stdout",
     "output_type": "stream",
     "text": [
      "\nIteration: 9400 | Cost: 1.56303"
     ]
    },
    {
     "name": "stdout",
     "output_type": "stream",
     "text": [
      "\nIteration: 9500 | Cost: 1.56302"
     ]
    },
    {
     "name": "stdout",
     "output_type": "stream",
     "text": [
      "\nIteration: 9600 | Cost: 1.56301"
     ]
    },
    {
     "name": "stdout",
     "output_type": "stream",
     "text": [
      "\nIteration: 9700 | Cost: 1.563"
     ]
    },
    {
     "name": "stdout",
     "output_type": "stream",
     "text": [
      "\nIteration: 9800 | Cost: 1.56299"
     ]
    },
    {
     "name": "stdout",
     "output_type": "stream",
     "text": [
      "\nIteration: 9900 | Cost: 1.56298"
     ]
    },
    {
     "name": "stdout",
     "output_type": "stream",
     "text": [
      "\nIteration: 10000 | Cost: 1.56298"
     ]
    },
    {
     "name": "stdout",
     "output_type": "stream",
     "text": [
      "\nDev precision (%): 30.881017\n"
     ]
    }
   ],
   "source": [
    "# Try different regularizations and pick the best!\n",
    "\n",
    "### YOUR CODE HERE\n",
    "\n",
    "regularization = 0.00003  # try 0.0, 0.00001, 0.00003, 0.0001, 0.0003, 0.001, 0.003, 0.01 and pick the best\n",
    "\n",
    "### END YOUR CODE\n",
    "\n",
    "random.seed(3141)\n",
    "np.random.seed(59265)\n",
    "weights = np.random.randn(dimVectors, 5)\n",
    "\n",
    "trainset = dataset.getTrainSentences()\n",
    "nTrain = len(trainset)\n",
    "trainFeatures = np.zeros((nTrain, dimVectors))\n",
    "trainLabels = np.zeros((nTrain,), dtype=np.int32)\n",
    "\n",
    "for i in xrange(nTrain):\n",
    "    words, trainLabels[i] = trainset[i]\n",
    "    trainFeatures[i, :] = getSentenceFeature(tokens, wordVectors, words)\n",
    "\n",
    "# We will do batch optimization\n",
    "weights = sgd(lambda weights: softmax_wrapper(trainFeatures, trainLabels, weights, regularization), weights, 3.0, 10000, PRINT_EVERY=100)\n",
    "\n",
    "# Prepare dev set features\n",
    "devset = dataset.getDevSentences()\n",
    "nDev = len(devset)\n",
    "devFeatures = np.zeros((nDev, dimVectors))\n",
    "devLabels = np.zeros((nDev,), dtype=np.int32)\n",
    "\n",
    "for i in xrange(nDev):\n",
    "    words, devLabels[i] = devset[i]\n",
    "    devFeatures[i, :] = getSentenceFeature(tokens, wordVectors, words)\n",
    "\n",
    "_, _, pred = softmaxRegression(devFeatures, devLabels, weights)\n",
    "print \"Dev precision (%%): %f\" % precision(devLabels, pred)"
   ]
  },
  {
   "cell_type": "code",
   "execution_count": 183,
   "metadata": {},
   "outputs": [
    {
     "name": "stdout",
     "output_type": "stream",
     "text": [
      "=== For autograder ===\n3e-05\t30.881\n"
     ]
    }
   ],
   "source": [
    "# Write down the best regularization and accuracy you found\n",
    "# sanity check: your accuracy should be around or above 30%\n",
    "\n",
    "### YOUR CODE HERE\n",
    "\n",
    "BEST_REGULARIZATION = 0.00003\n",
    "BEST_ACCURACY = 30.881017\n",
    "\n",
    "### END YOUR CODE\n",
    "\n",
    "print \"=== For autograder ===\\n%g\\t%g\" % (BEST_REGULARIZATION, BEST_ACCURACY)"
   ]
  },
  {
   "cell_type": "code",
   "execution_count": 184,
   "metadata": {},
   "outputs": [
    {
     "name": "stdout",
     "output_type": "stream",
     "text": [
      "=== For autograder ===\nTest precision (%): 28.235294\n"
     ]
    }
   ],
   "source": [
    "# Test your findings on the test set\n",
    "\n",
    "testset = dataset.getTestSentences()\n",
    "nTest = len(testset)\n",
    "testFeatures = np.zeros((nTest, dimVectors))\n",
    "testLabels = np.zeros((nTest,), dtype=np.int32)\n",
    "\n",
    "for i in xrange(nTest):\n",
    "    words, testLabels[i] = testset[i]\n",
    "    testFeatures[i, :] = getSentenceFeature(tokens, wordVectors, words)\n",
    "    \n",
    "_, _, pred = softmaxRegression(testFeatures, testLabels, weights)\n",
    "print \"=== For autograder ===\\nTest precision (%%): %f\" % precision(testLabels, pred)"
   ]
  },
  {
   "cell_type": "markdown",
   "metadata": {},
   "source": [
    "#### Extra Credit\n",
    "\n",
    "Train your own classifier for sentiment analysis! We will not provide any starter code for this part, but you can feel free to reuse the code you've written before, or write some new code for this task. Also feel free to refer to the code we provided you with to see how we scaffolded training for you.\n",
    "\n",
    "Try to contain all of your code in one code block. You could start by using multiple blocks, then paste code together and remove unnecessary blocks. Report, as the last two lines of the output of your block, the dev set accuracy and test set accuracy you achieved, in the format we used above.\n",
    "\n",
    "*Note: no credits will be given for this part if you use the dev or test sets for training, or if you fine-tune your regularization or other hyperparameters on the test set.*"
   ]
  },
  {
   "cell_type": "code",
   "execution_count": null,
   "metadata": {},
   "outputs": [],
   "source": [
    "### YOUR CODE HERE\n",
    "\n",
    "### END YOU CODE\n",
    "\n",
    "\n",
    "_, _, pred = softmaxRegression(devFeatures, devLabels, weights)\n",
    "print \"=== For autograder ===\\nDev precision (%%): %f\" % precision(devLabels, pred)\n",
    "_, _, pred = softmaxRegression(testFeatures, testLabels, weights)\n",
    "print \"Test precision (%%): %f\" % precision(testLabels, pred)"
   ]
  }
 ],
 "metadata": {
  "kernelspec": {
   "display_name": "Python 2",
   "language": "python",
   "name": "python2"
  },
  "language_info": {
   "codemirror_mode": {
    "name": "ipython",
    "version": 2.0
   },
   "file_extension": ".py",
   "mimetype": "text/x-python",
   "name": "python",
   "nbconvert_exporter": "python",
   "pygments_lexer": "ipython2",
   "version": "2.7.8"
  }
 },
 "nbformat": 4,
 "nbformat_minor": 0
}