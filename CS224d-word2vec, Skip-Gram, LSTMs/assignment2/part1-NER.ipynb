{
 "cells": [
  {
   "cell_type": "markdown",
   "metadata": {},
   "source": [
    "# CS 224D Assignment #2\n",
    "# Part [1]: Deep Networks: NER Window Model\n",
    "\n",
    "For this first part of the assignment, you'll build your first \"deep\" networks. On problem set 1, you computed the backpropagation gradient $\\frac{\\partial J}{\\partial w}$ for a two-layer network; in this problem set you'll implement a slightly more complex network to perform  named entity recognition (NER).\n",
    "\n",
    "Before beginning the programming section, you should complete parts (a) and (b) of the corresponding section of the handout."
   ]
  },
  {
   "cell_type": "code",
   "execution_count": 2,
   "metadata": {},
   "outputs": [
    {
     "name": "stdout",
     "output_type": "stream",
     "text": [
      "The autoreload extension is already loaded. To reload it, use:\n  %reload_ext autoreload\n"
     ]
    }
   ],
   "source": [
    "import sys, os\n",
    "from numpy import *\n",
    "from matplotlib.pyplot import *\n",
    "%matplotlib inline\n",
    "matplotlib.rcParams['savefig.dpi'] = 100\n",
    "\n",
    "%load_ext autoreload\n",
    "%autoreload 2"
   ]
  },
  {
   "cell_type": "markdown",
   "metadata": {},
   "source": [
    "## (c): Random Initialization Test\n",
    "Use the cell below to test your code."
   ]
  },
  {
   "cell_type": "code",
   "execution_count": 3,
   "metadata": {},
   "outputs": [
    {
     "name": "stdout",
     "output_type": "stream",
     "text": [
      "[[ 0.46994114 -0.83008197  0.23148553  0.43094097 -0.00258593]\n [-0.47666619 -0.52297046  0.45125243 -0.57311684 -0.71301636]\n [ 0.32105262  0.78530031 -0.85918681  0.02111762  0.54147539]]\n"
     ]
    }
   ],
   "source": [
    "from misc import random_weight_matrix\n",
    "random.seed(10)\n",
    "print random_weight_matrix(3,5)"
   ]
  },
  {
   "cell_type": "markdown",
   "metadata": {},
   "source": [
    "## (d): Implementation\n",
    "\n",
    "We've provided starter code to load in the dataset and convert it to a list of \"windows\", consisting of indices into the matrix of word vectors. \n",
    "\n",
    "We pad each sentence with begin and end tokens `<s>` and `</s>`, which have their own word vector representations; additionally, we convert all words to lowercase, canonicalize digits (e.g. `1.12` becomes `DG.DGDG`), and replace unknown words with a special token `UUUNKKK`.\n",
    "\n",
    "You don't need to worry about the details of this, but you can inspect the `docs` variables or look at the raw data (in plaintext) in the `./data/` directory."
   ]
  },
  {
   "cell_type": "code",
   "execution_count": 4,
   "metadata": {},
   "outputs": [],
   "source": [
    "import data_utils.utils as du\n",
    "import data_utils.ner as ner"
   ]
  },
  {
   "cell_type": "code",
   "execution_count": 5,
   "metadata": {},
   "outputs": [],
   "source": [
    "# Load the starter word vectors\n",
    "wv, word_to_num, num_to_word = ner.load_wv('data/ner/vocab.txt',\n",
    "                                           'data/ner/wordVectors.txt')\n",
    "tagnames = [\"O\", \"LOC\", \"MISC\", \"ORG\", \"PER\"]\n",
    "num_to_tag = dict(enumerate(tagnames))\n",
    "tag_to_num = du.invert_dict(num_to_tag)\n",
    "\n",
    "# Set window size\n",
    "windowsize = 3\n",
    "\n",
    "# Load the training set\n",
    "docs = du.load_dataset('data/ner/train')\n",
    "X_train, y_train = du.docs_to_windows(docs, word_to_num, tag_to_num,\n",
    "                                      wsize=windowsize)\n",
    "\n",
    "# Load the dev set (for tuning hyperparameters)\n",
    "docs = du.load_dataset('data/ner/dev')\n",
    "X_dev, y_dev = du.docs_to_windows(docs, word_to_num, tag_to_num,\n",
    "                                  wsize=windowsize)\n",
    "\n",
    "# Load the test set (dummy labels only)\n",
    "docs = du.load_dataset('data/ner/test.masked')\n",
    "X_test, y_test = du.docs_to_windows(docs, word_to_num, tag_to_num,\n",
    "                                    wsize=windowsize)"
   ]
  },
  {
   "cell_type": "markdown",
   "metadata": {},
   "source": [
    "To avoid re-inventing the wheel, we provide a base class that handles a lot of the drudgery of managing parameters and running gradient descent. It's based on the classifier API used by [`scikit-learn`](http://scikit-learn.org/stable/), so if you're familiar with that library it should be easy to use. \n",
    "\n",
    "We'll be using this class for the rest of this assignment, so it helps to get acquainted with a simple example that should be familiar from Assignment 1. To keep this notebook uncluttered, we've put the code in the `softmax_example.py`; take a look at it there, then run the cell below."
   ]
  },
  {
   "cell_type": "code",
   "execution_count": 6,
   "metadata": {},
   "outputs": [
    {
     "name": "stderr",
     "output_type": "stream",
     "text": [
      "grad_check: dJ/db error norm = 3.565e-10 [ok]\n    b dims: [5L] = 5 elem\ngrad_check: dJ/dW error norm = 2.164e-11 [ok]\n    W dims: [5L, 100L] = 500 elem\ngrad_check: dJ/dL[5] error norm = 2.646e-11 [ok]\n    L[5] dims: [100L] = 100 elem\n"
     ]
    }
   ],
   "source": [
    "from softmax_example import SoftmaxRegression\n",
    "sr = SoftmaxRegression(wv=zeros((10,100)), dims=(100,5))\n",
    "\n",
    "##\n",
    "# Automatic gradient checker!\n",
    "# this checks anything you add to self.grads or self.sgrads\n",
    "# using the method of Assignment 1\n",
    "sr.grad_check(x=5, y=4)"
   ]
  },
  {
   "cell_type": "markdown",
   "metadata": {},
   "source": [
    "In order to implement a model, you need to subclass `NNBase`, then implement the following methods:\n",
    "\n",
    "- `__init__()` (initialize parameters and hyperparameters)\n",
    "- `_acc_grads()` (compute and accumulate gradients)\n",
    "- `compute_loss()` (compute loss for a training example)\n",
    "- `predict()`, `predict_proba()`, or other prediction method (for evaluation)\n",
    "\n",
    "`NNBase` provides you with a few others that will be helpful:\n",
    "\n",
    "- `grad_check()` (run a gradient check - calls `_acc_grads` and `compute_loss`)\n",
    "- `train_sgd()` (run SGD training; more on this later)\n",
    "\n",
    "Your task is to implement the window model in `nerwindow.py`; a scaffold has been provided for you with instructions on what to fill in.\n",
    "\n",
    "When ready, you can test below:"
   ]
  },
  {
   "cell_type": "code",
   "execution_count": 7,
   "metadata": {},
   "outputs": [
    {
     "name": "stderr",
     "output_type": "stream",
     "text": [
      "grad_check: dJ/db2 error norm = 3.23e-10 [ok]\n    b2 dims: [5L] = 5 elem\ngrad_check: dJ/dU error norm = 2.839e-10"
     ]
    },
    {
     "name": "stderr",
     "output_type": "stream",
     "text": [
      " [ok]\n    U dims: [5L, 100L] = 500 elem\ngrad_check: dJ/db1 error norm = 2.85e-09 [ok]\n    b1 dims: [100L] = 100 elem\ngrad_check: dJ/dW error norm = 1.337e-08"
     ]
    },
    {
     "name": "stderr",
     "output_type": "stream",
     "text": [
      " [ok]\n    W dims: [100L, 150L] = 15000 elem\ngrad_check: dJ/dL[30] error norm = 3.461e-11 [ok]\n    L[30] dims: [50L] = 50 elem\ngrad_check: dJ/dL[6659] error norm = 4.373e-11 [ok]\n    L[6659] dims: [50L] = 50 elem\ngrad_check: dJ/dL[12637] error norm = 4.525e-11"
     ]
    },
    {
     "name": "stderr",
     "output_type": "stream",
     "text": [
      " [ok]\n    L[12637] dims: [50L] = 50 elem\n"
     ]
    }
   ],
   "source": [
    "from nerwindow import WindowMLP\n",
    "clf = WindowMLP(wv, windowsize=windowsize, dims=[None, 100, 5],\n",
    "                reg=0.001, alpha=0.01)\n",
    "clf.grad_check(X_train[0], y_train[0])  # gradient check on single point"
   ]
  },
  {
   "cell_type": "markdown",
   "metadata": {},
   "source": [
    "Now we'll train your model on some data! You can implement your own SGD method, but we recommend that you just call `clf.train_sgd`. This takes the following arguments:\n",
    "\n",
    "- `X`, `y` : training data\n",
    "- `idxiter`: iterable (list or generator) that gives index (row of X) of training examples in the order they should be visited by SGD\n",
    "- `printevery`: int, prints progress after this many examples\n",
    "- `costevery`: int, computes mean loss after this many examples. This is a costly operation, so don't make this too frequent!\n",
    "\n",
    "The implementation we give you supports minibatch learning; if `idxiter` is a list-of-lists (or yields lists), then gradients will be computed for all indices in a minibatch before modifying the parameters (this is why we have you write `_acc_grad` instead of applying them directly!).\n",
    "\n",
    "Before training, you should generate a training schedule to pass as `idxiter`. If you know how to use Python generators, we recommend those; otherwise, just make a static list. Make the following in the cell below:\n",
    "\n",
    "- An \"epoch\" schedule that just iterates through the training set, in order, `nepoch` times.\n",
    "- A random schedule of `N` examples sampled with replacement from the training set.\n",
    "- A random schedule of `N/k` minibatches of size `k`, sampled with replacement from the training set."
   ]
  },
  {
   "cell_type": "code",
   "execution_count": 8,
   "metadata": {},
   "outputs": [],
   "source": [
    "nepoch = 5\n",
    "N = nepoch * len(y_train)\n",
    "k = 5 # minibatch size\n",
    "\n",
    "random.seed(10) # do not change this!\n",
    "#### YOUR CODE HERE ####\n",
    "\n",
    "max_iters = 100000\n",
    "\n",
    "idxs = range(len(y_train))\n",
    "\n",
    "# repeat the indices nepoch times\n",
    "idx_epoch = nepoch * idxs\n",
    "\n",
    "# choose N random points\n",
    "idx_N = random.choice(idxs, N)\n",
    "\n",
    "# make generator for N/k minibatches\n",
    "def idx_batches():\n",
    "    for i in xrange(N / k): yield random.choice(idxs, k)\n",
    "\n",
    "#### END YOUR CODE ###"
   ]
  },
  {
   "cell_type": "code",
   "execution_count": 138,
   "metadata": {},
   "outputs": [
    {
     "name": "stdout",
     "output_type": "stream",
     "text": [
      "Begin SGD...\n  Seen 0 in 0.00 s\n  [0]: mean loss 0.438661"
     ]
    },
    {
     "name": "stdout",
     "output_type": "stream",
     "text": [
      "\n  [5000]: mean loss 0.428996"
     ]
    },
    {
     "name": "stdout",
     "output_type": "stream",
     "text": [
      "\n  Seen 10000 in 9.40 s"
     ]
    },
    {
     "name": "stdout",
     "output_type": "stream",
     "text": [
      "\n  [10000]: mean loss 0.434167"
     ]
    },
    {
     "name": "stdout",
     "output_type": "stream",
     "text": [
      "\n  [15000]: mean loss 0.459668"
     ]
    },
    {
     "name": "stdout",
     "output_type": "stream",
     "text": [
      "\n  Seen 20000 in 18.71 s"
     ]
    },
    {
     "name": "stdout",
     "output_type": "stream",
     "text": [
      "\n  [20000]: mean loss 0.371658"
     ]
    },
    {
     "name": "stdout",
     "output_type": "stream",
     "text": [
      "\n  [25000]: mean loss 0.384725"
     ]
    },
    {
     "name": "stdout",
     "output_type": "stream",
     "text": [
      "\n  Seen 30000 in 28.13 s"
     ]
    },
    {
     "name": "stdout",
     "output_type": "stream",
     "text": [
      "\n  [30000]: mean loss 0.404473"
     ]
    },
    {
     "name": "stdout",
     "output_type": "stream",
     "text": [
      "\n  [35000]: mean loss 0.657569"
     ]
    },
    {
     "name": "stdout",
     "output_type": "stream",
     "text": [
      "\n  Seen 40000 in 37.04 s"
     ]
    },
    {
     "name": "stdout",
     "output_type": "stream",
     "text": [
      "\n  [40000]: mean loss 0.417788"
     ]
    },
    {
     "name": "stdout",
     "output_type": "stream",
     "text": [
      "\n  [45000]: mean loss 0.371288"
     ]
    },
    {
     "name": "stdout",
     "output_type": "stream",
     "text": [
      "\n  Seen 50000 in 45.93 s"
     ]
    },
    {
     "name": "stdout",
     "output_type": "stream",
     "text": [
      "\n  [50000]: mean loss 0.407846"
     ]
    },
    {
     "name": "stdout",
     "output_type": "stream",
     "text": [
      "\n  [55000]: mean loss 0.46483"
     ]
    },
    {
     "name": "stdout",
     "output_type": "stream",
     "text": [
      "\n  Seen 60000 in 54.92 s"
     ]
    },
    {
     "name": "stdout",
     "output_type": "stream",
     "text": [
      "\n  [60000]: mean loss 0.362887"
     ]
    },
    {
     "name": "stdout",
     "output_type": "stream",
     "text": [
      "\n  [65000]: mean loss 0.508973"
     ]
    },
    {
     "name": "stdout",
     "output_type": "stream",
     "text": [
      "\n  Seen 70000 in 63.92 s"
     ]
    },
    {
     "name": "stdout",
     "output_type": "stream",
     "text": [
      "\n  [70000]: mean loss 0.488808"
     ]
    },
    {
     "name": "stdout",
     "output_type": "stream",
     "text": [
      "\n  [75000]: mean loss 0.372667"
     ]
    },
    {
     "name": "stdout",
     "output_type": "stream",
     "text": [
      "\n  Seen 80000 in 72.83 s"
     ]
    },
    {
     "name": "stdout",
     "output_type": "stream",
     "text": [
      "\n  [80000]: mean loss 0.339659"
     ]
    },
    {
     "name": "stdout",
     "output_type": "stream",
     "text": [
      "\n  [85000]: mean loss 0.340464"
     ]
    },
    {
     "name": "stdout",
     "output_type": "stream",
     "text": [
      "\n  Seen 90000 in 81.80 s"
     ]
    },
    {
     "name": "stdout",
     "output_type": "stream",
     "text": [
      "\n  [90000]: mean loss 0.361863"
     ]
    },
    {
     "name": "stdout",
     "output_type": "stream",
     "text": [
      "\n  [95000]: mean loss 0.354329"
     ]
    },
    {
     "name": "stdout",
     "output_type": "stream",
     "text": [
      "\n  [100000]: mean loss 0.320209"
     ]
    },
    {
     "name": "stdout",
     "output_type": "stream",
     "text": [
      "\nSGD complete: 100000 examples in 94.17 seconds.\n"
     ]
    },
    {
     "data": {
      "text/plain": [
       "[(0, 0.43866050475065216),\n (5000, 0.42899578300879143),\n (10000, 0.43416679641845118),\n (15000, 0.45966820754009191),\n (20000, 0.37165849666946149),\n (25000, 0.3847245349986656),\n (30000, 0.404472939168454),\n (35000, 0.65756892141233836),\n (40000, 0.41778836493922566),\n (45000, 0.37128756010197944),\n (50000, 0.40784566882986034),\n (55000, 0.46482953521420672),\n (60000, 0.36288735620623996),\n (65000, 0.50897316556736882),\n (70000, 0.48880836106382031),\n (75000, 0.37266719865750314),\n (80000, 0.33965910955133455),\n (85000, 0.3404644181292929),\n (90000, 0.36186276607933021),\n (95000, 0.35432935364952733),\n (100000, 0.3202086252348344)]"
      ]
     },
     "execution_count": 138,
     "output_type": "execute_result",
     "metadata": {}
    }
   ],
   "source": [
    "clf.train_sgd(X_train, y_train, idxiter=xrange(max_iters), costevery=5000)"
   ]
  },
  {
   "cell_type": "markdown",
   "metadata": {},
   "source": [
    "Now call `train_sgd` to train on `X_train`, `y_train`. To verify that things work, train on 100,000 examples or so to start (with any of the above schedules). This shouldn't take more than a couple minutes, and you should get a mean cross-entropy loss around 0.4.\n",
    "\n",
    "Now, if this works well, it's time for production! You have three tasks here:\n",
    "\n",
    "1. Train a good model\n",
    "2. Plot a learning curve (cost vs. # of iterations)\n",
    "3. Use your best model to predict the test set\n",
    "\n",
    "You should train on the `train` data and evaluate performance on the `dev` set. The `test` data we provided has only dummy labels (everything is `O`); we'll compare your predictions to the true labels at grading time. \n",
    "\n",
    "Scroll down to section (f) for the evaluation code.\n",
    "\n",
    "We don't expect you to spend too much time doing an exhaustive search here; the default parameters should work well, although you can certainly do better. Try to achieve an F1 score of at least 76% on the dev set, as reported by `eval_performance`.\n",
    "\n",
    "Feel free to create new cells and write new code here, including new functions (helpers and otherwise) in `nerwindow.py`. When you have a good model, follow the instructions below to make predictions on the test set.\n",
    "\n",
    "A strong model may require 10-20 passes (or equivalent number of random samples) through the training set and could take 20 minutes or more to train - but it's also possible to be much, much faster!\n",
    "\n",
    "Things you may want to tune:\n",
    "- `alpha` (including using an \"annealing\" schedule to decrease the learning rate over time)\n",
    "- training schedule and minibatch size\n",
    "- regularization strength\n",
    "- hidden layer dimension\n",
    "- width of context window"
   ]
  },
  {
   "cell_type": "code",
   "execution_count": 18,
   "metadata": {},
   "outputs": [
    {
     "name": "stdout",
     "output_type": "stream",
     "text": [
      "Begin SGD...\n  Seen 0 in 0.00 s\n  [0]: mean loss 1.77988"
     ]
    },
    {
     "name": "stdout",
     "output_type": "stream",
     "text": [
      "\n  Seen 10000 in 9.77 s"
     ]
    },
    {
     "name": "stdout",
     "output_type": "stream",
     "text": [
      "\n  [10000]: mean loss 0.335743"
     ]
    },
    {
     "name": "stdout",
     "output_type": "stream",
     "text": [
      "\n  Seen 20000 in 20.64 s"
     ]
    },
    {
     "name": "stdout",
     "output_type": "stream",
     "text": [
      "\n  [20000]: mean loss 0.298726"
     ]
    },
    {
     "name": "stdout",
     "output_type": "stream",
     "text": [
      "\n  Seen 30000 in 30.12 s"
     ]
    },
    {
     "name": "stdout",
     "output_type": "stream",
     "text": [
      "\n  [30000]: mean loss 0.279629"
     ]
    },
    {
     "name": "stdout",
     "output_type": "stream",
     "text": [
      "\n  Seen 40000 in 39.52 s"
     ]
    },
    {
     "name": "stdout",
     "output_type": "stream",
     "text": [
      "\n  [40000]: mean loss 0.262145"
     ]
    },
    {
     "name": "stdout",
     "output_type": "stream",
     "text": [
      "\n  Seen 50000 in 48.77 s"
     ]
    },
    {
     "name": "stdout",
     "output_type": "stream",
     "text": [
      "\n  [50000]: mean loss 0.23218"
     ]
    },
    {
     "name": "stdout",
     "output_type": "stream",
     "text": [
      "\n  Seen 60000 in 58.46 s"
     ]
    },
    {
     "name": "stdout",
     "output_type": "stream",
     "text": [
      "\n  [60000]: mean loss 0.227118"
     ]
    },
    {
     "name": "stdout",
     "output_type": "stream",
     "text": [
      "\n  Seen 70000 in 68.07 s"
     ]
    },
    {
     "name": "stdout",
     "output_type": "stream",
     "text": [
      "\n  [70000]: mean loss 0.209058"
     ]
    },
    {
     "name": "stdout",
     "output_type": "stream",
     "text": [
      "\n  Seen 80000 in 77.34 s"
     ]
    },
    {
     "name": "stdout",
     "output_type": "stream",
     "text": [
      "\n  [80000]: mean loss 0.201542"
     ]
    },
    {
     "name": "stdout",
     "output_type": "stream",
     "text": [
      "\n  Seen 90000 in 86.64 s"
     ]
    },
    {
     "name": "stdout",
     "output_type": "stream",
     "text": [
      "\n  [90000]: mean loss 0.190813"
     ]
    },
    {
     "name": "stdout",
     "output_type": "stream",
     "text": [
      "\n  Seen 100000 in 96.79 s"
     ]
    },
    {
     "name": "stdout",
     "output_type": "stream",
     "text": [
      "\n  [100000]: mean loss 0.171713"
     ]
    },
    {
     "name": "stdout",
     "output_type": "stream",
     "text": [
      "\n  Seen 110000 in 106.85 s"
     ]
    },
    {
     "name": "stdout",
     "output_type": "stream",
     "text": [
      "\n  [110000]: mean loss 0.167137"
     ]
    },
    {
     "name": "stdout",
     "output_type": "stream",
     "text": [
      "\n  Seen 120000 in 116.49 s"
     ]
    },
    {
     "name": "stdout",
     "output_type": "stream",
     "text": [
      "\n  [120000]: mean loss 0.164789"
     ]
    },
    {
     "name": "stdout",
     "output_type": "stream",
     "text": [
      "\n  Seen 130000 in 126.05 s"
     ]
    },
    {
     "name": "stdout",
     "output_type": "stream",
     "text": [
      "\n  [130000]: mean loss 0.151085"
     ]
    },
    {
     "name": "stdout",
     "output_type": "stream",
     "text": [
      "\n  Seen 140000 in 135.24 s"
     ]
    },
    {
     "name": "stdout",
     "output_type": "stream",
     "text": [
      "\n  [140000]: mean loss 0.145194"
     ]
    },
    {
     "name": "stdout",
     "output_type": "stream",
     "text": [
      "\n  Seen 150000 in 144.41 s"
     ]
    },
    {
     "name": "stdout",
     "output_type": "stream",
     "text": [
      "\n  [150000]: mean loss 0.135311"
     ]
    },
    {
     "name": "stdout",
     "output_type": "stream",
     "text": [
      "\n  Seen 160000 in 153.62 s"
     ]
    },
    {
     "name": "stdout",
     "output_type": "stream",
     "text": [
      "\n  [160000]: mean loss 0.131517"
     ]
    },
    {
     "name": "stdout",
     "output_type": "stream",
     "text": [
      "\n  Seen 170000 in 162.73 s"
     ]
    },
    {
     "name": "stdout",
     "output_type": "stream",
     "text": [
      "\n  [170000]: mean loss 0.126976"
     ]
    },
    {
     "name": "stdout",
     "output_type": "stream",
     "text": [
      "\n  Seen 180000 in 172.00 s"
     ]
    },
    {
     "name": "stdout",
     "output_type": "stream",
     "text": [
      "\n  [180000]: mean loss 0.126042"
     ]
    },
    {
     "name": "stdout",
     "output_type": "stream",
     "text": [
      "\n  Seen 190000 in 181.14 s"
     ]
    },
    {
     "name": "stdout",
     "output_type": "stream",
     "text": [
      "\n  [190000]: mean loss 0.119423"
     ]
    },
    {
     "name": "stdout",
     "output_type": "stream",
     "text": [
      "\n  Seen 200000 in 190.34 s"
     ]
    },
    {
     "name": "stdout",
     "output_type": "stream",
     "text": [
      "\n  [200000]: mean loss 0.115463"
     ]
    },
    {
     "name": "stdout",
     "output_type": "stream",
     "text": [
      "\n  Seen 210000 in 199.56 s"
     ]
    },
    {
     "name": "stdout",
     "output_type": "stream",
     "text": [
      "\n  [210000]: mean loss 0.115202"
     ]
    },
    {
     "name": "stdout",
     "output_type": "stream",
     "text": [
      "\n  Seen 220000 in 208.65 s"
     ]
    },
    {
     "name": "stdout",
     "output_type": "stream",
     "text": [
      "\n  [220000]: mean loss 0.110329"
     ]
    },
    {
     "name": "stdout",
     "output_type": "stream",
     "text": [
      "\n  Seen 230000 in 217.84 s"
     ]
    },
    {
     "name": "stdout",
     "output_type": "stream",
     "text": [
      "\n  [230000]: mean loss 0.108964"
     ]
    },
    {
     "name": "stdout",
     "output_type": "stream",
     "text": [
      "\n  Seen 240000 in 226.88 s"
     ]
    },
    {
     "name": "stdout",
     "output_type": "stream",
     "text": [
      "\n  [240000]: mean loss 0.108195"
     ]
    },
    {
     "name": "stdout",
     "output_type": "stream",
     "text": [
      "\n  Seen 250000 in 236.01 s"
     ]
    },
    {
     "name": "stdout",
     "output_type": "stream",
     "text": [
      "\n  [250000]: mean loss 0.100564"
     ]
    },
    {
     "name": "stdout",
     "output_type": "stream",
     "text": [
      "\n  Seen 260000 in 245.29 s"
     ]
    },
    {
     "name": "stdout",
     "output_type": "stream",
     "text": [
      "\n  [260000]: mean loss 0.104136"
     ]
    },
    {
     "name": "stdout",
     "output_type": "stream",
     "text": [
      "\n  Seen 270000 in 254.47 s"
     ]
    },
    {
     "name": "stdout",
     "output_type": "stream",
     "text": [
      "\n  [270000]: mean loss 0.0954664"
     ]
    },
    {
     "name": "stdout",
     "output_type": "stream",
     "text": [
      "\n  Seen 280000 in 263.67 s"
     ]
    },
    {
     "name": "stdout",
     "output_type": "stream",
     "text": [
      "\n  [280000]: mean loss 0.0992419"
     ]
    },
    {
     "name": "stdout",
     "output_type": "stream",
     "text": [
      "\n  Seen 290000 in 272.80 s"
     ]
    },
    {
     "name": "stdout",
     "output_type": "stream",
     "text": [
      "\n  [290000]: mean loss 0.0934818"
     ]
    },
    {
     "name": "stdout",
     "output_type": "stream",
     "text": [
      "\n  Seen 300000 in 282.02 s"
     ]
    },
    {
     "name": "stdout",
     "output_type": "stream",
     "text": [
      "\n  [300000]: mean loss 0.0909986"
     ]
    },
    {
     "name": "stdout",
     "output_type": "stream",
     "text": [
      "\n  Seen 310000 in 291.33 s"
     ]
    },
    {
     "name": "stdout",
     "output_type": "stream",
     "text": [
      "\n  [310000]: mean loss 0.0949549"
     ]
    },
    {
     "name": "stdout",
     "output_type": "stream",
     "text": [
      "\n  Seen 320000 in 300.52 s"
     ]
    },
    {
     "name": "stdout",
     "output_type": "stream",
     "text": [
      "\n  [320000]: mean loss 0.0904861"
     ]
    },
    {
     "name": "stdout",
     "output_type": "stream",
     "text": [
      "\n  Seen 330000 in 309.62 s"
     ]
    },
    {
     "name": "stdout",
     "output_type": "stream",
     "text": [
      "\n  [330000]: mean loss 0.0890684"
     ]
    },
    {
     "name": "stdout",
     "output_type": "stream",
     "text": [
      "\n  Seen 340000 in 318.78 s"
     ]
    },
    {
     "name": "stdout",
     "output_type": "stream",
     "text": [
      "\n  [340000]: mean loss 0.0860453"
     ]
    },
    {
     "name": "stdout",
     "output_type": "stream",
     "text": [
      "\n  Seen 350000 in 327.95 s"
     ]
    },
    {
     "name": "stdout",
     "output_type": "stream",
     "text": [
      "\n  [350000]: mean loss 0.0849666"
     ]
    },
    {
     "name": "stdout",
     "output_type": "stream",
     "text": [
      "\n  Seen 360000 in 337.21 s"
     ]
    },
    {
     "name": "stdout",
     "output_type": "stream",
     "text": [
      "\n  [360000]: mean loss 0.0836993"
     ]
    },
    {
     "name": "stdout",
     "output_type": "stream",
     "text": [
      "\n  Seen 370000 in 346.45 s"
     ]
    },
    {
     "name": "stdout",
     "output_type": "stream",
     "text": [
      "\n  [370000]: mean loss 0.0957291"
     ]
    },
    {
     "name": "stdout",
     "output_type": "stream",
     "text": [
      "\n  Seen 380000 in 355.60 s"
     ]
    },
    {
     "name": "stdout",
     "output_type": "stream",
     "text": [
      "\n  [380000]: mean loss 0.0846682"
     ]
    },
    {
     "name": "stdout",
     "output_type": "stream",
     "text": [
      "\n  Seen 390000 in 364.80 s"
     ]
    },
    {
     "name": "stdout",
     "output_type": "stream",
     "text": [
      "\n  [390000]: mean loss 0.082277"
     ]
    },
    {
     "name": "stdout",
     "output_type": "stream",
     "text": [
      "\n  Seen 400000 in 374.05 s"
     ]
    },
    {
     "name": "stdout",
     "output_type": "stream",
     "text": [
      "\n  [400000]: mean loss 0.0801644"
     ]
    },
    {
     "name": "stdout",
     "output_type": "stream",
     "text": [
      "\n  Seen 410000 in 383.24 s"
     ]
    },
    {
     "name": "stdout",
     "output_type": "stream",
     "text": [
      "\n  [410000]: mean loss 0.0810855"
     ]
    },
    {
     "name": "stdout",
     "output_type": "stream",
     "text": [
      "\n  Seen 420000 in 392.57 s"
     ]
    },
    {
     "name": "stdout",
     "output_type": "stream",
     "text": [
      "\n  [420000]: mean loss 0.0761975"
     ]
    },
    {
     "name": "stdout",
     "output_type": "stream",
     "text": [
      "\n  Seen 430000 in 401.77 s"
     ]
    },
    {
     "name": "stdout",
     "output_type": "stream",
     "text": [
      "\n  [430000]: mean loss 0.0784379"
     ]
    },
    {
     "name": "stdout",
     "output_type": "stream",
     "text": [
      "\n  Seen 440000 in 410.99 s"
     ]
    },
    {
     "name": "stdout",
     "output_type": "stream",
     "text": [
      "\n  [440000]: mean loss 0.0763745"
     ]
    },
    {
     "name": "stdout",
     "output_type": "stream",
     "text": [
      "\n  Seen 450000 in 420.24 s"
     ]
    },
    {
     "name": "stdout",
     "output_type": "stream",
     "text": [
      "\n  [450000]: mean loss 0.0778269"
     ]
    },
    {
     "name": "stdout",
     "output_type": "stream",
     "text": [
      "\n  Seen 460000 in 429.41 s"
     ]
    },
    {
     "name": "stdout",
     "output_type": "stream",
     "text": [
      "\n  [460000]: mean loss 0.0753084"
     ]
    },
    {
     "name": "stdout",
     "output_type": "stream",
     "text": [
      "\n  Seen 470000 in 438.54 s"
     ]
    },
    {
     "name": "stdout",
     "output_type": "stream",
     "text": [
      "\n  [470000]: mean loss 0.0736138"
     ]
    },
    {
     "name": "stdout",
     "output_type": "stream",
     "text": [
      "\n  Seen 480000 in 447.60 s"
     ]
    },
    {
     "name": "stdout",
     "output_type": "stream",
     "text": [
      "\n  [480000]: mean loss 0.0757045"
     ]
    },
    {
     "name": "stdout",
     "output_type": "stream",
     "text": [
      "\n  Seen 490000 in 456.66 s"
     ]
    },
    {
     "name": "stdout",
     "output_type": "stream",
     "text": [
      "\n  [490000]: mean loss 0.0757939"
     ]
    },
    {
     "name": "stdout",
     "output_type": "stream",
     "text": [
      "\n  Seen 500000 in 465.81 s"
     ]
    },
    {
     "name": "stdout",
     "output_type": "stream",
     "text": [
      "\n  [500000]: mean loss 0.0689681"
     ]
    },
    {
     "name": "stdout",
     "output_type": "stream",
     "text": [
      "\n  Seen 510000 in 475.14 s"
     ]
    },
    {
     "name": "stdout",
     "output_type": "stream",
     "text": [
      "\n  [510000]: mean loss 0.072724"
     ]
    },
    {
     "name": "stdout",
     "output_type": "stream",
     "text": [
      "\n  Seen 520000 in 484.29 s"
     ]
    },
    {
     "name": "stdout",
     "output_type": "stream",
     "text": [
      "\n  [520000]: mean loss 0.0670854"
     ]
    },
    {
     "name": "stdout",
     "output_type": "stream",
     "text": [
      "\n  Seen 530000 in 493.44 s"
     ]
    },
    {
     "name": "stdout",
     "output_type": "stream",
     "text": [
      "\n  [530000]: mean loss 0.0686724"
     ]
    },
    {
     "name": "stdout",
     "output_type": "stream",
     "text": [
      "\n  Seen 540000 in 502.62 s"
     ]
    },
    {
     "name": "stdout",
     "output_type": "stream",
     "text": [
      "\n  [540000]: mean loss 0.0723133"
     ]
    },
    {
     "name": "stdout",
     "output_type": "stream",
     "text": [
      "\n  Seen 550000 in 511.83 s"
     ]
    },
    {
     "name": "stdout",
     "output_type": "stream",
     "text": [
      "\n  [550000]: mean loss 0.0683796"
     ]
    },
    {
     "name": "stdout",
     "output_type": "stream",
     "text": [
      "\n  Seen 560000 in 521.10 s"
     ]
    },
    {
     "name": "stdout",
     "output_type": "stream",
     "text": [
      "\n  [560000]: mean loss 0.0676103"
     ]
    },
    {
     "name": "stdout",
     "output_type": "stream",
     "text": [
      "\n  Seen 570000 in 530.45 s"
     ]
    },
    {
     "name": "stdout",
     "output_type": "stream",
     "text": [
      "\n  [570000]: mean loss 0.0662432"
     ]
    },
    {
     "name": "stdout",
     "output_type": "stream",
     "text": [
      "\n  Seen 580000 in 539.60 s"
     ]
    },
    {
     "name": "stdout",
     "output_type": "stream",
     "text": [
      "\n  [580000]: mean loss 0.0668945"
     ]
    },
    {
     "name": "stdout",
     "output_type": "stream",
     "text": [
      "\n  Seen 590000 in 548.84 s"
     ]
    },
    {
     "name": "stdout",
     "output_type": "stream",
     "text": [
      "\n  [590000]: mean loss 0.0636274"
     ]
    },
    {
     "name": "stdout",
     "output_type": "stream",
     "text": [
      "\n  Seen 600000 in 558.14 s"
     ]
    },
    {
     "name": "stdout",
     "output_type": "stream",
     "text": [
      "\n  [600000]: mean loss 0.0693876"
     ]
    },
    {
     "name": "stdout",
     "output_type": "stream",
     "text": [
      "\n  Seen 610000 in 567.32 s"
     ]
    },
    {
     "name": "stdout",
     "output_type": "stream",
     "text": [
      "\n  [610000]: mean loss 0.0679253"
     ]
    },
    {
     "name": "stdout",
     "output_type": "stream",
     "text": [
      "\n  Seen 620000 in 576.49 s"
     ]
    },
    {
     "name": "stdout",
     "output_type": "stream",
     "text": [
      "\n  [620000]: mean loss 0.0625803"
     ]
    },
    {
     "name": "stdout",
     "output_type": "stream",
     "text": [
      "\n  Seen 630000 in 585.53 s"
     ]
    },
    {
     "name": "stdout",
     "output_type": "stream",
     "text": [
      "\n  [630000]: mean loss 0.0634273"
     ]
    },
    {
     "name": "stdout",
     "output_type": "stream",
     "text": [
      "\n  Seen 640000 in 594.73 s"
     ]
    },
    {
     "name": "stdout",
     "output_type": "stream",
     "text": [
      "\n  [640000]: mean loss 0.0650066"
     ]
    },
    {
     "name": "stdout",
     "output_type": "stream",
     "text": [
      "\n  Seen 650000 in 604.01 s"
     ]
    },
    {
     "name": "stdout",
     "output_type": "stream",
     "text": [
      "\n  [650000]: mean loss 0.0669316"
     ]
    },
    {
     "name": "stdout",
     "output_type": "stream",
     "text": [
      "\n  Seen 660000 in 613.20 s"
     ]
    },
    {
     "name": "stdout",
     "output_type": "stream",
     "text": [
      "\n  [660000]: mean loss 0.0625378"
     ]
    },
    {
     "name": "stdout",
     "output_type": "stream",
     "text": [
      "\n  Seen 670000 in 622.37 s"
     ]
    },
    {
     "name": "stdout",
     "output_type": "stream",
     "text": [
      "\n  [670000]: mean loss 0.0615573"
     ]
    },
    {
     "name": "stdout",
     "output_type": "stream",
     "text": [
      "\n  Seen 680000 in 631.53 s"
     ]
    },
    {
     "name": "stdout",
     "output_type": "stream",
     "text": [
      "\n  [680000]: mean loss 0.059206"
     ]
    },
    {
     "name": "stdout",
     "output_type": "stream",
     "text": [
      "\n  Seen 690000 in 640.67 s"
     ]
    },
    {
     "name": "stdout",
     "output_type": "stream",
     "text": [
      "\n  [690000]: mean loss 0.0605349"
     ]
    },
    {
     "name": "stdout",
     "output_type": "stream",
     "text": [
      "\n  Seen 700000 in 649.81 s"
     ]
    },
    {
     "name": "stdout",
     "output_type": "stream",
     "text": [
      "\n  [700000]: mean loss 0.0632212"
     ]
    },
    {
     "name": "stdout",
     "output_type": "stream",
     "text": [
      "\n  Seen 710000 in 658.93 s"
     ]
    },
    {
     "name": "stdout",
     "output_type": "stream",
     "text": [
      "\n  [710000]: mean loss 0.0596109"
     ]
    },
    {
     "name": "stdout",
     "output_type": "stream",
     "text": [
      "\n  Seen 720000 in 668.08 s"
     ]
    },
    {
     "name": "stdout",
     "output_type": "stream",
     "text": [
      "\n  [720000]: mean loss 0.0579568"
     ]
    },
    {
     "name": "stdout",
     "output_type": "stream",
     "text": [
      "\n  Seen 730000 in 677.12 s"
     ]
    },
    {
     "name": "stdout",
     "output_type": "stream",
     "text": [
      "\n  [730000]: mean loss 0.0569868"
     ]
    },
    {
     "name": "stdout",
     "output_type": "stream",
     "text": [
      "\n  Seen 740000 in 686.34 s"
     ]
    },
    {
     "name": "stdout",
     "output_type": "stream",
     "text": [
      "\n  [740000]: mean loss 0.0607047"
     ]
    },
    {
     "name": "stdout",
     "output_type": "stream",
     "text": [
      "\n  Seen 750000 in 695.56 s"
     ]
    },
    {
     "name": "stdout",
     "output_type": "stream",
     "text": [
      "\n  [750000]: mean loss 0.0594539"
     ]
    },
    {
     "name": "stdout",
     "output_type": "stream",
     "text": [
      "\n  Seen 760000 in 704.81 s"
     ]
    },
    {
     "name": "stdout",
     "output_type": "stream",
     "text": [
      "\n  [760000]: mean loss 0.0578441"
     ]
    },
    {
     "name": "stdout",
     "output_type": "stream",
     "text": [
      "\n  Seen 770000 in 713.94 s"
     ]
    },
    {
     "name": "stdout",
     "output_type": "stream",
     "text": [
      "\n  [770000]: mean loss 0.0535682"
     ]
    },
    {
     "name": "stdout",
     "output_type": "stream",
     "text": [
      "\n  Seen 780000 in 723.10 s"
     ]
    },
    {
     "name": "stdout",
     "output_type": "stream",
     "text": [
      "\n  [780000]: mean loss 0.05582"
     ]
    },
    {
     "name": "stdout",
     "output_type": "stream",
     "text": [
      "\n  Seen 790000 in 732.32 s"
     ]
    },
    {
     "name": "stdout",
     "output_type": "stream",
     "text": [
      "\n  [790000]: mean loss 0.0568781"
     ]
    },
    {
     "name": "stdout",
     "output_type": "stream",
     "text": [
      "\n  Seen 800000 in 741.46 s"
     ]
    },
    {
     "name": "stdout",
     "output_type": "stream",
     "text": [
      "\n  [800000]: mean loss 0.0587521"
     ]
    },
    {
     "name": "stdout",
     "output_type": "stream",
     "text": [
      "\n  Seen 810000 in 750.57 s"
     ]
    },
    {
     "name": "stdout",
     "output_type": "stream",
     "text": [
      "\n  [810000]: mean loss 0.0546287"
     ]
    },
    {
     "name": "stdout",
     "output_type": "stream",
     "text": [
      "\n  Seen 820000 in 759.71 s"
     ]
    },
    {
     "name": "stdout",
     "output_type": "stream",
     "text": [
      "\n  [820000]: mean loss 0.0522787"
     ]
    },
    {
     "name": "stdout",
     "output_type": "stream",
     "text": [
      "\n  Seen 830000 in 768.99 s"
     ]
    },
    {
     "name": "stdout",
     "output_type": "stream",
     "text": [
      "\n  [830000]: mean loss 0.0546301"
     ]
    },
    {
     "name": "stdout",
     "output_type": "stream",
     "text": [
      "\n  Seen 840000 in 778.26 s"
     ]
    },
    {
     "name": "stdout",
     "output_type": "stream",
     "text": [
      "\n  [840000]: mean loss 0.0583642"
     ]
    },
    {
     "name": "stdout",
     "output_type": "stream",
     "text": [
      "\n  Seen 850000 in 787.44 s"
     ]
    },
    {
     "name": "stdout",
     "output_type": "stream",
     "text": [
      "\n  [850000]: mean loss 0.0554176"
     ]
    },
    {
     "name": "stdout",
     "output_type": "stream",
     "text": [
      "\n  Seen 860000 in 796.54 s"
     ]
    },
    {
     "name": "stdout",
     "output_type": "stream",
     "text": [
      "\n  [860000]: mean loss 0.0521844"
     ]
    },
    {
     "name": "stdout",
     "output_type": "stream",
     "text": [
      "\n  Seen 870000 in 805.75 s"
     ]
    },
    {
     "name": "stdout",
     "output_type": "stream",
     "text": [
      "\n  [870000]: mean loss 0.0524232"
     ]
    },
    {
     "name": "stdout",
     "output_type": "stream",
     "text": [
      "\n  Seen 880000 in 814.90 s"
     ]
    },
    {
     "name": "stdout",
     "output_type": "stream",
     "text": [
      "\n  [880000]: mean loss 0.0517318"
     ]
    },
    {
     "name": "stdout",
     "output_type": "stream",
     "text": [
      "\n  Seen 890000 in 824.08 s"
     ]
    },
    {
     "name": "stdout",
     "output_type": "stream",
     "text": [
      "\n  [890000]: mean loss 0.0543894"
     ]
    },
    {
     "name": "stdout",
     "output_type": "stream",
     "text": [
      "\n  Seen 900000 in 833.19 s"
     ]
    },
    {
     "name": "stdout",
     "output_type": "stream",
     "text": [
      "\n  [900000]: mean loss 0.0600636"
     ]
    },
    {
     "name": "stdout",
     "output_type": "stream",
     "text": [
      "\n  Seen 910000 in 842.40 s"
     ]
    },
    {
     "name": "stdout",
     "output_type": "stream",
     "text": [
      "\n  [910000]: mean loss 0.0541662"
     ]
    },
    {
     "name": "stdout",
     "output_type": "stream",
     "text": [
      "\n  Seen 920000 in 851.57 s"
     ]
    },
    {
     "name": "stdout",
     "output_type": "stream",
     "text": [
      "\n  [920000]: mean loss 0.0558336"
     ]
    },
    {
     "name": "stdout",
     "output_type": "stream",
     "text": [
      "\n  Seen 930000 in 860.78 s"
     ]
    },
    {
     "name": "stdout",
     "output_type": "stream",
     "text": [
      "\n  [930000]: mean loss 0.0524456"
     ]
    },
    {
     "name": "stdout",
     "output_type": "stream",
     "text": [
      "\n  Seen 940000 in 869.91 s"
     ]
    },
    {
     "name": "stdout",
     "output_type": "stream",
     "text": [
      "\n  [940000]: mean loss 0.0490752"
     ]
    },
    {
     "name": "stdout",
     "output_type": "stream",
     "text": [
      "\n  Seen 950000 in 879.09 s"
     ]
    },
    {
     "name": "stdout",
     "output_type": "stream",
     "text": [
      "\n  [950000]: mean loss 0.0512266"
     ]
    },
    {
     "name": "stdout",
     "output_type": "stream",
     "text": [
      "\n  Seen 960000 in 888.39 s"
     ]
    },
    {
     "name": "stdout",
     "output_type": "stream",
     "text": [
      "\n  [960000]: mean loss 0.0488085"
     ]
    },
    {
     "name": "stdout",
     "output_type": "stream",
     "text": [
      "\n  Seen 970000 in 897.53 s"
     ]
    },
    {
     "name": "stdout",
     "output_type": "stream",
     "text": [
      "\n  [970000]: mean loss 0.0496357"
     ]
    },
    {
     "name": "stdout",
     "output_type": "stream",
     "text": [
      "\n  Seen 980000 in 906.68 s"
     ]
    },
    {
     "name": "stdout",
     "output_type": "stream",
     "text": [
      "\n  [980000]: mean loss 0.0515697"
     ]
    },
    {
     "name": "stdout",
     "output_type": "stream",
     "text": [
      "\n  Seen 990000 in 915.84 s"
     ]
    },
    {
     "name": "stdout",
     "output_type": "stream",
     "text": [
      "\n  [990000]: mean loss 0.0475045"
     ]
    },
    {
     "name": "stdout",
     "output_type": "stream",
     "text": [
      "\n  Seen 1000000 in 925.13 s"
     ]
    },
    {
     "name": "stdout",
     "output_type": "stream",
     "text": [
      "\n  [1000000]: mean loss 0.0496261"
     ]
    },
    {
     "name": "stdout",
     "output_type": "stream",
     "text": [
      "\n  Seen 1010000 in 934.37 s"
     ]
    },
    {
     "name": "stdout",
     "output_type": "stream",
     "text": [
      "\n  [1010000]: mean loss 0.0477743"
     ]
    },
    {
     "name": "stdout",
     "output_type": "stream",
     "text": [
      "\n  Seen 1020000 in 943.52 s"
     ]
    },
    {
     "name": "stdout",
     "output_type": "stream",
     "text": [
      "\n  [1020000]: mean loss 0.0468239"
     ]
    },
    {
     "name": "stdout",
     "output_type": "stream",
     "text": [
      "\n  Seen 1030000 in 952.75 s"
     ]
    },
    {
     "name": "stdout",
     "output_type": "stream",
     "text": [
      "\n  [1030000]: mean loss 0.0481415"
     ]
    },
    {
     "name": "stdout",
     "output_type": "stream",
     "text": [
      "\n  Seen 1040000 in 961.96 s"
     ]
    },
    {
     "name": "stdout",
     "output_type": "stream",
     "text": [
      "\n  [1040000]: mean loss 0.0462188"
     ]
    },
    {
     "name": "stdout",
     "output_type": "stream",
     "text": [
      "\n  Seen 1050000 in 971.06 s"
     ]
    },
    {
     "name": "stdout",
     "output_type": "stream",
     "text": [
      "\n  [1050000]: mean loss 0.0478887"
     ]
    },
    {
     "name": "stdout",
     "output_type": "stream",
     "text": [
      "\n  Seen 1060000 in 980.17 s"
     ]
    },
    {
     "name": "stdout",
     "output_type": "stream",
     "text": [
      "\n  [1060000]: mean loss 0.0444434"
     ]
    },
    {
     "name": "stdout",
     "output_type": "stream",
     "text": [
      "\n  Seen 1070000 in 989.40 s"
     ]
    },
    {
     "name": "stdout",
     "output_type": "stream",
     "text": [
      "\n  [1070000]: mean loss 0.0485094"
     ]
    },
    {
     "name": "stdout",
     "output_type": "stream",
     "text": [
      "\n  Seen 1080000 in 998.50 s"
     ]
    },
    {
     "name": "stdout",
     "output_type": "stream",
     "text": [
      "\n  [1080000]: mean loss 0.0472893"
     ]
    },
    {
     "name": "stdout",
     "output_type": "stream",
     "text": [
      "\n  Seen 1090000 in 1007.61 s"
     ]
    },
    {
     "name": "stdout",
     "output_type": "stream",
     "text": [
      "\n  [1090000]: mean loss 0.051056"
     ]
    },
    {
     "name": "stdout",
     "output_type": "stream",
     "text": [
      "\n  Seen 1100000 in 1016.78 s"
     ]
    },
    {
     "name": "stdout",
     "output_type": "stream",
     "text": [
      "\n  [1100000]: mean loss 0.048125"
     ]
    },
    {
     "name": "stdout",
     "output_type": "stream",
     "text": [
      "\n  Seen 1110000 in 1025.89 s"
     ]
    },
    {
     "name": "stdout",
     "output_type": "stream",
     "text": [
      "\n  [1110000]: mean loss 0.0562237"
     ]
    },
    {
     "name": "stdout",
     "output_type": "stream",
     "text": [
      "\n  Seen 1120000 in 1034.98 s"
     ]
    },
    {
     "name": "stdout",
     "output_type": "stream",
     "text": [
      "\n  [1120000]: mean loss 0.0453289"
     ]
    },
    {
     "name": "stdout",
     "output_type": "stream",
     "text": [
      "\n  Seen 1130000 in 1044.25 s"
     ]
    },
    {
     "name": "stdout",
     "output_type": "stream",
     "text": [
      "\n  [1130000]: mean loss 0.0464868"
     ]
    },
    {
     "name": "stdout",
     "output_type": "stream",
     "text": [
      "\n  Seen 1140000 in 1053.27 s"
     ]
    },
    {
     "name": "stdout",
     "output_type": "stream",
     "text": [
      "\n  [1140000]: mean loss 0.0452285"
     ]
    },
    {
     "name": "stdout",
     "output_type": "stream",
     "text": [
      "\n  Seen 1150000 in 1062.48 s"
     ]
    },
    {
     "name": "stdout",
     "output_type": "stream",
     "text": [
      "\n  [1150000]: mean loss 0.0499822"
     ]
    },
    {
     "name": "stdout",
     "output_type": "stream",
     "text": [
      "\n  Seen 1160000 in 1071.51 s"
     ]
    },
    {
     "name": "stdout",
     "output_type": "stream",
     "text": [
      "\n  [1160000]: mean loss 0.0477112"
     ]
    },
    {
     "name": "stdout",
     "output_type": "stream",
     "text": [
      "\n  Seen 1170000 in 1080.81 s"
     ]
    },
    {
     "name": "stdout",
     "output_type": "stream",
     "text": [
      "\n  [1170000]: mean loss 0.0470438"
     ]
    },
    {
     "name": "stdout",
     "output_type": "stream",
     "text": [
      "\n  Seen 1180000 in 1089.94 s"
     ]
    },
    {
     "name": "stdout",
     "output_type": "stream",
     "text": [
      "\n  [1180000]: mean loss 0.0460247"
     ]
    },
    {
     "name": "stdout",
     "output_type": "stream",
     "text": [
      "\n  Seen 1190000 in 1099.14 s"
     ]
    },
    {
     "name": "stdout",
     "output_type": "stream",
     "text": [
      "\n  [1190000]: mean loss 0.045937"
     ]
    },
    {
     "name": "stdout",
     "output_type": "stream",
     "text": [
      "\n  Seen 1200000 in 1108.24 s"
     ]
    },
    {
     "name": "stdout",
     "output_type": "stream",
     "text": [
      "\n  [1200000]: mean loss 0.0473443"
     ]
    },
    {
     "name": "stdout",
     "output_type": "stream",
     "text": [
      "\n  Seen 1210000 in 1117.49 s"
     ]
    },
    {
     "name": "stdout",
     "output_type": "stream",
     "text": [
      "\n  [1210000]: mean loss 0.0462028"
     ]
    },
    {
     "name": "stdout",
     "output_type": "stream",
     "text": [
      "\n  Seen 1220000 in 1126.72 s"
     ]
    },
    {
     "name": "stdout",
     "output_type": "stream",
     "text": [
      "\n  [1220000]: mean loss 0.0441521"
     ]
    },
    {
     "name": "stdout",
     "output_type": "stream",
     "text": [
      "\n  Seen 1230000 in 1135.97 s"
     ]
    },
    {
     "name": "stdout",
     "output_type": "stream",
     "text": [
      "\n  [1230000]: mean loss 0.047044"
     ]
    },
    {
     "name": "stdout",
     "output_type": "stream",
     "text": [
      "\n  Seen 1240000 in 1145.10 s"
     ]
    },
    {
     "name": "stdout",
     "output_type": "stream",
     "text": [
      "\n  [1240000]: mean loss 0.0439697"
     ]
    },
    {
     "name": "stdout",
     "output_type": "stream",
     "text": [
      "\n  Seen 1250000 in 1154.19 s"
     ]
    },
    {
     "name": "stdout",
     "output_type": "stream",
     "text": [
      "\n  [1250000]: mean loss 0.0444617"
     ]
    },
    {
     "name": "stdout",
     "output_type": "stream",
     "text": [
      "\n  Seen 1260000 in 1163.34 s"
     ]
    },
    {
     "name": "stdout",
     "output_type": "stream",
     "text": [
      "\n  [1260000]: mean loss 0.0436266"
     ]
    },
    {
     "name": "stdout",
     "output_type": "stream",
     "text": [
      "\n  Seen 1270000 in 1172.49 s"
     ]
    },
    {
     "name": "stdout",
     "output_type": "stream",
     "text": [
      "\n  [1270000]: mean loss 0.0441253"
     ]
    },
    {
     "name": "stdout",
     "output_type": "stream",
     "text": [
      "\n  Seen 1280000 in 1181.62 s"
     ]
    },
    {
     "name": "stdout",
     "output_type": "stream",
     "text": [
      "\n  [1280000]: mean loss 0.0438285"
     ]
    },
    {
     "name": "stdout",
     "output_type": "stream",
     "text": [
      "\n  Seen 1290000 in 1190.83 s"
     ]
    },
    {
     "name": "stdout",
     "output_type": "stream",
     "text": [
      "\n  [1290000]: mean loss 0.0426807"
     ]
    },
    {
     "name": "stdout",
     "output_type": "stream",
     "text": [
      "\n  Seen 1300000 in 1200.02 s"
     ]
    },
    {
     "name": "stdout",
     "output_type": "stream",
     "text": [
      "\n  [1300000]: mean loss 0.0536219"
     ]
    },
    {
     "name": "stdout",
     "output_type": "stream",
     "text": [
      "\n  Seen 1310000 in 1209.22 s"
     ]
    },
    {
     "name": "stdout",
     "output_type": "stream",
     "text": [
      "\n  [1310000]: mean loss 0.045473"
     ]
    },
    {
     "name": "stdout",
     "output_type": "stream",
     "text": [
      "\n  Seen 1320000 in 1218.33 s"
     ]
    },
    {
     "name": "stdout",
     "output_type": "stream",
     "text": [
      "\n  [1320000]: mean loss 0.0449306"
     ]
    },
    {
     "name": "stdout",
     "output_type": "stream",
     "text": [
      "\n  Seen 1330000 in 1227.38 s"
     ]
    },
    {
     "name": "stdout",
     "output_type": "stream",
     "text": [
      "\n  [1330000]: mean loss 0.0426112"
     ]
    },
    {
     "name": "stdout",
     "output_type": "stream",
     "text": [
      "\n  Seen 1340000 in 1236.52 s"
     ]
    },
    {
     "name": "stdout",
     "output_type": "stream",
     "text": [
      "\n  [1340000]: mean loss 0.0445495"
     ]
    },
    {
     "name": "stdout",
     "output_type": "stream",
     "text": [
      "\n  Seen 1350000 in 1245.65 s"
     ]
    },
    {
     "name": "stdout",
     "output_type": "stream",
     "text": [
      "\n  [1350000]: mean loss 0.0442451"
     ]
    },
    {
     "name": "stdout",
     "output_type": "stream",
     "text": [
      "\n  Seen 1360000 in 1254.86 s"
     ]
    },
    {
     "name": "stdout",
     "output_type": "stream",
     "text": [
      "\n  [1360000]: mean loss 0.0430002"
     ]
    },
    {
     "name": "stdout",
     "output_type": "stream",
     "text": [
      "\n  Seen 1370000 in 1264.02 s"
     ]
    },
    {
     "name": "stdout",
     "output_type": "stream",
     "text": [
      "\n  [1370000]: mean loss 0.0481098"
     ]
    },
    {
     "name": "stdout",
     "output_type": "stream",
     "text": [
      "\n  Seen 1380000 in 1273.14 s"
     ]
    },
    {
     "name": "stdout",
     "output_type": "stream",
     "text": [
      "\n  [1380000]: mean loss 0.0486179"
     ]
    },
    {
     "name": "stdout",
     "output_type": "stream",
     "text": [
      "\n  Seen 1390000 in 1282.16 s"
     ]
    },
    {
     "name": "stdout",
     "output_type": "stream",
     "text": [
      "\n  [1390000]: mean loss 0.0413022"
     ]
    },
    {
     "name": "stdout",
     "output_type": "stream",
     "text": [
      "\n  Seen 1400000 in 1291.36 s"
     ]
    },
    {
     "name": "stdout",
     "output_type": "stream",
     "text": [
      "\n  [1400000]: mean loss 0.0405736"
     ]
    },
    {
     "name": "stdout",
     "output_type": "stream",
     "text": [
      "\n  Seen 1410000 in 1300.50 s"
     ]
    },
    {
     "name": "stdout",
     "output_type": "stream",
     "text": [
      "\n  [1410000]: mean loss 0.0422806"
     ]
    },
    {
     "name": "stdout",
     "output_type": "stream",
     "text": [
      "\n  Seen 1420000 in 1309.67 s"
     ]
    },
    {
     "name": "stdout",
     "output_type": "stream",
     "text": [
      "\n  [1420000]: mean loss 0.0432107"
     ]
    },
    {
     "name": "stdout",
     "output_type": "stream",
     "text": [
      "\n  [1425347]: mean loss 0.0434628"
     ]
    },
    {
     "name": "stdout",
     "output_type": "stream",
     "text": [
      "\nSGD complete: 1425347 examples in 1319.77 seconds.\n             precision    recall  f1-score   support\n\n          O       0.97      0.99      0.98     42759\n        LOC       0.89      0.84      0.87      2094\n       MISC       0.87      0.74      0.80      1268\n        ORG       0.73      0.69      0.71      2092\n        PER       0.93      0.76      0.84      3149\n\navg / total       0.95      0.95      0.95     51362\n"
     ]
    },
    {
     "name": "stdout",
     "output_type": "stream",
     "text": [
      "\n=== Performance (omitting 'O' class) ===\nMean precision:  86.24%\nMean recall:     76.08%\nMean F1:         80.74%\n"
     ]
    }
   ],
   "source": [
    "#### YOUR CODE HERE ####\n",
    "# Sandbox: build a good model by tuning hyperparameters\n",
    "from nerwindow import full_report, eval_performance\n",
    "\n",
    "nepoch = 21\n",
    "N = nepoch * len(y_train)\n",
    "k = 3  # minibatch size\n",
    "\n",
    "random.seed(10)  # do not change this!\n",
    "\n",
    "batch_schedule = random.randint(0, len(y_train), N)\n",
    "\n",
    "clf = WindowMLP(wv, windowsize=3, dims=[None, 100, 5], reg=0.0001, alpha=0.01)\n",
    "traincurvebest = clf.train_sgd(X_train, y_train, idxiter=batch_schedule.reshape((N/k, k)), costevery=10000)\n",
    "y_hat = clf.predict(X_dev)\n",
    "full_report(y_dev, y_hat, tagnames)\n",
    "eval_performance(y_dev, y_hat, tagnames)\n",
    "\n",
    "#### END YOUR CODE ####"
   ]
  },
  {
   "cell_type": "markdown",
   "metadata": {},
   "source": [
    "## (e): Plot Learning Curves\n",
    "The `train_sgd` function returns a list of points `(counter, cost)` giving the mean loss after that number of SGD iterations.\n",
    "\n",
    "If the model is taking too long you can cut it off by going to *Kernel->Interrupt* in the IPython menu; `train_sgd` will return the training curve so-far, and you can restart without losing your training progress.\n",
    "\n",
    "Make two plots:\n",
    "\n",
    "- Learning curve using `reg = 0.001`, and comparing the effect of changing the learning rate: run with `alpha = 0.01` and `alpha = 0.1`. Use minibatches of size 5, and train for 10,000 minibatches with `costevery=200`. Be sure to scale up your counts (x-axis) to reflect the batch size. What happens if the model tries to learn too fast? Explain why this occurs, based on the relation of SGD to the true objective.\n",
    "\n",
    "- Learning curve for your best model (print the hyperparameters in the title), as trained using your best schedule. Set `costevery` so that you get at least 100 points to plot."
   ]
  },
  {
   "cell_type": "code",
   "execution_count": 9,
   "metadata": {},
   "outputs": [
    {
     "name": "stdout",
     "output_type": "stream",
     "text": [
      "Begin SGD...\n  Seen 0 in 0.00 s\n  [0]: mean loss 1.77988"
     ]
    },
    {
     "name": "stdout",
     "output_type": "stream",
     "text": [
      "\n  [5000]: mean loss 0.358253"
     ]
    },
    {
     "name": "stdout",
     "output_type": "stream",
     "text": [
      "\n  Seen 10000 in 12.72 s"
     ]
    },
    {
     "name": "stdout",
     "output_type": "stream",
     "text": [
      "\n  [10000]: mean loss 0.33883"
     ]
    },
    {
     "name": "stdout",
     "output_type": "stream",
     "text": [
      "\n  [15000]: mean loss 0.31967"
     ]
    },
    {
     "name": "stdout",
     "output_type": "stream",
     "text": [
      "\n  Seen 20000 in 25.36 s"
     ]
    },
    {
     "name": "stdout",
     "output_type": "stream",
     "text": [
      "\n  [20000]: mean loss 0.307078"
     ]
    },
    {
     "name": "stdout",
     "output_type": "stream",
     "text": [
      "\n  [25000]: mean loss 0.314051"
     ]
    },
    {
     "name": "stdout",
     "output_type": "stream",
     "text": [
      "\n  Seen 30000 in 38.03 s"
     ]
    },
    {
     "name": "stdout",
     "output_type": "stream",
     "text": [
      "\n  [30000]: mean loss 0.292804"
     ]
    },
    {
     "name": "stdout",
     "output_type": "stream",
     "text": [
      "\n  [35000]: mean loss 0.275745"
     ]
    },
    {
     "name": "stdout",
     "output_type": "stream",
     "text": [
      "\n  Seen 40000 in 50.88 s"
     ]
    },
    {
     "name": "stdout",
     "output_type": "stream",
     "text": [
      "\n  [40000]: mean loss 0.277554"
     ]
    },
    {
     "name": "stdout",
     "output_type": "stream",
     "text": [
      "\n  [45000]: mean loss 0.2748"
     ]
    },
    {
     "name": "stdout",
     "output_type": "stream",
     "text": [
      "\n  Seen 50000 in 63.45 s"
     ]
    },
    {
     "name": "stdout",
     "output_type": "stream",
     "text": [
      "\n  [50000]: mean loss 0.255475"
     ]
    },
    {
     "name": "stdout",
     "output_type": "stream",
     "text": [
      "\n  [55000]: mean loss 0.254498"
     ]
    },
    {
     "name": "stdout",
     "output_type": "stream",
     "text": [
      "\n  Seen 60000 in 76.08 s"
     ]
    },
    {
     "name": "stdout",
     "output_type": "stream",
     "text": [
      "\n  [60000]: mean loss 0.254944"
     ]
    },
    {
     "name": "stdout",
     "output_type": "stream",
     "text": [
      "\n  [65000]: mean loss 0.240386"
     ]
    },
    {
     "name": "stdout",
     "output_type": "stream",
     "text": [
      "\n  Seen 70000 in 88.51 s"
     ]
    },
    {
     "name": "stdout",
     "output_type": "stream",
     "text": [
      "\n  [70000]: mean loss 0.234078"
     ]
    },
    {
     "name": "stdout",
     "output_type": "stream",
     "text": [
      "\n  [75000]: mean loss 0.231649"
     ]
    },
    {
     "name": "stdout",
     "output_type": "stream",
     "text": [
      "\n  Seen 80000 in 101.24 s"
     ]
    },
    {
     "name": "stdout",
     "output_type": "stream",
     "text": [
      "\n  [80000]: mean loss 0.230566"
     ]
    },
    {
     "name": "stdout",
     "output_type": "stream",
     "text": [
      "\n  [85000]: mean loss 0.238596"
     ]
    },
    {
     "name": "stdout",
     "output_type": "stream",
     "text": [
      "\n  Seen 90000 in 114.32 s"
     ]
    },
    {
     "name": "stdout",
     "output_type": "stream",
     "text": [
      "\n  [90000]: mean loss 0.220366"
     ]
    },
    {
     "name": "stdout",
     "output_type": "stream",
     "text": [
      "\n  [95000]: mean loss 0.217629"
     ]
    },
    {
     "name": "stdout",
     "output_type": "stream",
     "text": [
      "\n  Seen 100000 in 127.19 s"
     ]
    },
    {
     "name": "stdout",
     "output_type": "stream",
     "text": [
      "\n  [100000]: mean loss 0.2067"
     ]
    },
    {
     "name": "stdout",
     "output_type": "stream",
     "text": [
      "\n  [105000]: mean loss 0.20448"
     ]
    },
    {
     "name": "stdout",
     "output_type": "stream",
     "text": [
      "\n  Seen 110000 in 139.80 s"
     ]
    },
    {
     "name": "stdout",
     "output_type": "stream",
     "text": [
      "\n  [110000]: mean loss 0.200461"
     ]
    },
    {
     "name": "stdout",
     "output_type": "stream",
     "text": [
      "\n  [115000]: mean loss 0.197707"
     ]
    },
    {
     "name": "stdout",
     "output_type": "stream",
     "text": [
      "\n  Seen 120000 in 152.36 s"
     ]
    },
    {
     "name": "stdout",
     "output_type": "stream",
     "text": [
      "\n  [120000]: mean loss 0.199077"
     ]
    },
    {
     "name": "stdout",
     "output_type": "stream",
     "text": [
      "\n  [125000]: mean loss 0.204257"
     ]
    },
    {
     "name": "stdout",
     "output_type": "stream",
     "text": [
      "\n  Seen 130000 in 164.95 s"
     ]
    },
    {
     "name": "stdout",
     "output_type": "stream",
     "text": [
      "\n  [130000]: mean loss 0.186434"
     ]
    },
    {
     "name": "stdout",
     "output_type": "stream",
     "text": [
      "\n  [135000]: mean loss 0.187823"
     ]
    },
    {
     "name": "stdout",
     "output_type": "stream",
     "text": [
      "\n  Seen 140000 in 177.62 s"
     ]
    },
    {
     "name": "stdout",
     "output_type": "stream",
     "text": [
      "\n  [140000]: mean loss 0.18696"
     ]
    },
    {
     "name": "stdout",
     "output_type": "stream",
     "text": [
      "\n  [145000]: mean loss 0.177767"
     ]
    },
    {
     "name": "stdout",
     "output_type": "stream",
     "text": [
      "\n  Seen 150000 in 190.03 s"
     ]
    },
    {
     "name": "stdout",
     "output_type": "stream",
     "text": [
      "\n  [150000]: mean loss 0.175703"
     ]
    },
    {
     "name": "stdout",
     "output_type": "stream",
     "text": [
      "\n  [155000]: mean loss 0.174805"
     ]
    },
    {
     "name": "stdout",
     "output_type": "stream",
     "text": [
      "\n  Seen 160000 in 202.51 s"
     ]
    },
    {
     "name": "stdout",
     "output_type": "stream",
     "text": [
      "\n  [160000]: mean loss 0.174456"
     ]
    },
    {
     "name": "stdout",
     "output_type": "stream",
     "text": [
      "\n  [165000]: mean loss 0.170467"
     ]
    },
    {
     "name": "stdout",
     "output_type": "stream",
     "text": [
      "\n  Seen 170000 in 215.11 s"
     ]
    },
    {
     "name": "stdout",
     "output_type": "stream",
     "text": [
      "\n  [170000]: mean loss 0.168105"
     ]
    },
    {
     "name": "stdout",
     "output_type": "stream",
     "text": [
      "\n  [175000]: mean loss 0.165632"
     ]
    },
    {
     "name": "stdout",
     "output_type": "stream",
     "text": [
      "\n  Seen 180000 in 227.59 s"
     ]
    },
    {
     "name": "stdout",
     "output_type": "stream",
     "text": [
      "\n  [180000]: mean loss 0.170124"
     ]
    },
    {
     "name": "stdout",
     "output_type": "stream",
     "text": [
      "\n  [185000]: mean loss 0.164943"
     ]
    },
    {
     "name": "stdout",
     "output_type": "stream",
     "text": [
      "\n  Seen 190000 in 239.94 s"
     ]
    },
    {
     "name": "stdout",
     "output_type": "stream",
     "text": [
      "\n  [190000]: mean loss 0.161913"
     ]
    },
    {
     "name": "stdout",
     "output_type": "stream",
     "text": [
      "\n  [195000]: mean loss 0.171091"
     ]
    },
    {
     "name": "stdout",
     "output_type": "stream",
     "text": [
      "\n  Seen 200000 in 252.37 s"
     ]
    },
    {
     "name": "stdout",
     "output_type": "stream",
     "text": [
      "\n  [200000]: mean loss 0.159533"
     ]
    },
    {
     "name": "stdout",
     "output_type": "stream",
     "text": [
      "\n  [203621]: mean loss 0.159294"
     ]
    },
    {
     "name": "stdout",
     "output_type": "stream",
     "text": [
      "\nSGD complete: 203621 examples in 261.24 seconds.\n             precision    recall  f1-score   support\n\n          O       0.96      0.98      0.97     42759\n        LOC       0.78      0.83      0.80      2094\n       MISC       0.82      0.63      0.71      1268\n        ORG       0.65      0.56      0.60      2092\n        PER       0.87      0.75      0.81      3149\n\navg / total       0.93      0.94      0.93     51362\n"
     ]
    },
    {
     "name": "stdout",
     "output_type": "stream",
     "text": [
      "\n=== Performance (omitting 'O' class) ===\nMean precision:  78.90%\nMean recall:     70.39%\nMean F1:         74.19%\nBegin SGD...\n  Seen 0 in 0.00 s\n  [0]: mean loss 1.77988"
     ]
    },
    {
     "name": "stdout",
     "output_type": "stream",
     "text": [
      "\n  [5000]: mean loss 0.844157"
     ]
    },
    {
     "name": "stdout",
     "output_type": "stream",
     "text": [
      "\n  Seen 10000 in 12.70 s"
     ]
    },
    {
     "name": "stdout",
     "output_type": "stream",
     "text": [
      "\n  [10000]: mean loss 0.563162"
     ]
    },
    {
     "name": "stdout",
     "output_type": "stream",
     "text": [
      "\n  [15000]: mean loss 0.412524"
     ]
    },
    {
     "name": "stdout",
     "output_type": "stream",
     "text": [
      "\n  Seen 20000 in 25.57 s"
     ]
    },
    {
     "name": "stdout",
     "output_type": "stream",
     "text": [
      "\n  [20000]: mean loss 0.324245"
     ]
    },
    {
     "name": "stdout",
     "output_type": "stream",
     "text": [
      "\n  [25000]: mean loss 0.277869"
     ]
    },
    {
     "name": "stdout",
     "output_type": "stream",
     "text": [
      "\n  Seen 30000 in 38.45 s"
     ]
    },
    {
     "name": "stdout",
     "output_type": "stream",
     "text": [
      "\n  [30000]: mean loss 0.292829"
     ]
    },
    {
     "name": "stdout",
     "output_type": "stream",
     "text": [
      "\n  [35000]: mean loss 0.223868"
     ]
    },
    {
     "name": "stdout",
     "output_type": "stream",
     "text": [
      "\n  Seen 40000 in 51.76 s"
     ]
    },
    {
     "name": "stdout",
     "output_type": "stream",
     "text": [
      "\n  [40000]: mean loss 0.291641"
     ]
    },
    {
     "name": "stdout",
     "output_type": "stream",
     "text": [
      "\n  [45000]: mean loss 0.236791"
     ]
    },
    {
     "name": "stdout",
     "output_type": "stream",
     "text": [
      "\n  Seen 50000 in 64.85 s"
     ]
    },
    {
     "name": "stdout",
     "output_type": "stream",
     "text": [
      "\n  [50000]: mean loss 0.204955"
     ]
    },
    {
     "name": "stdout",
     "output_type": "stream",
     "text": [
      "\n  [55000]: mean loss 0.276852"
     ]
    },
    {
     "name": "stdout",
     "output_type": "stream",
     "text": [
      "\n  Seen 60000 in 77.98 s"
     ]
    },
    {
     "name": "stdout",
     "output_type": "stream",
     "text": [
      "\n  [60000]: mean loss 0.186718"
     ]
    },
    {
     "name": "stdout",
     "output_type": "stream",
     "text": [
      "\n  [65000]: mean loss 0.219226"
     ]
    },
    {
     "name": "stdout",
     "output_type": "stream",
     "text": [
      "\n  Seen 70000 in 92.37 s"
     ]
    },
    {
     "name": "stdout",
     "output_type": "stream",
     "text": [
      "\n  [70000]: mean loss 0.221071"
     ]
    },
    {
     "name": "stdout",
     "output_type": "stream",
     "text": [
      "\n  [75000]: mean loss 0.191679"
     ]
    },
    {
     "name": "stdout",
     "output_type": "stream",
     "text": [
      "\n  Seen 80000 in 105.91 s"
     ]
    },
    {
     "name": "stdout",
     "output_type": "stream",
     "text": [
      "\n  [80000]: mean loss 0.232493"
     ]
    },
    {
     "name": "stdout",
     "output_type": "stream",
     "text": [
      "\n  [85000]: mean loss 0.208572"
     ]
    },
    {
     "name": "stdout",
     "output_type": "stream",
     "text": [
      "\n  Seen 90000 in 119.08 s"
     ]
    },
    {
     "name": "stdout",
     "output_type": "stream",
     "text": [
      "\n  [90000]: mean loss 0.179033"
     ]
    },
    {
     "name": "stdout",
     "output_type": "stream",
     "text": [
      "\n  [95000]: mean loss 0.184264"
     ]
    },
    {
     "name": "stdout",
     "output_type": "stream",
     "text": [
      "\n  Seen 100000 in 132.31 s"
     ]
    },
    {
     "name": "stdout",
     "output_type": "stream",
     "text": [
      "\n  [100000]: mean loss 0.186865"
     ]
    },
    {
     "name": "stdout",
     "output_type": "stream",
     "text": [
      "\n  [105000]: mean loss 0.167725"
     ]
    },
    {
     "name": "stdout",
     "output_type": "stream",
     "text": [
      "\n  Seen 110000 in 145.95 s"
     ]
    },
    {
     "name": "stdout",
     "output_type": "stream",
     "text": [
      "\n  [110000]: mean loss 0.176292"
     ]
    },
    {
     "name": "stdout",
     "output_type": "stream",
     "text": [
      "\n  [115000]: mean loss 0.188384"
     ]
    },
    {
     "name": "stdout",
     "output_type": "stream",
     "text": [
      "\n  Seen 120000 in 158.63 s"
     ]
    },
    {
     "name": "stdout",
     "output_type": "stream",
     "text": [
      "\n  [120000]: mean loss 0.166423"
     ]
    },
    {
     "name": "stdout",
     "output_type": "stream",
     "text": [
      "\n  [125000]: mean loss 0.157809"
     ]
    },
    {
     "name": "stdout",
     "output_type": "stream",
     "text": [
      "\n  Seen 130000 in 171.22 s"
     ]
    },
    {
     "name": "stdout",
     "output_type": "stream",
     "text": [
      "\n  [130000]: mean loss 0.179062"
     ]
    },
    {
     "name": "stdout",
     "output_type": "stream",
     "text": [
      "\n  [135000]: mean loss 0.173891"
     ]
    },
    {
     "name": "stdout",
     "output_type": "stream",
     "text": [
      "\n  Seen 140000 in 184.89 s"
     ]
    },
    {
     "name": "stdout",
     "output_type": "stream",
     "text": [
      "\n  [140000]: mean loss 0.154022"
     ]
    },
    {
     "name": "stdout",
     "output_type": "stream",
     "text": [
      "\n  [145000]: mean loss 0.146536"
     ]
    },
    {
     "name": "stdout",
     "output_type": "stream",
     "text": [
      "\n  Seen 150000 in 198.55 s"
     ]
    },
    {
     "name": "stdout",
     "output_type": "stream",
     "text": [
      "\n  [150000]: mean loss 0.148962"
     ]
    },
    {
     "name": "stdout",
     "output_type": "stream",
     "text": [
      "\n  [155000]: mean loss 0.159787"
     ]
    },
    {
     "name": "stdout",
     "output_type": "stream",
     "text": [
      "\n  Seen 160000 in 212.00 s"
     ]
    },
    {
     "name": "stdout",
     "output_type": "stream",
     "text": [
      "\n  [160000]: mean loss 0.149863"
     ]
    },
    {
     "name": "stdout",
     "output_type": "stream",
     "text": [
      "\n  [165000]: mean loss 0.153327"
     ]
    },
    {
     "name": "stdout",
     "output_type": "stream",
     "text": [
      "\n  Seen 170000 in 224.67 s"
     ]
    },
    {
     "name": "stdout",
     "output_type": "stream",
     "text": [
      "\n  [170000]: mean loss 0.145878"
     ]
    },
    {
     "name": "stdout",
     "output_type": "stream",
     "text": [
      "\n  [175000]: mean loss 0.131442"
     ]
    },
    {
     "name": "stdout",
     "output_type": "stream",
     "text": [
      "\n  Seen 180000 in 238.91 s"
     ]
    },
    {
     "name": "stdout",
     "output_type": "stream",
     "text": [
      "\n  [180000]: mean loss 0.147832"
     ]
    },
    {
     "name": "stdout",
     "output_type": "stream",
     "text": [
      "\n  [185000]: mean loss 0.15379"
     ]
    },
    {
     "name": "stdout",
     "output_type": "stream",
     "text": [
      "\n  Seen 190000 in 252.39 s"
     ]
    },
    {
     "name": "stdout",
     "output_type": "stream",
     "text": [
      "\n  [190000]: mean loss 0.124411"
     ]
    },
    {
     "name": "stdout",
     "output_type": "stream",
     "text": [
      "\n  [195000]: mean loss 0.145164"
     ]
    },
    {
     "name": "stdout",
     "output_type": "stream",
     "text": [
      "\n  Seen 200000 in 265.47 s"
     ]
    },
    {
     "name": "stdout",
     "output_type": "stream",
     "text": [
      "\n  [200000]: mean loss 0.137188"
     ]
    },
    {
     "name": "stdout",
     "output_type": "stream",
     "text": [
      "\n  [203621]: mean loss 0.136851"
     ]
    },
    {
     "name": "stdout",
     "output_type": "stream",
     "text": [
      "\nSGD complete: 203621 examples in 274.92 seconds.\n             precision    recall  f1-score   support\n\n          O       0.95      0.98      0.97     42759\n        LOC       0.84      0.79      0.82      2094\n       MISC       0.72      0.75      0.73      1268\n        ORG       0.70      0.56      0.62      2092\n        PER       0.94      0.66      0.78      3149\n\navg / total       0.93      0.93      0.93     51362\n"
     ]
    },
    {
     "name": "stdout",
     "output_type": "stream",
     "text": [
      "\n=== Performance (omitting 'O' class) ===\nMean precision:  82.53%\nMean recall:     68.20%\nMean F1:         74.29%\n"
     ]
    },
    {
     "name": "stderr",
     "output_type": "stream",
     "text": [
      "nn\\base.py:419: FutureWarning: comparison to `None` will result in an elementwise object comparison in the future.\n  if idxiter == None: # default training schedule\n"
     ]
    }
   ],
   "source": [
    "from nerwindow import full_report, eval_performance\n",
    "\n",
    "nepoch = 3\n",
    "N = nepoch * len(y_train)\n",
    "k = 3  # minibatch size\n",
    "\n",
    "random.seed(10)  # do not change this!\n",
    "\n",
    "batch_schedule = random.randint(0, len(y_train), N)\n",
    "\n",
    "clf = WindowMLP(wv, windowsize=3, dims=[None, 100, 5], reg=0.001, alpha=0.01)\n",
    "traincurve1 = clf.train_sgd(X_train, y_train, idxiter=batch_schedule.reshape((N/k, k)), costevery=5000)\n",
    "y_hat = clf.predict(X_dev)\n",
    "full_report(y_dev, y_hat, tagnames)\n",
    "eval_performance(y_dev, y_hat, tagnames)\n",
    "\n",
    "clf = WindowMLP(wv, windowsize=3, dims=[None, 100, 5], reg=0.001, alpha=0.1)\n",
    "traincurve2 = clf.train_sgd(X_train, y_train, idxiter=batch_schedule.reshape((N/k, k)), costevery=5000)\n",
    "y_hat = clf.predict(X_dev)\n",
    "full_report(y_dev, y_hat, tagnames)\n",
    "eval_performance(y_dev, y_hat, tagnames)"
   ]
  },
  {
   "cell_type": "code",
   "execution_count": 19,
   "metadata": {},
   "outputs": [
    {
     "data": {
      "image/png": "[encoded data removed]"
     },
     "output_type": "display_data",
     "text": [
      "<matplotlib.figure.Figure at 0xd4faef0>"
     ],
     "metadata": {}
    }
   ],
   "source": [
    "##\n",
    "# Plot your best learning curve here\n",
    "counts, costs = zip(*traincurvebest)\n",
    "figure(figsize=(6,4))\n",
    "plot(5*array(counts), costs, color='b', marker='o', linestyle='-')\n",
    "title(r\"Learning Curve ($\\alpha$=%g, $\\lambda$=%g)\" % (clf.alpha, clf.lreg))\n",
    "xlabel(\"SGD Iterations\"); ylabel(r\"Average $J(\\theta)$\"); \n",
    "ylim(ymin=0, ymax=max(1.1*max(costs),3*min(costs)));\n",
    "ylim(0,0.5)\n",
    "\n",
    "# Don't change this filename!\n",
    "savefig(\"ner.learningcurve.best.png\")"
   ]
  },
  {
   "cell_type": "code",
   "execution_count": 12,
   "metadata": {},
   "outputs": [
    {
     "data": {
      "image/png": "[encoded data removed]"
     },
     "output_type": "display_data",
     "text": [
      "<matplotlib.figure.Figure at 0x188170b8>"
     ],
     "metadata": {}
    }
   ],
   "source": [
    "##\n",
    "# Plot comparison of learning rates here\n",
    "# feel free to change the code below\n",
    "\n",
    "figure(figsize=(6,4))\n",
    "counts, costs = zip(*traincurve1)\n",
    "plot(5*array(counts), costs, color='b', marker='o', linestyle='-', label=r\"$\\alpha=0.01$\")\n",
    "counts, costs = zip(*traincurve2)\n",
    "plot(5*array(counts), costs, color='g', marker='o', linestyle='-', label=r\"$\\alpha=0.1$\")\n",
    "title(r\"Learning Curve ($\\lambda=0.01$, minibatch k=3)\")\n",
    "xlabel(\"SGD Iterations\"); ylabel(r\"Average $J(\\theta)$\"); \n",
    "ylim(ymin=0, ymax=max(1.1*max(costs),3*min(costs)));\n",
    "legend()\n",
    "\n",
    "# Don't change this filename\n",
    "savefig(\"ner.learningcurve.comparison.png\")"
   ]
  },
  {
   "cell_type": "markdown",
   "metadata": {},
   "source": [
    "## (f): Evaluating your model\n",
    "Evaluate the model on the dev set using your `predict` function, and compute performance metrics below!"
   ]
  },
  {
   "cell_type": "code",
   "execution_count": 20,
   "metadata": {},
   "outputs": [],
   "source": [
    "# Predict labels on the dev set\n",
    "yp = clf.predict(X_dev)\n",
    "# Save predictions to a file, one per line\n",
    "ner.save_predictions(yp, \"dev.predicted\")"
   ]
  },
  {
   "cell_type": "code",
   "execution_count": 21,
   "metadata": {},
   "outputs": [
    {
     "name": "stdout",
     "output_type": "stream",
     "text": [
      "             precision    recall  f1-score   support\n\n          O       0.97      0.99      0.98     42759\n        LOC       0.89      0.84      0.87      2094\n       MISC       0.87      0.74      0.80      1268\n        ORG       0.73      0.69      0.71      2092\n        PER       0.93      0.76      0.84      3149\n\navg / total       0.95      0.95      0.95     51362\n\n=== Performance (omitting 'O' class) ===\nMean precision:  86.24%\nMean recall:     76.08%\nMean F1:         80.74%\n"
     ]
    }
   ],
   "source": [
    "from nerwindow import full_report, eval_performance\n",
    "full_report(y_dev, yp, tagnames) # full report, helpful diagnostics\n",
    "eval_performance(y_dev, yp, tagnames) # performance: optimize this F1"
   ]
  },
  {
   "cell_type": "code",
   "execution_count": 22,
   "metadata": {},
   "outputs": [],
   "source": [
    "# Save your predictions on the test set for us to evaluate\n",
    "# IMPORTANT: make sure X_test is exactly as loaded \n",
    "# from du.docs_to_windows, so that your predictions \n",
    "# line up with ours.\n",
    "yptest = clf.predict(X_test)\n",
    "ner.save_predictions(yptest, \"test.predicted\")"
   ]
  }
 ],
 "metadata": {
  "kernelspec": {
   "display_name": "Python 2",
   "language": "python",
   "name": "python2"
  },
  "language_info": {
   "codemirror_mode": {
    "name": "ipython",
    "version": 2.0
   },
   "file_extension": ".py",
   "mimetype": "text/x-python",
   "name": "python",
   "nbconvert_exporter": "python",
   "pygments_lexer": "ipython2",
   "version": "2.7.11"
  }
 },
 "nbformat": 4,
 "nbformat_minor": 0
}